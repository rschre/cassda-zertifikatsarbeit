{
 "cells": [
  {
   "cell_type": "code",
   "execution_count": 1,
   "id": "3983a5fb",
   "metadata": {},
   "outputs": [],
   "source": [
    "import geopandas as gpd"
   ]
  },
  {
   "cell_type": "code",
   "execution_count": 2,
   "id": "16d72f5a",
   "metadata": {},
   "outputs": [],
   "source": [
    "gdf = gpd.read_file(\"../data/geodata/combined_wildlife_poly_bridges_filtered.gpkg\")"
   ]
  },
  {
   "cell_type": "code",
   "execution_count": 9,
   "id": "93e201af",
   "metadata": {},
   "outputs": [
    {
     "data": {
      "text/plain": [
       "480"
      ]
     },
     "execution_count": 9,
     "metadata": {},
     "output_type": "execute_result"
    }
   ],
   "source": [
    "len(gdf)"
   ]
  },
  {
   "cell_type": "code",
   "execution_count": 11,
   "id": "39583123",
   "metadata": {},
   "outputs": [],
   "source": [
    "# Remove entries, that fall within Switzerland\n",
    "gdf_ch = gpd.read_file(\n",
    "    r\"C:\\Users\\raffael\\FHNW\\P-cassda-wildtieruebergaenge_M365 - General\\data\\exploration\\swissBOUNDARIES3D_1_5_LV95_LN02.gpkg\",\n",
    "    layer=\"TLM_LANDESGEBIET\",\n",
    ")\n",
    "gdf_ch = gdf_ch[gdf_ch[\"name\"] == \"Schweiz\"]\n",
    "gdf_ch = gdf_ch.to_crs(gdf.crs)"
   ]
  },
  {
   "cell_type": "code",
   "execution_count": 12,
   "id": "bf1c5c12",
   "metadata": {},
   "outputs": [
    {
     "data": {
      "text/plain": [
       "469"
      ]
     },
     "execution_count": 12,
     "metadata": {},
     "output_type": "execute_result"
    }
   ],
   "source": [
    "gdf_no_ch = gpd.sjoin(gdf, gdf_ch, how=\"left\", predicate=\"within\")\n",
    "gdf_no_ch = gdf_no_ch[gdf_no_ch[\"index_right\"].isna()]\n",
    "gdf_no_ch = gdf_no_ch.drop(columns=[\"index_right\"])\n",
    "len(gdf_no_ch)"
   ]
  },
  {
   "cell_type": "code",
   "execution_count": 13,
   "id": "35015163",
   "metadata": {},
   "outputs": [],
   "source": [
    "gdf_no_ch.to_file(\n",
    "    \"../data/geodata/combined_wildlife_poly_bridges_filtered_no_ch.gpkg\",\n",
    "    driver=\"GPKG\",\n",
    ")"
   ]
  }
 ],
 "metadata": {
  "kernelspec": {
   "display_name": "cassda-zertifikatsarbeit (3.13.3)",
   "language": "python",
   "name": "python3"
  },
  "language_info": {
   "codemirror_mode": {
    "name": "ipython",
    "version": 3
   },
   "file_extension": ".py",
   "mimetype": "text/x-python",
   "name": "python",
   "nbconvert_exporter": "python",
   "pygments_lexer": "ipython3",
   "version": "3.13.3"
  }
 },
 "nbformat": 4,
 "nbformat_minor": 5
}
