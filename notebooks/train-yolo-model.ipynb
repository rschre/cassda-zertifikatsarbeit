{
 "cells": [
  {
   "cell_type": "code",
   "execution_count": 1,
   "id": "95081020",
   "metadata": {},
   "outputs": [
    {
     "name": "stderr",
     "output_type": "stream",
     "text": [
      "c:\\code_ibre\\cassda_zertifikatsarbeit\\.venv\\Lib\\site-packages\\pydantic\\_internal\\_generate_schema.py:2249: UnsupportedFieldAttributeWarning: The 'repr' attribute with value False was provided to the `Field()` function, which has no effect in the context it was used. 'repr' is field-specific metadata, and can only be attached to a model field using `Annotated` metadata or by assignment. This may have happened because an `Annotated` type alias using the `type` statement was used, or if the `Field()` function was attached to a single member of a union type.\n",
      "  warnings.warn(\n",
      "c:\\code_ibre\\cassda_zertifikatsarbeit\\.venv\\Lib\\site-packages\\pydantic\\_internal\\_generate_schema.py:2249: UnsupportedFieldAttributeWarning: The 'frozen' attribute with value True was provided to the `Field()` function, which has no effect in the context it was used. 'frozen' is field-specific metadata, and can only be attached to a model field using `Annotated` metadata or by assignment. This may have happened because an `Annotated` type alias using the `type` statement was used, or if the `Field()` function was attached to a single member of a union type.\n",
      "  warnings.warn(\n"
     ]
    }
   ],
   "source": [
    "import os\n",
    "import torch\n",
    "import wandb\n",
    "from ultralytics import YOLO, settings"
   ]
  },
  {
   "cell_type": "code",
   "execution_count": 2,
   "id": "033c3a84",
   "metadata": {},
   "outputs": [
    {
     "name": "stdout",
     "output_type": "stream",
     "text": [
      "nvcc: NVIDIA (R) Cuda compiler driver\n",
      "Copyright (c) 2005-2024 NVIDIA Corporation\n",
      "Built on Thu_Sep_12_02:55:00_Pacific_Daylight_Time_2024\n",
      "Cuda compilation tools, release 12.6, V12.6.77\n",
      "Build cuda_12.6.r12.6/compiler.34841621_0\n",
      "Torch version: 2.9.0+cu126\n",
      "Cuda available: True\n"
     ]
    }
   ],
   "source": [
    "# print torch and cuda version\n",
    "!nvcc --version\n",
    "\n",
    "print(f\"Torch version: {torch.__version__}\")\n",
    "print(f\"Cuda available: {torch.cuda.is_available()}\")"
   ]
  },
  {
   "cell_type": "code",
   "execution_count": 3,
   "id": "9d0fa6b9",
   "metadata": {},
   "outputs": [
    {
     "name": "stdout",
     "output_type": "stream",
     "text": [
      "JSONDict(\"C:\\Users\\raffael\\AppData\\Roaming\\Ultralytics\\settings.json\"):\n",
      "{\n",
      "  \"settings_version\": \"0.0.6\",\n",
      "  \"datasets_dir\": \"c:\\\\code_ibre\\\\cassda_zertifikatsarbeit\\\\data\",\n",
      "  \"weights_dir\": \"c:\\\\code_ibre\\\\cassda_zertifikatsarbeit\\\\model\\\\weights\",\n",
      "  \"runs_dir\": \"c:\\\\code_ibre\\\\cassda_zertifikatsarbeit\\\\model\\\\runs\",\n",
      "  \"uuid\": \"10ab3a38fc870e7d724eaec6008bf37a4c2190f6a314b500b1b283a9f9f95acc\",\n",
      "  \"sync\": true,\n",
      "  \"api_key\": \"\",\n",
      "  \"openai_api_key\": \"\",\n",
      "  \"clearml\": true,\n",
      "  \"comet\": true,\n",
      "  \"dvc\": true,\n",
      "  \"hub\": true,\n",
      "  \"mlflow\": true,\n",
      "  \"neptune\": true,\n",
      "  \"raytune\": true,\n",
      "  \"tensorboard\": true,\n",
      "  \"wandb\": true,\n",
      "  \"vscode_msg\": true\n",
      "}\n",
      "💡 Learn more about Ultralytics Settings at https://docs.ultralytics.com/quickstart/#ultralytics-settings\n"
     ]
    }
   ],
   "source": [
    "# # if you need to login to wandb uncomment the following line\n",
    "# !wandb login --relogin\n",
    "\n",
    "!yolo settings wandb=True"
   ]
  },
  {
   "cell_type": "code",
   "execution_count": 4,
   "id": "dc19393b",
   "metadata": {},
   "outputs": [],
   "source": [
    "# Update a setting\n",
    "settings.update(\n",
    "    {\n",
    "        \"runs_dir\": f\"{os.path.dirname(os.getcwd())}\\\\model\\\\runs\",\n",
    "        \"weights_dir\": f\"{os.path.dirname(os.getcwd())}\\\\model\\\\weights\",\n",
    "        \"datasets_dir\": f\"{os.path.dirname(os.getcwd())}\\\\data\",\n",
    "    }\n",
    ")"
   ]
  },
  {
   "cell_type": "code",
   "execution_count": 5,
   "id": "592d396a",
   "metadata": {},
   "outputs": [],
   "source": [
    "model = YOLO(\n",
    "    \"../model/checkpoints/yolo11n-obb.pt\"\n",
    ")  # yolov11n-obb.pt is a model pre-trained on DOTA dataset for oriented bounding boxes"
   ]
  },
  {
   "cell_type": "code",
   "execution_count": 6,
   "id": "6d785cb9",
   "metadata": {},
   "outputs": [
    {
     "name": "stdout",
     "output_type": "stream",
     "text": [
      "New https://pypi.org/project/ultralytics/8.3.222 available  Update with 'pip install -U ultralytics'\n",
      "Ultralytics 8.3.40  Python-3.13.3 torch-2.9.0+cu126 CUDA:0 (NVIDIA GeForce RTX 4070 Laptop GPU, 8188MiB)\n",
      "\u001b[34m\u001b[1mengine\\trainer: \u001b[0mtask=obb, mode=train, model=../model/checkpoints/yolo11n-obb.pt, data=../data/combined_wildlife_poly_bridges_filtered_no_ch_640-yolo/data.yaml, epochs=1000, time=None, patience=10, batch=16, imgsz=640, save=True, save_period=-1, cache=False, device=None, workers=8, project=cassda-wildlife-crossing, name=yolo11n-obb-wildlife_bridges-filtered-dataset-no-CH-negatives-640, exist_ok=True, pretrained=True, optimizer=auto, verbose=True, seed=0, deterministic=True, single_cls=False, rect=False, cos_lr=False, close_mosaic=10, resume=False, amp=True, fraction=1.0, profile=False, freeze=None, multi_scale=False, overlap_mask=True, mask_ratio=4, dropout=0.0, val=True, split=val, save_json=False, save_hybrid=False, conf=None, iou=0.7, max_det=300, half=False, dnn=False, plots=True, source=None, vid_stride=1, stream_buffer=False, visualize=False, augment=False, agnostic_nms=False, classes=None, retina_masks=False, embed=None, show=False, save_frames=False, save_txt=False, save_conf=False, save_crop=False, show_labels=True, show_conf=True, show_boxes=True, line_width=None, format=torchscript, keras=False, optimize=False, int8=False, dynamic=False, simplify=True, opset=None, workspace=None, nms=False, lr0=0.01, lrf=0.01, momentum=0.937, weight_decay=0.0005, warmup_epochs=3.0, warmup_momentum=0.8, warmup_bias_lr=0.1, box=7.5, cls=0.5, dfl=1.5, pose=12.0, kobj=1.0, nbs=64, hsv_h=0.015, hsv_s=0.7, hsv_v=0.4, degrees=90, translate=0.4, scale=0.5, shear=0.0, perspective=0.0, flipud=0.5, fliplr=0.5, bgr=0.0, mosaic=1.0, mixup=0.0, copy_paste=0.0, copy_paste_mode=flip, auto_augment=randaugment, erasing=0.4, crop_fraction=1.0, cfg=None, tracker=botsort.yaml, save_dir=cassda-wildlife-crossing\\yolo11n-obb-wildlife_bridges-filtered-dataset-no-CH-negatives-640\n",
      "Overriding model.yaml nc=80 with nc=1\n",
      "\n",
      "                   from  n    params  module                                       arguments                     \n",
      "  0                  -1  1       464  ultralytics.nn.modules.conv.Conv             [3, 16, 3, 2]                 \n",
      "  1                  -1  1      4672  ultralytics.nn.modules.conv.Conv             [16, 32, 3, 2]                \n",
      "  2                  -1  1      6640  ultralytics.nn.modules.block.C3k2            [32, 64, 1, False, 0.25]      \n",
      "  3                  -1  1     36992  ultralytics.nn.modules.conv.Conv             [64, 64, 3, 2]                \n",
      "  4                  -1  1     26080  ultralytics.nn.modules.block.C3k2            [64, 128, 1, False, 0.25]     \n",
      "  5                  -1  1    147712  ultralytics.nn.modules.conv.Conv             [128, 128, 3, 2]              \n",
      "  6                  -1  1     87040  ultralytics.nn.modules.block.C3k2            [128, 128, 1, True]           \n",
      "  7                  -1  1    295424  ultralytics.nn.modules.conv.Conv             [128, 256, 3, 2]              \n",
      "  8                  -1  1    346112  ultralytics.nn.modules.block.C3k2            [256, 256, 1, True]           \n",
      "  9                  -1  1    164608  ultralytics.nn.modules.block.SPPF            [256, 256, 5]                 \n",
      " 10                  -1  1    249728  ultralytics.nn.modules.block.C2PSA           [256, 256, 1]                 \n",
      " 11                  -1  1         0  torch.nn.modules.upsampling.Upsample         [None, 2, 'nearest']          \n",
      " 12             [-1, 6]  1         0  ultralytics.nn.modules.conv.Concat           [1]                           \n",
      " 13                  -1  1    111296  ultralytics.nn.modules.block.C3k2            [384, 128, 1, False]          \n",
      " 14                  -1  1         0  torch.nn.modules.upsampling.Upsample         [None, 2, 'nearest']          \n",
      " 15             [-1, 4]  1         0  ultralytics.nn.modules.conv.Concat           [1]                           \n",
      " 16                  -1  1     32096  ultralytics.nn.modules.block.C3k2            [256, 64, 1, False]           \n",
      " 17                  -1  1     36992  ultralytics.nn.modules.conv.Conv             [64, 64, 3, 2]                \n",
      " 18            [-1, 13]  1         0  ultralytics.nn.modules.conv.Concat           [1]                           \n",
      " 19                  -1  1     86720  ultralytics.nn.modules.block.C3k2            [192, 128, 1, False]          \n",
      " 20                  -1  1    147712  ultralytics.nn.modules.conv.Conv             [128, 128, 3, 2]              \n",
      " 21            [-1, 10]  1         0  ultralytics.nn.modules.conv.Concat           [1]                           \n",
      " 22                  -1  1    378880  ultralytics.nn.modules.block.C3k2            [384, 256, 1, True]           \n",
      " 23        [16, 19, 22]  1    502534  ultralytics.nn.modules.head.OBB              [1, 1, [64, 128, 256]]        \n",
      "YOLO11n-obb summary: 344 layers, 2,661,702 parameters, 2,661,686 gradients, 6.7 GFLOPs\n",
      "\n",
      "Transferred 535/541 items from pretrained weights\n",
      "Freezing layer 'model.23.dfl.conv.weight'\n",
      "\u001b[34m\u001b[1mAMP: \u001b[0mrunning Automatic Mixed Precision (AMP) checks...\n",
      "\u001b[34m\u001b[1mAMP: \u001b[0mchecks passed \n"
     ]
    },
    {
     "name": "stderr",
     "output_type": "stream",
     "text": [
      "\u001b[34m\u001b[1mtrain: \u001b[0mScanning C:\\code_ibre\\cassda_zertifikatsarbeit\\data\\combined_wildlife_poly_bridges_filtered_no_ch_640-yolo\\labels\\train.cache... 387 images, 60 backgrounds, 0 corrupt: 100%|██████████| 387/387 [00:00<?, ?it/s]"
     ]
    },
    {
     "name": "stdout",
     "output_type": "stream",
     "text": [
      "\u001b[34m\u001b[1mtrain: \u001b[0mWARNING  C:\\code_ibre\\cassda_zertifikatsarbeit\\data\\combined_wildlife_poly_bridges_filtered_no_ch_640-yolo\\images\\train\\4021161_2906024_4022441_2907304.jpg: corrupt JPEG restored and saved\n",
      "\u001b[34m\u001b[1mtrain: \u001b[0mWARNING  C:\\code_ibre\\cassda_zertifikatsarbeit\\data\\combined_wildlife_poly_bridges_filtered_no_ch_640-yolo\\images\\train\\4027846_2926611_4029126_2927891.jpg: corrupt JPEG restored and saved\n",
      "\u001b[34m\u001b[1mtrain: \u001b[0mWARNING  C:\\code_ibre\\cassda_zertifikatsarbeit\\data\\combined_wildlife_poly_bridges_filtered_no_ch_640-yolo\\images\\train\\4028255_2940470_4029535_2941750.jpg: corrupt JPEG restored and saved\n",
      "\u001b[34m\u001b[1mtrain: \u001b[0mWARNING  C:\\code_ibre\\cassda_zertifikatsarbeit\\data\\combined_wildlife_poly_bridges_filtered_no_ch_640-yolo\\images\\train\\4028630_2922869_4029910_2924149.jpg: corrupt JPEG restored and saved\n",
      "\u001b[34m\u001b[1mtrain: \u001b[0mWARNING  C:\\code_ibre\\cassda_zertifikatsarbeit\\data\\combined_wildlife_poly_bridges_filtered_no_ch_640-yolo\\images\\train\\4028766_3066525_4030046_3067805.jpg: corrupt JPEG restored and saved\n",
      "\u001b[34m\u001b[1mtrain: \u001b[0mWARNING  C:\\code_ibre\\cassda_zertifikatsarbeit\\data\\combined_wildlife_poly_bridges_filtered_no_ch_640-yolo\\images\\train\\4029099_2921989_4030379_2923269.jpg: corrupt JPEG restored and saved\n",
      "\u001b[34m\u001b[1mtrain: \u001b[0mWARNING  C:\\code_ibre\\cassda_zertifikatsarbeit\\data\\combined_wildlife_poly_bridges_filtered_no_ch_640-yolo\\images\\train\\4030184_2849214_4031464_2850494.jpg: corrupt JPEG restored and saved\n",
      "\u001b[34m\u001b[1mtrain: \u001b[0mWARNING  C:\\code_ibre\\cassda_zertifikatsarbeit\\data\\combined_wildlife_poly_bridges_filtered_no_ch_640-yolo\\images\\train\\4030304_2920451_4031584_2921731.jpg: corrupt JPEG restored and saved\n",
      "\u001b[34m\u001b[1mtrain: \u001b[0mWARNING  C:\\code_ibre\\cassda_zertifikatsarbeit\\data\\combined_wildlife_poly_bridges_filtered_no_ch_640-yolo\\images\\train\\4030463_3099395_4031743_3100675.jpg: corrupt JPEG restored and saved\n",
      "\u001b[34m\u001b[1mtrain: \u001b[0mWARNING  C:\\code_ibre\\cassda_zertifikatsarbeit\\data\\combined_wildlife_poly_bridges_filtered_no_ch_640-yolo\\images\\train\\4031098_3098651_4032378_3099931.jpg: corrupt JPEG restored and saved\n",
      "\u001b[34m\u001b[1mtrain: \u001b[0mWARNING  C:\\code_ibre\\cassda_zertifikatsarbeit\\data\\combined_wildlife_poly_bridges_filtered_no_ch_640-yolo\\images\\train\\4034022_2869243_4035302_2870523.jpg: corrupt JPEG restored and saved\n",
      "\u001b[34m\u001b[1mtrain: \u001b[0mWARNING  C:\\code_ibre\\cassda_zertifikatsarbeit\\data\\combined_wildlife_poly_bridges_filtered_no_ch_640-yolo\\images\\train\\4034194_2849255_4035474_2850535.jpg: corrupt JPEG restored and saved\n",
      "\u001b[34m\u001b[1mtrain: \u001b[0mWARNING  C:\\code_ibre\\cassda_zertifikatsarbeit\\data\\combined_wildlife_poly_bridges_filtered_no_ch_640-yolo\\images\\train\\4034583_3186739_4035863_3188019.jpg: corrupt JPEG restored and saved\n",
      "\u001b[34m\u001b[1mtrain: \u001b[0mWARNING  C:\\code_ibre\\cassda_zertifikatsarbeit\\data\\combined_wildlife_poly_bridges_filtered_no_ch_640-yolo\\images\\train\\4034705_2847168_4035985_2848448.jpg: corrupt JPEG restored and saved\n",
      "\u001b[34m\u001b[1mtrain: \u001b[0mWARNING  C:\\code_ibre\\cassda_zertifikatsarbeit\\data\\combined_wildlife_poly_bridges_filtered_no_ch_640-yolo\\images\\train\\4035004_3039128_4036284_3040408.jpg: corrupt JPEG restored and saved\n",
      "\u001b[34m\u001b[1mtrain: \u001b[0mWARNING  C:\\code_ibre\\cassda_zertifikatsarbeit\\data\\combined_wildlife_poly_bridges_filtered_no_ch_640-yolo\\images\\train\\4035538_2859977_4036818_2861257.jpg: corrupt JPEG restored and saved\n",
      "\u001b[34m\u001b[1mtrain: \u001b[0mWARNING  C:\\code_ibre\\cassda_zertifikatsarbeit\\data\\combined_wildlife_poly_bridges_filtered_no_ch_640-yolo\\images\\train\\4036349_3091301_4037629_3092581.jpg: corrupt JPEG restored and saved\n",
      "\u001b[34m\u001b[1mtrain: \u001b[0mWARNING  C:\\code_ibre\\cassda_zertifikatsarbeit\\data\\combined_wildlife_poly_bridges_filtered_no_ch_640-yolo\\images\\train\\4036404_3206588_4037684_3207868.jpg: corrupt JPEG restored and saved\n",
      "\u001b[34m\u001b[1mtrain: \u001b[0mWARNING  C:\\code_ibre\\cassda_zertifikatsarbeit\\data\\combined_wildlife_poly_bridges_filtered_no_ch_640-yolo\\images\\train\\4036750_3208556_4038030_3209836.jpg: corrupt JPEG restored and saved\n",
      "\u001b[34m\u001b[1mtrain: \u001b[0mWARNING  C:\\code_ibre\\cassda_zertifikatsarbeit\\data\\combined_wildlife_poly_bridges_filtered_no_ch_640-yolo\\images\\train\\4037079_3210529_4038359_3211809.jpg: corrupt JPEG restored and saved\n",
      "\u001b[34m\u001b[1mtrain: \u001b[0mWARNING  C:\\code_ibre\\cassda_zertifikatsarbeit\\data\\combined_wildlife_poly_bridges_filtered_no_ch_640-yolo\\images\\train\\4037528_3212413_4038808_3213693.jpg: corrupt JPEG restored and saved\n",
      "\u001b[34m\u001b[1mtrain: \u001b[0mWARNING  C:\\code_ibre\\cassda_zertifikatsarbeit\\data\\combined_wildlife_poly_bridges_filtered_no_ch_640-yolo\\images\\train\\4037709_2925372_4038989_2926652.jpg: corrupt JPEG restored and saved\n",
      "\u001b[34m\u001b[1mtrain: \u001b[0mWARNING  C:\\code_ibre\\cassda_zertifikatsarbeit\\data\\combined_wildlife_poly_bridges_filtered_no_ch_640-yolo\\images\\train\\4037759_2853545_4039039_2854825.jpg: corrupt JPEG restored and saved\n",
      "\u001b[34m\u001b[1mtrain: \u001b[0mWARNING  C:\\code_ibre\\cassda_zertifikatsarbeit\\data\\combined_wildlife_poly_bridges_filtered_no_ch_640-yolo\\images\\train\\4037945_2926343_4039225_2927623.jpg: corrupt JPEG restored and saved\n",
      "\u001b[34m\u001b[1mtrain: \u001b[0mWARNING  C:\\code_ibre\\cassda_zertifikatsarbeit\\data\\combined_wildlife_poly_bridges_filtered_no_ch_640-yolo\\images\\train\\4038135_2921588_4039415_2922868.jpg: corrupt JPEG restored and saved\n",
      "\u001b[34m\u001b[1mtrain: \u001b[0mWARNING  C:\\code_ibre\\cassda_zertifikatsarbeit\\data\\combined_wildlife_poly_bridges_filtered_no_ch_640-yolo\\images\\train\\4038343_3212990_4039623_3214270.jpg: corrupt JPEG restored and saved\n",
      "\u001b[34m\u001b[1mtrain: \u001b[0mWARNING  C:\\code_ibre\\cassda_zertifikatsarbeit\\data\\combined_wildlife_poly_bridges_filtered_no_ch_640-yolo\\images\\train\\4038668_2931238_4039948_2932518.jpg: corrupt JPEG restored and saved\n",
      "\u001b[34m\u001b[1mtrain: \u001b[0mWARNING  C:\\code_ibre\\cassda_zertifikatsarbeit\\data\\combined_wildlife_poly_bridges_filtered_no_ch_640-yolo\\images\\train\\4038814_2949903_4040094_2951183.jpg: corrupt JPEG restored and saved\n",
      "\u001b[34m\u001b[1mtrain: \u001b[0mWARNING  C:\\code_ibre\\cassda_zertifikatsarbeit\\data\\combined_wildlife_poly_bridges_filtered_no_ch_640-yolo\\images\\train\\4038833_2966998_4040113_2968278.jpg: corrupt JPEG restored and saved\n",
      "\u001b[34m\u001b[1mtrain: \u001b[0mWARNING  C:\\code_ibre\\cassda_zertifikatsarbeit\\data\\combined_wildlife_poly_bridges_filtered_no_ch_640-yolo\\images\\train\\4038979_3174587_4040259_3175867.jpg: corrupt JPEG restored and saved\n",
      "\u001b[34m\u001b[1mtrain: \u001b[0mWARNING  C:\\code_ibre\\cassda_zertifikatsarbeit\\data\\combined_wildlife_poly_bridges_filtered_no_ch_640-yolo\\images\\train\\4039081_2841402_4040361_2842682.jpg: corrupt JPEG restored and saved\n",
      "\u001b[34m\u001b[1mtrain: \u001b[0mWARNING  C:\\code_ibre\\cassda_zertifikatsarbeit\\data\\combined_wildlife_poly_bridges_filtered_no_ch_640-yolo\\images\\train\\4039154_2941615_4040434_2942895.jpg: corrupt JPEG restored and saved\n",
      "\u001b[34m\u001b[1mtrain: \u001b[0mWARNING  C:\\code_ibre\\cassda_zertifikatsarbeit\\data\\combined_wildlife_poly_bridges_filtered_no_ch_640-yolo\\images\\train\\4039188_2844500_4040468_2845780.jpg: corrupt JPEG restored and saved\n",
      "\u001b[34m\u001b[1mtrain: \u001b[0mWARNING  C:\\code_ibre\\cassda_zertifikatsarbeit\\data\\combined_wildlife_poly_bridges_filtered_no_ch_640-yolo\\images\\train\\4039618_2943479_4040898_2944759.jpg: corrupt JPEG restored and saved\n",
      "\u001b[34m\u001b[1mtrain: \u001b[0mWARNING  C:\\code_ibre\\cassda_zertifikatsarbeit\\data\\combined_wildlife_poly_bridges_filtered_no_ch_640-yolo\\images\\train\\4039887_3125271_4041167_3126551.jpg: corrupt JPEG restored and saved\n",
      "\u001b[34m\u001b[1mtrain: \u001b[0mWARNING  C:\\code_ibre\\cassda_zertifikatsarbeit\\data\\combined_wildlife_poly_bridges_filtered_no_ch_640-yolo\\images\\train\\4040443_2972300_4041723_2973580.jpg: corrupt JPEG restored and saved\n",
      "\u001b[34m\u001b[1mtrain: \u001b[0mWARNING  C:\\code_ibre\\cassda_zertifikatsarbeit\\data\\combined_wildlife_poly_bridges_filtered_no_ch_640-yolo\\images\\train\\4042170_3147831_4043450_3149111.jpg: corrupt JPEG restored and saved\n",
      "\u001b[34m\u001b[1mtrain: \u001b[0mWARNING  C:\\code_ibre\\cassda_zertifikatsarbeit\\data\\combined_wildlife_poly_bridges_filtered_no_ch_640-yolo\\images\\train\\4042177_2939103_4043457_2940383.jpg: corrupt JPEG restored and saved\n",
      "\u001b[34m\u001b[1mtrain: \u001b[0mWARNING  C:\\code_ibre\\cassda_zertifikatsarbeit\\data\\combined_wildlife_poly_bridges_filtered_no_ch_640-yolo\\images\\train\\4042452_3217019_4043732_3218299.jpg: corrupt JPEG restored and saved\n",
      "\u001b[34m\u001b[1mtrain: \u001b[0mWARNING  C:\\code_ibre\\cassda_zertifikatsarbeit\\data\\combined_wildlife_poly_bridges_filtered_no_ch_640-yolo\\images\\train\\4042670_3130773_4043950_3132053.jpg: corrupt JPEG restored and saved\n",
      "\u001b[34m\u001b[1mtrain: \u001b[0mWARNING  C:\\code_ibre\\cassda_zertifikatsarbeit\\data\\combined_wildlife_poly_bridges_filtered_no_ch_640-yolo\\images\\train\\4042968_3127946_4044248_3129226.jpg: corrupt JPEG restored and saved\n",
      "\u001b[34m\u001b[1mtrain: \u001b[0mWARNING  C:\\code_ibre\\cassda_zertifikatsarbeit\\data\\combined_wildlife_poly_bridges_filtered_no_ch_640-yolo\\images\\train\\4043128_2919181_4044408_2920461.jpg: corrupt JPEG restored and saved\n",
      "\u001b[34m\u001b[1mtrain: \u001b[0mWARNING  C:\\code_ibre\\cassda_zertifikatsarbeit\\data\\combined_wildlife_poly_bridges_filtered_no_ch_640-yolo\\images\\train\\4043965_2950612_4045245_2951892.jpg: corrupt JPEG restored and saved\n",
      "\u001b[34m\u001b[1mtrain: \u001b[0mWARNING  C:\\code_ibre\\cassda_zertifikatsarbeit\\data\\combined_wildlife_poly_bridges_filtered_no_ch_640-yolo\\images\\train\\4044532_3083641_4045812_3084921.jpg: corrupt JPEG restored and saved\n",
      "\u001b[34m\u001b[1mtrain: \u001b[0mWARNING  C:\\code_ibre\\cassda_zertifikatsarbeit\\data\\combined_wildlife_poly_bridges_filtered_no_ch_640-yolo\\images\\train\\4045286_3073223_4046566_3074503.jpg: corrupt JPEG restored and saved\n",
      "\u001b[34m\u001b[1mtrain: \u001b[0mWARNING  C:\\code_ibre\\cassda_zertifikatsarbeit\\data\\combined_wildlife_poly_bridges_filtered_no_ch_640-yolo\\images\\train\\4045468_2896575_4046748_2897855.jpg: corrupt JPEG restored and saved\n",
      "\u001b[34m\u001b[1mtrain: \u001b[0mWARNING  C:\\code_ibre\\cassda_zertifikatsarbeit\\data\\combined_wildlife_poly_bridges_filtered_no_ch_640-yolo\\images\\train\\4045532_3083659_4046812_3084939.jpg: corrupt JPEG restored and saved\n",
      "\u001b[34m\u001b[1mtrain: \u001b[0mWARNING  C:\\code_ibre\\cassda_zertifikatsarbeit\\data\\combined_wildlife_poly_bridges_filtered_no_ch_640-yolo\\images\\train\\4046174_3325570_4047454_3326850.jpg: corrupt JPEG restored and saved\n",
      "\u001b[34m\u001b[1mtrain: \u001b[0mWARNING  C:\\code_ibre\\cassda_zertifikatsarbeit\\data\\combined_wildlife_poly_bridges_filtered_no_ch_640-yolo\\images\\train\\4046979_3149131_4048259_3150411.jpg: corrupt JPEG restored and saved\n",
      "\u001b[34m\u001b[1mtrain: \u001b[0mWARNING  C:\\code_ibre\\cassda_zertifikatsarbeit\\data\\combined_wildlife_poly_bridges_filtered_no_ch_640-yolo\\images\\train\\4047702_3326162_4048982_3327442.jpg: corrupt JPEG restored and saved\n",
      "\u001b[34m\u001b[1mtrain: \u001b[0mWARNING  C:\\code_ibre\\cassda_zertifikatsarbeit\\data\\combined_wildlife_poly_bridges_filtered_no_ch_640-yolo\\images\\train\\4047713_3244870_4048993_3246150.jpg: corrupt JPEG restored and saved\n",
      "\u001b[34m\u001b[1mtrain: \u001b[0mWARNING  C:\\code_ibre\\cassda_zertifikatsarbeit\\data\\combined_wildlife_poly_bridges_filtered_no_ch_640-yolo\\images\\train\\4047954_2840044_4049234_2841324.jpg: corrupt JPEG restored and saved\n",
      "\u001b[34m\u001b[1mtrain: \u001b[0mWARNING  C:\\code_ibre\\cassda_zertifikatsarbeit\\data\\combined_wildlife_poly_bridges_filtered_no_ch_640-yolo\\images\\train\\4047956_3149296_4049236_3150576.jpg: corrupt JPEG restored and saved\n",
      "\u001b[34m\u001b[1mtrain: \u001b[0mWARNING  C:\\code_ibre\\cassda_zertifikatsarbeit\\data\\combined_wildlife_poly_bridges_filtered_no_ch_640-yolo\\images\\train\\4048120_3154480_4049400_3155760.jpg: corrupt JPEG restored and saved\n",
      "\u001b[34m\u001b[1mtrain: \u001b[0mWARNING  C:\\code_ibre\\cassda_zertifikatsarbeit\\data\\combined_wildlife_poly_bridges_filtered_no_ch_640-yolo\\images\\train\\4048197_3242930_4049477_3244210.jpg: corrupt JPEG restored and saved\n",
      "\u001b[34m\u001b[1mtrain: \u001b[0mWARNING  C:\\code_ibre\\cassda_zertifikatsarbeit\\data\\combined_wildlife_poly_bridges_filtered_no_ch_640-yolo\\images\\train\\4048438_3241959_4049718_3243239.jpg: corrupt JPEG restored and saved\n",
      "\u001b[34m\u001b[1mtrain: \u001b[0mWARNING  C:\\code_ibre\\cassda_zertifikatsarbeit\\data\\combined_wildlife_poly_bridges_filtered_no_ch_640-yolo\\images\\train\\4048500_3083453_4049780_3084733.jpg: corrupt JPEG restored and saved\n",
      "\u001b[34m\u001b[1mtrain: \u001b[0mWARNING  C:\\code_ibre\\cassda_zertifikatsarbeit\\data\\combined_wildlife_poly_bridges_filtered_no_ch_640-yolo\\images\\train\\4048659_3326451_4049939_3327731.jpg: corrupt JPEG restored and saved\n",
      "\u001b[34m\u001b[1mtrain: \u001b[0mWARNING  C:\\code_ibre\\cassda_zertifikatsarbeit\\data\\combined_wildlife_poly_bridges_filtered_no_ch_640-yolo\\images\\train\\4048747_3254660_4050027_3255940.jpg: corrupt JPEG restored and saved\n",
      "\u001b[34m\u001b[1mtrain: \u001b[0mWARNING  C:\\code_ibre\\cassda_zertifikatsarbeit\\data\\combined_wildlife_poly_bridges_filtered_no_ch_640-yolo\\images\\train\\4049437_3270142_4050717_3271422.jpg: corrupt JPEG restored and saved\n",
      "\u001b[34m\u001b[1mtrain: \u001b[0mWARNING  C:\\code_ibre\\cassda_zertifikatsarbeit\\data\\combined_wildlife_poly_bridges_filtered_no_ch_640-yolo\\images\\train\\crossing_0.jpg: corrupt JPEG restored and saved\n",
      "\u001b[34m\u001b[1mtrain: \u001b[0mWARNING  C:\\code_ibre\\cassda_zertifikatsarbeit\\data\\combined_wildlife_poly_bridges_filtered_no_ch_640-yolo\\images\\train\\crossing_1.jpg: corrupt JPEG restored and saved\n",
      "\u001b[34m\u001b[1mtrain: \u001b[0mWARNING  C:\\code_ibre\\cassda_zertifikatsarbeit\\data\\combined_wildlife_poly_bridges_filtered_no_ch_640-yolo\\images\\train\\crossing_10.jpg: corrupt JPEG restored and saved\n",
      "\u001b[34m\u001b[1mtrain: \u001b[0mWARNING  C:\\code_ibre\\cassda_zertifikatsarbeit\\data\\combined_wildlife_poly_bridges_filtered_no_ch_640-yolo\\images\\train\\crossing_101.jpg: corrupt JPEG restored and saved\n",
      "\u001b[34m\u001b[1mtrain: \u001b[0mWARNING  C:\\code_ibre\\cassda_zertifikatsarbeit\\data\\combined_wildlife_poly_bridges_filtered_no_ch_640-yolo\\images\\train\\crossing_102.jpg: corrupt JPEG restored and saved\n",
      "\u001b[34m\u001b[1mtrain: \u001b[0mWARNING  C:\\code_ibre\\cassda_zertifikatsarbeit\\data\\combined_wildlife_poly_bridges_filtered_no_ch_640-yolo\\images\\train\\crossing_103.jpg: corrupt JPEG restored and saved\n",
      "\u001b[34m\u001b[1mtrain: \u001b[0mWARNING  C:\\code_ibre\\cassda_zertifikatsarbeit\\data\\combined_wildlife_poly_bridges_filtered_no_ch_640-yolo\\images\\train\\crossing_105.jpg: corrupt JPEG restored and saved\n",
      "\u001b[34m\u001b[1mtrain: \u001b[0mWARNING  C:\\code_ibre\\cassda_zertifikatsarbeit\\data\\combined_wildlife_poly_bridges_filtered_no_ch_640-yolo\\images\\train\\crossing_106.jpg: corrupt JPEG restored and saved\n",
      "\u001b[34m\u001b[1mtrain: \u001b[0mWARNING  C:\\code_ibre\\cassda_zertifikatsarbeit\\data\\combined_wildlife_poly_bridges_filtered_no_ch_640-yolo\\images\\train\\crossing_107.jpg: corrupt JPEG restored and saved\n",
      "\u001b[34m\u001b[1mtrain: \u001b[0mWARNING  C:\\code_ibre\\cassda_zertifikatsarbeit\\data\\combined_wildlife_poly_bridges_filtered_no_ch_640-yolo\\images\\train\\crossing_109.jpg: corrupt JPEG restored and saved\n",
      "\u001b[34m\u001b[1mtrain: \u001b[0mWARNING  C:\\code_ibre\\cassda_zertifikatsarbeit\\data\\combined_wildlife_poly_bridges_filtered_no_ch_640-yolo\\images\\train\\crossing_11.jpg: corrupt JPEG restored and saved\n",
      "\u001b[34m\u001b[1mtrain: \u001b[0mWARNING  C:\\code_ibre\\cassda_zertifikatsarbeit\\data\\combined_wildlife_poly_bridges_filtered_no_ch_640-yolo\\images\\train\\crossing_113.jpg: corrupt JPEG restored and saved\n",
      "\u001b[34m\u001b[1mtrain: \u001b[0mWARNING  C:\\code_ibre\\cassda_zertifikatsarbeit\\data\\combined_wildlife_poly_bridges_filtered_no_ch_640-yolo\\images\\train\\crossing_115.jpg: corrupt JPEG restored and saved\n",
      "\u001b[34m\u001b[1mtrain: \u001b[0mWARNING  C:\\code_ibre\\cassda_zertifikatsarbeit\\data\\combined_wildlife_poly_bridges_filtered_no_ch_640-yolo\\images\\train\\crossing_116.jpg: corrupt JPEG restored and saved\n",
      "\u001b[34m\u001b[1mtrain: \u001b[0mWARNING  C:\\code_ibre\\cassda_zertifikatsarbeit\\data\\combined_wildlife_poly_bridges_filtered_no_ch_640-yolo\\images\\train\\crossing_119.jpg: corrupt JPEG restored and saved\n",
      "\u001b[34m\u001b[1mtrain: \u001b[0mWARNING  C:\\code_ibre\\cassda_zertifikatsarbeit\\data\\combined_wildlife_poly_bridges_filtered_no_ch_640-yolo\\images\\train\\crossing_12.jpg: corrupt JPEG restored and saved\n",
      "\u001b[34m\u001b[1mtrain: \u001b[0mWARNING  C:\\code_ibre\\cassda_zertifikatsarbeit\\data\\combined_wildlife_poly_bridges_filtered_no_ch_640-yolo\\images\\train\\crossing_120.jpg: corrupt JPEG restored and saved\n",
      "\u001b[34m\u001b[1mtrain: \u001b[0mWARNING  C:\\code_ibre\\cassda_zertifikatsarbeit\\data\\combined_wildlife_poly_bridges_filtered_no_ch_640-yolo\\images\\train\\crossing_121.jpg: corrupt JPEG restored and saved\n",
      "\u001b[34m\u001b[1mtrain: \u001b[0mWARNING  C:\\code_ibre\\cassda_zertifikatsarbeit\\data\\combined_wildlife_poly_bridges_filtered_no_ch_640-yolo\\images\\train\\crossing_122.jpg: corrupt JPEG restored and saved\n",
      "\u001b[34m\u001b[1mtrain: \u001b[0mWARNING  C:\\code_ibre\\cassda_zertifikatsarbeit\\data\\combined_wildlife_poly_bridges_filtered_no_ch_640-yolo\\images\\train\\crossing_123.jpg: corrupt JPEG restored and saved\n",
      "\u001b[34m\u001b[1mtrain: \u001b[0mWARNING  C:\\code_ibre\\cassda_zertifikatsarbeit\\data\\combined_wildlife_poly_bridges_filtered_no_ch_640-yolo\\images\\train\\crossing_124.jpg: corrupt JPEG restored and saved\n",
      "\u001b[34m\u001b[1mtrain: \u001b[0mWARNING  C:\\code_ibre\\cassda_zertifikatsarbeit\\data\\combined_wildlife_poly_bridges_filtered_no_ch_640-yolo\\images\\train\\crossing_125.jpg: corrupt JPEG restored and saved\n",
      "\u001b[34m\u001b[1mtrain: \u001b[0mWARNING  C:\\code_ibre\\cassda_zertifikatsarbeit\\data\\combined_wildlife_poly_bridges_filtered_no_ch_640-yolo\\images\\train\\crossing_126.jpg: corrupt JPEG restored and saved\n",
      "\u001b[34m\u001b[1mtrain: \u001b[0mWARNING  C:\\code_ibre\\cassda_zertifikatsarbeit\\data\\combined_wildlife_poly_bridges_filtered_no_ch_640-yolo\\images\\train\\crossing_127.jpg: corrupt JPEG restored and saved\n",
      "\u001b[34m\u001b[1mtrain: \u001b[0mWARNING  C:\\code_ibre\\cassda_zertifikatsarbeit\\data\\combined_wildlife_poly_bridges_filtered_no_ch_640-yolo\\images\\train\\crossing_128.jpg: corrupt JPEG restored and saved\n",
      "\u001b[34m\u001b[1mtrain: \u001b[0mWARNING  C:\\code_ibre\\cassda_zertifikatsarbeit\\data\\combined_wildlife_poly_bridges_filtered_no_ch_640-yolo\\images\\train\\crossing_129.jpg: corrupt JPEG restored and saved\n",
      "\u001b[34m\u001b[1mtrain: \u001b[0mWARNING  C:\\code_ibre\\cassda_zertifikatsarbeit\\data\\combined_wildlife_poly_bridges_filtered_no_ch_640-yolo\\images\\train\\crossing_13.jpg: corrupt JPEG restored and saved\n",
      "\u001b[34m\u001b[1mtrain: \u001b[0mWARNING  C:\\code_ibre\\cassda_zertifikatsarbeit\\data\\combined_wildlife_poly_bridges_filtered_no_ch_640-yolo\\images\\train\\crossing_130.jpg: corrupt JPEG restored and saved\n",
      "\u001b[34m\u001b[1mtrain: \u001b[0mWARNING  C:\\code_ibre\\cassda_zertifikatsarbeit\\data\\combined_wildlife_poly_bridges_filtered_no_ch_640-yolo\\images\\train\\crossing_132.jpg: corrupt JPEG restored and saved\n",
      "\u001b[34m\u001b[1mtrain: \u001b[0mWARNING  C:\\code_ibre\\cassda_zertifikatsarbeit\\data\\combined_wildlife_poly_bridges_filtered_no_ch_640-yolo\\images\\train\\crossing_133.jpg: corrupt JPEG restored and saved\n",
      "\u001b[34m\u001b[1mtrain: \u001b[0mWARNING  C:\\code_ibre\\cassda_zertifikatsarbeit\\data\\combined_wildlife_poly_bridges_filtered_no_ch_640-yolo\\images\\train\\crossing_134.jpg: corrupt JPEG restored and saved\n",
      "\u001b[34m\u001b[1mtrain: \u001b[0mWARNING  C:\\code_ibre\\cassda_zertifikatsarbeit\\data\\combined_wildlife_poly_bridges_filtered_no_ch_640-yolo\\images\\train\\crossing_135.jpg: corrupt JPEG restored and saved\n",
      "\u001b[34m\u001b[1mtrain: \u001b[0mWARNING  C:\\code_ibre\\cassda_zertifikatsarbeit\\data\\combined_wildlife_poly_bridges_filtered_no_ch_640-yolo\\images\\train\\crossing_136.jpg: corrupt JPEG restored and saved\n",
      "\u001b[34m\u001b[1mtrain: \u001b[0mWARNING  C:\\code_ibre\\cassda_zertifikatsarbeit\\data\\combined_wildlife_poly_bridges_filtered_no_ch_640-yolo\\images\\train\\crossing_137.jpg: corrupt JPEG restored and saved\n",
      "\u001b[34m\u001b[1mtrain: \u001b[0mWARNING  C:\\code_ibre\\cassda_zertifikatsarbeit\\data\\combined_wildlife_poly_bridges_filtered_no_ch_640-yolo\\images\\train\\crossing_139.jpg: corrupt JPEG restored and saved\n",
      "\u001b[34m\u001b[1mtrain: \u001b[0mWARNING  C:\\code_ibre\\cassda_zertifikatsarbeit\\data\\combined_wildlife_poly_bridges_filtered_no_ch_640-yolo\\images\\train\\crossing_140.jpg: corrupt JPEG restored and saved\n",
      "\u001b[34m\u001b[1mtrain: \u001b[0mWARNING  C:\\code_ibre\\cassda_zertifikatsarbeit\\data\\combined_wildlife_poly_bridges_filtered_no_ch_640-yolo\\images\\train\\crossing_141.jpg: corrupt JPEG restored and saved\n",
      "\u001b[34m\u001b[1mtrain: \u001b[0mWARNING  C:\\code_ibre\\cassda_zertifikatsarbeit\\data\\combined_wildlife_poly_bridges_filtered_no_ch_640-yolo\\images\\train\\crossing_142.jpg: corrupt JPEG restored and saved\n",
      "\u001b[34m\u001b[1mtrain: \u001b[0mWARNING  C:\\code_ibre\\cassda_zertifikatsarbeit\\data\\combined_wildlife_poly_bridges_filtered_no_ch_640-yolo\\images\\train\\crossing_145.jpg: corrupt JPEG restored and saved\n",
      "\u001b[34m\u001b[1mtrain: \u001b[0mWARNING  C:\\code_ibre\\cassda_zertifikatsarbeit\\data\\combined_wildlife_poly_bridges_filtered_no_ch_640-yolo\\images\\train\\crossing_146.jpg: corrupt JPEG restored and saved\n",
      "\u001b[34m\u001b[1mtrain: \u001b[0mWARNING  C:\\code_ibre\\cassda_zertifikatsarbeit\\data\\combined_wildlife_poly_bridges_filtered_no_ch_640-yolo\\images\\train\\crossing_148.jpg: corrupt JPEG restored and saved\n",
      "\u001b[34m\u001b[1mtrain: \u001b[0mWARNING  C:\\code_ibre\\cassda_zertifikatsarbeit\\data\\combined_wildlife_poly_bridges_filtered_no_ch_640-yolo\\images\\train\\crossing_149.jpg: corrupt JPEG restored and saved\n",
      "\u001b[34m\u001b[1mtrain: \u001b[0mWARNING  C:\\code_ibre\\cassda_zertifikatsarbeit\\data\\combined_wildlife_poly_bridges_filtered_no_ch_640-yolo\\images\\train\\crossing_15.jpg: corrupt JPEG restored and saved\n",
      "\u001b[34m\u001b[1mtrain: \u001b[0mWARNING  C:\\code_ibre\\cassda_zertifikatsarbeit\\data\\combined_wildlife_poly_bridges_filtered_no_ch_640-yolo\\images\\train\\crossing_151.jpg: corrupt JPEG restored and saved\n",
      "\u001b[34m\u001b[1mtrain: \u001b[0mWARNING  C:\\code_ibre\\cassda_zertifikatsarbeit\\data\\combined_wildlife_poly_bridges_filtered_no_ch_640-yolo\\images\\train\\crossing_152.jpg: corrupt JPEG restored and saved\n",
      "\u001b[34m\u001b[1mtrain: \u001b[0mWARNING  C:\\code_ibre\\cassda_zertifikatsarbeit\\data\\combined_wildlife_poly_bridges_filtered_no_ch_640-yolo\\images\\train\\crossing_153.jpg: corrupt JPEG restored and saved\n",
      "\u001b[34m\u001b[1mtrain: \u001b[0mWARNING  C:\\code_ibre\\cassda_zertifikatsarbeit\\data\\combined_wildlife_poly_bridges_filtered_no_ch_640-yolo\\images\\train\\crossing_154.jpg: corrupt JPEG restored and saved\n",
      "\u001b[34m\u001b[1mtrain: \u001b[0mWARNING  C:\\code_ibre\\cassda_zertifikatsarbeit\\data\\combined_wildlife_poly_bridges_filtered_no_ch_640-yolo\\images\\train\\crossing_155.jpg: corrupt JPEG restored and saved\n",
      "\u001b[34m\u001b[1mtrain: \u001b[0mWARNING  C:\\code_ibre\\cassda_zertifikatsarbeit\\data\\combined_wildlife_poly_bridges_filtered_no_ch_640-yolo\\images\\train\\crossing_156.jpg: corrupt JPEG restored and saved\n",
      "\u001b[34m\u001b[1mtrain: \u001b[0mWARNING  C:\\code_ibre\\cassda_zertifikatsarbeit\\data\\combined_wildlife_poly_bridges_filtered_no_ch_640-yolo\\images\\train\\crossing_157.jpg: corrupt JPEG restored and saved\n",
      "\u001b[34m\u001b[1mtrain: \u001b[0mWARNING  C:\\code_ibre\\cassda_zertifikatsarbeit\\data\\combined_wildlife_poly_bridges_filtered_no_ch_640-yolo\\images\\train\\crossing_158.jpg: corrupt JPEG restored and saved\n",
      "\u001b[34m\u001b[1mtrain: \u001b[0mWARNING  C:\\code_ibre\\cassda_zertifikatsarbeit\\data\\combined_wildlife_poly_bridges_filtered_no_ch_640-yolo\\images\\train\\crossing_159.jpg: corrupt JPEG restored and saved\n",
      "\u001b[34m\u001b[1mtrain: \u001b[0mWARNING  C:\\code_ibre\\cassda_zertifikatsarbeit\\data\\combined_wildlife_poly_bridges_filtered_no_ch_640-yolo\\images\\train\\crossing_16.jpg: corrupt JPEG restored and saved\n",
      "\u001b[34m\u001b[1mtrain: \u001b[0mWARNING  C:\\code_ibre\\cassda_zertifikatsarbeit\\data\\combined_wildlife_poly_bridges_filtered_no_ch_640-yolo\\images\\train\\crossing_160.jpg: corrupt JPEG restored and saved\n",
      "\u001b[34m\u001b[1mtrain: \u001b[0mWARNING  C:\\code_ibre\\cassda_zertifikatsarbeit\\data\\combined_wildlife_poly_bridges_filtered_no_ch_640-yolo\\images\\train\\crossing_161.jpg: corrupt JPEG restored and saved\n",
      "\u001b[34m\u001b[1mtrain: \u001b[0mWARNING  C:\\code_ibre\\cassda_zertifikatsarbeit\\data\\combined_wildlife_poly_bridges_filtered_no_ch_640-yolo\\images\\train\\crossing_162.jpg: corrupt JPEG restored and saved\n",
      "\u001b[34m\u001b[1mtrain: \u001b[0mWARNING  C:\\code_ibre\\cassda_zertifikatsarbeit\\data\\combined_wildlife_poly_bridges_filtered_no_ch_640-yolo\\images\\train\\crossing_164.jpg: corrupt JPEG restored and saved\n",
      "\u001b[34m\u001b[1mtrain: \u001b[0mWARNING  C:\\code_ibre\\cassda_zertifikatsarbeit\\data\\combined_wildlife_poly_bridges_filtered_no_ch_640-yolo\\images\\train\\crossing_165.jpg: corrupt JPEG restored and saved\n",
      "\u001b[34m\u001b[1mtrain: \u001b[0mWARNING  C:\\code_ibre\\cassda_zertifikatsarbeit\\data\\combined_wildlife_poly_bridges_filtered_no_ch_640-yolo\\images\\train\\crossing_166.jpg: corrupt JPEG restored and saved\n",
      "\u001b[34m\u001b[1mtrain: \u001b[0mWARNING  C:\\code_ibre\\cassda_zertifikatsarbeit\\data\\combined_wildlife_poly_bridges_filtered_no_ch_640-yolo\\images\\train\\crossing_17.jpg: corrupt JPEG restored and saved\n",
      "\u001b[34m\u001b[1mtrain: \u001b[0mWARNING  C:\\code_ibre\\cassda_zertifikatsarbeit\\data\\combined_wildlife_poly_bridges_filtered_no_ch_640-yolo\\images\\train\\crossing_170.jpg: corrupt JPEG restored and saved\n",
      "\u001b[34m\u001b[1mtrain: \u001b[0mWARNING  C:\\code_ibre\\cassda_zertifikatsarbeit\\data\\combined_wildlife_poly_bridges_filtered_no_ch_640-yolo\\images\\train\\crossing_171.jpg: corrupt JPEG restored and saved\n",
      "\u001b[34m\u001b[1mtrain: \u001b[0mWARNING  C:\\code_ibre\\cassda_zertifikatsarbeit\\data\\combined_wildlife_poly_bridges_filtered_no_ch_640-yolo\\images\\train\\crossing_173.jpg: corrupt JPEG restored and saved\n",
      "\u001b[34m\u001b[1mtrain: \u001b[0mWARNING  C:\\code_ibre\\cassda_zertifikatsarbeit\\data\\combined_wildlife_poly_bridges_filtered_no_ch_640-yolo\\images\\train\\crossing_174.jpg: corrupt JPEG restored and saved\n",
      "\u001b[34m\u001b[1mtrain: \u001b[0mWARNING  C:\\code_ibre\\cassda_zertifikatsarbeit\\data\\combined_wildlife_poly_bridges_filtered_no_ch_640-yolo\\images\\train\\crossing_175.jpg: corrupt JPEG restored and saved\n",
      "\u001b[34m\u001b[1mtrain: \u001b[0mWARNING  C:\\code_ibre\\cassda_zertifikatsarbeit\\data\\combined_wildlife_poly_bridges_filtered_no_ch_640-yolo\\images\\train\\crossing_176.jpg: corrupt JPEG restored and saved\n",
      "\u001b[34m\u001b[1mtrain: \u001b[0mWARNING  C:\\code_ibre\\cassda_zertifikatsarbeit\\data\\combined_wildlife_poly_bridges_filtered_no_ch_640-yolo\\images\\train\\crossing_178.jpg: corrupt JPEG restored and saved\n",
      "\u001b[34m\u001b[1mtrain: \u001b[0mWARNING  C:\\code_ibre\\cassda_zertifikatsarbeit\\data\\combined_wildlife_poly_bridges_filtered_no_ch_640-yolo\\images\\train\\crossing_179.jpg: corrupt JPEG restored and saved\n",
      "\u001b[34m\u001b[1mtrain: \u001b[0mWARNING  C:\\code_ibre\\cassda_zertifikatsarbeit\\data\\combined_wildlife_poly_bridges_filtered_no_ch_640-yolo\\images\\train\\crossing_18.jpg: corrupt JPEG restored and saved\n",
      "\u001b[34m\u001b[1mtrain: \u001b[0mWARNING  C:\\code_ibre\\cassda_zertifikatsarbeit\\data\\combined_wildlife_poly_bridges_filtered_no_ch_640-yolo\\images\\train\\crossing_180.jpg: corrupt JPEG restored and saved\n",
      "\u001b[34m\u001b[1mtrain: \u001b[0mWARNING  C:\\code_ibre\\cassda_zertifikatsarbeit\\data\\combined_wildlife_poly_bridges_filtered_no_ch_640-yolo\\images\\train\\crossing_181.jpg: corrupt JPEG restored and saved\n",
      "\u001b[34m\u001b[1mtrain: \u001b[0mWARNING  C:\\code_ibre\\cassda_zertifikatsarbeit\\data\\combined_wildlife_poly_bridges_filtered_no_ch_640-yolo\\images\\train\\crossing_182.jpg: corrupt JPEG restored and saved\n",
      "\u001b[34m\u001b[1mtrain: \u001b[0mWARNING  C:\\code_ibre\\cassda_zertifikatsarbeit\\data\\combined_wildlife_poly_bridges_filtered_no_ch_640-yolo\\images\\train\\crossing_184.jpg: corrupt JPEG restored and saved\n",
      "\u001b[34m\u001b[1mtrain: \u001b[0mWARNING  C:\\code_ibre\\cassda_zertifikatsarbeit\\data\\combined_wildlife_poly_bridges_filtered_no_ch_640-yolo\\images\\train\\crossing_185.jpg: corrupt JPEG restored and saved\n",
      "\u001b[34m\u001b[1mtrain: \u001b[0mWARNING  C:\\code_ibre\\cassda_zertifikatsarbeit\\data\\combined_wildlife_poly_bridges_filtered_no_ch_640-yolo\\images\\train\\crossing_186.jpg: corrupt JPEG restored and saved\n",
      "\u001b[34m\u001b[1mtrain: \u001b[0mWARNING  C:\\code_ibre\\cassda_zertifikatsarbeit\\data\\combined_wildlife_poly_bridges_filtered_no_ch_640-yolo\\images\\train\\crossing_187.jpg: corrupt JPEG restored and saved\n",
      "\u001b[34m\u001b[1mtrain: \u001b[0mWARNING  C:\\code_ibre\\cassda_zertifikatsarbeit\\data\\combined_wildlife_poly_bridges_filtered_no_ch_640-yolo\\images\\train\\crossing_188.jpg: corrupt JPEG restored and saved\n",
      "\u001b[34m\u001b[1mtrain: \u001b[0mWARNING  C:\\code_ibre\\cassda_zertifikatsarbeit\\data\\combined_wildlife_poly_bridges_filtered_no_ch_640-yolo\\images\\train\\crossing_189.jpg: corrupt JPEG restored and saved\n",
      "\u001b[34m\u001b[1mtrain: \u001b[0mWARNING  C:\\code_ibre\\cassda_zertifikatsarbeit\\data\\combined_wildlife_poly_bridges_filtered_no_ch_640-yolo\\images\\train\\crossing_19.jpg: corrupt JPEG restored and saved\n",
      "\u001b[34m\u001b[1mtrain: \u001b[0mWARNING  C:\\code_ibre\\cassda_zertifikatsarbeit\\data\\combined_wildlife_poly_bridges_filtered_no_ch_640-yolo\\images\\train\\crossing_190.jpg: corrupt JPEG restored and saved\n",
      "\u001b[34m\u001b[1mtrain: \u001b[0mWARNING  C:\\code_ibre\\cassda_zertifikatsarbeit\\data\\combined_wildlife_poly_bridges_filtered_no_ch_640-yolo\\images\\train\\crossing_192.jpg: corrupt JPEG restored and saved\n",
      "\u001b[34m\u001b[1mtrain: \u001b[0mWARNING  C:\\code_ibre\\cassda_zertifikatsarbeit\\data\\combined_wildlife_poly_bridges_filtered_no_ch_640-yolo\\images\\train\\crossing_196.jpg: corrupt JPEG restored and saved\n",
      "\u001b[34m\u001b[1mtrain: \u001b[0mWARNING  C:\\code_ibre\\cassda_zertifikatsarbeit\\data\\combined_wildlife_poly_bridges_filtered_no_ch_640-yolo\\images\\train\\crossing_197.jpg: corrupt JPEG restored and saved\n",
      "\u001b[34m\u001b[1mtrain: \u001b[0mWARNING  C:\\code_ibre\\cassda_zertifikatsarbeit\\data\\combined_wildlife_poly_bridges_filtered_no_ch_640-yolo\\images\\train\\crossing_198.jpg: corrupt JPEG restored and saved\n",
      "\u001b[34m\u001b[1mtrain: \u001b[0mWARNING  C:\\code_ibre\\cassda_zertifikatsarbeit\\data\\combined_wildlife_poly_bridges_filtered_no_ch_640-yolo\\images\\train\\crossing_199.jpg: corrupt JPEG restored and saved\n",
      "\u001b[34m\u001b[1mtrain: \u001b[0mWARNING  C:\\code_ibre\\cassda_zertifikatsarbeit\\data\\combined_wildlife_poly_bridges_filtered_no_ch_640-yolo\\images\\train\\crossing_2.jpg: corrupt JPEG restored and saved\n",
      "\u001b[34m\u001b[1mtrain: \u001b[0mWARNING  C:\\code_ibre\\cassda_zertifikatsarbeit\\data\\combined_wildlife_poly_bridges_filtered_no_ch_640-yolo\\images\\train\\crossing_20.jpg: corrupt JPEG restored and saved\n",
      "\u001b[34m\u001b[1mtrain: \u001b[0mWARNING  C:\\code_ibre\\cassda_zertifikatsarbeit\\data\\combined_wildlife_poly_bridges_filtered_no_ch_640-yolo\\images\\train\\crossing_200.jpg: corrupt JPEG restored and saved\n",
      "\u001b[34m\u001b[1mtrain: \u001b[0mWARNING  C:\\code_ibre\\cassda_zertifikatsarbeit\\data\\combined_wildlife_poly_bridges_filtered_no_ch_640-yolo\\images\\train\\crossing_201.jpg: corrupt JPEG restored and saved\n",
      "\u001b[34m\u001b[1mtrain: \u001b[0mWARNING  C:\\code_ibre\\cassda_zertifikatsarbeit\\data\\combined_wildlife_poly_bridges_filtered_no_ch_640-yolo\\images\\train\\crossing_204.jpg: corrupt JPEG restored and saved\n",
      "\u001b[34m\u001b[1mtrain: \u001b[0mWARNING  C:\\code_ibre\\cassda_zertifikatsarbeit\\data\\combined_wildlife_poly_bridges_filtered_no_ch_640-yolo\\images\\train\\crossing_205.jpg: corrupt JPEG restored and saved\n",
      "\u001b[34m\u001b[1mtrain: \u001b[0mWARNING  C:\\code_ibre\\cassda_zertifikatsarbeit\\data\\combined_wildlife_poly_bridges_filtered_no_ch_640-yolo\\images\\train\\crossing_206.jpg: corrupt JPEG restored and saved\n",
      "\u001b[34m\u001b[1mtrain: \u001b[0mWARNING  C:\\code_ibre\\cassda_zertifikatsarbeit\\data\\combined_wildlife_poly_bridges_filtered_no_ch_640-yolo\\images\\train\\crossing_21.jpg: corrupt JPEG restored and saved\n",
      "\u001b[34m\u001b[1mtrain: \u001b[0mWARNING  C:\\code_ibre\\cassda_zertifikatsarbeit\\data\\combined_wildlife_poly_bridges_filtered_no_ch_640-yolo\\images\\train\\crossing_210.jpg: corrupt JPEG restored and saved\n",
      "\u001b[34m\u001b[1mtrain: \u001b[0mWARNING  C:\\code_ibre\\cassda_zertifikatsarbeit\\data\\combined_wildlife_poly_bridges_filtered_no_ch_640-yolo\\images\\train\\crossing_211.jpg: corrupt JPEG restored and saved\n",
      "\u001b[34m\u001b[1mtrain: \u001b[0mWARNING  C:\\code_ibre\\cassda_zertifikatsarbeit\\data\\combined_wildlife_poly_bridges_filtered_no_ch_640-yolo\\images\\train\\crossing_212.jpg: corrupt JPEG restored and saved\n",
      "\u001b[34m\u001b[1mtrain: \u001b[0mWARNING  C:\\code_ibre\\cassda_zertifikatsarbeit\\data\\combined_wildlife_poly_bridges_filtered_no_ch_640-yolo\\images\\train\\crossing_219.jpg: corrupt JPEG restored and saved\n",
      "\u001b[34m\u001b[1mtrain: \u001b[0mWARNING  C:\\code_ibre\\cassda_zertifikatsarbeit\\data\\combined_wildlife_poly_bridges_filtered_no_ch_640-yolo\\images\\train\\crossing_22.jpg: corrupt JPEG restored and saved\n",
      "\u001b[34m\u001b[1mtrain: \u001b[0mWARNING  C:\\code_ibre\\cassda_zertifikatsarbeit\\data\\combined_wildlife_poly_bridges_filtered_no_ch_640-yolo\\images\\train\\crossing_220.jpg: corrupt JPEG restored and saved\n",
      "\u001b[34m\u001b[1mtrain: \u001b[0mWARNING  C:\\code_ibre\\cassda_zertifikatsarbeit\\data\\combined_wildlife_poly_bridges_filtered_no_ch_640-yolo\\images\\train\\crossing_222.jpg: corrupt JPEG restored and saved\n",
      "\u001b[34m\u001b[1mtrain: \u001b[0mWARNING  C:\\code_ibre\\cassda_zertifikatsarbeit\\data\\combined_wildlife_poly_bridges_filtered_no_ch_640-yolo\\images\\train\\crossing_223.jpg: corrupt JPEG restored and saved\n",
      "\u001b[34m\u001b[1mtrain: \u001b[0mWARNING  C:\\code_ibre\\cassda_zertifikatsarbeit\\data\\combined_wildlife_poly_bridges_filtered_no_ch_640-yolo\\images\\train\\crossing_224.jpg: corrupt JPEG restored and saved\n",
      "\u001b[34m\u001b[1mtrain: \u001b[0mWARNING  C:\\code_ibre\\cassda_zertifikatsarbeit\\data\\combined_wildlife_poly_bridges_filtered_no_ch_640-yolo\\images\\train\\crossing_225.jpg: corrupt JPEG restored and saved\n",
      "\u001b[34m\u001b[1mtrain: \u001b[0mWARNING  C:\\code_ibre\\cassda_zertifikatsarbeit\\data\\combined_wildlife_poly_bridges_filtered_no_ch_640-yolo\\images\\train\\crossing_227.jpg: corrupt JPEG restored and saved\n",
      "\u001b[34m\u001b[1mtrain: \u001b[0mWARNING  C:\\code_ibre\\cassda_zertifikatsarbeit\\data\\combined_wildlife_poly_bridges_filtered_no_ch_640-yolo\\images\\train\\crossing_228.jpg: corrupt JPEG restored and saved\n",
      "\u001b[34m\u001b[1mtrain: \u001b[0mWARNING  C:\\code_ibre\\cassda_zertifikatsarbeit\\data\\combined_wildlife_poly_bridges_filtered_no_ch_640-yolo\\images\\train\\crossing_229.jpg: corrupt JPEG restored and saved\n",
      "\u001b[34m\u001b[1mtrain: \u001b[0mWARNING  C:\\code_ibre\\cassda_zertifikatsarbeit\\data\\combined_wildlife_poly_bridges_filtered_no_ch_640-yolo\\images\\train\\crossing_230.jpg: corrupt JPEG restored and saved\n",
      "\u001b[34m\u001b[1mtrain: \u001b[0mWARNING  C:\\code_ibre\\cassda_zertifikatsarbeit\\data\\combined_wildlife_poly_bridges_filtered_no_ch_640-yolo\\images\\train\\crossing_231.jpg: corrupt JPEG restored and saved\n",
      "\u001b[34m\u001b[1mtrain: \u001b[0mWARNING  C:\\code_ibre\\cassda_zertifikatsarbeit\\data\\combined_wildlife_poly_bridges_filtered_no_ch_640-yolo\\images\\train\\crossing_232.jpg: corrupt JPEG restored and saved\n",
      "\u001b[34m\u001b[1mtrain: \u001b[0mWARNING  C:\\code_ibre\\cassda_zertifikatsarbeit\\data\\combined_wildlife_poly_bridges_filtered_no_ch_640-yolo\\images\\train\\crossing_233.jpg: corrupt JPEG restored and saved\n",
      "\u001b[34m\u001b[1mtrain: \u001b[0mWARNING  C:\\code_ibre\\cassda_zertifikatsarbeit\\data\\combined_wildlife_poly_bridges_filtered_no_ch_640-yolo\\images\\train\\crossing_234.jpg: corrupt JPEG restored and saved\n",
      "\u001b[34m\u001b[1mtrain: \u001b[0mWARNING  C:\\code_ibre\\cassda_zertifikatsarbeit\\data\\combined_wildlife_poly_bridges_filtered_no_ch_640-yolo\\images\\train\\crossing_236.jpg: corrupt JPEG restored and saved\n",
      "\u001b[34m\u001b[1mtrain: \u001b[0mWARNING  C:\\code_ibre\\cassda_zertifikatsarbeit\\data\\combined_wildlife_poly_bridges_filtered_no_ch_640-yolo\\images\\train\\crossing_237.jpg: corrupt JPEG restored and saved\n",
      "\u001b[34m\u001b[1mtrain: \u001b[0mWARNING  C:\\code_ibre\\cassda_zertifikatsarbeit\\data\\combined_wildlife_poly_bridges_filtered_no_ch_640-yolo\\images\\train\\crossing_238.jpg: corrupt JPEG restored and saved\n",
      "\u001b[34m\u001b[1mtrain: \u001b[0mWARNING  C:\\code_ibre\\cassda_zertifikatsarbeit\\data\\combined_wildlife_poly_bridges_filtered_no_ch_640-yolo\\images\\train\\crossing_240.jpg: corrupt JPEG restored and saved\n",
      "\u001b[34m\u001b[1mtrain: \u001b[0mWARNING  C:\\code_ibre\\cassda_zertifikatsarbeit\\data\\combined_wildlife_poly_bridges_filtered_no_ch_640-yolo\\images\\train\\crossing_242.jpg: corrupt JPEG restored and saved\n",
      "\u001b[34m\u001b[1mtrain: \u001b[0mWARNING  C:\\code_ibre\\cassda_zertifikatsarbeit\\data\\combined_wildlife_poly_bridges_filtered_no_ch_640-yolo\\images\\train\\crossing_243.jpg: corrupt JPEG restored and saved\n",
      "\u001b[34m\u001b[1mtrain: \u001b[0mWARNING  C:\\code_ibre\\cassda_zertifikatsarbeit\\data\\combined_wildlife_poly_bridges_filtered_no_ch_640-yolo\\images\\train\\crossing_244.jpg: corrupt JPEG restored and saved\n",
      "\u001b[34m\u001b[1mtrain: \u001b[0mWARNING  C:\\code_ibre\\cassda_zertifikatsarbeit\\data\\combined_wildlife_poly_bridges_filtered_no_ch_640-yolo\\images\\train\\crossing_245.jpg: corrupt JPEG restored and saved\n",
      "\u001b[34m\u001b[1mtrain: \u001b[0mWARNING  C:\\code_ibre\\cassda_zertifikatsarbeit\\data\\combined_wildlife_poly_bridges_filtered_no_ch_640-yolo\\images\\train\\crossing_246.jpg: corrupt JPEG restored and saved\n",
      "\u001b[34m\u001b[1mtrain: \u001b[0mWARNING  C:\\code_ibre\\cassda_zertifikatsarbeit\\data\\combined_wildlife_poly_bridges_filtered_no_ch_640-yolo\\images\\train\\crossing_247.jpg: corrupt JPEG restored and saved\n",
      "\u001b[34m\u001b[1mtrain: \u001b[0mWARNING  C:\\code_ibre\\cassda_zertifikatsarbeit\\data\\combined_wildlife_poly_bridges_filtered_no_ch_640-yolo\\images\\train\\crossing_248.jpg: corrupt JPEG restored and saved\n",
      "\u001b[34m\u001b[1mtrain: \u001b[0mWARNING  C:\\code_ibre\\cassda_zertifikatsarbeit\\data\\combined_wildlife_poly_bridges_filtered_no_ch_640-yolo\\images\\train\\crossing_250.jpg: corrupt JPEG restored and saved\n",
      "\u001b[34m\u001b[1mtrain: \u001b[0mWARNING  C:\\code_ibre\\cassda_zertifikatsarbeit\\data\\combined_wildlife_poly_bridges_filtered_no_ch_640-yolo\\images\\train\\crossing_252.jpg: corrupt JPEG restored and saved\n",
      "\u001b[34m\u001b[1mtrain: \u001b[0mWARNING  C:\\code_ibre\\cassda_zertifikatsarbeit\\data\\combined_wildlife_poly_bridges_filtered_no_ch_640-yolo\\images\\train\\crossing_254.jpg: corrupt JPEG restored and saved\n",
      "\u001b[34m\u001b[1mtrain: \u001b[0mWARNING  C:\\code_ibre\\cassda_zertifikatsarbeit\\data\\combined_wildlife_poly_bridges_filtered_no_ch_640-yolo\\images\\train\\crossing_255.jpg: corrupt JPEG restored and saved\n",
      "\u001b[34m\u001b[1mtrain: \u001b[0mWARNING  C:\\code_ibre\\cassda_zertifikatsarbeit\\data\\combined_wildlife_poly_bridges_filtered_no_ch_640-yolo\\images\\train\\crossing_258.jpg: corrupt JPEG restored and saved\n",
      "\u001b[34m\u001b[1mtrain: \u001b[0mWARNING  C:\\code_ibre\\cassda_zertifikatsarbeit\\data\\combined_wildlife_poly_bridges_filtered_no_ch_640-yolo\\images\\train\\crossing_259.jpg: corrupt JPEG restored and saved\n",
      "\u001b[34m\u001b[1mtrain: \u001b[0mWARNING  C:\\code_ibre\\cassda_zertifikatsarbeit\\data\\combined_wildlife_poly_bridges_filtered_no_ch_640-yolo\\images\\train\\crossing_261.jpg: corrupt JPEG restored and saved\n",
      "\u001b[34m\u001b[1mtrain: \u001b[0mWARNING  C:\\code_ibre\\cassda_zertifikatsarbeit\\data\\combined_wildlife_poly_bridges_filtered_no_ch_640-yolo\\images\\train\\crossing_262.jpg: corrupt JPEG restored and saved\n",
      "\u001b[34m\u001b[1mtrain: \u001b[0mWARNING  C:\\code_ibre\\cassda_zertifikatsarbeit\\data\\combined_wildlife_poly_bridges_filtered_no_ch_640-yolo\\images\\train\\crossing_264.jpg: corrupt JPEG restored and saved\n",
      "\u001b[34m\u001b[1mtrain: \u001b[0mWARNING  C:\\code_ibre\\cassda_zertifikatsarbeit\\data\\combined_wildlife_poly_bridges_filtered_no_ch_640-yolo\\images\\train\\crossing_267.jpg: corrupt JPEG restored and saved\n",
      "\u001b[34m\u001b[1mtrain: \u001b[0mWARNING  C:\\code_ibre\\cassda_zertifikatsarbeit\\data\\combined_wildlife_poly_bridges_filtered_no_ch_640-yolo\\images\\train\\crossing_268.jpg: corrupt JPEG restored and saved\n",
      "\u001b[34m\u001b[1mtrain: \u001b[0mWARNING  C:\\code_ibre\\cassda_zertifikatsarbeit\\data\\combined_wildlife_poly_bridges_filtered_no_ch_640-yolo\\images\\train\\crossing_27.jpg: corrupt JPEG restored and saved\n",
      "\u001b[34m\u001b[1mtrain: \u001b[0mWARNING  C:\\code_ibre\\cassda_zertifikatsarbeit\\data\\combined_wildlife_poly_bridges_filtered_no_ch_640-yolo\\images\\train\\crossing_270.jpg: corrupt JPEG restored and saved\n",
      "\u001b[34m\u001b[1mtrain: \u001b[0mWARNING  C:\\code_ibre\\cassda_zertifikatsarbeit\\data\\combined_wildlife_poly_bridges_filtered_no_ch_640-yolo\\images\\train\\crossing_272.jpg: corrupt JPEG restored and saved\n",
      "\u001b[34m\u001b[1mtrain: \u001b[0mWARNING  C:\\code_ibre\\cassda_zertifikatsarbeit\\data\\combined_wildlife_poly_bridges_filtered_no_ch_640-yolo\\images\\train\\crossing_273.jpg: corrupt JPEG restored and saved\n",
      "\u001b[34m\u001b[1mtrain: \u001b[0mWARNING  C:\\code_ibre\\cassda_zertifikatsarbeit\\data\\combined_wildlife_poly_bridges_filtered_no_ch_640-yolo\\images\\train\\crossing_275.jpg: corrupt JPEG restored and saved\n",
      "\u001b[34m\u001b[1mtrain: \u001b[0mWARNING  C:\\code_ibre\\cassda_zertifikatsarbeit\\data\\combined_wildlife_poly_bridges_filtered_no_ch_640-yolo\\images\\train\\crossing_276.jpg: corrupt JPEG restored and saved\n",
      "\u001b[34m\u001b[1mtrain: \u001b[0mWARNING  C:\\code_ibre\\cassda_zertifikatsarbeit\\data\\combined_wildlife_poly_bridges_filtered_no_ch_640-yolo\\images\\train\\crossing_278.jpg: corrupt JPEG restored and saved\n",
      "\u001b[34m\u001b[1mtrain: \u001b[0mWARNING  C:\\code_ibre\\cassda_zertifikatsarbeit\\data\\combined_wildlife_poly_bridges_filtered_no_ch_640-yolo\\images\\train\\crossing_279.jpg: corrupt JPEG restored and saved\n",
      "\u001b[34m\u001b[1mtrain: \u001b[0mWARNING  C:\\code_ibre\\cassda_zertifikatsarbeit\\data\\combined_wildlife_poly_bridges_filtered_no_ch_640-yolo\\images\\train\\crossing_28.jpg: corrupt JPEG restored and saved\n",
      "\u001b[34m\u001b[1mtrain: \u001b[0mWARNING  C:\\code_ibre\\cassda_zertifikatsarbeit\\data\\combined_wildlife_poly_bridges_filtered_no_ch_640-yolo\\images\\train\\crossing_280.jpg: corrupt JPEG restored and saved\n",
      "\u001b[34m\u001b[1mtrain: \u001b[0mWARNING  C:\\code_ibre\\cassda_zertifikatsarbeit\\data\\combined_wildlife_poly_bridges_filtered_no_ch_640-yolo\\images\\train\\crossing_281.jpg: corrupt JPEG restored and saved\n",
      "\u001b[34m\u001b[1mtrain: \u001b[0mWARNING  C:\\code_ibre\\cassda_zertifikatsarbeit\\data\\combined_wildlife_poly_bridges_filtered_no_ch_640-yolo\\images\\train\\crossing_283.jpg: corrupt JPEG restored and saved\n",
      "\u001b[34m\u001b[1mtrain: \u001b[0mWARNING  C:\\code_ibre\\cassda_zertifikatsarbeit\\data\\combined_wildlife_poly_bridges_filtered_no_ch_640-yolo\\images\\train\\crossing_284.jpg: corrupt JPEG restored and saved\n",
      "\u001b[34m\u001b[1mtrain: \u001b[0mWARNING  C:\\code_ibre\\cassda_zertifikatsarbeit\\data\\combined_wildlife_poly_bridges_filtered_no_ch_640-yolo\\images\\train\\crossing_285.jpg: corrupt JPEG restored and saved\n",
      "\u001b[34m\u001b[1mtrain: \u001b[0mWARNING  C:\\code_ibre\\cassda_zertifikatsarbeit\\data\\combined_wildlife_poly_bridges_filtered_no_ch_640-yolo\\images\\train\\crossing_287.jpg: corrupt JPEG restored and saved\n",
      "\u001b[34m\u001b[1mtrain: \u001b[0mWARNING  C:\\code_ibre\\cassda_zertifikatsarbeit\\data\\combined_wildlife_poly_bridges_filtered_no_ch_640-yolo\\images\\train\\crossing_288.jpg: corrupt JPEG restored and saved\n",
      "\u001b[34m\u001b[1mtrain: \u001b[0mWARNING  C:\\code_ibre\\cassda_zertifikatsarbeit\\data\\combined_wildlife_poly_bridges_filtered_no_ch_640-yolo\\images\\train\\crossing_29.jpg: corrupt JPEG restored and saved\n",
      "\u001b[34m\u001b[1mtrain: \u001b[0mWARNING  C:\\code_ibre\\cassda_zertifikatsarbeit\\data\\combined_wildlife_poly_bridges_filtered_no_ch_640-yolo\\images\\train\\crossing_290.jpg: corrupt JPEG restored and saved\n",
      "\u001b[34m\u001b[1mtrain: \u001b[0mWARNING  C:\\code_ibre\\cassda_zertifikatsarbeit\\data\\combined_wildlife_poly_bridges_filtered_no_ch_640-yolo\\images\\train\\crossing_291.jpg: corrupt JPEG restored and saved\n",
      "\u001b[34m\u001b[1mtrain: \u001b[0mWARNING  C:\\code_ibre\\cassda_zertifikatsarbeit\\data\\combined_wildlife_poly_bridges_filtered_no_ch_640-yolo\\images\\train\\crossing_292.jpg: corrupt JPEG restored and saved\n",
      "\u001b[34m\u001b[1mtrain: \u001b[0mWARNING  C:\\code_ibre\\cassda_zertifikatsarbeit\\data\\combined_wildlife_poly_bridges_filtered_no_ch_640-yolo\\images\\train\\crossing_294.jpg: corrupt JPEG restored and saved\n",
      "\u001b[34m\u001b[1mtrain: \u001b[0mWARNING  C:\\code_ibre\\cassda_zertifikatsarbeit\\data\\combined_wildlife_poly_bridges_filtered_no_ch_640-yolo\\images\\train\\crossing_295.jpg: corrupt JPEG restored and saved\n",
      "\u001b[34m\u001b[1mtrain: \u001b[0mWARNING  C:\\code_ibre\\cassda_zertifikatsarbeit\\data\\combined_wildlife_poly_bridges_filtered_no_ch_640-yolo\\images\\train\\crossing_297.jpg: corrupt JPEG restored and saved\n",
      "\u001b[34m\u001b[1mtrain: \u001b[0mWARNING  C:\\code_ibre\\cassda_zertifikatsarbeit\\data\\combined_wildlife_poly_bridges_filtered_no_ch_640-yolo\\images\\train\\crossing_298.jpg: corrupt JPEG restored and saved\n",
      "\u001b[34m\u001b[1mtrain: \u001b[0mWARNING  C:\\code_ibre\\cassda_zertifikatsarbeit\\data\\combined_wildlife_poly_bridges_filtered_no_ch_640-yolo\\images\\train\\crossing_299.jpg: corrupt JPEG restored and saved\n",
      "\u001b[34m\u001b[1mtrain: \u001b[0mWARNING  C:\\code_ibre\\cassda_zertifikatsarbeit\\data\\combined_wildlife_poly_bridges_filtered_no_ch_640-yolo\\images\\train\\crossing_3.jpg: corrupt JPEG restored and saved\n",
      "\u001b[34m\u001b[1mtrain: \u001b[0mWARNING  C:\\code_ibre\\cassda_zertifikatsarbeit\\data\\combined_wildlife_poly_bridges_filtered_no_ch_640-yolo\\images\\train\\crossing_301.jpg: corrupt JPEG restored and saved\n",
      "\u001b[34m\u001b[1mtrain: \u001b[0mWARNING  C:\\code_ibre\\cassda_zertifikatsarbeit\\data\\combined_wildlife_poly_bridges_filtered_no_ch_640-yolo\\images\\train\\crossing_302.jpg: corrupt JPEG restored and saved\n",
      "\u001b[34m\u001b[1mtrain: \u001b[0mWARNING  C:\\code_ibre\\cassda_zertifikatsarbeit\\data\\combined_wildlife_poly_bridges_filtered_no_ch_640-yolo\\images\\train\\crossing_303.jpg: corrupt JPEG restored and saved\n",
      "\u001b[34m\u001b[1mtrain: \u001b[0mWARNING  C:\\code_ibre\\cassda_zertifikatsarbeit\\data\\combined_wildlife_poly_bridges_filtered_no_ch_640-yolo\\images\\train\\crossing_305.jpg: corrupt JPEG restored and saved\n",
      "\u001b[34m\u001b[1mtrain: \u001b[0mWARNING  C:\\code_ibre\\cassda_zertifikatsarbeit\\data\\combined_wildlife_poly_bridges_filtered_no_ch_640-yolo\\images\\train\\crossing_307.jpg: corrupt JPEG restored and saved\n",
      "\u001b[34m\u001b[1mtrain: \u001b[0mWARNING  C:\\code_ibre\\cassda_zertifikatsarbeit\\data\\combined_wildlife_poly_bridges_filtered_no_ch_640-yolo\\images\\train\\crossing_308.jpg: corrupt JPEG restored and saved\n",
      "\u001b[34m\u001b[1mtrain: \u001b[0mWARNING  C:\\code_ibre\\cassda_zertifikatsarbeit\\data\\combined_wildlife_poly_bridges_filtered_no_ch_640-yolo\\images\\train\\crossing_309.jpg: corrupt JPEG restored and saved\n",
      "\u001b[34m\u001b[1mtrain: \u001b[0mWARNING  C:\\code_ibre\\cassda_zertifikatsarbeit\\data\\combined_wildlife_poly_bridges_filtered_no_ch_640-yolo\\images\\train\\crossing_31.jpg: corrupt JPEG restored and saved\n",
      "\u001b[34m\u001b[1mtrain: \u001b[0mWARNING  C:\\code_ibre\\cassda_zertifikatsarbeit\\data\\combined_wildlife_poly_bridges_filtered_no_ch_640-yolo\\images\\train\\crossing_310.jpg: corrupt JPEG restored and saved\n",
      "\u001b[34m\u001b[1mtrain: \u001b[0mWARNING  C:\\code_ibre\\cassda_zertifikatsarbeit\\data\\combined_wildlife_poly_bridges_filtered_no_ch_640-yolo\\images\\train\\crossing_311.jpg: corrupt JPEG restored and saved\n",
      "\u001b[34m\u001b[1mtrain: \u001b[0mWARNING  C:\\code_ibre\\cassda_zertifikatsarbeit\\data\\combined_wildlife_poly_bridges_filtered_no_ch_640-yolo\\images\\train\\crossing_312.jpg: corrupt JPEG restored and saved\n",
      "\u001b[34m\u001b[1mtrain: \u001b[0mWARNING  C:\\code_ibre\\cassda_zertifikatsarbeit\\data\\combined_wildlife_poly_bridges_filtered_no_ch_640-yolo\\images\\train\\crossing_313.jpg: corrupt JPEG restored and saved\n",
      "\u001b[34m\u001b[1mtrain: \u001b[0mWARNING  C:\\code_ibre\\cassda_zertifikatsarbeit\\data\\combined_wildlife_poly_bridges_filtered_no_ch_640-yolo\\images\\train\\crossing_314.jpg: corrupt JPEG restored and saved\n",
      "\u001b[34m\u001b[1mtrain: \u001b[0mWARNING  C:\\code_ibre\\cassda_zertifikatsarbeit\\data\\combined_wildlife_poly_bridges_filtered_no_ch_640-yolo\\images\\train\\crossing_315.jpg: corrupt JPEG restored and saved\n",
      "\u001b[34m\u001b[1mtrain: \u001b[0mWARNING  C:\\code_ibre\\cassda_zertifikatsarbeit\\data\\combined_wildlife_poly_bridges_filtered_no_ch_640-yolo\\images\\train\\crossing_318.jpg: corrupt JPEG restored and saved\n",
      "\u001b[34m\u001b[1mtrain: \u001b[0mWARNING  C:\\code_ibre\\cassda_zertifikatsarbeit\\data\\combined_wildlife_poly_bridges_filtered_no_ch_640-yolo\\images\\train\\crossing_319.jpg: corrupt JPEG restored and saved\n",
      "\u001b[34m\u001b[1mtrain: \u001b[0mWARNING  C:\\code_ibre\\cassda_zertifikatsarbeit\\data\\combined_wildlife_poly_bridges_filtered_no_ch_640-yolo\\images\\train\\crossing_320.jpg: corrupt JPEG restored and saved\n",
      "\u001b[34m\u001b[1mtrain: \u001b[0mWARNING  C:\\code_ibre\\cassda_zertifikatsarbeit\\data\\combined_wildlife_poly_bridges_filtered_no_ch_640-yolo\\images\\train\\crossing_321.jpg: corrupt JPEG restored and saved\n",
      "\u001b[34m\u001b[1mtrain: \u001b[0mWARNING  C:\\code_ibre\\cassda_zertifikatsarbeit\\data\\combined_wildlife_poly_bridges_filtered_no_ch_640-yolo\\images\\train\\crossing_322.jpg: corrupt JPEG restored and saved\n",
      "\u001b[34m\u001b[1mtrain: \u001b[0mWARNING  C:\\code_ibre\\cassda_zertifikatsarbeit\\data\\combined_wildlife_poly_bridges_filtered_no_ch_640-yolo\\images\\train\\crossing_323.jpg: corrupt JPEG restored and saved\n",
      "\u001b[34m\u001b[1mtrain: \u001b[0mWARNING  C:\\code_ibre\\cassda_zertifikatsarbeit\\data\\combined_wildlife_poly_bridges_filtered_no_ch_640-yolo\\images\\train\\crossing_324.jpg: corrupt JPEG restored and saved\n",
      "\u001b[34m\u001b[1mtrain: \u001b[0mWARNING  C:\\code_ibre\\cassda_zertifikatsarbeit\\data\\combined_wildlife_poly_bridges_filtered_no_ch_640-yolo\\images\\train\\crossing_325.jpg: corrupt JPEG restored and saved\n",
      "\u001b[34m\u001b[1mtrain: \u001b[0mWARNING  C:\\code_ibre\\cassda_zertifikatsarbeit\\data\\combined_wildlife_poly_bridges_filtered_no_ch_640-yolo\\images\\train\\crossing_327.jpg: corrupt JPEG restored and saved\n",
      "\u001b[34m\u001b[1mtrain: \u001b[0mWARNING  C:\\code_ibre\\cassda_zertifikatsarbeit\\data\\combined_wildlife_poly_bridges_filtered_no_ch_640-yolo\\images\\train\\crossing_329.jpg: corrupt JPEG restored and saved\n",
      "\u001b[34m\u001b[1mtrain: \u001b[0mWARNING  C:\\code_ibre\\cassda_zertifikatsarbeit\\data\\combined_wildlife_poly_bridges_filtered_no_ch_640-yolo\\images\\train\\crossing_33.jpg: corrupt JPEG restored and saved\n",
      "\u001b[34m\u001b[1mtrain: \u001b[0mWARNING  C:\\code_ibre\\cassda_zertifikatsarbeit\\data\\combined_wildlife_poly_bridges_filtered_no_ch_640-yolo\\images\\train\\crossing_330.jpg: corrupt JPEG restored and saved\n",
      "\u001b[34m\u001b[1mtrain: \u001b[0mWARNING  C:\\code_ibre\\cassda_zertifikatsarbeit\\data\\combined_wildlife_poly_bridges_filtered_no_ch_640-yolo\\images\\train\\crossing_334.jpg: corrupt JPEG restored and saved\n",
      "\u001b[34m\u001b[1mtrain: \u001b[0mWARNING  C:\\code_ibre\\cassda_zertifikatsarbeit\\data\\combined_wildlife_poly_bridges_filtered_no_ch_640-yolo\\images\\train\\crossing_335.jpg: corrupt JPEG restored and saved\n",
      "\u001b[34m\u001b[1mtrain: \u001b[0mWARNING  C:\\code_ibre\\cassda_zertifikatsarbeit\\data\\combined_wildlife_poly_bridges_filtered_no_ch_640-yolo\\images\\train\\crossing_336.jpg: corrupt JPEG restored and saved\n",
      "\u001b[34m\u001b[1mtrain: \u001b[0mWARNING  C:\\code_ibre\\cassda_zertifikatsarbeit\\data\\combined_wildlife_poly_bridges_filtered_no_ch_640-yolo\\images\\train\\crossing_337.jpg: corrupt JPEG restored and saved\n",
      "\u001b[34m\u001b[1mtrain: \u001b[0mWARNING  C:\\code_ibre\\cassda_zertifikatsarbeit\\data\\combined_wildlife_poly_bridges_filtered_no_ch_640-yolo\\images\\train\\crossing_34.jpg: corrupt JPEG restored and saved\n",
      "\u001b[34m\u001b[1mtrain: \u001b[0mWARNING  C:\\code_ibre\\cassda_zertifikatsarbeit\\data\\combined_wildlife_poly_bridges_filtered_no_ch_640-yolo\\images\\train\\crossing_340.jpg: corrupt JPEG restored and saved\n",
      "\u001b[34m\u001b[1mtrain: \u001b[0mWARNING  C:\\code_ibre\\cassda_zertifikatsarbeit\\data\\combined_wildlife_poly_bridges_filtered_no_ch_640-yolo\\images\\train\\crossing_341.jpg: corrupt JPEG restored and saved\n",
      "\u001b[34m\u001b[1mtrain: \u001b[0mWARNING  C:\\code_ibre\\cassda_zertifikatsarbeit\\data\\combined_wildlife_poly_bridges_filtered_no_ch_640-yolo\\images\\train\\crossing_342.jpg: corrupt JPEG restored and saved\n",
      "\u001b[34m\u001b[1mtrain: \u001b[0mWARNING  C:\\code_ibre\\cassda_zertifikatsarbeit\\data\\combined_wildlife_poly_bridges_filtered_no_ch_640-yolo\\images\\train\\crossing_343.jpg: corrupt JPEG restored and saved\n",
      "\u001b[34m\u001b[1mtrain: \u001b[0mWARNING  C:\\code_ibre\\cassda_zertifikatsarbeit\\data\\combined_wildlife_poly_bridges_filtered_no_ch_640-yolo\\images\\train\\crossing_344.jpg: corrupt JPEG restored and saved\n",
      "\u001b[34m\u001b[1mtrain: \u001b[0mWARNING  C:\\code_ibre\\cassda_zertifikatsarbeit\\data\\combined_wildlife_poly_bridges_filtered_no_ch_640-yolo\\images\\train\\crossing_347.jpg: corrupt JPEG restored and saved\n",
      "\u001b[34m\u001b[1mtrain: \u001b[0mWARNING  C:\\code_ibre\\cassda_zertifikatsarbeit\\data\\combined_wildlife_poly_bridges_filtered_no_ch_640-yolo\\images\\train\\crossing_348.jpg: corrupt JPEG restored and saved\n",
      "\u001b[34m\u001b[1mtrain: \u001b[0mWARNING  C:\\code_ibre\\cassda_zertifikatsarbeit\\data\\combined_wildlife_poly_bridges_filtered_no_ch_640-yolo\\images\\train\\crossing_349.jpg: corrupt JPEG restored and saved\n",
      "\u001b[34m\u001b[1mtrain: \u001b[0mWARNING  C:\\code_ibre\\cassda_zertifikatsarbeit\\data\\combined_wildlife_poly_bridges_filtered_no_ch_640-yolo\\images\\train\\crossing_35.jpg: corrupt JPEG restored and saved\n",
      "\u001b[34m\u001b[1mtrain: \u001b[0mWARNING  C:\\code_ibre\\cassda_zertifikatsarbeit\\data\\combined_wildlife_poly_bridges_filtered_no_ch_640-yolo\\images\\train\\crossing_350.jpg: corrupt JPEG restored and saved\n",
      "\u001b[34m\u001b[1mtrain: \u001b[0mWARNING  C:\\code_ibre\\cassda_zertifikatsarbeit\\data\\combined_wildlife_poly_bridges_filtered_no_ch_640-yolo\\images\\train\\crossing_351.jpg: corrupt JPEG restored and saved\n",
      "\u001b[34m\u001b[1mtrain: \u001b[0mWARNING  C:\\code_ibre\\cassda_zertifikatsarbeit\\data\\combined_wildlife_poly_bridges_filtered_no_ch_640-yolo\\images\\train\\crossing_353.jpg: corrupt JPEG restored and saved\n",
      "\u001b[34m\u001b[1mtrain: \u001b[0mWARNING  C:\\code_ibre\\cassda_zertifikatsarbeit\\data\\combined_wildlife_poly_bridges_filtered_no_ch_640-yolo\\images\\train\\crossing_354.jpg: corrupt JPEG restored and saved\n",
      "\u001b[34m\u001b[1mtrain: \u001b[0mWARNING  C:\\code_ibre\\cassda_zertifikatsarbeit\\data\\combined_wildlife_poly_bridges_filtered_no_ch_640-yolo\\images\\train\\crossing_355.jpg: corrupt JPEG restored and saved\n",
      "\u001b[34m\u001b[1mtrain: \u001b[0mWARNING  C:\\code_ibre\\cassda_zertifikatsarbeit\\data\\combined_wildlife_poly_bridges_filtered_no_ch_640-yolo\\images\\train\\crossing_356.jpg: corrupt JPEG restored and saved\n",
      "\u001b[34m\u001b[1mtrain: \u001b[0mWARNING  C:\\code_ibre\\cassda_zertifikatsarbeit\\data\\combined_wildlife_poly_bridges_filtered_no_ch_640-yolo\\images\\train\\crossing_357.jpg: corrupt JPEG restored and saved\n",
      "\u001b[34m\u001b[1mtrain: \u001b[0mWARNING  C:\\code_ibre\\cassda_zertifikatsarbeit\\data\\combined_wildlife_poly_bridges_filtered_no_ch_640-yolo\\images\\train\\crossing_359.jpg: corrupt JPEG restored and saved\n",
      "\u001b[34m\u001b[1mtrain: \u001b[0mWARNING  C:\\code_ibre\\cassda_zertifikatsarbeit\\data\\combined_wildlife_poly_bridges_filtered_no_ch_640-yolo\\images\\train\\crossing_36.jpg: corrupt JPEG restored and saved\n",
      "\u001b[34m\u001b[1mtrain: \u001b[0mWARNING  C:\\code_ibre\\cassda_zertifikatsarbeit\\data\\combined_wildlife_poly_bridges_filtered_no_ch_640-yolo\\images\\train\\crossing_360.jpg: corrupt JPEG restored and saved\n",
      "\u001b[34m\u001b[1mtrain: \u001b[0mWARNING  C:\\code_ibre\\cassda_zertifikatsarbeit\\data\\combined_wildlife_poly_bridges_filtered_no_ch_640-yolo\\images\\train\\crossing_361.jpg: corrupt JPEG restored and saved\n",
      "\u001b[34m\u001b[1mtrain: \u001b[0mWARNING  C:\\code_ibre\\cassda_zertifikatsarbeit\\data\\combined_wildlife_poly_bridges_filtered_no_ch_640-yolo\\images\\train\\crossing_362.jpg: corrupt JPEG restored and saved\n",
      "\u001b[34m\u001b[1mtrain: \u001b[0mWARNING  C:\\code_ibre\\cassda_zertifikatsarbeit\\data\\combined_wildlife_poly_bridges_filtered_no_ch_640-yolo\\images\\train\\crossing_365.jpg: corrupt JPEG restored and saved\n",
      "\u001b[34m\u001b[1mtrain: \u001b[0mWARNING  C:\\code_ibre\\cassda_zertifikatsarbeit\\data\\combined_wildlife_poly_bridges_filtered_no_ch_640-yolo\\images\\train\\crossing_366.jpg: corrupt JPEG restored and saved\n",
      "\u001b[34m\u001b[1mtrain: \u001b[0mWARNING  C:\\code_ibre\\cassda_zertifikatsarbeit\\data\\combined_wildlife_poly_bridges_filtered_no_ch_640-yolo\\images\\train\\crossing_367.jpg: corrupt JPEG restored and saved\n",
      "\u001b[34m\u001b[1mtrain: \u001b[0mWARNING  C:\\code_ibre\\cassda_zertifikatsarbeit\\data\\combined_wildlife_poly_bridges_filtered_no_ch_640-yolo\\images\\train\\crossing_368.jpg: corrupt JPEG restored and saved\n",
      "\u001b[34m\u001b[1mtrain: \u001b[0mWARNING  C:\\code_ibre\\cassda_zertifikatsarbeit\\data\\combined_wildlife_poly_bridges_filtered_no_ch_640-yolo\\images\\train\\crossing_369.jpg: corrupt JPEG restored and saved\n",
      "\u001b[34m\u001b[1mtrain: \u001b[0mWARNING  C:\\code_ibre\\cassda_zertifikatsarbeit\\data\\combined_wildlife_poly_bridges_filtered_no_ch_640-yolo\\images\\train\\crossing_370.jpg: corrupt JPEG restored and saved\n",
      "\u001b[34m\u001b[1mtrain: \u001b[0mWARNING  C:\\code_ibre\\cassda_zertifikatsarbeit\\data\\combined_wildlife_poly_bridges_filtered_no_ch_640-yolo\\images\\train\\crossing_372.jpg: corrupt JPEG restored and saved\n",
      "\u001b[34m\u001b[1mtrain: \u001b[0mWARNING  C:\\code_ibre\\cassda_zertifikatsarbeit\\data\\combined_wildlife_poly_bridges_filtered_no_ch_640-yolo\\images\\train\\crossing_374.jpg: corrupt JPEG restored and saved\n",
      "\u001b[34m\u001b[1mtrain: \u001b[0mWARNING  C:\\code_ibre\\cassda_zertifikatsarbeit\\data\\combined_wildlife_poly_bridges_filtered_no_ch_640-yolo\\images\\train\\crossing_377.jpg: corrupt JPEG restored and saved\n",
      "\u001b[34m\u001b[1mtrain: \u001b[0mWARNING  C:\\code_ibre\\cassda_zertifikatsarbeit\\data\\combined_wildlife_poly_bridges_filtered_no_ch_640-yolo\\images\\train\\crossing_378.jpg: corrupt JPEG restored and saved\n",
      "\u001b[34m\u001b[1mtrain: \u001b[0mWARNING  C:\\code_ibre\\cassda_zertifikatsarbeit\\data\\combined_wildlife_poly_bridges_filtered_no_ch_640-yolo\\images\\train\\crossing_38.jpg: corrupt JPEG restored and saved\n",
      "\u001b[34m\u001b[1mtrain: \u001b[0mWARNING  C:\\code_ibre\\cassda_zertifikatsarbeit\\data\\combined_wildlife_poly_bridges_filtered_no_ch_640-yolo\\images\\train\\crossing_381.jpg: corrupt JPEG restored and saved\n",
      "\u001b[34m\u001b[1mtrain: \u001b[0mWARNING  C:\\code_ibre\\cassda_zertifikatsarbeit\\data\\combined_wildlife_poly_bridges_filtered_no_ch_640-yolo\\images\\train\\crossing_382.jpg: corrupt JPEG restored and saved\n",
      "\u001b[34m\u001b[1mtrain: \u001b[0mWARNING  C:\\code_ibre\\cassda_zertifikatsarbeit\\data\\combined_wildlife_poly_bridges_filtered_no_ch_640-yolo\\images\\train\\crossing_383.jpg: corrupt JPEG restored and saved\n",
      "\u001b[34m\u001b[1mtrain: \u001b[0mWARNING  C:\\code_ibre\\cassda_zertifikatsarbeit\\data\\combined_wildlife_poly_bridges_filtered_no_ch_640-yolo\\images\\train\\crossing_385.jpg: corrupt JPEG restored and saved\n",
      "\u001b[34m\u001b[1mtrain: \u001b[0mWARNING  C:\\code_ibre\\cassda_zertifikatsarbeit\\data\\combined_wildlife_poly_bridges_filtered_no_ch_640-yolo\\images\\train\\crossing_386.jpg: corrupt JPEG restored and saved\n",
      "\u001b[34m\u001b[1mtrain: \u001b[0mWARNING  C:\\code_ibre\\cassda_zertifikatsarbeit\\data\\combined_wildlife_poly_bridges_filtered_no_ch_640-yolo\\images\\train\\crossing_387.jpg: corrupt JPEG restored and saved\n",
      "\u001b[34m\u001b[1mtrain: \u001b[0mWARNING  C:\\code_ibre\\cassda_zertifikatsarbeit\\data\\combined_wildlife_poly_bridges_filtered_no_ch_640-yolo\\images\\train\\crossing_388.jpg: corrupt JPEG restored and saved\n",
      "\u001b[34m\u001b[1mtrain: \u001b[0mWARNING  C:\\code_ibre\\cassda_zertifikatsarbeit\\data\\combined_wildlife_poly_bridges_filtered_no_ch_640-yolo\\images\\train\\crossing_39.jpg: corrupt JPEG restored and saved\n",
      "\u001b[34m\u001b[1mtrain: \u001b[0mWARNING  C:\\code_ibre\\cassda_zertifikatsarbeit\\data\\combined_wildlife_poly_bridges_filtered_no_ch_640-yolo\\images\\train\\crossing_390.jpg: corrupt JPEG restored and saved\n",
      "\u001b[34m\u001b[1mtrain: \u001b[0mWARNING  C:\\code_ibre\\cassda_zertifikatsarbeit\\data\\combined_wildlife_poly_bridges_filtered_no_ch_640-yolo\\images\\train\\crossing_392.jpg: corrupt JPEG restored and saved\n",
      "\u001b[34m\u001b[1mtrain: \u001b[0mWARNING  C:\\code_ibre\\cassda_zertifikatsarbeit\\data\\combined_wildlife_poly_bridges_filtered_no_ch_640-yolo\\images\\train\\crossing_393.jpg: corrupt JPEG restored and saved\n",
      "\u001b[34m\u001b[1mtrain: \u001b[0mWARNING  C:\\code_ibre\\cassda_zertifikatsarbeit\\data\\combined_wildlife_poly_bridges_filtered_no_ch_640-yolo\\images\\train\\crossing_394.jpg: corrupt JPEG restored and saved\n",
      "\u001b[34m\u001b[1mtrain: \u001b[0mWARNING  C:\\code_ibre\\cassda_zertifikatsarbeit\\data\\combined_wildlife_poly_bridges_filtered_no_ch_640-yolo\\images\\train\\crossing_396.jpg: corrupt JPEG restored and saved\n",
      "\u001b[34m\u001b[1mtrain: \u001b[0mWARNING  C:\\code_ibre\\cassda_zertifikatsarbeit\\data\\combined_wildlife_poly_bridges_filtered_no_ch_640-yolo\\images\\train\\crossing_397.jpg: corrupt JPEG restored and saved\n",
      "\u001b[34m\u001b[1mtrain: \u001b[0mWARNING  C:\\code_ibre\\cassda_zertifikatsarbeit\\data\\combined_wildlife_poly_bridges_filtered_no_ch_640-yolo\\images\\train\\crossing_398.jpg: corrupt JPEG restored and saved\n",
      "\u001b[34m\u001b[1mtrain: \u001b[0mWARNING  C:\\code_ibre\\cassda_zertifikatsarbeit\\data\\combined_wildlife_poly_bridges_filtered_no_ch_640-yolo\\images\\train\\crossing_400.jpg: corrupt JPEG restored and saved\n",
      "\u001b[34m\u001b[1mtrain: \u001b[0mWARNING  C:\\code_ibre\\cassda_zertifikatsarbeit\\data\\combined_wildlife_poly_bridges_filtered_no_ch_640-yolo\\images\\train\\crossing_401.jpg: corrupt JPEG restored and saved\n",
      "\u001b[34m\u001b[1mtrain: \u001b[0mWARNING  C:\\code_ibre\\cassda_zertifikatsarbeit\\data\\combined_wildlife_poly_bridges_filtered_no_ch_640-yolo\\images\\train\\crossing_402.jpg: corrupt JPEG restored and saved\n",
      "\u001b[34m\u001b[1mtrain: \u001b[0mWARNING  C:\\code_ibre\\cassda_zertifikatsarbeit\\data\\combined_wildlife_poly_bridges_filtered_no_ch_640-yolo\\images\\train\\crossing_403.jpg: corrupt JPEG restored and saved\n",
      "\u001b[34m\u001b[1mtrain: \u001b[0mWARNING  C:\\code_ibre\\cassda_zertifikatsarbeit\\data\\combined_wildlife_poly_bridges_filtered_no_ch_640-yolo\\images\\train\\crossing_404.jpg: corrupt JPEG restored and saved\n",
      "\u001b[34m\u001b[1mtrain: \u001b[0mWARNING  C:\\code_ibre\\cassda_zertifikatsarbeit\\data\\combined_wildlife_poly_bridges_filtered_no_ch_640-yolo\\images\\train\\crossing_405.jpg: corrupt JPEG restored and saved\n",
      "\u001b[34m\u001b[1mtrain: \u001b[0mWARNING  C:\\code_ibre\\cassda_zertifikatsarbeit\\data\\combined_wildlife_poly_bridges_filtered_no_ch_640-yolo\\images\\train\\crossing_406.jpg: corrupt JPEG restored and saved\n",
      "\u001b[34m\u001b[1mtrain: \u001b[0mWARNING  C:\\code_ibre\\cassda_zertifikatsarbeit\\data\\combined_wildlife_poly_bridges_filtered_no_ch_640-yolo\\images\\train\\crossing_408.jpg: corrupt JPEG restored and saved\n",
      "\u001b[34m\u001b[1mtrain: \u001b[0mWARNING  C:\\code_ibre\\cassda_zertifikatsarbeit\\data\\combined_wildlife_poly_bridges_filtered_no_ch_640-yolo\\images\\train\\crossing_409.jpg: corrupt JPEG restored and saved\n",
      "\u001b[34m\u001b[1mtrain: \u001b[0mWARNING  C:\\code_ibre\\cassda_zertifikatsarbeit\\data\\combined_wildlife_poly_bridges_filtered_no_ch_640-yolo\\images\\train\\crossing_410.jpg: corrupt JPEG restored and saved\n",
      "\u001b[34m\u001b[1mtrain: \u001b[0mWARNING  C:\\code_ibre\\cassda_zertifikatsarbeit\\data\\combined_wildlife_poly_bridges_filtered_no_ch_640-yolo\\images\\train\\crossing_411.jpg: corrupt JPEG restored and saved\n",
      "\u001b[34m\u001b[1mtrain: \u001b[0mWARNING  C:\\code_ibre\\cassda_zertifikatsarbeit\\data\\combined_wildlife_poly_bridges_filtered_no_ch_640-yolo\\images\\train\\crossing_413.jpg: corrupt JPEG restored and saved\n",
      "\u001b[34m\u001b[1mtrain: \u001b[0mWARNING  C:\\code_ibre\\cassda_zertifikatsarbeit\\data\\combined_wildlife_poly_bridges_filtered_no_ch_640-yolo\\images\\train\\crossing_415.jpg: corrupt JPEG restored and saved\n",
      "\u001b[34m\u001b[1mtrain: \u001b[0mWARNING  C:\\code_ibre\\cassda_zertifikatsarbeit\\data\\combined_wildlife_poly_bridges_filtered_no_ch_640-yolo\\images\\train\\crossing_416.jpg: corrupt JPEG restored and saved\n",
      "\u001b[34m\u001b[1mtrain: \u001b[0mWARNING  C:\\code_ibre\\cassda_zertifikatsarbeit\\data\\combined_wildlife_poly_bridges_filtered_no_ch_640-yolo\\images\\train\\crossing_417.jpg: corrupt JPEG restored and saved\n",
      "\u001b[34m\u001b[1mtrain: \u001b[0mWARNING  C:\\code_ibre\\cassda_zertifikatsarbeit\\data\\combined_wildlife_poly_bridges_filtered_no_ch_640-yolo\\images\\train\\crossing_418.jpg: corrupt JPEG restored and saved\n",
      "\u001b[34m\u001b[1mtrain: \u001b[0mWARNING  C:\\code_ibre\\cassda_zertifikatsarbeit\\data\\combined_wildlife_poly_bridges_filtered_no_ch_640-yolo\\images\\train\\crossing_419.jpg: corrupt JPEG restored and saved\n",
      "\u001b[34m\u001b[1mtrain: \u001b[0mWARNING  C:\\code_ibre\\cassda_zertifikatsarbeit\\data\\combined_wildlife_poly_bridges_filtered_no_ch_640-yolo\\images\\train\\crossing_42.jpg: corrupt JPEG restored and saved\n",
      "\u001b[34m\u001b[1mtrain: \u001b[0mWARNING  C:\\code_ibre\\cassda_zertifikatsarbeit\\data\\combined_wildlife_poly_bridges_filtered_no_ch_640-yolo\\images\\train\\crossing_422.jpg: corrupt JPEG restored and saved\n",
      "\u001b[34m\u001b[1mtrain: \u001b[0mWARNING  C:\\code_ibre\\cassda_zertifikatsarbeit\\data\\combined_wildlife_poly_bridges_filtered_no_ch_640-yolo\\images\\train\\crossing_424.jpg: corrupt JPEG restored and saved\n",
      "\u001b[34m\u001b[1mtrain: \u001b[0mWARNING  C:\\code_ibre\\cassda_zertifikatsarbeit\\data\\combined_wildlife_poly_bridges_filtered_no_ch_640-yolo\\images\\train\\crossing_425.jpg: corrupt JPEG restored and saved\n",
      "\u001b[34m\u001b[1mtrain: \u001b[0mWARNING  C:\\code_ibre\\cassda_zertifikatsarbeit\\data\\combined_wildlife_poly_bridges_filtered_no_ch_640-yolo\\images\\train\\crossing_426.jpg: corrupt JPEG restored and saved\n",
      "\u001b[34m\u001b[1mtrain: \u001b[0mWARNING  C:\\code_ibre\\cassda_zertifikatsarbeit\\data\\combined_wildlife_poly_bridges_filtered_no_ch_640-yolo\\images\\train\\crossing_427.jpg: corrupt JPEG restored and saved\n",
      "\u001b[34m\u001b[1mtrain: \u001b[0mWARNING  C:\\code_ibre\\cassda_zertifikatsarbeit\\data\\combined_wildlife_poly_bridges_filtered_no_ch_640-yolo\\images\\train\\crossing_428.jpg: corrupt JPEG restored and saved\n",
      "\u001b[34m\u001b[1mtrain: \u001b[0mWARNING  C:\\code_ibre\\cassda_zertifikatsarbeit\\data\\combined_wildlife_poly_bridges_filtered_no_ch_640-yolo\\images\\train\\crossing_43.jpg: corrupt JPEG restored and saved\n",
      "\u001b[34m\u001b[1mtrain: \u001b[0mWARNING  C:\\code_ibre\\cassda_zertifikatsarbeit\\data\\combined_wildlife_poly_bridges_filtered_no_ch_640-yolo\\images\\train\\crossing_433.jpg: corrupt JPEG restored and saved\n",
      "\u001b[34m\u001b[1mtrain: \u001b[0mWARNING  C:\\code_ibre\\cassda_zertifikatsarbeit\\data\\combined_wildlife_poly_bridges_filtered_no_ch_640-yolo\\images\\train\\crossing_434.jpg: corrupt JPEG restored and saved\n",
      "\u001b[34m\u001b[1mtrain: \u001b[0mWARNING  C:\\code_ibre\\cassda_zertifikatsarbeit\\data\\combined_wildlife_poly_bridges_filtered_no_ch_640-yolo\\images\\train\\crossing_437.jpg: corrupt JPEG restored and saved\n",
      "\u001b[34m\u001b[1mtrain: \u001b[0mWARNING  C:\\code_ibre\\cassda_zertifikatsarbeit\\data\\combined_wildlife_poly_bridges_filtered_no_ch_640-yolo\\images\\train\\crossing_439.jpg: corrupt JPEG restored and saved\n",
      "\u001b[34m\u001b[1mtrain: \u001b[0mWARNING  C:\\code_ibre\\cassda_zertifikatsarbeit\\data\\combined_wildlife_poly_bridges_filtered_no_ch_640-yolo\\images\\train\\crossing_440.jpg: corrupt JPEG restored and saved\n",
      "\u001b[34m\u001b[1mtrain: \u001b[0mWARNING  C:\\code_ibre\\cassda_zertifikatsarbeit\\data\\combined_wildlife_poly_bridges_filtered_no_ch_640-yolo\\images\\train\\crossing_441.jpg: corrupt JPEG restored and saved\n",
      "\u001b[34m\u001b[1mtrain: \u001b[0mWARNING  C:\\code_ibre\\cassda_zertifikatsarbeit\\data\\combined_wildlife_poly_bridges_filtered_no_ch_640-yolo\\images\\train\\crossing_443.jpg: corrupt JPEG restored and saved\n",
      "\u001b[34m\u001b[1mtrain: \u001b[0mWARNING  C:\\code_ibre\\cassda_zertifikatsarbeit\\data\\combined_wildlife_poly_bridges_filtered_no_ch_640-yolo\\images\\train\\crossing_445.jpg: corrupt JPEG restored and saved\n",
      "\u001b[34m\u001b[1mtrain: \u001b[0mWARNING  C:\\code_ibre\\cassda_zertifikatsarbeit\\data\\combined_wildlife_poly_bridges_filtered_no_ch_640-yolo\\images\\train\\crossing_446.jpg: corrupt JPEG restored and saved\n",
      "\u001b[34m\u001b[1mtrain: \u001b[0mWARNING  C:\\code_ibre\\cassda_zertifikatsarbeit\\data\\combined_wildlife_poly_bridges_filtered_no_ch_640-yolo\\images\\train\\crossing_447.jpg: corrupt JPEG restored and saved\n",
      "\u001b[34m\u001b[1mtrain: \u001b[0mWARNING  C:\\code_ibre\\cassda_zertifikatsarbeit\\data\\combined_wildlife_poly_bridges_filtered_no_ch_640-yolo\\images\\train\\crossing_448.jpg: corrupt JPEG restored and saved\n",
      "\u001b[34m\u001b[1mtrain: \u001b[0mWARNING  C:\\code_ibre\\cassda_zertifikatsarbeit\\data\\combined_wildlife_poly_bridges_filtered_no_ch_640-yolo\\images\\train\\crossing_449.jpg: corrupt JPEG restored and saved\n",
      "\u001b[34m\u001b[1mtrain: \u001b[0mWARNING  C:\\code_ibre\\cassda_zertifikatsarbeit\\data\\combined_wildlife_poly_bridges_filtered_no_ch_640-yolo\\images\\train\\crossing_452.jpg: corrupt JPEG restored and saved\n",
      "\u001b[34m\u001b[1mtrain: \u001b[0mWARNING  C:\\code_ibre\\cassda_zertifikatsarbeit\\data\\combined_wildlife_poly_bridges_filtered_no_ch_640-yolo\\images\\train\\crossing_453.jpg: corrupt JPEG restored and saved\n",
      "\u001b[34m\u001b[1mtrain: \u001b[0mWARNING  C:\\code_ibre\\cassda_zertifikatsarbeit\\data\\combined_wildlife_poly_bridges_filtered_no_ch_640-yolo\\images\\train\\crossing_454.jpg: corrupt JPEG restored and saved\n",
      "\u001b[34m\u001b[1mtrain: \u001b[0mWARNING  C:\\code_ibre\\cassda_zertifikatsarbeit\\data\\combined_wildlife_poly_bridges_filtered_no_ch_640-yolo\\images\\train\\crossing_456.jpg: corrupt JPEG restored and saved\n",
      "\u001b[34m\u001b[1mtrain: \u001b[0mWARNING  C:\\code_ibre\\cassda_zertifikatsarbeit\\data\\combined_wildlife_poly_bridges_filtered_no_ch_640-yolo\\images\\train\\crossing_457.jpg: corrupt JPEG restored and saved\n",
      "\u001b[34m\u001b[1mtrain: \u001b[0mWARNING  C:\\code_ibre\\cassda_zertifikatsarbeit\\data\\combined_wildlife_poly_bridges_filtered_no_ch_640-yolo\\images\\train\\crossing_458.jpg: corrupt JPEG restored and saved\n",
      "\u001b[34m\u001b[1mtrain: \u001b[0mWARNING  C:\\code_ibre\\cassda_zertifikatsarbeit\\data\\combined_wildlife_poly_bridges_filtered_no_ch_640-yolo\\images\\train\\crossing_46.jpg: corrupt JPEG restored and saved\n",
      "\u001b[34m\u001b[1mtrain: \u001b[0mWARNING  C:\\code_ibre\\cassda_zertifikatsarbeit\\data\\combined_wildlife_poly_bridges_filtered_no_ch_640-yolo\\images\\train\\crossing_460.jpg: corrupt JPEG restored and saved\n",
      "\u001b[34m\u001b[1mtrain: \u001b[0mWARNING  C:\\code_ibre\\cassda_zertifikatsarbeit\\data\\combined_wildlife_poly_bridges_filtered_no_ch_640-yolo\\images\\train\\crossing_461.jpg: corrupt JPEG restored and saved\n",
      "\u001b[34m\u001b[1mtrain: \u001b[0mWARNING  C:\\code_ibre\\cassda_zertifikatsarbeit\\data\\combined_wildlife_poly_bridges_filtered_no_ch_640-yolo\\images\\train\\crossing_462.jpg: corrupt JPEG restored and saved\n",
      "\u001b[34m\u001b[1mtrain: \u001b[0mWARNING  C:\\code_ibre\\cassda_zertifikatsarbeit\\data\\combined_wildlife_poly_bridges_filtered_no_ch_640-yolo\\images\\train\\crossing_463.jpg: corrupt JPEG restored and saved\n",
      "\u001b[34m\u001b[1mtrain: \u001b[0mWARNING  C:\\code_ibre\\cassda_zertifikatsarbeit\\data\\combined_wildlife_poly_bridges_filtered_no_ch_640-yolo\\images\\train\\crossing_466.jpg: corrupt JPEG restored and saved\n",
      "\u001b[34m\u001b[1mtrain: \u001b[0mWARNING  C:\\code_ibre\\cassda_zertifikatsarbeit\\data\\combined_wildlife_poly_bridges_filtered_no_ch_640-yolo\\images\\train\\crossing_467.jpg: corrupt JPEG restored and saved\n",
      "\u001b[34m\u001b[1mtrain: \u001b[0mWARNING  C:\\code_ibre\\cassda_zertifikatsarbeit\\data\\combined_wildlife_poly_bridges_filtered_no_ch_640-yolo\\images\\train\\crossing_47.jpg: corrupt JPEG restored and saved\n",
      "\u001b[34m\u001b[1mtrain: \u001b[0mWARNING  C:\\code_ibre\\cassda_zertifikatsarbeit\\data\\combined_wildlife_poly_bridges_filtered_no_ch_640-yolo\\images\\train\\crossing_49.jpg: corrupt JPEG restored and saved\n",
      "\u001b[34m\u001b[1mtrain: \u001b[0mWARNING  C:\\code_ibre\\cassda_zertifikatsarbeit\\data\\combined_wildlife_poly_bridges_filtered_no_ch_640-yolo\\images\\train\\crossing_5.jpg: corrupt JPEG restored and saved\n",
      "\u001b[34m\u001b[1mtrain: \u001b[0mWARNING  C:\\code_ibre\\cassda_zertifikatsarbeit\\data\\combined_wildlife_poly_bridges_filtered_no_ch_640-yolo\\images\\train\\crossing_50.jpg: corrupt JPEG restored and saved\n",
      "\u001b[34m\u001b[1mtrain: \u001b[0mWARNING  C:\\code_ibre\\cassda_zertifikatsarbeit\\data\\combined_wildlife_poly_bridges_filtered_no_ch_640-yolo\\images\\train\\crossing_52.jpg: corrupt JPEG restored and saved\n",
      "\u001b[34m\u001b[1mtrain: \u001b[0mWARNING  C:\\code_ibre\\cassda_zertifikatsarbeit\\data\\combined_wildlife_poly_bridges_filtered_no_ch_640-yolo\\images\\train\\crossing_54.jpg: corrupt JPEG restored and saved\n",
      "\u001b[34m\u001b[1mtrain: \u001b[0mWARNING  C:\\code_ibre\\cassda_zertifikatsarbeit\\data\\combined_wildlife_poly_bridges_filtered_no_ch_640-yolo\\images\\train\\crossing_59.jpg: corrupt JPEG restored and saved\n",
      "\u001b[34m\u001b[1mtrain: \u001b[0mWARNING  C:\\code_ibre\\cassda_zertifikatsarbeit\\data\\combined_wildlife_poly_bridges_filtered_no_ch_640-yolo\\images\\train\\crossing_6.jpg: corrupt JPEG restored and saved\n",
      "\u001b[34m\u001b[1mtrain: \u001b[0mWARNING  C:\\code_ibre\\cassda_zertifikatsarbeit\\data\\combined_wildlife_poly_bridges_filtered_no_ch_640-yolo\\images\\train\\crossing_61.jpg: corrupt JPEG restored and saved\n",
      "\u001b[34m\u001b[1mtrain: \u001b[0mWARNING  C:\\code_ibre\\cassda_zertifikatsarbeit\\data\\combined_wildlife_poly_bridges_filtered_no_ch_640-yolo\\images\\train\\crossing_62.jpg: corrupt JPEG restored and saved\n",
      "\u001b[34m\u001b[1mtrain: \u001b[0mWARNING  C:\\code_ibre\\cassda_zertifikatsarbeit\\data\\combined_wildlife_poly_bridges_filtered_no_ch_640-yolo\\images\\train\\crossing_64.jpg: corrupt JPEG restored and saved\n",
      "\u001b[34m\u001b[1mtrain: \u001b[0mWARNING  C:\\code_ibre\\cassda_zertifikatsarbeit\\data\\combined_wildlife_poly_bridges_filtered_no_ch_640-yolo\\images\\train\\crossing_65.jpg: corrupt JPEG restored and saved\n",
      "\u001b[34m\u001b[1mtrain: \u001b[0mWARNING  C:\\code_ibre\\cassda_zertifikatsarbeit\\data\\combined_wildlife_poly_bridges_filtered_no_ch_640-yolo\\images\\train\\crossing_66.jpg: corrupt JPEG restored and saved\n",
      "\u001b[34m\u001b[1mtrain: \u001b[0mWARNING  C:\\code_ibre\\cassda_zertifikatsarbeit\\data\\combined_wildlife_poly_bridges_filtered_no_ch_640-yolo\\images\\train\\crossing_67.jpg: corrupt JPEG restored and saved\n",
      "\u001b[34m\u001b[1mtrain: \u001b[0mWARNING  C:\\code_ibre\\cassda_zertifikatsarbeit\\data\\combined_wildlife_poly_bridges_filtered_no_ch_640-yolo\\images\\train\\crossing_69.jpg: corrupt JPEG restored and saved\n",
      "\u001b[34m\u001b[1mtrain: \u001b[0mWARNING  C:\\code_ibre\\cassda_zertifikatsarbeit\\data\\combined_wildlife_poly_bridges_filtered_no_ch_640-yolo\\images\\train\\crossing_7.jpg: corrupt JPEG restored and saved\n",
      "\u001b[34m\u001b[1mtrain: \u001b[0mWARNING  C:\\code_ibre\\cassda_zertifikatsarbeit\\data\\combined_wildlife_poly_bridges_filtered_no_ch_640-yolo\\images\\train\\crossing_71.jpg: corrupt JPEG restored and saved\n",
      "\u001b[34m\u001b[1mtrain: \u001b[0mWARNING  C:\\code_ibre\\cassda_zertifikatsarbeit\\data\\combined_wildlife_poly_bridges_filtered_no_ch_640-yolo\\images\\train\\crossing_72.jpg: corrupt JPEG restored and saved\n",
      "\u001b[34m\u001b[1mtrain: \u001b[0mWARNING  C:\\code_ibre\\cassda_zertifikatsarbeit\\data\\combined_wildlife_poly_bridges_filtered_no_ch_640-yolo\\images\\train\\crossing_73.jpg: corrupt JPEG restored and saved\n",
      "\u001b[34m\u001b[1mtrain: \u001b[0mWARNING  C:\\code_ibre\\cassda_zertifikatsarbeit\\data\\combined_wildlife_poly_bridges_filtered_no_ch_640-yolo\\images\\train\\crossing_74.jpg: corrupt JPEG restored and saved\n",
      "\u001b[34m\u001b[1mtrain: \u001b[0mWARNING  C:\\code_ibre\\cassda_zertifikatsarbeit\\data\\combined_wildlife_poly_bridges_filtered_no_ch_640-yolo\\images\\train\\crossing_75.jpg: corrupt JPEG restored and saved\n",
      "\u001b[34m\u001b[1mtrain: \u001b[0mWARNING  C:\\code_ibre\\cassda_zertifikatsarbeit\\data\\combined_wildlife_poly_bridges_filtered_no_ch_640-yolo\\images\\train\\crossing_76.jpg: corrupt JPEG restored and saved\n",
      "\u001b[34m\u001b[1mtrain: \u001b[0mWARNING  C:\\code_ibre\\cassda_zertifikatsarbeit\\data\\combined_wildlife_poly_bridges_filtered_no_ch_640-yolo\\images\\train\\crossing_77.jpg: corrupt JPEG restored and saved\n",
      "\u001b[34m\u001b[1mtrain: \u001b[0mWARNING  C:\\code_ibre\\cassda_zertifikatsarbeit\\data\\combined_wildlife_poly_bridges_filtered_no_ch_640-yolo\\images\\train\\crossing_78.jpg: corrupt JPEG restored and saved\n",
      "\u001b[34m\u001b[1mtrain: \u001b[0mWARNING  C:\\code_ibre\\cassda_zertifikatsarbeit\\data\\combined_wildlife_poly_bridges_filtered_no_ch_640-yolo\\images\\train\\crossing_79.jpg: corrupt JPEG restored and saved\n",
      "\u001b[34m\u001b[1mtrain: \u001b[0mWARNING  C:\\code_ibre\\cassda_zertifikatsarbeit\\data\\combined_wildlife_poly_bridges_filtered_no_ch_640-yolo\\images\\train\\crossing_8.jpg: corrupt JPEG restored and saved\n",
      "\u001b[34m\u001b[1mtrain: \u001b[0mWARNING  C:\\code_ibre\\cassda_zertifikatsarbeit\\data\\combined_wildlife_poly_bridges_filtered_no_ch_640-yolo\\images\\train\\crossing_80.jpg: corrupt JPEG restored and saved\n",
      "\u001b[34m\u001b[1mtrain: \u001b[0mWARNING  C:\\code_ibre\\cassda_zertifikatsarbeit\\data\\combined_wildlife_poly_bridges_filtered_no_ch_640-yolo\\images\\train\\crossing_82.jpg: corrupt JPEG restored and saved\n",
      "\u001b[34m\u001b[1mtrain: \u001b[0mWARNING  C:\\code_ibre\\cassda_zertifikatsarbeit\\data\\combined_wildlife_poly_bridges_filtered_no_ch_640-yolo\\images\\train\\crossing_85.jpg: corrupt JPEG restored and saved\n",
      "\u001b[34m\u001b[1mtrain: \u001b[0mWARNING  C:\\code_ibre\\cassda_zertifikatsarbeit\\data\\combined_wildlife_poly_bridges_filtered_no_ch_640-yolo\\images\\train\\crossing_87.jpg: corrupt JPEG restored and saved\n",
      "\u001b[34m\u001b[1mtrain: \u001b[0mWARNING  C:\\code_ibre\\cassda_zertifikatsarbeit\\data\\combined_wildlife_poly_bridges_filtered_no_ch_640-yolo\\images\\train\\crossing_88.jpg: corrupt JPEG restored and saved\n",
      "\u001b[34m\u001b[1mtrain: \u001b[0mWARNING  C:\\code_ibre\\cassda_zertifikatsarbeit\\data\\combined_wildlife_poly_bridges_filtered_no_ch_640-yolo\\images\\train\\crossing_89.jpg: corrupt JPEG restored and saved\n",
      "\u001b[34m\u001b[1mtrain: \u001b[0mWARNING  C:\\code_ibre\\cassda_zertifikatsarbeit\\data\\combined_wildlife_poly_bridges_filtered_no_ch_640-yolo\\images\\train\\crossing_9.jpg: corrupt JPEG restored and saved\n",
      "\u001b[34m\u001b[1mtrain: \u001b[0mWARNING  C:\\code_ibre\\cassda_zertifikatsarbeit\\data\\combined_wildlife_poly_bridges_filtered_no_ch_640-yolo\\images\\train\\crossing_90.jpg: corrupt JPEG restored and saved\n",
      "\u001b[34m\u001b[1mtrain: \u001b[0mWARNING  C:\\code_ibre\\cassda_zertifikatsarbeit\\data\\combined_wildlife_poly_bridges_filtered_no_ch_640-yolo\\images\\train\\crossing_92.jpg: corrupt JPEG restored and saved\n",
      "\u001b[34m\u001b[1mtrain: \u001b[0mWARNING  C:\\code_ibre\\cassda_zertifikatsarbeit\\data\\combined_wildlife_poly_bridges_filtered_no_ch_640-yolo\\images\\train\\crossing_93.jpg: corrupt JPEG restored and saved\n",
      "\u001b[34m\u001b[1mtrain: \u001b[0mWARNING  C:\\code_ibre\\cassda_zertifikatsarbeit\\data\\combined_wildlife_poly_bridges_filtered_no_ch_640-yolo\\images\\train\\crossing_95.jpg: corrupt JPEG restored and saved\n",
      "\u001b[34m\u001b[1mtrain: \u001b[0mWARNING  C:\\code_ibre\\cassda_zertifikatsarbeit\\data\\combined_wildlife_poly_bridges_filtered_no_ch_640-yolo\\images\\train\\crossing_96.jpg: corrupt JPEG restored and saved\n",
      "\u001b[34m\u001b[1mtrain: \u001b[0mWARNING  C:\\code_ibre\\cassda_zertifikatsarbeit\\data\\combined_wildlife_poly_bridges_filtered_no_ch_640-yolo\\images\\train\\crossing_98.jpg: corrupt JPEG restored and saved\n",
      "\u001b[34m\u001b[1mtrain: \u001b[0mWARNING  C:\\code_ibre\\cassda_zertifikatsarbeit\\data\\combined_wildlife_poly_bridges_filtered_no_ch_640-yolo\\images\\train\\crossing_99.jpg: corrupt JPEG restored and saved\n"
     ]
    },
    {
     "name": "stderr",
     "output_type": "stream",
     "text": [
      "\n"
     ]
    },
    {
     "name": "stdout",
     "output_type": "stream",
     "text": [
      "\u001b[34m\u001b[1malbumentations: \u001b[0mBlur(p=0.01, blur_limit=(3, 7)), MedianBlur(p=0.01, blur_limit=(3, 7)), ToGray(p=0.01, method='weighted_average', num_output_channels=3), CLAHE(p=0.01, clip_limit=(1.0, 4.0), tile_grid_size=(8, 8))\n"
     ]
    },
    {
     "name": "stderr",
     "output_type": "stream",
     "text": [
      "c:\\code_ibre\\cassda_zertifikatsarbeit\\.venv\\Lib\\site-packages\\ultralytics\\data\\augment.py:1850: UserWarning: Argument(s) 'quality_lower' are not valid for transform ImageCompression\n",
      "  A.ImageCompression(quality_lower=75, p=0.0),\n",
      "\u001b[34m\u001b[1mval: \u001b[0mScanning C:\\code_ibre\\cassda_zertifikatsarbeit\\data\\combined_wildlife_poly_bridges_filtered_no_ch_640-yolo\\labels\\val.cache... 82 images, 12 backgrounds, 0 corrupt: 100%|██████████| 82/82 [00:00<?, ?it/s]"
     ]
    },
    {
     "name": "stdout",
     "output_type": "stream",
     "text": [
      "\u001b[34m\u001b[1mval: \u001b[0mWARNING  C:\\code_ibre\\cassda_zertifikatsarbeit\\data\\combined_wildlife_poly_bridges_filtered_no_ch_640-yolo\\images\\val\\4028592_2923854_4029872_2925134.jpg: corrupt JPEG restored and saved\n",
      "\u001b[34m\u001b[1mval: \u001b[0mWARNING  C:\\code_ibre\\cassda_zertifikatsarbeit\\data\\combined_wildlife_poly_bridges_filtered_no_ch_640-yolo\\images\\val\\4030103_2698404_4031383_2699684.jpg: corrupt JPEG restored and saved\n",
      "\u001b[34m\u001b[1mval: \u001b[0mWARNING  C:\\code_ibre\\cassda_zertifikatsarbeit\\data\\combined_wildlife_poly_bridges_filtered_no_ch_640-yolo\\images\\val\\4033737_2868285_4035017_2869565.jpg: corrupt JPEG restored and saved\n",
      "\u001b[34m\u001b[1mval: \u001b[0mWARNING  C:\\code_ibre\\cassda_zertifikatsarbeit\\data\\combined_wildlife_poly_bridges_filtered_no_ch_640-yolo\\images\\val\\4037112_3238281_4038392_3239561.jpg: corrupt JPEG restored and saved\n",
      "\u001b[34m\u001b[1mval: \u001b[0mWARNING  C:\\code_ibre\\cassda_zertifikatsarbeit\\data\\combined_wildlife_poly_bridges_filtered_no_ch_640-yolo\\images\\val\\4038013_2837738_4039293_2839018.jpg: corrupt JPEG restored and saved\n",
      "\u001b[34m\u001b[1mval: \u001b[0mWARNING  C:\\code_ibre\\cassda_zertifikatsarbeit\\data\\combined_wildlife_poly_bridges_filtered_no_ch_640-yolo\\images\\val\\4039036_3124831_4040316_3126111.jpg: corrupt JPEG restored and saved\n",
      "\u001b[34m\u001b[1mval: \u001b[0mWARNING  C:\\code_ibre\\cassda_zertifikatsarbeit\\data\\combined_wildlife_poly_bridges_filtered_no_ch_640-yolo\\images\\val\\4039064_2841534_4040344_2842814.jpg: corrupt JPEG restored and saved\n",
      "\u001b[34m\u001b[1mval: \u001b[0mWARNING  C:\\code_ibre\\cassda_zertifikatsarbeit\\data\\combined_wildlife_poly_bridges_filtered_no_ch_640-yolo\\images\\val\\4039704_2964394_4040984_2965674.jpg: corrupt JPEG restored and saved\n",
      "\u001b[34m\u001b[1mval: \u001b[0mWARNING  C:\\code_ibre\\cassda_zertifikatsarbeit\\data\\combined_wildlife_poly_bridges_filtered_no_ch_640-yolo\\images\\val\\4041020_2840408_4042300_2841688.jpg: corrupt JPEG restored and saved\n",
      "\u001b[34m\u001b[1mval: \u001b[0mWARNING  C:\\code_ibre\\cassda_zertifikatsarbeit\\data\\combined_wildlife_poly_bridges_filtered_no_ch_640-yolo\\images\\val\\4043738_3328358_4045018_3329638.jpg: corrupt JPEG restored and saved\n",
      "\u001b[34m\u001b[1mval: \u001b[0mWARNING  C:\\code_ibre\\cassda_zertifikatsarbeit\\data\\combined_wildlife_poly_bridges_filtered_no_ch_640-yolo\\images\\val\\4043823_2949631_4045103_2950911.jpg: corrupt JPEG restored and saved\n",
      "\u001b[34m\u001b[1mval: \u001b[0mWARNING  C:\\code_ibre\\cassda_zertifikatsarbeit\\data\\combined_wildlife_poly_bridges_filtered_no_ch_640-yolo\\images\\val\\4044017_2840288_4045297_2841568.jpg: corrupt JPEG restored and saved\n",
      "\u001b[34m\u001b[1mval: \u001b[0mWARNING  C:\\code_ibre\\cassda_zertifikatsarbeit\\data\\combined_wildlife_poly_bridges_filtered_no_ch_640-yolo\\images\\val\\crossing_108.jpg: corrupt JPEG restored and saved\n",
      "\u001b[34m\u001b[1mval: \u001b[0mWARNING  C:\\code_ibre\\cassda_zertifikatsarbeit\\data\\combined_wildlife_poly_bridges_filtered_no_ch_640-yolo\\images\\val\\crossing_110.jpg: corrupt JPEG restored and saved\n",
      "\u001b[34m\u001b[1mval: \u001b[0mWARNING  C:\\code_ibre\\cassda_zertifikatsarbeit\\data\\combined_wildlife_poly_bridges_filtered_no_ch_640-yolo\\images\\val\\crossing_112.jpg: corrupt JPEG restored and saved\n",
      "\u001b[34m\u001b[1mval: \u001b[0mWARNING  C:\\code_ibre\\cassda_zertifikatsarbeit\\data\\combined_wildlife_poly_bridges_filtered_no_ch_640-yolo\\images\\val\\crossing_138.jpg: corrupt JPEG restored and saved\n",
      "\u001b[34m\u001b[1mval: \u001b[0mWARNING  C:\\code_ibre\\cassda_zertifikatsarbeit\\data\\combined_wildlife_poly_bridges_filtered_no_ch_640-yolo\\images\\val\\crossing_143.jpg: corrupt JPEG restored and saved\n",
      "\u001b[34m\u001b[1mval: \u001b[0mWARNING  C:\\code_ibre\\cassda_zertifikatsarbeit\\data\\combined_wildlife_poly_bridges_filtered_no_ch_640-yolo\\images\\val\\crossing_144.jpg: corrupt JPEG restored and saved\n",
      "\u001b[34m\u001b[1mval: \u001b[0mWARNING  C:\\code_ibre\\cassda_zertifikatsarbeit\\data\\combined_wildlife_poly_bridges_filtered_no_ch_640-yolo\\images\\val\\crossing_147.jpg: corrupt JPEG restored and saved\n",
      "\u001b[34m\u001b[1mval: \u001b[0mWARNING  C:\\code_ibre\\cassda_zertifikatsarbeit\\data\\combined_wildlife_poly_bridges_filtered_no_ch_640-yolo\\images\\val\\crossing_150.jpg: corrupt JPEG restored and saved\n",
      "\u001b[34m\u001b[1mval: \u001b[0mWARNING  C:\\code_ibre\\cassda_zertifikatsarbeit\\data\\combined_wildlife_poly_bridges_filtered_no_ch_640-yolo\\images\\val\\crossing_163.jpg: corrupt JPEG restored and saved\n",
      "\u001b[34m\u001b[1mval: \u001b[0mWARNING  C:\\code_ibre\\cassda_zertifikatsarbeit\\data\\combined_wildlife_poly_bridges_filtered_no_ch_640-yolo\\images\\val\\crossing_169.jpg: corrupt JPEG restored and saved\n",
      "\u001b[34m\u001b[1mval: \u001b[0mWARNING  C:\\code_ibre\\cassda_zertifikatsarbeit\\data\\combined_wildlife_poly_bridges_filtered_no_ch_640-yolo\\images\\val\\crossing_177.jpg: corrupt JPEG restored and saved\n",
      "\u001b[34m\u001b[1mval: \u001b[0mWARNING  C:\\code_ibre\\cassda_zertifikatsarbeit\\data\\combined_wildlife_poly_bridges_filtered_no_ch_640-yolo\\images\\val\\crossing_183.jpg: corrupt JPEG restored and saved\n",
      "\u001b[34m\u001b[1mval: \u001b[0mWARNING  C:\\code_ibre\\cassda_zertifikatsarbeit\\data\\combined_wildlife_poly_bridges_filtered_no_ch_640-yolo\\images\\val\\crossing_191.jpg: corrupt JPEG restored and saved\n",
      "\u001b[34m\u001b[1mval: \u001b[0mWARNING  C:\\code_ibre\\cassda_zertifikatsarbeit\\data\\combined_wildlife_poly_bridges_filtered_no_ch_640-yolo\\images\\val\\crossing_202.jpg: corrupt JPEG restored and saved\n",
      "\u001b[34m\u001b[1mval: \u001b[0mWARNING  C:\\code_ibre\\cassda_zertifikatsarbeit\\data\\combined_wildlife_poly_bridges_filtered_no_ch_640-yolo\\images\\val\\crossing_208.jpg: corrupt JPEG restored and saved\n",
      "\u001b[34m\u001b[1mval: \u001b[0mWARNING  C:\\code_ibre\\cassda_zertifikatsarbeit\\data\\combined_wildlife_poly_bridges_filtered_no_ch_640-yolo\\images\\val\\crossing_209.jpg: corrupt JPEG restored and saved\n",
      "\u001b[34m\u001b[1mval: \u001b[0mWARNING  C:\\code_ibre\\cassda_zertifikatsarbeit\\data\\combined_wildlife_poly_bridges_filtered_no_ch_640-yolo\\images\\val\\crossing_213.jpg: corrupt JPEG restored and saved\n",
      "\u001b[34m\u001b[1mval: \u001b[0mWARNING  C:\\code_ibre\\cassda_zertifikatsarbeit\\data\\combined_wildlife_poly_bridges_filtered_no_ch_640-yolo\\images\\val\\crossing_214.jpg: corrupt JPEG restored and saved\n",
      "\u001b[34m\u001b[1mval: \u001b[0mWARNING  C:\\code_ibre\\cassda_zertifikatsarbeit\\data\\combined_wildlife_poly_bridges_filtered_no_ch_640-yolo\\images\\val\\crossing_216.jpg: corrupt JPEG restored and saved\n",
      "\u001b[34m\u001b[1mval: \u001b[0mWARNING  C:\\code_ibre\\cassda_zertifikatsarbeit\\data\\combined_wildlife_poly_bridges_filtered_no_ch_640-yolo\\images\\val\\crossing_217.jpg: corrupt JPEG restored and saved\n",
      "\u001b[34m\u001b[1mval: \u001b[0mWARNING  C:\\code_ibre\\cassda_zertifikatsarbeit\\data\\combined_wildlife_poly_bridges_filtered_no_ch_640-yolo\\images\\val\\crossing_221.jpg: corrupt JPEG restored and saved\n",
      "\u001b[34m\u001b[1mval: \u001b[0mWARNING  C:\\code_ibre\\cassda_zertifikatsarbeit\\data\\combined_wildlife_poly_bridges_filtered_no_ch_640-yolo\\images\\val\\crossing_226.jpg: corrupt JPEG restored and saved\n",
      "\u001b[34m\u001b[1mval: \u001b[0mWARNING  C:\\code_ibre\\cassda_zertifikatsarbeit\\data\\combined_wildlife_poly_bridges_filtered_no_ch_640-yolo\\images\\val\\crossing_23.jpg: corrupt JPEG restored and saved\n",
      "\u001b[34m\u001b[1mval: \u001b[0mWARNING  C:\\code_ibre\\cassda_zertifikatsarbeit\\data\\combined_wildlife_poly_bridges_filtered_no_ch_640-yolo\\images\\val\\crossing_235.jpg: corrupt JPEG restored and saved\n",
      "\u001b[34m\u001b[1mval: \u001b[0mWARNING  C:\\code_ibre\\cassda_zertifikatsarbeit\\data\\combined_wildlife_poly_bridges_filtered_no_ch_640-yolo\\images\\val\\crossing_239.jpg: corrupt JPEG restored and saved\n",
      "\u001b[34m\u001b[1mval: \u001b[0mWARNING  C:\\code_ibre\\cassda_zertifikatsarbeit\\data\\combined_wildlife_poly_bridges_filtered_no_ch_640-yolo\\images\\val\\crossing_249.jpg: corrupt JPEG restored and saved\n",
      "\u001b[34m\u001b[1mval: \u001b[0mWARNING  C:\\code_ibre\\cassda_zertifikatsarbeit\\data\\combined_wildlife_poly_bridges_filtered_no_ch_640-yolo\\images\\val\\crossing_251.jpg: corrupt JPEG restored and saved\n",
      "\u001b[34m\u001b[1mval: \u001b[0mWARNING  C:\\code_ibre\\cassda_zertifikatsarbeit\\data\\combined_wildlife_poly_bridges_filtered_no_ch_640-yolo\\images\\val\\crossing_253.jpg: corrupt JPEG restored and saved\n",
      "\u001b[34m\u001b[1mval: \u001b[0mWARNING  C:\\code_ibre\\cassda_zertifikatsarbeit\\data\\combined_wildlife_poly_bridges_filtered_no_ch_640-yolo\\images\\val\\crossing_257.jpg: corrupt JPEG restored and saved\n",
      "\u001b[34m\u001b[1mval: \u001b[0mWARNING  C:\\code_ibre\\cassda_zertifikatsarbeit\\data\\combined_wildlife_poly_bridges_filtered_no_ch_640-yolo\\images\\val\\crossing_263.jpg: corrupt JPEG restored and saved\n",
      "\u001b[34m\u001b[1mval: \u001b[0mWARNING  C:\\code_ibre\\cassda_zertifikatsarbeit\\data\\combined_wildlife_poly_bridges_filtered_no_ch_640-yolo\\images\\val\\crossing_274.jpg: corrupt JPEG restored and saved\n",
      "\u001b[34m\u001b[1mval: \u001b[0mWARNING  C:\\code_ibre\\cassda_zertifikatsarbeit\\data\\combined_wildlife_poly_bridges_filtered_no_ch_640-yolo\\images\\val\\crossing_277.jpg: corrupt JPEG restored and saved\n",
      "\u001b[34m\u001b[1mval: \u001b[0mWARNING  C:\\code_ibre\\cassda_zertifikatsarbeit\\data\\combined_wildlife_poly_bridges_filtered_no_ch_640-yolo\\images\\val\\crossing_282.jpg: corrupt JPEG restored and saved\n",
      "\u001b[34m\u001b[1mval: \u001b[0mWARNING  C:\\code_ibre\\cassda_zertifikatsarbeit\\data\\combined_wildlife_poly_bridges_filtered_no_ch_640-yolo\\images\\val\\crossing_286.jpg: corrupt JPEG restored and saved\n",
      "\u001b[34m\u001b[1mval: \u001b[0mWARNING  C:\\code_ibre\\cassda_zertifikatsarbeit\\data\\combined_wildlife_poly_bridges_filtered_no_ch_640-yolo\\images\\val\\crossing_289.jpg: corrupt JPEG restored and saved\n",
      "\u001b[34m\u001b[1mval: \u001b[0mWARNING  C:\\code_ibre\\cassda_zertifikatsarbeit\\data\\combined_wildlife_poly_bridges_filtered_no_ch_640-yolo\\images\\val\\crossing_293.jpg: corrupt JPEG restored and saved\n",
      "\u001b[34m\u001b[1mval: \u001b[0mWARNING  C:\\code_ibre\\cassda_zertifikatsarbeit\\data\\combined_wildlife_poly_bridges_filtered_no_ch_640-yolo\\images\\val\\crossing_316.jpg: corrupt JPEG restored and saved\n",
      "\u001b[34m\u001b[1mval: \u001b[0mWARNING  C:\\code_ibre\\cassda_zertifikatsarbeit\\data\\combined_wildlife_poly_bridges_filtered_no_ch_640-yolo\\images\\val\\crossing_317.jpg: corrupt JPEG restored and saved\n",
      "\u001b[34m\u001b[1mval: \u001b[0mWARNING  C:\\code_ibre\\cassda_zertifikatsarbeit\\data\\combined_wildlife_poly_bridges_filtered_no_ch_640-yolo\\images\\val\\crossing_326.jpg: corrupt JPEG restored and saved\n",
      "\u001b[34m\u001b[1mval: \u001b[0mWARNING  C:\\code_ibre\\cassda_zertifikatsarbeit\\data\\combined_wildlife_poly_bridges_filtered_no_ch_640-yolo\\images\\val\\crossing_332.jpg: corrupt JPEG restored and saved\n",
      "\u001b[34m\u001b[1mval: \u001b[0mWARNING  C:\\code_ibre\\cassda_zertifikatsarbeit\\data\\combined_wildlife_poly_bridges_filtered_no_ch_640-yolo\\images\\val\\crossing_339.jpg: corrupt JPEG restored and saved\n",
      "\u001b[34m\u001b[1mval: \u001b[0mWARNING  C:\\code_ibre\\cassda_zertifikatsarbeit\\data\\combined_wildlife_poly_bridges_filtered_no_ch_640-yolo\\images\\val\\crossing_345.jpg: corrupt JPEG restored and saved\n",
      "\u001b[34m\u001b[1mval: \u001b[0mWARNING  C:\\code_ibre\\cassda_zertifikatsarbeit\\data\\combined_wildlife_poly_bridges_filtered_no_ch_640-yolo\\images\\val\\crossing_363.jpg: corrupt JPEG restored and saved\n",
      "\u001b[34m\u001b[1mval: \u001b[0mWARNING  C:\\code_ibre\\cassda_zertifikatsarbeit\\data\\combined_wildlife_poly_bridges_filtered_no_ch_640-yolo\\images\\val\\crossing_364.jpg: corrupt JPEG restored and saved\n",
      "\u001b[34m\u001b[1mval: \u001b[0mWARNING  C:\\code_ibre\\cassda_zertifikatsarbeit\\data\\combined_wildlife_poly_bridges_filtered_no_ch_640-yolo\\images\\val\\crossing_375.jpg: corrupt JPEG restored and saved\n",
      "\u001b[34m\u001b[1mval: \u001b[0mWARNING  C:\\code_ibre\\cassda_zertifikatsarbeit\\data\\combined_wildlife_poly_bridges_filtered_no_ch_640-yolo\\images\\val\\crossing_376.jpg: corrupt JPEG restored and saved\n",
      "\u001b[34m\u001b[1mval: \u001b[0mWARNING  C:\\code_ibre\\cassda_zertifikatsarbeit\\data\\combined_wildlife_poly_bridges_filtered_no_ch_640-yolo\\images\\val\\crossing_379.jpg: corrupt JPEG restored and saved\n",
      "\u001b[34m\u001b[1mval: \u001b[0mWARNING  C:\\code_ibre\\cassda_zertifikatsarbeit\\data\\combined_wildlife_poly_bridges_filtered_no_ch_640-yolo\\images\\val\\crossing_380.jpg: corrupt JPEG restored and saved\n",
      "\u001b[34m\u001b[1mval: \u001b[0mWARNING  C:\\code_ibre\\cassda_zertifikatsarbeit\\data\\combined_wildlife_poly_bridges_filtered_no_ch_640-yolo\\images\\val\\crossing_389.jpg: corrupt JPEG restored and saved\n",
      "\u001b[34m\u001b[1mval: \u001b[0mWARNING  C:\\code_ibre\\cassda_zertifikatsarbeit\\data\\combined_wildlife_poly_bridges_filtered_no_ch_640-yolo\\images\\val\\crossing_391.jpg: corrupt JPEG restored and saved\n",
      "\u001b[34m\u001b[1mval: \u001b[0mWARNING  C:\\code_ibre\\cassda_zertifikatsarbeit\\data\\combined_wildlife_poly_bridges_filtered_no_ch_640-yolo\\images\\val\\crossing_399.jpg: corrupt JPEG restored and saved\n",
      "\u001b[34m\u001b[1mval: \u001b[0mWARNING  C:\\code_ibre\\cassda_zertifikatsarbeit\\data\\combined_wildlife_poly_bridges_filtered_no_ch_640-yolo\\images\\val\\crossing_4.jpg: corrupt JPEG restored and saved\n",
      "\u001b[34m\u001b[1mval: \u001b[0mWARNING  C:\\code_ibre\\cassda_zertifikatsarbeit\\data\\combined_wildlife_poly_bridges_filtered_no_ch_640-yolo\\images\\val\\crossing_412.jpg: corrupt JPEG restored and saved\n",
      "\u001b[34m\u001b[1mval: \u001b[0mWARNING  C:\\code_ibre\\cassda_zertifikatsarbeit\\data\\combined_wildlife_poly_bridges_filtered_no_ch_640-yolo\\images\\val\\crossing_420.jpg: corrupt JPEG restored and saved\n",
      "\u001b[34m\u001b[1mval: \u001b[0mWARNING  C:\\code_ibre\\cassda_zertifikatsarbeit\\data\\combined_wildlife_poly_bridges_filtered_no_ch_640-yolo\\images\\val\\crossing_429.jpg: corrupt JPEG restored and saved\n",
      "\u001b[34m\u001b[1mval: \u001b[0mWARNING  C:\\code_ibre\\cassda_zertifikatsarbeit\\data\\combined_wildlife_poly_bridges_filtered_no_ch_640-yolo\\images\\val\\crossing_430.jpg: corrupt JPEG restored and saved\n",
      "\u001b[34m\u001b[1mval: \u001b[0mWARNING  C:\\code_ibre\\cassda_zertifikatsarbeit\\data\\combined_wildlife_poly_bridges_filtered_no_ch_640-yolo\\images\\val\\crossing_44.jpg: corrupt JPEG restored and saved\n",
      "\u001b[34m\u001b[1mval: \u001b[0mWARNING  C:\\code_ibre\\cassda_zertifikatsarbeit\\data\\combined_wildlife_poly_bridges_filtered_no_ch_640-yolo\\images\\val\\crossing_444.jpg: corrupt JPEG restored and saved\n",
      "\u001b[34m\u001b[1mval: \u001b[0mWARNING  C:\\code_ibre\\cassda_zertifikatsarbeit\\data\\combined_wildlife_poly_bridges_filtered_no_ch_640-yolo\\images\\val\\crossing_455.jpg: corrupt JPEG restored and saved\n",
      "\u001b[34m\u001b[1mval: \u001b[0mWARNING  C:\\code_ibre\\cassda_zertifikatsarbeit\\data\\combined_wildlife_poly_bridges_filtered_no_ch_640-yolo\\images\\val\\crossing_464.jpg: corrupt JPEG restored and saved\n",
      "\u001b[34m\u001b[1mval: \u001b[0mWARNING  C:\\code_ibre\\cassda_zertifikatsarbeit\\data\\combined_wildlife_poly_bridges_filtered_no_ch_640-yolo\\images\\val\\crossing_468.jpg: corrupt JPEG restored and saved\n",
      "\u001b[34m\u001b[1mval: \u001b[0mWARNING  C:\\code_ibre\\cassda_zertifikatsarbeit\\data\\combined_wildlife_poly_bridges_filtered_no_ch_640-yolo\\images\\val\\crossing_48.jpg: corrupt JPEG restored and saved\n",
      "\u001b[34m\u001b[1mval: \u001b[0mWARNING  C:\\code_ibre\\cassda_zertifikatsarbeit\\data\\combined_wildlife_poly_bridges_filtered_no_ch_640-yolo\\images\\val\\crossing_51.jpg: corrupt JPEG restored and saved\n",
      "\u001b[34m\u001b[1mval: \u001b[0mWARNING  C:\\code_ibre\\cassda_zertifikatsarbeit\\data\\combined_wildlife_poly_bridges_filtered_no_ch_640-yolo\\images\\val\\crossing_53.jpg: corrupt JPEG restored and saved\n",
      "\u001b[34m\u001b[1mval: \u001b[0mWARNING  C:\\code_ibre\\cassda_zertifikatsarbeit\\data\\combined_wildlife_poly_bridges_filtered_no_ch_640-yolo\\images\\val\\crossing_57.jpg: corrupt JPEG restored and saved\n",
      "\u001b[34m\u001b[1mval: \u001b[0mWARNING  C:\\code_ibre\\cassda_zertifikatsarbeit\\data\\combined_wildlife_poly_bridges_filtered_no_ch_640-yolo\\images\\val\\crossing_58.jpg: corrupt JPEG restored and saved\n",
      "\u001b[34m\u001b[1mval: \u001b[0mWARNING  C:\\code_ibre\\cassda_zertifikatsarbeit\\data\\combined_wildlife_poly_bridges_filtered_no_ch_640-yolo\\images\\val\\crossing_68.jpg: corrupt JPEG restored and saved\n",
      "\u001b[34m\u001b[1mval: \u001b[0mWARNING  C:\\code_ibre\\cassda_zertifikatsarbeit\\data\\combined_wildlife_poly_bridges_filtered_no_ch_640-yolo\\images\\val\\crossing_70.jpg: corrupt JPEG restored and saved\n",
      "\u001b[34m\u001b[1mval: \u001b[0mWARNING  C:\\code_ibre\\cassda_zertifikatsarbeit\\data\\combined_wildlife_poly_bridges_filtered_no_ch_640-yolo\\images\\val\\crossing_83.jpg: corrupt JPEG restored and saved\n",
      "\u001b[34m\u001b[1mval: \u001b[0mWARNING  C:\\code_ibre\\cassda_zertifikatsarbeit\\data\\combined_wildlife_poly_bridges_filtered_no_ch_640-yolo\\images\\val\\crossing_84.jpg: corrupt JPEG restored and saved\n"
     ]
    },
    {
     "name": "stderr",
     "output_type": "stream",
     "text": [
      "\n"
     ]
    },
    {
     "name": "stdout",
     "output_type": "stream",
     "text": [
      "Plotting labels to cassda-wildlife-crossing\\yolo11n-obb-wildlife_bridges-filtered-dataset-no-CH-negatives-640\\labels.jpg... \n",
      "\u001b[34m\u001b[1moptimizer:\u001b[0m 'optimizer=auto' found, ignoring 'lr0=0.01' and 'momentum=0.937' and determining best 'optimizer', 'lr0' and 'momentum' automatically... \n",
      "\u001b[34m\u001b[1moptimizer:\u001b[0m AdamW(lr=0.002, momentum=0.9) with parameter groups 87 weight(decay=0.0), 97 weight(decay=0.0005), 96 bias(decay=0.0)\n",
      "Image sizes 640 train, 640 val\n",
      "Using 8 dataloader workers\n",
      "Logging results to \u001b[1mcassda-wildlife-crossing\\yolo11n-obb-wildlife_bridges-filtered-dataset-no-CH-negatives-640\u001b[0m\n",
      "Starting training for 1000 epochs...\n",
      "\n",
      "      Epoch    GPU_mem   box_loss   cls_loss   dfl_loss  Instances       Size\n"
     ]
    },
    {
     "name": "stderr",
     "output_type": "stream",
     "text": [
      "     1/1000       2.5G      2.382      11.34      1.935          2        640: 100%|██████████| 25/25 [00:24<00:00,  1.04it/s]\n",
      "                 Class     Images  Instances      Box(P          R      mAP50  mAP50-95):  17%|█▋        | 1/6 [00:04<00:23,  4.75s/it]"
     ]
    },
    {
     "name": "stdout",
     "output_type": "stream",
     "text": [
      "WARNING  NMS time limit 2.800s exceeded\n"
     ]
    },
    {
     "name": "stderr",
     "output_type": "stream",
     "text": [
      "                 Class     Images  Instances      Box(P          R      mAP50  mAP50-95):  33%|███▎      | 2/6 [00:20<00:43, 10.99s/it]"
     ]
    },
    {
     "name": "stdout",
     "output_type": "stream",
     "text": [
      "WARNING  NMS time limit 2.800s exceeded\n"
     ]
    },
    {
     "name": "stderr",
     "output_type": "stream",
     "text": [
      "                 Class     Images  Instances      Box(P          R      mAP50  mAP50-95):  50%|█████     | 3/6 [00:30<00:31, 10.66s/it]"
     ]
    },
    {
     "name": "stdout",
     "output_type": "stream",
     "text": [
      "WARNING  NMS time limit 2.800s exceeded\n"
     ]
    },
    {
     "name": "stderr",
     "output_type": "stream",
     "text": [
      "                 Class     Images  Instances      Box(P          R      mAP50  mAP50-95):  67%|██████▋   | 4/6 [00:41<00:21, 10.91s/it]"
     ]
    },
    {
     "name": "stdout",
     "output_type": "stream",
     "text": [
      "WARNING  NMS time limit 2.800s exceeded\n"
     ]
    },
    {
     "name": "stderr",
     "output_type": "stream",
     "text": [
      "                 Class     Images  Instances      Box(P          R      mAP50  mAP50-95): 100%|██████████| 6/6 [00:56<00:00,  9.45s/it]"
     ]
    },
    {
     "name": "stdout",
     "output_type": "stream",
     "text": [
      "                   all         82         70      0.345      0.166      0.165     0.0576\n"
     ]
    },
    {
     "name": "stderr",
     "output_type": "stream",
     "text": [
      "\n"
     ]
    },
    {
     "name": "stdout",
     "output_type": "stream",
     "text": [
      "\n",
      "      Epoch    GPU_mem   box_loss   cls_loss   dfl_loss  Instances       Size\n"
     ]
    },
    {
     "name": "stderr",
     "output_type": "stream",
     "text": [
      "     2/1000      2.49G      1.824      4.469       1.45          2        640: 100%|██████████| 25/25 [00:05<00:00,  4.29it/s]\n",
      "                 Class     Images  Instances      Box(P          R      mAP50  mAP50-95): 100%|██████████| 6/6 [00:01<00:00,  3.29it/s]"
     ]
    },
    {
     "name": "stdout",
     "output_type": "stream",
     "text": [
      "                   all         82         70      0.556      0.686      0.572      0.314\n"
     ]
    },
    {
     "name": "stderr",
     "output_type": "stream",
     "text": [
      "\n"
     ]
    },
    {
     "name": "stdout",
     "output_type": "stream",
     "text": [
      "\n",
      "      Epoch    GPU_mem   box_loss   cls_loss   dfl_loss  Instances       Size\n"
     ]
    },
    {
     "name": "stderr",
     "output_type": "stream",
     "text": [
      "     3/1000      2.51G       1.72      2.261      1.722          3        640: 100%|██████████| 25/25 [00:05<00:00,  4.33it/s]\n",
      "                 Class     Images  Instances      Box(P          R      mAP50  mAP50-95): 100%|██████████| 6/6 [00:00<00:00,  6.41it/s]"
     ]
    },
    {
     "name": "stdout",
     "output_type": "stream",
     "text": [
      "                   all         82         70      0.764      0.714      0.723      0.376\n"
     ]
    },
    {
     "name": "stderr",
     "output_type": "stream",
     "text": [
      "\n"
     ]
    },
    {
     "name": "stdout",
     "output_type": "stream",
     "text": [
      "\n",
      "      Epoch    GPU_mem   box_loss   cls_loss   dfl_loss  Instances       Size\n"
     ]
    },
    {
     "name": "stderr",
     "output_type": "stream",
     "text": [
      "     4/1000       2.5G      1.699      1.678       1.58          2        640: 100%|██████████| 25/25 [00:05<00:00,  4.41it/s]\n",
      "                 Class     Images  Instances      Box(P          R      mAP50  mAP50-95): 100%|██████████| 6/6 [00:00<00:00,  6.06it/s]"
     ]
    },
    {
     "name": "stdout",
     "output_type": "stream",
     "text": [
      "                   all         82         70      0.892      0.824      0.843      0.447\n"
     ]
    },
    {
     "name": "stderr",
     "output_type": "stream",
     "text": [
      "\n"
     ]
    },
    {
     "name": "stdout",
     "output_type": "stream",
     "text": [
      "\n",
      "      Epoch    GPU_mem   box_loss   cls_loss   dfl_loss  Instances       Size\n"
     ]
    },
    {
     "name": "stderr",
     "output_type": "stream",
     "text": [
      "     5/1000      2.49G      1.687      1.296      1.612          3        640: 100%|██████████| 25/25 [00:05<00:00,  4.46it/s]\n",
      "                 Class     Images  Instances      Box(P          R      mAP50  mAP50-95): 100%|██████████| 6/6 [00:00<00:00,  6.27it/s]"
     ]
    },
    {
     "name": "stdout",
     "output_type": "stream",
     "text": [
      "                   all         82         70      0.815      0.879      0.867      0.437\n"
     ]
    },
    {
     "name": "stderr",
     "output_type": "stream",
     "text": [
      "\n"
     ]
    },
    {
     "name": "stdout",
     "output_type": "stream",
     "text": [
      "\n",
      "      Epoch    GPU_mem   box_loss   cls_loss   dfl_loss  Instances       Size\n"
     ]
    },
    {
     "name": "stderr",
     "output_type": "stream",
     "text": [
      "     6/1000      2.51G      1.691       1.23      1.665          3        640: 100%|██████████| 25/25 [00:05<00:00,  4.46it/s]\n",
      "                 Class     Images  Instances      Box(P          R      mAP50  mAP50-95): 100%|██████████| 6/6 [00:01<00:00,  5.98it/s]"
     ]
    },
    {
     "name": "stdout",
     "output_type": "stream",
     "text": [
      "                   all         82         70      0.852      0.771       0.79      0.404\n"
     ]
    },
    {
     "name": "stderr",
     "output_type": "stream",
     "text": [
      "\n"
     ]
    },
    {
     "name": "stdout",
     "output_type": "stream",
     "text": [
      "\n",
      "      Epoch    GPU_mem   box_loss   cls_loss   dfl_loss  Instances       Size\n"
     ]
    },
    {
     "name": "stderr",
     "output_type": "stream",
     "text": [
      "     7/1000       2.5G      1.621      1.153      1.598          5        640: 100%|██████████| 25/25 [00:05<00:00,  4.53it/s]\n",
      "                 Class     Images  Instances      Box(P          R      mAP50  mAP50-95): 100%|██████████| 6/6 [00:00<00:00,  6.31it/s]"
     ]
    },
    {
     "name": "stdout",
     "output_type": "stream",
     "text": [
      "                   all         82         70      0.829      0.729      0.821      0.423\n"
     ]
    },
    {
     "name": "stderr",
     "output_type": "stream",
     "text": [
      "\n"
     ]
    },
    {
     "name": "stdout",
     "output_type": "stream",
     "text": [
      "\n",
      "      Epoch    GPU_mem   box_loss   cls_loss   dfl_loss  Instances       Size\n"
     ]
    },
    {
     "name": "stderr",
     "output_type": "stream",
     "text": [
      "     8/1000       2.5G      1.692      1.165      1.615          3        640: 100%|██████████| 25/25 [00:05<00:00,  4.47it/s]\n",
      "                 Class     Images  Instances      Box(P          R      mAP50  mAP50-95): 100%|██████████| 6/6 [00:01<00:00,  5.62it/s]"
     ]
    },
    {
     "name": "stdout",
     "output_type": "stream",
     "text": [
      "                   all         82         70      0.886      0.774      0.846      0.425\n"
     ]
    },
    {
     "name": "stderr",
     "output_type": "stream",
     "text": [
      "\n"
     ]
    },
    {
     "name": "stdout",
     "output_type": "stream",
     "text": [
      "\n",
      "      Epoch    GPU_mem   box_loss   cls_loss   dfl_loss  Instances       Size\n"
     ]
    },
    {
     "name": "stderr",
     "output_type": "stream",
     "text": [
      "     9/1000      2.49G      1.675      1.184      1.704          3        640: 100%|██████████| 25/25 [00:05<00:00,  4.50it/s]\n",
      "                 Class     Images  Instances      Box(P          R      mAP50  mAP50-95): 100%|██████████| 6/6 [00:00<00:00,  6.36it/s]"
     ]
    },
    {
     "name": "stdout",
     "output_type": "stream",
     "text": [
      "                   all         82         70      0.774      0.714      0.773      0.396\n"
     ]
    },
    {
     "name": "stderr",
     "output_type": "stream",
     "text": [
      "\n"
     ]
    },
    {
     "name": "stdout",
     "output_type": "stream",
     "text": [
      "\n",
      "      Epoch    GPU_mem   box_loss   cls_loss   dfl_loss  Instances       Size\n"
     ]
    },
    {
     "name": "stderr",
     "output_type": "stream",
     "text": [
      "    10/1000       2.5G      1.692      1.189      1.623          1        640: 100%|██████████| 25/25 [00:05<00:00,  4.52it/s]\n",
      "                 Class     Images  Instances      Box(P          R      mAP50  mAP50-95): 100%|██████████| 6/6 [00:00<00:00,  6.33it/s]"
     ]
    },
    {
     "name": "stdout",
     "output_type": "stream",
     "text": [
      "                   all         82         70      0.828        0.9      0.883      0.471\n"
     ]
    },
    {
     "name": "stderr",
     "output_type": "stream",
     "text": [
      "\n"
     ]
    },
    {
     "name": "stdout",
     "output_type": "stream",
     "text": [
      "\n",
      "      Epoch    GPU_mem   box_loss   cls_loss   dfl_loss  Instances       Size\n"
     ]
    },
    {
     "name": "stderr",
     "output_type": "stream",
     "text": [
      "    11/1000       2.5G      1.605      1.072      1.564          3        640: 100%|██████████| 25/25 [00:05<00:00,  4.46it/s]\n",
      "                 Class     Images  Instances      Box(P          R      mAP50  mAP50-95): 100%|██████████| 6/6 [00:00<00:00,  6.57it/s]"
     ]
    },
    {
     "name": "stdout",
     "output_type": "stream",
     "text": [
      "                   all         82         70      0.866      0.843      0.845      0.439\n"
     ]
    },
    {
     "name": "stderr",
     "output_type": "stream",
     "text": [
      "\n"
     ]
    },
    {
     "name": "stdout",
     "output_type": "stream",
     "text": [
      "\n",
      "      Epoch    GPU_mem   box_loss   cls_loss   dfl_loss  Instances       Size\n"
     ]
    },
    {
     "name": "stderr",
     "output_type": "stream",
     "text": [
      "    12/1000       2.5G      1.662      1.085      1.663          7        640: 100%|██████████| 25/25 [00:05<00:00,  4.45it/s]\n",
      "                 Class     Images  Instances      Box(P          R      mAP50  mAP50-95): 100%|██████████| 6/6 [00:00<00:00,  6.45it/s]"
     ]
    },
    {
     "name": "stdout",
     "output_type": "stream",
     "text": [
      "                   all         82         70      0.845      0.914      0.912       0.48\n"
     ]
    },
    {
     "name": "stderr",
     "output_type": "stream",
     "text": [
      "\n"
     ]
    },
    {
     "name": "stdout",
     "output_type": "stream",
     "text": [
      "\n",
      "      Epoch    GPU_mem   box_loss   cls_loss   dfl_loss  Instances       Size\n"
     ]
    },
    {
     "name": "stderr",
     "output_type": "stream",
     "text": [
      "    13/1000      2.49G      1.619      1.057       1.63          3        640: 100%|██████████| 25/25 [00:05<00:00,  4.48it/s]\n",
      "                 Class     Images  Instances      Box(P          R      mAP50  mAP50-95): 100%|██████████| 6/6 [00:00<00:00,  6.32it/s]"
     ]
    },
    {
     "name": "stdout",
     "output_type": "stream",
     "text": [
      "                   all         82         70      0.889      0.799      0.849      0.477\n"
     ]
    },
    {
     "name": "stderr",
     "output_type": "stream",
     "text": [
      "\n"
     ]
    },
    {
     "name": "stdout",
     "output_type": "stream",
     "text": [
      "\n",
      "      Epoch    GPU_mem   box_loss   cls_loss   dfl_loss  Instances       Size\n"
     ]
    },
    {
     "name": "stderr",
     "output_type": "stream",
     "text": [
      "    14/1000       2.5G      1.667      1.072       1.61          2        640: 100%|██████████| 25/25 [00:05<00:00,  4.46it/s]\n",
      "                 Class     Images  Instances      Box(P          R      mAP50  mAP50-95): 100%|██████████| 6/6 [00:00<00:00,  6.43it/s]"
     ]
    },
    {
     "name": "stdout",
     "output_type": "stream",
     "text": [
      "                   all         82         70      0.891      0.786      0.878      0.497\n"
     ]
    },
    {
     "name": "stderr",
     "output_type": "stream",
     "text": [
      "\n"
     ]
    },
    {
     "name": "stdout",
     "output_type": "stream",
     "text": [
      "\n",
      "      Epoch    GPU_mem   box_loss   cls_loss   dfl_loss  Instances       Size\n"
     ]
    },
    {
     "name": "stderr",
     "output_type": "stream",
     "text": [
      "    15/1000       2.5G      1.555      1.009      1.509          3        640: 100%|██████████| 25/25 [00:05<00:00,  4.47it/s]\n",
      "                 Class     Images  Instances      Box(P          R      mAP50  mAP50-95): 100%|██████████| 6/6 [00:01<00:00,  5.96it/s]"
     ]
    },
    {
     "name": "stdout",
     "output_type": "stream",
     "text": [
      "                   all         82         70      0.841      0.771      0.844      0.482\n"
     ]
    },
    {
     "name": "stderr",
     "output_type": "stream",
     "text": [
      "\n"
     ]
    },
    {
     "name": "stdout",
     "output_type": "stream",
     "text": [
      "\n",
      "      Epoch    GPU_mem   box_loss   cls_loss   dfl_loss  Instances       Size\n"
     ]
    },
    {
     "name": "stderr",
     "output_type": "stream",
     "text": [
      "    16/1000       2.5G      1.554      0.981      1.529          2        640: 100%|██████████| 25/25 [00:05<00:00,  4.41it/s]\n",
      "                 Class     Images  Instances      Box(P          R      mAP50  mAP50-95): 100%|██████████| 6/6 [00:00<00:00,  6.52it/s]"
     ]
    },
    {
     "name": "stdout",
     "output_type": "stream",
     "text": [
      "                   all         82         70      0.902      0.791      0.863       0.47\n"
     ]
    },
    {
     "name": "stderr",
     "output_type": "stream",
     "text": [
      "\n"
     ]
    },
    {
     "name": "stdout",
     "output_type": "stream",
     "text": [
      "\n",
      "      Epoch    GPU_mem   box_loss   cls_loss   dfl_loss  Instances       Size\n"
     ]
    },
    {
     "name": "stderr",
     "output_type": "stream",
     "text": [
      "    17/1000      2.49G      1.569      1.033      1.466          3        640: 100%|██████████| 25/25 [00:05<00:00,  4.54it/s]\n",
      "                 Class     Images  Instances      Box(P          R      mAP50  mAP50-95): 100%|██████████| 6/6 [00:00<00:00,  6.40it/s]"
     ]
    },
    {
     "name": "stdout",
     "output_type": "stream",
     "text": [
      "                   all         82         70      0.851      0.896      0.886      0.488\n"
     ]
    },
    {
     "name": "stderr",
     "output_type": "stream",
     "text": [
      "\n"
     ]
    },
    {
     "name": "stdout",
     "output_type": "stream",
     "text": [
      "\n",
      "      Epoch    GPU_mem   box_loss   cls_loss   dfl_loss  Instances       Size\n"
     ]
    },
    {
     "name": "stderr",
     "output_type": "stream",
     "text": [
      "    18/1000       2.5G      1.468     0.9352      1.512          1        640: 100%|██████████| 25/25 [00:05<00:00,  4.49it/s]\n",
      "                 Class     Images  Instances      Box(P          R      mAP50  mAP50-95): 100%|██████████| 6/6 [00:00<00:00,  6.27it/s]"
     ]
    },
    {
     "name": "stdout",
     "output_type": "stream",
     "text": [
      "                   all         82         70       0.91      0.886      0.929      0.536\n"
     ]
    },
    {
     "name": "stderr",
     "output_type": "stream",
     "text": [
      "\n"
     ]
    },
    {
     "name": "stdout",
     "output_type": "stream",
     "text": [
      "\n",
      "      Epoch    GPU_mem   box_loss   cls_loss   dfl_loss  Instances       Size\n"
     ]
    },
    {
     "name": "stderr",
     "output_type": "stream",
     "text": [
      "    19/1000       2.5G      1.517     0.9372      1.486          5        640: 100%|██████████| 25/25 [00:05<00:00,  4.48it/s]\n",
      "                 Class     Images  Instances      Box(P          R      mAP50  mAP50-95): 100%|██████████| 6/6 [00:00<00:00,  6.17it/s]"
     ]
    },
    {
     "name": "stdout",
     "output_type": "stream",
     "text": [
      "                   all         82         70      0.872      0.873      0.888      0.494\n"
     ]
    },
    {
     "name": "stderr",
     "output_type": "stream",
     "text": [
      "\n"
     ]
    },
    {
     "name": "stdout",
     "output_type": "stream",
     "text": [
      "\n",
      "      Epoch    GPU_mem   box_loss   cls_loss   dfl_loss  Instances       Size\n"
     ]
    },
    {
     "name": "stderr",
     "output_type": "stream",
     "text": [
      "    20/1000       2.5G      1.536      1.014      1.547          2        640: 100%|██████████| 25/25 [00:05<00:00,  4.47it/s]\n",
      "                 Class     Images  Instances      Box(P          R      mAP50  mAP50-95): 100%|██████████| 6/6 [00:01<00:00,  5.77it/s]"
     ]
    },
    {
     "name": "stdout",
     "output_type": "stream",
     "text": [
      "                   all         82         70      0.874        0.9      0.889      0.459\n"
     ]
    },
    {
     "name": "stderr",
     "output_type": "stream",
     "text": [
      "\n"
     ]
    },
    {
     "name": "stdout",
     "output_type": "stream",
     "text": [
      "\n",
      "      Epoch    GPU_mem   box_loss   cls_loss   dfl_loss  Instances       Size\n"
     ]
    },
    {
     "name": "stderr",
     "output_type": "stream",
     "text": [
      "    21/1000      2.49G      1.628     0.9889      1.649          2        640: 100%|██████████| 25/25 [00:05<00:00,  4.49it/s]\n",
      "                 Class     Images  Instances      Box(P          R      mAP50  mAP50-95): 100%|██████████| 6/6 [00:00<00:00,  6.06it/s]"
     ]
    },
    {
     "name": "stdout",
     "output_type": "stream",
     "text": [
      "                   all         82         70       0.91      0.867      0.893      0.479\n"
     ]
    },
    {
     "name": "stderr",
     "output_type": "stream",
     "text": [
      "\n"
     ]
    },
    {
     "name": "stdout",
     "output_type": "stream",
     "text": [
      "\n",
      "      Epoch    GPU_mem   box_loss   cls_loss   dfl_loss  Instances       Size\n"
     ]
    },
    {
     "name": "stderr",
     "output_type": "stream",
     "text": [
      "    22/1000       2.5G      1.546     0.9448      1.593          5        640: 100%|██████████| 25/25 [00:05<00:00,  4.52it/s]\n",
      "                 Class     Images  Instances      Box(P          R      mAP50  mAP50-95): 100%|██████████| 6/6 [00:00<00:00,  6.09it/s]"
     ]
    },
    {
     "name": "stdout",
     "output_type": "stream",
     "text": [
      "                   all         82         70      0.901      0.871      0.873      0.469\n"
     ]
    },
    {
     "name": "stderr",
     "output_type": "stream",
     "text": [
      "\n"
     ]
    },
    {
     "name": "stdout",
     "output_type": "stream",
     "text": [
      "\n",
      "      Epoch    GPU_mem   box_loss   cls_loss   dfl_loss  Instances       Size\n"
     ]
    },
    {
     "name": "stderr",
     "output_type": "stream",
     "text": [
      "    23/1000       2.5G      1.511     0.9061      1.509          4        640: 100%|██████████| 25/25 [00:05<00:00,  4.46it/s]\n",
      "                 Class     Images  Instances      Box(P          R      mAP50  mAP50-95): 100%|██████████| 6/6 [00:00<00:00,  6.03it/s]"
     ]
    },
    {
     "name": "stdout",
     "output_type": "stream",
     "text": [
      "                   all         82         70      0.867      0.829      0.881      0.488\n"
     ]
    },
    {
     "name": "stderr",
     "output_type": "stream",
     "text": [
      "\n"
     ]
    },
    {
     "name": "stdout",
     "output_type": "stream",
     "text": [
      "\n",
      "      Epoch    GPU_mem   box_loss   cls_loss   dfl_loss  Instances       Size\n"
     ]
    },
    {
     "name": "stderr",
     "output_type": "stream",
     "text": [
      "    24/1000       2.5G      1.544     0.9826      1.511          1        640: 100%|██████████| 25/25 [00:05<00:00,  4.49it/s]\n",
      "                 Class     Images  Instances      Box(P          R      mAP50  mAP50-95): 100%|██████████| 6/6 [00:00<00:00,  6.08it/s]"
     ]
    },
    {
     "name": "stdout",
     "output_type": "stream",
     "text": [
      "                   all         82         70      0.855      0.871      0.853      0.424\n"
     ]
    },
    {
     "name": "stderr",
     "output_type": "stream",
     "text": [
      "\n"
     ]
    },
    {
     "name": "stdout",
     "output_type": "stream",
     "text": [
      "\n",
      "      Epoch    GPU_mem   box_loss   cls_loss   dfl_loss  Instances       Size\n"
     ]
    },
    {
     "name": "stderr",
     "output_type": "stream",
     "text": [
      "    25/1000      2.49G      1.497     0.9514      1.521          3        640: 100%|██████████| 25/25 [00:05<00:00,  4.44it/s]\n",
      "                 Class     Images  Instances      Box(P          R      mAP50  mAP50-95): 100%|██████████| 6/6 [00:00<00:00,  6.34it/s]"
     ]
    },
    {
     "name": "stdout",
     "output_type": "stream",
     "text": [
      "                   all         82         70      0.818      0.929      0.867      0.445\n"
     ]
    },
    {
     "name": "stderr",
     "output_type": "stream",
     "text": [
      "\n"
     ]
    },
    {
     "name": "stdout",
     "output_type": "stream",
     "text": [
      "\n",
      "      Epoch    GPU_mem   box_loss   cls_loss   dfl_loss  Instances       Size\n"
     ]
    },
    {
     "name": "stderr",
     "output_type": "stream",
     "text": [
      "    26/1000       2.5G      1.528     0.9415      1.498          3        640: 100%|██████████| 25/25 [00:05<00:00,  4.44it/s]\n",
      "                 Class     Images  Instances      Box(P          R      mAP50  mAP50-95): 100%|██████████| 6/6 [00:00<00:00,  6.17it/s]"
     ]
    },
    {
     "name": "stdout",
     "output_type": "stream",
     "text": [
      "                   all         82         70       0.91      0.914      0.922       0.45\n"
     ]
    },
    {
     "name": "stderr",
     "output_type": "stream",
     "text": [
      "\n"
     ]
    },
    {
     "name": "stdout",
     "output_type": "stream",
     "text": [
      "\n",
      "      Epoch    GPU_mem   box_loss   cls_loss   dfl_loss  Instances       Size\n"
     ]
    },
    {
     "name": "stderr",
     "output_type": "stream",
     "text": [
      "    27/1000       2.5G      1.506     0.9234      1.521          3        640: 100%|██████████| 25/25 [00:05<00:00,  4.52it/s]\n",
      "                 Class     Images  Instances      Box(P          R      mAP50  mAP50-95): 100%|██████████| 6/6 [00:00<00:00,  6.37it/s]"
     ]
    },
    {
     "name": "stdout",
     "output_type": "stream",
     "text": [
      "                   all         82         70      0.863        0.9      0.883      0.509\n"
     ]
    },
    {
     "name": "stderr",
     "output_type": "stream",
     "text": [
      "\n"
     ]
    },
    {
     "name": "stdout",
     "output_type": "stream",
     "text": [
      "\n",
      "      Epoch    GPU_mem   box_loss   cls_loss   dfl_loss  Instances       Size\n"
     ]
    },
    {
     "name": "stderr",
     "output_type": "stream",
     "text": [
      "    28/1000       2.5G      1.444      1.002      1.472          1        640: 100%|██████████| 25/25 [00:05<00:00,  4.47it/s]\n",
      "                 Class     Images  Instances      Box(P          R      mAP50  mAP50-95): 100%|██████████| 6/6 [00:00<00:00,  6.48it/s]"
     ]
    },
    {
     "name": "stdout",
     "output_type": "stream",
     "text": [
      "                   all         82         70      0.887      0.895      0.895      0.486\n",
      "\u001b[34m\u001b[1mEarlyStopping: \u001b[0mTraining stopped early as no improvement observed in last 10 epochs. Best results observed at epoch 18, best model saved as best.pt.\n",
      "To update EarlyStopping(patience=10) pass a new patience value, i.e. `patience=300` or use `patience=0` to disable EarlyStopping.\n"
     ]
    },
    {
     "name": "stderr",
     "output_type": "stream",
     "text": [
      "\n"
     ]
    },
    {
     "name": "stdout",
     "output_type": "stream",
     "text": [
      "\n",
      "28 epochs completed in 0.078 hours.\n",
      "Optimizer stripped from cassda-wildlife-crossing\\yolo11n-obb-wildlife_bridges-filtered-dataset-no-CH-negatives-640\\weights\\last.pt, 5.7MB\n",
      "Optimizer stripped from cassda-wildlife-crossing\\yolo11n-obb-wildlife_bridges-filtered-dataset-no-CH-negatives-640\\weights\\best.pt, 5.7MB\n",
      "\n",
      "Validating cassda-wildlife-crossing\\yolo11n-obb-wildlife_bridges-filtered-dataset-no-CH-negatives-640\\weights\\best.pt...\n",
      "Ultralytics 8.3.40  Python-3.13.3 torch-2.9.0+cu126 CUDA:0 (NVIDIA GeForce RTX 4070 Laptop GPU, 8188MiB)\n",
      "YOLO11n-obb summary (fused): 257 layers, 2,653,918 parameters, 0 gradients, 6.6 GFLOPs\n"
     ]
    },
    {
     "name": "stderr",
     "output_type": "stream",
     "text": [
      "                 Class     Images  Instances      Box(P          R      mAP50  mAP50-95): 100%|██████████| 6/6 [00:01<00:00,  4.47it/s]\n"
     ]
    },
    {
     "name": "stdout",
     "output_type": "stream",
     "text": [
      "                   all         82         70      0.912      0.885      0.929      0.536\n",
      "Speed: 0.8ms preprocess, 4.5ms inference, 0.0ms loss, 3.4ms postprocess per image\n",
      "Results saved to \u001b[1mcassda-wildlife-crossing\\yolo11n-obb-wildlife_bridges-filtered-dataset-no-CH-negatives-640\u001b[0m\n"
     ]
    }
   ],
   "source": [
    "results = model.train(\n",
    "    data=\"../data/combined_wildlife_poly_bridges_filtered_no_ch_640-yolo/data.yaml\",\n",
    "    epochs=1000,\n",
    "    imgsz=640,\n",
    "    patience=10,\n",
    "    project=\"cassda-wildlife-crossing\",\n",
    "    name=\"yolo11n-obb-wildlife_bridges-filtered-dataset-no-CH-negatives-640\",\n",
    "    exist_ok=True,\n",
    "    translate=0.4,\n",
    "    degrees=90,\n",
    "    scale=0.5,\n",
    "    fliplr=0.5,\n",
    "    flipud=0.5,\n",
    ")"
   ]
  },
  {
   "cell_type": "code",
   "execution_count": null,
   "id": "58d39524",
   "metadata": {},
   "outputs": [],
   "source": [
    "model_v11 = YOLO(\n",
    "    \"../model/checkpoints/yolo11n-obb.pt\"\n",
    ")  # yolov11n-obb.pt is a model pre-trained on DOTA dataset for oriented bounding boxes"
   ]
  },
  {
   "cell_type": "code",
   "execution_count": null,
   "id": "90c47f15",
   "metadata": {},
   "outputs": [
    {
     "name": "stdout",
     "output_type": "stream",
     "text": [
      "New https://pypi.org/project/ultralytics/8.3.221 available  Update with 'pip install -U ultralytics'\n",
      "Ultralytics 8.3.40  Python-3.13.1 torch-2.9.0+cu126 CUDA:0 (NVIDIA GeForce RTX 4070 Ti SUPER, 16376MiB)\n",
      "\u001b[34m\u001b[1mengine\\trainer: \u001b[0mtask=obb, mode=train, model=../model/checkpoints/yolov8n-obb.pt, data=../data/combined_wildlife_poly_bridges_filtered-yolo/data.yaml, epochs=1000, time=None, patience=10, batch=16, imgsz=512, save=True, save_period=-1, cache=False, device=None, workers=8, project=cassda-wildlife-crossing, name=yolov8n-obb-wildlife_bridges-filtered-dataset, exist_ok=True, pretrained=True, optimizer=auto, verbose=True, seed=0, deterministic=True, single_cls=False, rect=False, cos_lr=False, close_mosaic=10, resume=False, amp=True, fraction=1.0, profile=False, freeze=None, multi_scale=False, overlap_mask=True, mask_ratio=4, dropout=0.0, val=True, split=val, save_json=False, save_hybrid=False, conf=None, iou=0.7, max_det=300, half=False, dnn=False, plots=True, source=None, vid_stride=1, stream_buffer=False, visualize=False, augment=False, agnostic_nms=False, classes=None, retina_masks=False, embed=None, show=False, save_frames=False, save_txt=False, save_conf=False, save_crop=False, show_labels=True, show_conf=True, show_boxes=True, line_width=None, format=torchscript, keras=False, optimize=False, int8=False, dynamic=False, simplify=True, opset=None, workspace=None, nms=False, lr0=0.01, lrf=0.01, momentum=0.937, weight_decay=0.0005, warmup_epochs=3.0, warmup_momentum=0.8, warmup_bias_lr=0.1, box=7.5, cls=0.5, dfl=1.5, pose=12.0, kobj=1.0, nbs=64, hsv_h=0.015, hsv_s=0.7, hsv_v=0.4, degrees=0.0, translate=0.1, scale=0.5, shear=0.0, perspective=0.0, flipud=0.0, fliplr=0.5, bgr=0.0, mosaic=1.0, mixup=0.0, copy_paste=0.0, copy_paste_mode=flip, auto_augment=randaugment, erasing=0.4, crop_fraction=1.0, cfg=None, tracker=botsort.yaml, save_dir=cassda-wildlife-crossing\\yolov8n-obb-wildlife_bridges-filtered-dataset\n",
      "Overriding model.yaml nc=15 with nc=1\n",
      "\n",
      "                   from  n    params  module                                       arguments                     \n",
      "  0                  -1  1       464  ultralytics.nn.modules.conv.Conv             [3, 16, 3, 2]                 \n",
      "  1                  -1  1      4672  ultralytics.nn.modules.conv.Conv             [16, 32, 3, 2]                \n",
      "  2                  -1  1      7360  ultralytics.nn.modules.block.C2f             [32, 32, 1, True]             \n",
      "  3                  -1  1     18560  ultralytics.nn.modules.conv.Conv             [32, 64, 3, 2]                \n",
      "  4                  -1  2     49664  ultralytics.nn.modules.block.C2f             [64, 64, 2, True]             \n",
      "  5                  -1  1     73984  ultralytics.nn.modules.conv.Conv             [64, 128, 3, 2]               \n",
      "  6                  -1  2    197632  ultralytics.nn.modules.block.C2f             [128, 128, 2, True]           \n",
      "  7                  -1  1    295424  ultralytics.nn.modules.conv.Conv             [128, 256, 3, 2]              \n",
      "  8                  -1  1    460288  ultralytics.nn.modules.block.C2f             [256, 256, 1, True]           \n",
      "  9                  -1  1    164608  ultralytics.nn.modules.block.SPPF            [256, 256, 5]                 \n",
      " 10                  -1  1         0  torch.nn.modules.upsampling.Upsample         [None, 2, 'nearest']          \n",
      " 11             [-1, 6]  1         0  ultralytics.nn.modules.conv.Concat           [1]                           \n",
      " 12                  -1  1    148224  ultralytics.nn.modules.block.C2f             [384, 128, 1]                 \n",
      " 13                  -1  1         0  torch.nn.modules.upsampling.Upsample         [None, 2, 'nearest']          \n",
      " 14             [-1, 4]  1         0  ultralytics.nn.modules.conv.Concat           [1]                           \n",
      " 15                  -1  1     37248  ultralytics.nn.modules.block.C2f             [192, 64, 1]                  \n",
      " 16                  -1  1     36992  ultralytics.nn.modules.conv.Conv             [64, 64, 3, 2]                \n",
      " 17            [-1, 12]  1         0  ultralytics.nn.modules.conv.Concat           [1]                           \n",
      " 18                  -1  1    123648  ultralytics.nn.modules.block.C2f             [192, 128, 1]                 \n",
      " 19                  -1  1    147712  ultralytics.nn.modules.conv.Conv             [128, 128, 3, 2]              \n",
      " 20             [-1, 9]  1         0  ultralytics.nn.modules.conv.Concat           [1]                           \n",
      " 21                  -1  1    493056  ultralytics.nn.modules.block.C2f             [384, 256, 1]                 \n",
      " 22        [15, 18, 21]  1    823174  ultralytics.nn.modules.head.OBB              [1, 1, [64, 128, 256]]        \n",
      "YOLOv8n-obb summary: 250 layers, 3,082,710 parameters, 3,082,694 gradients, 8.4 GFLOPs\n",
      "\n",
      "Transferred 391/397 items from pretrained weights\n"
     ]
    },
    {
     "name": "stderr",
     "output_type": "stream",
     "text": [
      "\u001b[34m\u001b[1mwandb\u001b[0m: Currently logged in as: \u001b[33mraffael-schreiber\u001b[0m (\u001b[33mfhnw-ibre\u001b[0m) to \u001b[32mhttps://api.wandb.ai\u001b[0m. Use \u001b[1m`wandb login --relogin`\u001b[0m to force relogin\n"
     ]
    },
    {
     "data": {
      "text/html": [],
      "text/plain": [
       "<IPython.core.display.HTML object>"
      ]
     },
     "metadata": {},
     "output_type": "display_data"
    },
    {
     "data": {
      "text/html": [
       "Tracking run with wandb version 0.22.2"
      ],
      "text/plain": [
       "<IPython.core.display.HTML object>"
      ]
     },
     "metadata": {},
     "output_type": "display_data"
    },
    {
     "data": {
      "text/html": [
       "Run data is saved locally in <code>c:\\code\\cassda-zertifikatsarbeit\\notebooks\\wandb\\run-20251025_141013-qmcl8fe7</code>"
      ],
      "text/plain": [
       "<IPython.core.display.HTML object>"
      ]
     },
     "metadata": {},
     "output_type": "display_data"
    },
    {
     "data": {
      "text/html": [
       "Syncing run <strong><a href='https://wandb.ai/fhnw-ibre/cassda-wildlife-crossing/runs/qmcl8fe7' target=\"_blank\">yolov8n-obb-wildlife_bridges-filtered-dataset</a></strong> to <a href='https://wandb.ai/fhnw-ibre/cassda-wildlife-crossing' target=\"_blank\">Weights & Biases</a> (<a href='https://wandb.me/developer-guide' target=\"_blank\">docs</a>)<br>"
      ],
      "text/plain": [
       "<IPython.core.display.HTML object>"
      ]
     },
     "metadata": {},
     "output_type": "display_data"
    },
    {
     "data": {
      "text/html": [
       " View project at <a href='https://wandb.ai/fhnw-ibre/cassda-wildlife-crossing' target=\"_blank\">https://wandb.ai/fhnw-ibre/cassda-wildlife-crossing</a>"
      ],
      "text/plain": [
       "<IPython.core.display.HTML object>"
      ]
     },
     "metadata": {},
     "output_type": "display_data"
    },
    {
     "data": {
      "text/html": [
       " View run at <a href='https://wandb.ai/fhnw-ibre/cassda-wildlife-crossing/runs/qmcl8fe7' target=\"_blank\">https://wandb.ai/fhnw-ibre/cassda-wildlife-crossing/runs/qmcl8fe7</a>"
      ],
      "text/plain": [
       "<IPython.core.display.HTML object>"
      ]
     },
     "metadata": {},
     "output_type": "display_data"
    },
    {
     "name": "stdout",
     "output_type": "stream",
     "text": [
      "Freezing layer 'model.22.dfl.conv.weight'\n",
      "\u001b[34m\u001b[1mAMP: \u001b[0mrunning Automatic Mixed Precision (AMP) checks...\n",
      "Downloading https://github.com/ultralytics/assets/releases/download/v8.3.0/yolo11n.pt to 'yolo11n.pt'...\n"
     ]
    },
    {
     "name": "stderr",
     "output_type": "stream",
     "text": [
      "100%|██████████| 5.35M/5.35M [00:00<00:00, 43.6MB/s]\n"
     ]
    },
    {
     "name": "stdout",
     "output_type": "stream",
     "text": [
      "\u001b[34m\u001b[1mAMP: \u001b[0mchecks passed \n"
     ]
    },
    {
     "name": "stderr",
     "output_type": "stream",
     "text": [
      "\u001b[34m\u001b[1mtrain: \u001b[0mScanning C:\\code\\cassda-zertifikatsarbeit\\data\\combined_wildlife_poly_bridges_filtered-yolo\\labels\\train.cache... 336 images, 0 backgrounds, 0 corrupt: 100%|██████████| 336/336 [00:00<?, ?it/s]\n"
     ]
    },
    {
     "name": "stdout",
     "output_type": "stream",
     "text": [
      "\u001b[34m\u001b[1malbumentations: \u001b[0mBlur(p=0.01, blur_limit=(3, 7)), MedianBlur(p=0.01, blur_limit=(3, 7)), ToGray(p=0.01, method='weighted_average', num_output_channels=3), CLAHE(p=0.01, clip_limit=(1.0, 4.0), tile_grid_size=(8, 8))\n"
     ]
    },
    {
     "name": "stderr",
     "output_type": "stream",
     "text": [
      "c:\\code\\cassda-zertifikatsarbeit\\.venv\\Lib\\site-packages\\ultralytics\\data\\augment.py:1850: UserWarning: Argument(s) 'quality_lower' are not valid for transform ImageCompression\n",
      "  A.ImageCompression(quality_lower=75, p=0.0),\n",
      "\u001b[34m\u001b[1mval: \u001b[0mScanning C:\\code\\cassda-zertifikatsarbeit\\data\\combined_wildlife_poly_bridges_filtered-yolo\\labels\\val.cache... 72 images, 0 backgrounds, 0 corrupt: 100%|██████████| 72/72 [00:00<?, ?it/s]\n"
     ]
    },
    {
     "name": "stdout",
     "output_type": "stream",
     "text": [
      "Plotting labels to cassda-wildlife-crossing\\yolov8n-obb-wildlife_bridges-filtered-dataset\\labels.jpg... \n",
      "\u001b[34m\u001b[1moptimizer:\u001b[0m 'optimizer=auto' found, ignoring 'lr0=0.01' and 'momentum=0.937' and determining best 'optimizer', 'lr0' and 'momentum' automatically... \n",
      "\u001b[34m\u001b[1moptimizer:\u001b[0m AdamW(lr=0.002, momentum=0.9) with parameter groups 63 weight(decay=0.0), 73 weight(decay=0.0005), 72 bias(decay=0.0)\n",
      "Image sizes 512 train, 512 val\n",
      "Using 8 dataloader workers\n",
      "Logging results to \u001b[1mcassda-wildlife-crossing\\yolov8n-obb-wildlife_bridges-filtered-dataset\u001b[0m\n",
      "Starting training for 1000 epochs...\n",
      "\n",
      "      Epoch    GPU_mem   box_loss   cls_loss   dfl_loss  Instances       Size\n"
     ]
    }
   ],
   "source": [
    "results = model_v11.train(\n",
    "    data=\"../data/combined_wildlife_poly_bridges_filtered-yolo/data.yaml\",\n",
    "    epochs=1000,\n",
    "    imgsz=512,\n",
    "    patience=10,\n",
    "    project=\"cassda-wildlife-crossing\",\n",
    "    name=\"yolo11n-obb-wildlife_bridges-filtered-dataset\",\n",
    "    exist_ok=True,\n",
    ")"
   ]
  },
  {
   "cell_type": "code",
   "execution_count": 9,
   "id": "4346269e",
   "metadata": {},
   "outputs": [
    {
     "name": "stdout",
     "output_type": "stream",
     "text": [
      "Ultralytics 8.3.40  Python-3.13.3 torch-2.9.0+cu126 CUDA:0 (NVIDIA GeForce RTX 4070 Laptop GPU, 8188MiB)\n",
      "YOLO11n-obb summary (fused): 257 layers, 2,653,918 parameters, 0 gradients, 6.6 GFLOPs\n"
     ]
    },
    {
     "name": "stderr",
     "output_type": "stream",
     "text": [
      "\u001b[34m\u001b[1mval: \u001b[0mScanning C:\\code_ibre\\cassda_zertifikatsarbeit\\data\\combined_wildlife_poly_bridges_filtered_no_ch_640-yolo\\labels\\test... 84 images, 12 backgrounds, 0 corrupt: 100%|██████████| 84/84 [00:00<00:00, 122.65it/s]"
     ]
    },
    {
     "name": "stdout",
     "output_type": "stream",
     "text": [
      "\u001b[34m\u001b[1mval: \u001b[0mWARNING  C:\\code_ibre\\cassda_zertifikatsarbeit\\data\\combined_wildlife_poly_bridges_filtered_no_ch_640-yolo\\images\\test\\4024916_2954868_4026196_2956148.jpg: corrupt JPEG restored and saved\n",
      "\u001b[34m\u001b[1mval: \u001b[0mWARNING  C:\\code_ibre\\cassda_zertifikatsarbeit\\data\\combined_wildlife_poly_bridges_filtered_no_ch_640-yolo\\images\\test\\4031099_2903626_4032379_2904906.jpg: corrupt JPEG restored and saved\n",
      "\u001b[34m\u001b[1mval: \u001b[0mWARNING  C:\\code_ibre\\cassda_zertifikatsarbeit\\data\\combined_wildlife_poly_bridges_filtered_no_ch_640-yolo\\images\\test\\4035118_2849877_4036398_2851157.jpg: corrupt JPEG restored and saved\n",
      "\u001b[34m\u001b[1mval: \u001b[0mWARNING  C:\\code_ibre\\cassda_zertifikatsarbeit\\data\\combined_wildlife_poly_bridges_filtered_no_ch_640-yolo\\images\\test\\4035249_3148429_4036529_3149709.jpg: corrupt JPEG restored and saved\n",
      "\u001b[34m\u001b[1mval: \u001b[0mWARNING  C:\\code_ibre\\cassda_zertifikatsarbeit\\data\\combined_wildlife_poly_bridges_filtered_no_ch_640-yolo\\images\\test\\4038236_2929307_4039516_2930587.jpg: corrupt JPEG restored and saved\n",
      "\u001b[34m\u001b[1mval: \u001b[0mWARNING  C:\\code_ibre\\cassda_zertifikatsarbeit\\data\\combined_wildlife_poly_bridges_filtered_no_ch_640-yolo\\images\\test\\4039090_2894888_4040370_2896168.jpg: corrupt JPEG restored and saved\n",
      "\u001b[34m\u001b[1mval: \u001b[0mWARNING  C:\\code_ibre\\cassda_zertifikatsarbeit\\data\\combined_wildlife_poly_bridges_filtered_no_ch_640-yolo\\images\\test\\4040309_2946224_4041589_2947504.jpg: corrupt JPEG restored and saved\n",
      "\u001b[34m\u001b[1mval: \u001b[0mWARNING  C:\\code_ibre\\cassda_zertifikatsarbeit\\data\\combined_wildlife_poly_bridges_filtered_no_ch_640-yolo\\images\\test\\4041706_2905360_4042986_2906640.jpg: corrupt JPEG restored and saved\n",
      "\u001b[34m\u001b[1mval: \u001b[0mWARNING  C:\\code_ibre\\cassda_zertifikatsarbeit\\data\\combined_wildlife_poly_bridges_filtered_no_ch_640-yolo\\images\\test\\4041938_3170740_4043218_3172020.jpg: corrupt JPEG restored and saved\n",
      "\u001b[34m\u001b[1mval: \u001b[0mWARNING  C:\\code_ibre\\cassda_zertifikatsarbeit\\data\\combined_wildlife_poly_bridges_filtered_no_ch_640-yolo\\images\\test\\4042840_3165992_4044120_3167272.jpg: corrupt JPEG restored and saved\n",
      "\u001b[34m\u001b[1mval: \u001b[0mWARNING  C:\\code_ibre\\cassda_zertifikatsarbeit\\data\\combined_wildlife_poly_bridges_filtered_no_ch_640-yolo\\images\\test\\4047113_2900638_4048393_2901918.jpg: corrupt JPEG restored and saved\n",
      "\u001b[34m\u001b[1mval: \u001b[0mWARNING  C:\\code_ibre\\cassda_zertifikatsarbeit\\data\\combined_wildlife_poly_bridges_filtered_no_ch_640-yolo\\images\\test\\4048657_3108163_4049937_3109443.jpg: corrupt JPEG restored and saved\n",
      "\u001b[34m\u001b[1mval: \u001b[0mWARNING  C:\\code_ibre\\cassda_zertifikatsarbeit\\data\\combined_wildlife_poly_bridges_filtered_no_ch_640-yolo\\images\\test\\crossing_100.jpg: corrupt JPEG restored and saved\n",
      "\u001b[34m\u001b[1mval: \u001b[0mWARNING  C:\\code_ibre\\cassda_zertifikatsarbeit\\data\\combined_wildlife_poly_bridges_filtered_no_ch_640-yolo\\images\\test\\crossing_104.jpg: corrupt JPEG restored and saved\n",
      "\u001b[34m\u001b[1mval: \u001b[0mWARNING  C:\\code_ibre\\cassda_zertifikatsarbeit\\data\\combined_wildlife_poly_bridges_filtered_no_ch_640-yolo\\images\\test\\crossing_111.jpg: corrupt JPEG restored and saved\n",
      "\u001b[34m\u001b[1mval: \u001b[0mWARNING  C:\\code_ibre\\cassda_zertifikatsarbeit\\data\\combined_wildlife_poly_bridges_filtered_no_ch_640-yolo\\images\\test\\crossing_114.jpg: corrupt JPEG restored and saved\n",
      "\u001b[34m\u001b[1mval: \u001b[0mWARNING  C:\\code_ibre\\cassda_zertifikatsarbeit\\data\\combined_wildlife_poly_bridges_filtered_no_ch_640-yolo\\images\\test\\crossing_117.jpg: corrupt JPEG restored and saved\n",
      "\u001b[34m\u001b[1mval: \u001b[0mWARNING  C:\\code_ibre\\cassda_zertifikatsarbeit\\data\\combined_wildlife_poly_bridges_filtered_no_ch_640-yolo\\images\\test\\crossing_118.jpg: corrupt JPEG restored and saved\n",
      "\u001b[34m\u001b[1mval: \u001b[0mWARNING  C:\\code_ibre\\cassda_zertifikatsarbeit\\data\\combined_wildlife_poly_bridges_filtered_no_ch_640-yolo\\images\\test\\crossing_131.jpg: corrupt JPEG restored and saved\n",
      "\u001b[34m\u001b[1mval: \u001b[0mWARNING  C:\\code_ibre\\cassda_zertifikatsarbeit\\data\\combined_wildlife_poly_bridges_filtered_no_ch_640-yolo\\images\\test\\crossing_14.jpg: corrupt JPEG restored and saved\n",
      "\u001b[34m\u001b[1mval: \u001b[0mWARNING  C:\\code_ibre\\cassda_zertifikatsarbeit\\data\\combined_wildlife_poly_bridges_filtered_no_ch_640-yolo\\images\\test\\crossing_167.jpg: corrupt JPEG restored and saved\n",
      "\u001b[34m\u001b[1mval: \u001b[0mWARNING  C:\\code_ibre\\cassda_zertifikatsarbeit\\data\\combined_wildlife_poly_bridges_filtered_no_ch_640-yolo\\images\\test\\crossing_168.jpg: corrupt JPEG restored and saved\n",
      "\u001b[34m\u001b[1mval: \u001b[0mWARNING  C:\\code_ibre\\cassda_zertifikatsarbeit\\data\\combined_wildlife_poly_bridges_filtered_no_ch_640-yolo\\images\\test\\crossing_172.jpg: corrupt JPEG restored and saved\n",
      "\u001b[34m\u001b[1mval: \u001b[0mWARNING  C:\\code_ibre\\cassda_zertifikatsarbeit\\data\\combined_wildlife_poly_bridges_filtered_no_ch_640-yolo\\images\\test\\crossing_193.jpg: corrupt JPEG restored and saved\n",
      "\u001b[34m\u001b[1mval: \u001b[0mWARNING  C:\\code_ibre\\cassda_zertifikatsarbeit\\data\\combined_wildlife_poly_bridges_filtered_no_ch_640-yolo\\images\\test\\crossing_194.jpg: corrupt JPEG restored and saved\n",
      "\u001b[34m\u001b[1mval: \u001b[0mWARNING  C:\\code_ibre\\cassda_zertifikatsarbeit\\data\\combined_wildlife_poly_bridges_filtered_no_ch_640-yolo\\images\\test\\crossing_195.jpg: corrupt JPEG restored and saved\n",
      "\u001b[34m\u001b[1mval: \u001b[0mWARNING  C:\\code_ibre\\cassda_zertifikatsarbeit\\data\\combined_wildlife_poly_bridges_filtered_no_ch_640-yolo\\images\\test\\crossing_203.jpg: corrupt JPEG restored and saved\n",
      "\u001b[34m\u001b[1mval: \u001b[0mWARNING  C:\\code_ibre\\cassda_zertifikatsarbeit\\data\\combined_wildlife_poly_bridges_filtered_no_ch_640-yolo\\images\\test\\crossing_207.jpg: corrupt JPEG restored and saved\n",
      "\u001b[34m\u001b[1mval: \u001b[0mWARNING  C:\\code_ibre\\cassda_zertifikatsarbeit\\data\\combined_wildlife_poly_bridges_filtered_no_ch_640-yolo\\images\\test\\crossing_215.jpg: corrupt JPEG restored and saved\n",
      "\u001b[34m\u001b[1mval: \u001b[0mWARNING  C:\\code_ibre\\cassda_zertifikatsarbeit\\data\\combined_wildlife_poly_bridges_filtered_no_ch_640-yolo\\images\\test\\crossing_218.jpg: corrupt JPEG restored and saved\n",
      "\u001b[34m\u001b[1mval: \u001b[0mWARNING  C:\\code_ibre\\cassda_zertifikatsarbeit\\data\\combined_wildlife_poly_bridges_filtered_no_ch_640-yolo\\images\\test\\crossing_24.jpg: corrupt JPEG restored and saved\n",
      "\u001b[34m\u001b[1mval: \u001b[0mWARNING  C:\\code_ibre\\cassda_zertifikatsarbeit\\data\\combined_wildlife_poly_bridges_filtered_no_ch_640-yolo\\images\\test\\crossing_241.jpg: corrupt JPEG restored and saved\n",
      "\u001b[34m\u001b[1mval: \u001b[0mWARNING  C:\\code_ibre\\cassda_zertifikatsarbeit\\data\\combined_wildlife_poly_bridges_filtered_no_ch_640-yolo\\images\\test\\crossing_25.jpg: corrupt JPEG restored and saved\n",
      "\u001b[34m\u001b[1mval: \u001b[0mWARNING  C:\\code_ibre\\cassda_zertifikatsarbeit\\data\\combined_wildlife_poly_bridges_filtered_no_ch_640-yolo\\images\\test\\crossing_256.jpg: corrupt JPEG restored and saved\n",
      "\u001b[34m\u001b[1mval: \u001b[0mWARNING  C:\\code_ibre\\cassda_zertifikatsarbeit\\data\\combined_wildlife_poly_bridges_filtered_no_ch_640-yolo\\images\\test\\crossing_26.jpg: corrupt JPEG restored and saved\n",
      "\u001b[34m\u001b[1mval: \u001b[0mWARNING  C:\\code_ibre\\cassda_zertifikatsarbeit\\data\\combined_wildlife_poly_bridges_filtered_no_ch_640-yolo\\images\\test\\crossing_260.jpg: corrupt JPEG restored and saved\n",
      "\u001b[34m\u001b[1mval: \u001b[0mWARNING  C:\\code_ibre\\cassda_zertifikatsarbeit\\data\\combined_wildlife_poly_bridges_filtered_no_ch_640-yolo\\images\\test\\crossing_265.jpg: corrupt JPEG restored and saved\n",
      "\u001b[34m\u001b[1mval: \u001b[0mWARNING  C:\\code_ibre\\cassda_zertifikatsarbeit\\data\\combined_wildlife_poly_bridges_filtered_no_ch_640-yolo\\images\\test\\crossing_266.jpg: corrupt JPEG restored and saved\n",
      "\u001b[34m\u001b[1mval: \u001b[0mWARNING  C:\\code_ibre\\cassda_zertifikatsarbeit\\data\\combined_wildlife_poly_bridges_filtered_no_ch_640-yolo\\images\\test\\crossing_269.jpg: corrupt JPEG restored and saved\n",
      "\u001b[34m\u001b[1mval: \u001b[0mWARNING  C:\\code_ibre\\cassda_zertifikatsarbeit\\data\\combined_wildlife_poly_bridges_filtered_no_ch_640-yolo\\images\\test\\crossing_271.jpg: corrupt JPEG restored and saved\n",
      "\u001b[34m\u001b[1mval: \u001b[0mWARNING  C:\\code_ibre\\cassda_zertifikatsarbeit\\data\\combined_wildlife_poly_bridges_filtered_no_ch_640-yolo\\images\\test\\crossing_296.jpg: corrupt JPEG restored and saved\n",
      "\u001b[34m\u001b[1mval: \u001b[0mWARNING  C:\\code_ibre\\cassda_zertifikatsarbeit\\data\\combined_wildlife_poly_bridges_filtered_no_ch_640-yolo\\images\\test\\crossing_30.jpg: corrupt JPEG restored and saved\n",
      "\u001b[34m\u001b[1mval: \u001b[0mWARNING  C:\\code_ibre\\cassda_zertifikatsarbeit\\data\\combined_wildlife_poly_bridges_filtered_no_ch_640-yolo\\images\\test\\crossing_300.jpg: corrupt JPEG restored and saved\n",
      "\u001b[34m\u001b[1mval: \u001b[0mWARNING  C:\\code_ibre\\cassda_zertifikatsarbeit\\data\\combined_wildlife_poly_bridges_filtered_no_ch_640-yolo\\images\\test\\crossing_304.jpg: corrupt JPEG restored and saved\n",
      "\u001b[34m\u001b[1mval: \u001b[0mWARNING  C:\\code_ibre\\cassda_zertifikatsarbeit\\data\\combined_wildlife_poly_bridges_filtered_no_ch_640-yolo\\images\\test\\crossing_306.jpg: corrupt JPEG restored and saved\n",
      "\u001b[34m\u001b[1mval: \u001b[0mWARNING  C:\\code_ibre\\cassda_zertifikatsarbeit\\data\\combined_wildlife_poly_bridges_filtered_no_ch_640-yolo\\images\\test\\crossing_32.jpg: corrupt JPEG restored and saved\n",
      "\u001b[34m\u001b[1mval: \u001b[0mWARNING  C:\\code_ibre\\cassda_zertifikatsarbeit\\data\\combined_wildlife_poly_bridges_filtered_no_ch_640-yolo\\images\\test\\crossing_328.jpg: corrupt JPEG restored and saved\n",
      "\u001b[34m\u001b[1mval: \u001b[0mWARNING  C:\\code_ibre\\cassda_zertifikatsarbeit\\data\\combined_wildlife_poly_bridges_filtered_no_ch_640-yolo\\images\\test\\crossing_331.jpg: corrupt JPEG restored and saved\n",
      "\u001b[34m\u001b[1mval: \u001b[0mWARNING  C:\\code_ibre\\cassda_zertifikatsarbeit\\data\\combined_wildlife_poly_bridges_filtered_no_ch_640-yolo\\images\\test\\crossing_333.jpg: corrupt JPEG restored and saved\n",
      "\u001b[34m\u001b[1mval: \u001b[0mWARNING  C:\\code_ibre\\cassda_zertifikatsarbeit\\data\\combined_wildlife_poly_bridges_filtered_no_ch_640-yolo\\images\\test\\crossing_338.jpg: corrupt JPEG restored and saved\n",
      "\u001b[34m\u001b[1mval: \u001b[0mWARNING  C:\\code_ibre\\cassda_zertifikatsarbeit\\data\\combined_wildlife_poly_bridges_filtered_no_ch_640-yolo\\images\\test\\crossing_346.jpg: corrupt JPEG restored and saved\n",
      "\u001b[34m\u001b[1mval: \u001b[0mWARNING  C:\\code_ibre\\cassda_zertifikatsarbeit\\data\\combined_wildlife_poly_bridges_filtered_no_ch_640-yolo\\images\\test\\crossing_352.jpg: corrupt JPEG restored and saved\n",
      "\u001b[34m\u001b[1mval: \u001b[0mWARNING  C:\\code_ibre\\cassda_zertifikatsarbeit\\data\\combined_wildlife_poly_bridges_filtered_no_ch_640-yolo\\images\\test\\crossing_358.jpg: corrupt JPEG restored and saved\n",
      "\u001b[34m\u001b[1mval: \u001b[0mWARNING  C:\\code_ibre\\cassda_zertifikatsarbeit\\data\\combined_wildlife_poly_bridges_filtered_no_ch_640-yolo\\images\\test\\crossing_37.jpg: corrupt JPEG restored and saved\n",
      "\u001b[34m\u001b[1mval: \u001b[0mWARNING  C:\\code_ibre\\cassda_zertifikatsarbeit\\data\\combined_wildlife_poly_bridges_filtered_no_ch_640-yolo\\images\\test\\crossing_371.jpg: corrupt JPEG restored and saved\n",
      "\u001b[34m\u001b[1mval: \u001b[0mWARNING  C:\\code_ibre\\cassda_zertifikatsarbeit\\data\\combined_wildlife_poly_bridges_filtered_no_ch_640-yolo\\images\\test\\crossing_373.jpg: corrupt JPEG restored and saved\n",
      "\u001b[34m\u001b[1mval: \u001b[0mWARNING  C:\\code_ibre\\cassda_zertifikatsarbeit\\data\\combined_wildlife_poly_bridges_filtered_no_ch_640-yolo\\images\\test\\crossing_384.jpg: corrupt JPEG restored and saved\n",
      "\u001b[34m\u001b[1mval: \u001b[0mWARNING  C:\\code_ibre\\cassda_zertifikatsarbeit\\data\\combined_wildlife_poly_bridges_filtered_no_ch_640-yolo\\images\\test\\crossing_395.jpg: corrupt JPEG restored and saved\n",
      "\u001b[34m\u001b[1mval: \u001b[0mWARNING  C:\\code_ibre\\cassda_zertifikatsarbeit\\data\\combined_wildlife_poly_bridges_filtered_no_ch_640-yolo\\images\\test\\crossing_40.jpg: corrupt JPEG restored and saved\n",
      "\u001b[34m\u001b[1mval: \u001b[0mWARNING  C:\\code_ibre\\cassda_zertifikatsarbeit\\data\\combined_wildlife_poly_bridges_filtered_no_ch_640-yolo\\images\\test\\crossing_407.jpg: corrupt JPEG restored and saved\n",
      "\u001b[34m\u001b[1mval: \u001b[0mWARNING  C:\\code_ibre\\cassda_zertifikatsarbeit\\data\\combined_wildlife_poly_bridges_filtered_no_ch_640-yolo\\images\\test\\crossing_41.jpg: corrupt JPEG restored and saved\n",
      "\u001b[34m\u001b[1mval: \u001b[0mWARNING  C:\\code_ibre\\cassda_zertifikatsarbeit\\data\\combined_wildlife_poly_bridges_filtered_no_ch_640-yolo\\images\\test\\crossing_414.jpg: corrupt JPEG restored and saved\n",
      "\u001b[34m\u001b[1mval: \u001b[0mWARNING  C:\\code_ibre\\cassda_zertifikatsarbeit\\data\\combined_wildlife_poly_bridges_filtered_no_ch_640-yolo\\images\\test\\crossing_421.jpg: corrupt JPEG restored and saved\n",
      "\u001b[34m\u001b[1mval: \u001b[0mWARNING  C:\\code_ibre\\cassda_zertifikatsarbeit\\data\\combined_wildlife_poly_bridges_filtered_no_ch_640-yolo\\images\\test\\crossing_423.jpg: corrupt JPEG restored and saved\n",
      "\u001b[34m\u001b[1mval: \u001b[0mWARNING  C:\\code_ibre\\cassda_zertifikatsarbeit\\data\\combined_wildlife_poly_bridges_filtered_no_ch_640-yolo\\images\\test\\crossing_431.jpg: corrupt JPEG restored and saved\n",
      "\u001b[34m\u001b[1mval: \u001b[0mWARNING  C:\\code_ibre\\cassda_zertifikatsarbeit\\data\\combined_wildlife_poly_bridges_filtered_no_ch_640-yolo\\images\\test\\crossing_432.jpg: corrupt JPEG restored and saved\n",
      "\u001b[34m\u001b[1mval: \u001b[0mWARNING  C:\\code_ibre\\cassda_zertifikatsarbeit\\data\\combined_wildlife_poly_bridges_filtered_no_ch_640-yolo\\images\\test\\crossing_435.jpg: corrupt JPEG restored and saved\n",
      "\u001b[34m\u001b[1mval: \u001b[0mWARNING  C:\\code_ibre\\cassda_zertifikatsarbeit\\data\\combined_wildlife_poly_bridges_filtered_no_ch_640-yolo\\images\\test\\crossing_436.jpg: corrupt JPEG restored and saved\n",
      "\u001b[34m\u001b[1mval: \u001b[0mWARNING  C:\\code_ibre\\cassda_zertifikatsarbeit\\data\\combined_wildlife_poly_bridges_filtered_no_ch_640-yolo\\images\\test\\crossing_438.jpg: corrupt JPEG restored and saved\n",
      "\u001b[34m\u001b[1mval: \u001b[0mWARNING  C:\\code_ibre\\cassda_zertifikatsarbeit\\data\\combined_wildlife_poly_bridges_filtered_no_ch_640-yolo\\images\\test\\crossing_442.jpg: corrupt JPEG restored and saved\n",
      "\u001b[34m\u001b[1mval: \u001b[0mWARNING  C:\\code_ibre\\cassda_zertifikatsarbeit\\data\\combined_wildlife_poly_bridges_filtered_no_ch_640-yolo\\images\\test\\crossing_45.jpg: corrupt JPEG restored and saved\n",
      "\u001b[34m\u001b[1mval: \u001b[0mWARNING  C:\\code_ibre\\cassda_zertifikatsarbeit\\data\\combined_wildlife_poly_bridges_filtered_no_ch_640-yolo\\images\\test\\crossing_450.jpg: corrupt JPEG restored and saved\n",
      "\u001b[34m\u001b[1mval: \u001b[0mWARNING  C:\\code_ibre\\cassda_zertifikatsarbeit\\data\\combined_wildlife_poly_bridges_filtered_no_ch_640-yolo\\images\\test\\crossing_451.jpg: corrupt JPEG restored and saved\n",
      "\u001b[34m\u001b[1mval: \u001b[0mWARNING  C:\\code_ibre\\cassda_zertifikatsarbeit\\data\\combined_wildlife_poly_bridges_filtered_no_ch_640-yolo\\images\\test\\crossing_459.jpg: corrupt JPEG restored and saved\n",
      "\u001b[34m\u001b[1mval: \u001b[0mWARNING  C:\\code_ibre\\cassda_zertifikatsarbeit\\data\\combined_wildlife_poly_bridges_filtered_no_ch_640-yolo\\images\\test\\crossing_465.jpg: corrupt JPEG restored and saved\n",
      "\u001b[34m\u001b[1mval: \u001b[0mWARNING  C:\\code_ibre\\cassda_zertifikatsarbeit\\data\\combined_wildlife_poly_bridges_filtered_no_ch_640-yolo\\images\\test\\crossing_55.jpg: corrupt JPEG restored and saved\n",
      "\u001b[34m\u001b[1mval: \u001b[0mWARNING  C:\\code_ibre\\cassda_zertifikatsarbeit\\data\\combined_wildlife_poly_bridges_filtered_no_ch_640-yolo\\images\\test\\crossing_56.jpg: corrupt JPEG restored and saved\n",
      "\u001b[34m\u001b[1mval: \u001b[0mWARNING  C:\\code_ibre\\cassda_zertifikatsarbeit\\data\\combined_wildlife_poly_bridges_filtered_no_ch_640-yolo\\images\\test\\crossing_60.jpg: corrupt JPEG restored and saved\n",
      "\u001b[34m\u001b[1mval: \u001b[0mWARNING  C:\\code_ibre\\cassda_zertifikatsarbeit\\data\\combined_wildlife_poly_bridges_filtered_no_ch_640-yolo\\images\\test\\crossing_63.jpg: corrupt JPEG restored and saved\n",
      "\u001b[34m\u001b[1mval: \u001b[0mWARNING  C:\\code_ibre\\cassda_zertifikatsarbeit\\data\\combined_wildlife_poly_bridges_filtered_no_ch_640-yolo\\images\\test\\crossing_81.jpg: corrupt JPEG restored and saved\n",
      "\u001b[34m\u001b[1mval: \u001b[0mWARNING  C:\\code_ibre\\cassda_zertifikatsarbeit\\data\\combined_wildlife_poly_bridges_filtered_no_ch_640-yolo\\images\\test\\crossing_86.jpg: corrupt JPEG restored and saved\n",
      "\u001b[34m\u001b[1mval: \u001b[0mWARNING  C:\\code_ibre\\cassda_zertifikatsarbeit\\data\\combined_wildlife_poly_bridges_filtered_no_ch_640-yolo\\images\\test\\crossing_91.jpg: corrupt JPEG restored and saved\n",
      "\u001b[34m\u001b[1mval: \u001b[0mWARNING  C:\\code_ibre\\cassda_zertifikatsarbeit\\data\\combined_wildlife_poly_bridges_filtered_no_ch_640-yolo\\images\\test\\crossing_94.jpg: corrupt JPEG restored and saved\n",
      "\u001b[34m\u001b[1mval: \u001b[0mWARNING  C:\\code_ibre\\cassda_zertifikatsarbeit\\data\\combined_wildlife_poly_bridges_filtered_no_ch_640-yolo\\images\\test\\crossing_97.jpg: corrupt JPEG restored and saved\n",
      "\u001b[34m\u001b[1mval: \u001b[0mNew cache created: C:\\code_ibre\\cassda_zertifikatsarbeit\\data\\combined_wildlife_poly_bridges_filtered_no_ch_640-yolo\\labels\\test.cache\n"
     ]
    },
    {
     "name": "stderr",
     "output_type": "stream",
     "text": [
      "\n",
      "                 Class     Images  Instances      Box(P          R      mAP50  mAP50-95): 100%|██████████| 6/6 [00:04<00:00,  1.21it/s]\n"
     ]
    },
    {
     "name": "stdout",
     "output_type": "stream",
     "text": [
      "                   all         84         72      0.849      0.917      0.926      0.541\n",
      "Speed: 2.2ms preprocess, 9.3ms inference, 0.0ms loss, 5.2ms postprocess per image\n",
      "Saving c:\\code_ibre\\cassda_zertifikatsarbeit\\model\\runs\\obb\\val5\\predictions.json...\n",
      "Results saved to \u001b[1mc:\\code_ibre\\cassda_zertifikatsarbeit\\model\\runs\\obb\\val5\u001b[0m\n"
     ]
    }
   ],
   "source": [
    "model_to_eval = [\n",
    "    \"../notebooks/cassda-wildlife-crossing/yolo11n-obb-wildlife_bridges-filtered-dataset-no-CH-negatives-640/weights/best.pt\",\n",
    "    #\"../model/runs/cassda-wildlife-crossing/yolov8n-obb-wildlife_bridges-filtered-dataset/weights/best.pt\",\n",
    "]\n",
    "for checkpoint in model_to_eval:\n",
    "    model = YOLO(checkpoint)\n",
    "    results = model.val(\n",
    "        data=\"../data/combined_wildlife_poly_bridges_filtered_no_ch_640-yolo/data.yaml\",\n",
    "        imgsz=640,\n",
    "        split=\"test\",\n",
    "        save_json=True,\n",
    "    )"
   ]
  }
 ],
 "metadata": {
  "kernelspec": {
   "display_name": "cassda-zertifikatsarbeit (3.13.3)",
   "language": "python",
   "name": "python3"
  },
  "language_info": {
   "codemirror_mode": {
    "name": "ipython",
    "version": 3
   },
   "file_extension": ".py",
   "mimetype": "text/x-python",
   "name": "python",
   "nbconvert_exporter": "python",
   "pygments_lexer": "ipython3",
   "version": "3.13.3"
  }
 },
 "nbformat": 4,
 "nbformat_minor": 5
}
