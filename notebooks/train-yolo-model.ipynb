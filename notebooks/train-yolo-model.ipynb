{
 "cells": [
  {
   "cell_type": "code",
   "execution_count": 1,
   "id": "95081020",
   "metadata": {},
   "outputs": [
    {
     "name": "stderr",
     "output_type": "stream",
     "text": [
      "c:\\code_ibre\\cassda_zertifikatsarbeit\\.venv\\Lib\\site-packages\\pydantic\\_internal\\_generate_schema.py:2249: UnsupportedFieldAttributeWarning: The 'repr' attribute with value False was provided to the `Field()` function, which has no effect in the context it was used. 'repr' is field-specific metadata, and can only be attached to a model field using `Annotated` metadata or by assignment. This may have happened because an `Annotated` type alias using the `type` statement was used, or if the `Field()` function was attached to a single member of a union type.\n",
      "  warnings.warn(\n",
      "c:\\code_ibre\\cassda_zertifikatsarbeit\\.venv\\Lib\\site-packages\\pydantic\\_internal\\_generate_schema.py:2249: UnsupportedFieldAttributeWarning: The 'frozen' attribute with value True was provided to the `Field()` function, which has no effect in the context it was used. 'frozen' is field-specific metadata, and can only be attached to a model field using `Annotated` metadata or by assignment. This may have happened because an `Annotated` type alias using the `type` statement was used, or if the `Field()` function was attached to a single member of a union type.\n",
      "  warnings.warn(\n"
     ]
    }
   ],
   "source": [
    "import os\n",
    "import torch\n",
    "import wandb\n",
    "from ultralytics import YOLO, settings"
   ]
  },
  {
   "cell_type": "code",
   "execution_count": 2,
   "id": "033c3a84",
   "metadata": {},
   "outputs": [
    {
     "name": "stdout",
     "output_type": "stream",
     "text": [
      "nvcc: NVIDIA (R) Cuda compiler driver\n",
      "Copyright (c) 2005-2024 NVIDIA Corporation\n",
      "Built on Thu_Sep_12_02:55:00_Pacific_Daylight_Time_2024\n",
      "Cuda compilation tools, release 12.6, V12.6.77\n",
      "Build cuda_12.6.r12.6/compiler.34841621_0\n",
      "Torch version: 2.9.0+cu126\n",
      "Cuda available: True\n"
     ]
    }
   ],
   "source": [
    "# print torch and cuda version\n",
    "!nvcc --version\n",
    "\n",
    "print(f\"Torch version: {torch.__version__}\")\n",
    "print(f\"Cuda available: {torch.cuda.is_available()}\")"
   ]
  },
  {
   "cell_type": "code",
   "execution_count": 9,
   "id": "9d0fa6b9",
   "metadata": {},
   "outputs": [
    {
     "name": "stdout",
     "output_type": "stream",
     "text": [
      "JSONDict(\"C:\\Users\\raffael\\AppData\\Roaming\\Ultralytics\\settings.json\"):\n",
      "{\n",
      "  \"settings_version\": \"0.0.6\",\n",
      "  \"datasets_dir\": \"c:\\\\code_ibre\\\\cassda_zertifikatsarbeit\\\\data\",\n",
      "  \"weights_dir\": \"c:\\\\code_ibre\\\\cassda_zertifikatsarbeit\\\\model\\\\weights\",\n",
      "  \"runs_dir\": \"c:\\\\code_ibre\\\\cassda_zertifikatsarbeit\\\\model\\\\runs\",\n",
      "  \"uuid\": \"10ab3a38fc870e7d724eaec6008bf37a4c2190f6a314b500b1b283a9f9f95acc\",\n",
      "  \"sync\": true,\n",
      "  \"api_key\": \"\",\n",
      "  \"openai_api_key\": \"\",\n",
      "  \"clearml\": true,\n",
      "  \"comet\": true,\n",
      "  \"dvc\": true,\n",
      "  \"hub\": true,\n",
      "  \"mlflow\": true,\n",
      "  \"neptune\": true,\n",
      "  \"raytune\": true,\n",
      "  \"tensorboard\": true,\n",
      "  \"wandb\": true,\n",
      "  \"vscode_msg\": true\n",
      "}\n",
      "💡 Learn more about Ultralytics Settings at https://docs.ultralytics.com/quickstart/#ultralytics-settings\n"
     ]
    }
   ],
   "source": [
    "# # if you need to login to wandb uncomment the following line\n",
    "# !wandb login --relogin\n",
    "\n",
    "!yolo settings wandb=True"
   ]
  },
  {
   "cell_type": "code",
   "execution_count": 4,
   "id": "dc19393b",
   "metadata": {},
   "outputs": [],
   "source": [
    "# Update a setting\n",
    "settings.update(\n",
    "    {\n",
    "        \"runs_dir\": f\"{os.path.dirname(os.getcwd())}\\\\model\\\\runs\",\n",
    "        \"weights_dir\": f\"{os.path.dirname(os.getcwd())}\\\\model\\\\weights\",\n",
    "        \"datasets_dir\": f\"{os.path.dirname(os.getcwd())}\\\\data\",\n",
    "    }\n",
    ")"
   ]
  },
  {
   "cell_type": "code",
   "execution_count": 10,
   "id": "592d396a",
   "metadata": {},
   "outputs": [],
   "source": [
    "model = YOLO(\n",
    "    \"../model/checkpoints/yolo11n-obb.pt\"\n",
    ")  # yolov11n-obb.pt is a model pre-trained on DOTA dataset for oriented bounding boxes"
   ]
  },
  {
   "cell_type": "code",
   "execution_count": 11,
   "id": "6d785cb9",
   "metadata": {},
   "outputs": [
    {
     "name": "stdout",
     "output_type": "stream",
     "text": [
      "New https://pypi.org/project/ultralytics/8.3.221 available  Update with 'pip install -U ultralytics'\n",
      "Ultralytics 8.3.40  Python-3.13.3 torch-2.9.0+cu126 CUDA:0 (NVIDIA GeForce RTX 4070 Laptop GPU, 8188MiB)\n",
      "\u001b[34m\u001b[1mengine\\trainer: \u001b[0mtask=obb, mode=train, model=../model/checkpoints/yolo11n-obb.pt, data=../data/combined_wildlife_poly_bridges_filtered_no_ch_640-yolo/data.yaml, epochs=1000, time=None, patience=10, batch=16, imgsz=640, save=True, save_period=-1, cache=False, device=None, workers=8, project=cassda-wildlife-crossing, name=yolo11n-obb-wildlife_bridges-filtered-dataset-no-CH, exist_ok=True, pretrained=True, optimizer=auto, verbose=True, seed=0, deterministic=True, single_cls=False, rect=False, cos_lr=False, close_mosaic=10, resume=False, amp=True, fraction=1.0, profile=False, freeze=None, multi_scale=False, overlap_mask=True, mask_ratio=4, dropout=0.0, val=True, split=val, save_json=False, save_hybrid=False, conf=None, iou=0.7, max_det=300, half=False, dnn=False, plots=True, source=None, vid_stride=1, stream_buffer=False, visualize=False, augment=False, agnostic_nms=False, classes=None, retina_masks=False, embed=None, show=False, save_frames=False, save_txt=False, save_conf=False, save_crop=False, show_labels=True, show_conf=True, show_boxes=True, line_width=None, format=torchscript, keras=False, optimize=False, int8=False, dynamic=False, simplify=True, opset=None, workspace=None, nms=False, lr0=0.01, lrf=0.01, momentum=0.937, weight_decay=0.0005, warmup_epochs=3.0, warmup_momentum=0.8, warmup_bias_lr=0.1, box=7.5, cls=0.5, dfl=1.5, pose=12.0, kobj=1.0, nbs=64, hsv_h=0.015, hsv_s=0.7, hsv_v=0.4, degrees=90, translate=0.4, scale=0.5, shear=0.0, perspective=0.0, flipud=0.5, fliplr=0.5, bgr=0.0, mosaic=1.0, mixup=0.0, copy_paste=0.0, copy_paste_mode=flip, auto_augment=randaugment, erasing=0.4, crop_fraction=1.0, cfg=None, tracker=botsort.yaml, save_dir=cassda-wildlife-crossing\\yolo11n-obb-wildlife_bridges-filtered-dataset-no-CH\n",
      "Overriding model.yaml nc=80 with nc=1\n",
      "\n",
      "                   from  n    params  module                                       arguments                     \n",
      "  0                  -1  1       464  ultralytics.nn.modules.conv.Conv             [3, 16, 3, 2]                 \n",
      "  1                  -1  1      4672  ultralytics.nn.modules.conv.Conv             [16, 32, 3, 2]                \n",
      "  2                  -1  1      6640  ultralytics.nn.modules.block.C3k2            [32, 64, 1, False, 0.25]      \n",
      "  3                  -1  1     36992  ultralytics.nn.modules.conv.Conv             [64, 64, 3, 2]                \n",
      "  4                  -1  1     26080  ultralytics.nn.modules.block.C3k2            [64, 128, 1, False, 0.25]     \n",
      "  5                  -1  1    147712  ultralytics.nn.modules.conv.Conv             [128, 128, 3, 2]              \n",
      "  6                  -1  1     87040  ultralytics.nn.modules.block.C3k2            [128, 128, 1, True]           \n",
      "  7                  -1  1    295424  ultralytics.nn.modules.conv.Conv             [128, 256, 3, 2]              \n",
      "  8                  -1  1    346112  ultralytics.nn.modules.block.C3k2            [256, 256, 1, True]           \n",
      "  9                  -1  1    164608  ultralytics.nn.modules.block.SPPF            [256, 256, 5]                 \n",
      " 10                  -1  1    249728  ultralytics.nn.modules.block.C2PSA           [256, 256, 1]                 \n",
      " 11                  -1  1         0  torch.nn.modules.upsampling.Upsample         [None, 2, 'nearest']          \n",
      " 12             [-1, 6]  1         0  ultralytics.nn.modules.conv.Concat           [1]                           \n",
      " 13                  -1  1    111296  ultralytics.nn.modules.block.C3k2            [384, 128, 1, False]          \n",
      " 14                  -1  1         0  torch.nn.modules.upsampling.Upsample         [None, 2, 'nearest']          \n",
      " 15             [-1, 4]  1         0  ultralytics.nn.modules.conv.Concat           [1]                           \n",
      " 16                  -1  1     32096  ultralytics.nn.modules.block.C3k2            [256, 64, 1, False]           \n",
      " 17                  -1  1     36992  ultralytics.nn.modules.conv.Conv             [64, 64, 3, 2]                \n",
      " 18            [-1, 13]  1         0  ultralytics.nn.modules.conv.Concat           [1]                           \n",
      " 19                  -1  1     86720  ultralytics.nn.modules.block.C3k2            [192, 128, 1, False]          \n",
      " 20                  -1  1    147712  ultralytics.nn.modules.conv.Conv             [128, 128, 3, 2]              \n",
      " 21            [-1, 10]  1         0  ultralytics.nn.modules.conv.Concat           [1]                           \n",
      " 22                  -1  1    378880  ultralytics.nn.modules.block.C3k2            [384, 256, 1, True]           \n",
      " 23        [16, 19, 22]  1    502534  ultralytics.nn.modules.head.OBB              [1, 1, [64, 128, 256]]        \n",
      "YOLO11n-obb summary: 344 layers, 2,661,702 parameters, 2,661,686 gradients, 6.7 GFLOPs\n",
      "\n",
      "Transferred 535/541 items from pretrained weights\n",
      "Freezing layer 'model.23.dfl.conv.weight'\n",
      "\u001b[34m\u001b[1mAMP: \u001b[0mrunning Automatic Mixed Precision (AMP) checks...\n",
      "\u001b[34m\u001b[1mAMP: \u001b[0mchecks passed \n"
     ]
    },
    {
     "name": "stderr",
     "output_type": "stream",
     "text": [
      "\u001b[34m\u001b[1mtrain: \u001b[0mScanning C:\\code_ibre\\cassda_zertifikatsarbeit\\data\\combined_wildlife_poly_bridges_filtered_no_ch_640-yolo\\labels\\train.cache... 328 images, 0 backgrounds, 0 corrupt: 100%|██████████| 328/328 [00:00<?, ?it/s]"
     ]
    },
    {
     "name": "stdout",
     "output_type": "stream",
     "text": [
      "\u001b[34m\u001b[1mtrain: \u001b[0mWARNING  C:\\code_ibre\\cassda_zertifikatsarbeit\\data\\combined_wildlife_poly_bridges_filtered_no_ch_640-yolo\\images\\train\\crossing_0.png: corrupt JPEG restored and saved\n",
      "\u001b[34m\u001b[1mtrain: \u001b[0mWARNING  C:\\code_ibre\\cassda_zertifikatsarbeit\\data\\combined_wildlife_poly_bridges_filtered_no_ch_640-yolo\\images\\train\\crossing_10.png: corrupt JPEG restored and saved\n",
      "\u001b[34m\u001b[1mtrain: \u001b[0mWARNING  C:\\code_ibre\\cassda_zertifikatsarbeit\\data\\combined_wildlife_poly_bridges_filtered_no_ch_640-yolo\\images\\train\\crossing_100.png: corrupt JPEG restored and saved\n",
      "\u001b[34m\u001b[1mtrain: \u001b[0mWARNING  C:\\code_ibre\\cassda_zertifikatsarbeit\\data\\combined_wildlife_poly_bridges_filtered_no_ch_640-yolo\\images\\train\\crossing_102.png: corrupt JPEG restored and saved\n",
      "\u001b[34m\u001b[1mtrain: \u001b[0mWARNING  C:\\code_ibre\\cassda_zertifikatsarbeit\\data\\combined_wildlife_poly_bridges_filtered_no_ch_640-yolo\\images\\train\\crossing_103.png: corrupt JPEG restored and saved\n",
      "\u001b[34m\u001b[1mtrain: \u001b[0mWARNING  C:\\code_ibre\\cassda_zertifikatsarbeit\\data\\combined_wildlife_poly_bridges_filtered_no_ch_640-yolo\\images\\train\\crossing_104.png: corrupt JPEG restored and saved\n",
      "\u001b[34m\u001b[1mtrain: \u001b[0mWARNING  C:\\code_ibre\\cassda_zertifikatsarbeit\\data\\combined_wildlife_poly_bridges_filtered_no_ch_640-yolo\\images\\train\\crossing_106.png: corrupt JPEG restored and saved\n",
      "\u001b[34m\u001b[1mtrain: \u001b[0mWARNING  C:\\code_ibre\\cassda_zertifikatsarbeit\\data\\combined_wildlife_poly_bridges_filtered_no_ch_640-yolo\\images\\train\\crossing_107.png: corrupt JPEG restored and saved\n",
      "\u001b[34m\u001b[1mtrain: \u001b[0mWARNING  C:\\code_ibre\\cassda_zertifikatsarbeit\\data\\combined_wildlife_poly_bridges_filtered_no_ch_640-yolo\\images\\train\\crossing_108.png: corrupt JPEG restored and saved\n",
      "\u001b[34m\u001b[1mtrain: \u001b[0mWARNING  C:\\code_ibre\\cassda_zertifikatsarbeit\\data\\combined_wildlife_poly_bridges_filtered_no_ch_640-yolo\\images\\train\\crossing_109.png: corrupt JPEG restored and saved\n",
      "\u001b[34m\u001b[1mtrain: \u001b[0mWARNING  C:\\code_ibre\\cassda_zertifikatsarbeit\\data\\combined_wildlife_poly_bridges_filtered_no_ch_640-yolo\\images\\train\\crossing_111.png: corrupt JPEG restored and saved\n",
      "\u001b[34m\u001b[1mtrain: \u001b[0mWARNING  C:\\code_ibre\\cassda_zertifikatsarbeit\\data\\combined_wildlife_poly_bridges_filtered_no_ch_640-yolo\\images\\train\\crossing_112.png: corrupt JPEG restored and saved\n",
      "\u001b[34m\u001b[1mtrain: \u001b[0mWARNING  C:\\code_ibre\\cassda_zertifikatsarbeit\\data\\combined_wildlife_poly_bridges_filtered_no_ch_640-yolo\\images\\train\\crossing_113.png: corrupt JPEG restored and saved\n",
      "\u001b[34m\u001b[1mtrain: \u001b[0mWARNING  C:\\code_ibre\\cassda_zertifikatsarbeit\\data\\combined_wildlife_poly_bridges_filtered_no_ch_640-yolo\\images\\train\\crossing_114.png: corrupt JPEG restored and saved\n",
      "\u001b[34m\u001b[1mtrain: \u001b[0mWARNING  C:\\code_ibre\\cassda_zertifikatsarbeit\\data\\combined_wildlife_poly_bridges_filtered_no_ch_640-yolo\\images\\train\\crossing_115.png: corrupt JPEG restored and saved\n",
      "\u001b[34m\u001b[1mtrain: \u001b[0mWARNING  C:\\code_ibre\\cassda_zertifikatsarbeit\\data\\combined_wildlife_poly_bridges_filtered_no_ch_640-yolo\\images\\train\\crossing_118.png: corrupt JPEG restored and saved\n",
      "\u001b[34m\u001b[1mtrain: \u001b[0mWARNING  C:\\code_ibre\\cassda_zertifikatsarbeit\\data\\combined_wildlife_poly_bridges_filtered_no_ch_640-yolo\\images\\train\\crossing_119.png: corrupt JPEG restored and saved\n",
      "\u001b[34m\u001b[1mtrain: \u001b[0mWARNING  C:\\code_ibre\\cassda_zertifikatsarbeit\\data\\combined_wildlife_poly_bridges_filtered_no_ch_640-yolo\\images\\train\\crossing_12.png: corrupt JPEG restored and saved\n",
      "\u001b[34m\u001b[1mtrain: \u001b[0mWARNING  C:\\code_ibre\\cassda_zertifikatsarbeit\\data\\combined_wildlife_poly_bridges_filtered_no_ch_640-yolo\\images\\train\\crossing_120.png: corrupt JPEG restored and saved\n",
      "\u001b[34m\u001b[1mtrain: \u001b[0mWARNING  C:\\code_ibre\\cassda_zertifikatsarbeit\\data\\combined_wildlife_poly_bridges_filtered_no_ch_640-yolo\\images\\train\\crossing_121.png: corrupt JPEG restored and saved\n",
      "\u001b[34m\u001b[1mtrain: \u001b[0mWARNING  C:\\code_ibre\\cassda_zertifikatsarbeit\\data\\combined_wildlife_poly_bridges_filtered_no_ch_640-yolo\\images\\train\\crossing_123.png: corrupt JPEG restored and saved\n",
      "\u001b[34m\u001b[1mtrain: \u001b[0mWARNING  C:\\code_ibre\\cassda_zertifikatsarbeit\\data\\combined_wildlife_poly_bridges_filtered_no_ch_640-yolo\\images\\train\\crossing_124.png: corrupt JPEG restored and saved\n",
      "\u001b[34m\u001b[1mtrain: \u001b[0mWARNING  C:\\code_ibre\\cassda_zertifikatsarbeit\\data\\combined_wildlife_poly_bridges_filtered_no_ch_640-yolo\\images\\train\\crossing_125.png: corrupt JPEG restored and saved\n",
      "\u001b[34m\u001b[1mtrain: \u001b[0mWARNING  C:\\code_ibre\\cassda_zertifikatsarbeit\\data\\combined_wildlife_poly_bridges_filtered_no_ch_640-yolo\\images\\train\\crossing_126.png: corrupt JPEG restored and saved\n",
      "\u001b[34m\u001b[1mtrain: \u001b[0mWARNING  C:\\code_ibre\\cassda_zertifikatsarbeit\\data\\combined_wildlife_poly_bridges_filtered_no_ch_640-yolo\\images\\train\\crossing_128.png: corrupt JPEG restored and saved\n",
      "\u001b[34m\u001b[1mtrain: \u001b[0mWARNING  C:\\code_ibre\\cassda_zertifikatsarbeit\\data\\combined_wildlife_poly_bridges_filtered_no_ch_640-yolo\\images\\train\\crossing_13.png: corrupt JPEG restored and saved\n",
      "\u001b[34m\u001b[1mtrain: \u001b[0mWARNING  C:\\code_ibre\\cassda_zertifikatsarbeit\\data\\combined_wildlife_poly_bridges_filtered_no_ch_640-yolo\\images\\train\\crossing_130.png: corrupt JPEG restored and saved\n",
      "\u001b[34m\u001b[1mtrain: \u001b[0mWARNING  C:\\code_ibre\\cassda_zertifikatsarbeit\\data\\combined_wildlife_poly_bridges_filtered_no_ch_640-yolo\\images\\train\\crossing_131.png: corrupt JPEG restored and saved\n",
      "\u001b[34m\u001b[1mtrain: \u001b[0mWARNING  C:\\code_ibre\\cassda_zertifikatsarbeit\\data\\combined_wildlife_poly_bridges_filtered_no_ch_640-yolo\\images\\train\\crossing_132.png: corrupt JPEG restored and saved\n",
      "\u001b[34m\u001b[1mtrain: \u001b[0mWARNING  C:\\code_ibre\\cassda_zertifikatsarbeit\\data\\combined_wildlife_poly_bridges_filtered_no_ch_640-yolo\\images\\train\\crossing_133.png: corrupt JPEG restored and saved\n",
      "\u001b[34m\u001b[1mtrain: \u001b[0mWARNING  C:\\code_ibre\\cassda_zertifikatsarbeit\\data\\combined_wildlife_poly_bridges_filtered_no_ch_640-yolo\\images\\train\\crossing_135.png: corrupt JPEG restored and saved\n",
      "\u001b[34m\u001b[1mtrain: \u001b[0mWARNING  C:\\code_ibre\\cassda_zertifikatsarbeit\\data\\combined_wildlife_poly_bridges_filtered_no_ch_640-yolo\\images\\train\\crossing_136.png: corrupt JPEG restored and saved\n",
      "\u001b[34m\u001b[1mtrain: \u001b[0mWARNING  C:\\code_ibre\\cassda_zertifikatsarbeit\\data\\combined_wildlife_poly_bridges_filtered_no_ch_640-yolo\\images\\train\\crossing_138.png: corrupt JPEG restored and saved\n",
      "\u001b[34m\u001b[1mtrain: \u001b[0mWARNING  C:\\code_ibre\\cassda_zertifikatsarbeit\\data\\combined_wildlife_poly_bridges_filtered_no_ch_640-yolo\\images\\train\\crossing_139.png: corrupt JPEG restored and saved\n",
      "\u001b[34m\u001b[1mtrain: \u001b[0mWARNING  C:\\code_ibre\\cassda_zertifikatsarbeit\\data\\combined_wildlife_poly_bridges_filtered_no_ch_640-yolo\\images\\train\\crossing_14.png: corrupt JPEG restored and saved\n",
      "\u001b[34m\u001b[1mtrain: \u001b[0mWARNING  C:\\code_ibre\\cassda_zertifikatsarbeit\\data\\combined_wildlife_poly_bridges_filtered_no_ch_640-yolo\\images\\train\\crossing_144.png: corrupt JPEG restored and saved\n",
      "\u001b[34m\u001b[1mtrain: \u001b[0mWARNING  C:\\code_ibre\\cassda_zertifikatsarbeit\\data\\combined_wildlife_poly_bridges_filtered_no_ch_640-yolo\\images\\train\\crossing_148.png: corrupt JPEG restored and saved\n",
      "\u001b[34m\u001b[1mtrain: \u001b[0mWARNING  C:\\code_ibre\\cassda_zertifikatsarbeit\\data\\combined_wildlife_poly_bridges_filtered_no_ch_640-yolo\\images\\train\\crossing_149.png: corrupt JPEG restored and saved\n",
      "\u001b[34m\u001b[1mtrain: \u001b[0mWARNING  C:\\code_ibre\\cassda_zertifikatsarbeit\\data\\combined_wildlife_poly_bridges_filtered_no_ch_640-yolo\\images\\train\\crossing_15.png: corrupt JPEG restored and saved\n",
      "\u001b[34m\u001b[1mtrain: \u001b[0mWARNING  C:\\code_ibre\\cassda_zertifikatsarbeit\\data\\combined_wildlife_poly_bridges_filtered_no_ch_640-yolo\\images\\train\\crossing_151.png: corrupt JPEG restored and saved\n",
      "\u001b[34m\u001b[1mtrain: \u001b[0mWARNING  C:\\code_ibre\\cassda_zertifikatsarbeit\\data\\combined_wildlife_poly_bridges_filtered_no_ch_640-yolo\\images\\train\\crossing_152.png: corrupt JPEG restored and saved\n",
      "\u001b[34m\u001b[1mtrain: \u001b[0mWARNING  C:\\code_ibre\\cassda_zertifikatsarbeit\\data\\combined_wildlife_poly_bridges_filtered_no_ch_640-yolo\\images\\train\\crossing_155.png: corrupt JPEG restored and saved\n",
      "\u001b[34m\u001b[1mtrain: \u001b[0mWARNING  C:\\code_ibre\\cassda_zertifikatsarbeit\\data\\combined_wildlife_poly_bridges_filtered_no_ch_640-yolo\\images\\train\\crossing_157.png: corrupt JPEG restored and saved\n",
      "\u001b[34m\u001b[1mtrain: \u001b[0mWARNING  C:\\code_ibre\\cassda_zertifikatsarbeit\\data\\combined_wildlife_poly_bridges_filtered_no_ch_640-yolo\\images\\train\\crossing_158.png: corrupt JPEG restored and saved\n",
      "\u001b[34m\u001b[1mtrain: \u001b[0mWARNING  C:\\code_ibre\\cassda_zertifikatsarbeit\\data\\combined_wildlife_poly_bridges_filtered_no_ch_640-yolo\\images\\train\\crossing_159.png: corrupt JPEG restored and saved\n",
      "\u001b[34m\u001b[1mtrain: \u001b[0mWARNING  C:\\code_ibre\\cassda_zertifikatsarbeit\\data\\combined_wildlife_poly_bridges_filtered_no_ch_640-yolo\\images\\train\\crossing_16.png: corrupt JPEG restored and saved\n",
      "\u001b[34m\u001b[1mtrain: \u001b[0mWARNING  C:\\code_ibre\\cassda_zertifikatsarbeit\\data\\combined_wildlife_poly_bridges_filtered_no_ch_640-yolo\\images\\train\\crossing_160.png: corrupt JPEG restored and saved\n",
      "\u001b[34m\u001b[1mtrain: \u001b[0mWARNING  C:\\code_ibre\\cassda_zertifikatsarbeit\\data\\combined_wildlife_poly_bridges_filtered_no_ch_640-yolo\\images\\train\\crossing_161.png: corrupt JPEG restored and saved\n",
      "\u001b[34m\u001b[1mtrain: \u001b[0mWARNING  C:\\code_ibre\\cassda_zertifikatsarbeit\\data\\combined_wildlife_poly_bridges_filtered_no_ch_640-yolo\\images\\train\\crossing_163.png: corrupt JPEG restored and saved\n",
      "\u001b[34m\u001b[1mtrain: \u001b[0mWARNING  C:\\code_ibre\\cassda_zertifikatsarbeit\\data\\combined_wildlife_poly_bridges_filtered_no_ch_640-yolo\\images\\train\\crossing_164.png: corrupt JPEG restored and saved\n",
      "\u001b[34m\u001b[1mtrain: \u001b[0mWARNING  C:\\code_ibre\\cassda_zertifikatsarbeit\\data\\combined_wildlife_poly_bridges_filtered_no_ch_640-yolo\\images\\train\\crossing_165.png: corrupt JPEG restored and saved\n",
      "\u001b[34m\u001b[1mtrain: \u001b[0mWARNING  C:\\code_ibre\\cassda_zertifikatsarbeit\\data\\combined_wildlife_poly_bridges_filtered_no_ch_640-yolo\\images\\train\\crossing_166.png: corrupt JPEG restored and saved\n",
      "\u001b[34m\u001b[1mtrain: \u001b[0mWARNING  C:\\code_ibre\\cassda_zertifikatsarbeit\\data\\combined_wildlife_poly_bridges_filtered_no_ch_640-yolo\\images\\train\\crossing_167.png: corrupt JPEG restored and saved\n",
      "\u001b[34m\u001b[1mtrain: \u001b[0mWARNING  C:\\code_ibre\\cassda_zertifikatsarbeit\\data\\combined_wildlife_poly_bridges_filtered_no_ch_640-yolo\\images\\train\\crossing_168.png: corrupt JPEG restored and saved\n",
      "\u001b[34m\u001b[1mtrain: \u001b[0mWARNING  C:\\code_ibre\\cassda_zertifikatsarbeit\\data\\combined_wildlife_poly_bridges_filtered_no_ch_640-yolo\\images\\train\\crossing_169.png: corrupt JPEG restored and saved\n",
      "\u001b[34m\u001b[1mtrain: \u001b[0mWARNING  C:\\code_ibre\\cassda_zertifikatsarbeit\\data\\combined_wildlife_poly_bridges_filtered_no_ch_640-yolo\\images\\train\\crossing_17.png: corrupt JPEG restored and saved\n",
      "\u001b[34m\u001b[1mtrain: \u001b[0mWARNING  C:\\code_ibre\\cassda_zertifikatsarbeit\\data\\combined_wildlife_poly_bridges_filtered_no_ch_640-yolo\\images\\train\\crossing_171.png: corrupt JPEG restored and saved\n",
      "\u001b[34m\u001b[1mtrain: \u001b[0mWARNING  C:\\code_ibre\\cassda_zertifikatsarbeit\\data\\combined_wildlife_poly_bridges_filtered_no_ch_640-yolo\\images\\train\\crossing_172.png: corrupt JPEG restored and saved\n",
      "\u001b[34m\u001b[1mtrain: \u001b[0mWARNING  C:\\code_ibre\\cassda_zertifikatsarbeit\\data\\combined_wildlife_poly_bridges_filtered_no_ch_640-yolo\\images\\train\\crossing_173.png: corrupt JPEG restored and saved\n",
      "\u001b[34m\u001b[1mtrain: \u001b[0mWARNING  C:\\code_ibre\\cassda_zertifikatsarbeit\\data\\combined_wildlife_poly_bridges_filtered_no_ch_640-yolo\\images\\train\\crossing_174.png: corrupt JPEG restored and saved\n",
      "\u001b[34m\u001b[1mtrain: \u001b[0mWARNING  C:\\code_ibre\\cassda_zertifikatsarbeit\\data\\combined_wildlife_poly_bridges_filtered_no_ch_640-yolo\\images\\train\\crossing_175.png: corrupt JPEG restored and saved\n",
      "\u001b[34m\u001b[1mtrain: \u001b[0mWARNING  C:\\code_ibre\\cassda_zertifikatsarbeit\\data\\combined_wildlife_poly_bridges_filtered_no_ch_640-yolo\\images\\train\\crossing_176.png: corrupt JPEG restored and saved\n",
      "\u001b[34m\u001b[1mtrain: \u001b[0mWARNING  C:\\code_ibre\\cassda_zertifikatsarbeit\\data\\combined_wildlife_poly_bridges_filtered_no_ch_640-yolo\\images\\train\\crossing_179.png: corrupt JPEG restored and saved\n",
      "\u001b[34m\u001b[1mtrain: \u001b[0mWARNING  C:\\code_ibre\\cassda_zertifikatsarbeit\\data\\combined_wildlife_poly_bridges_filtered_no_ch_640-yolo\\images\\train\\crossing_18.png: corrupt JPEG restored and saved\n",
      "\u001b[34m\u001b[1mtrain: \u001b[0mWARNING  C:\\code_ibre\\cassda_zertifikatsarbeit\\data\\combined_wildlife_poly_bridges_filtered_no_ch_640-yolo\\images\\train\\crossing_181.png: corrupt JPEG restored and saved\n",
      "\u001b[34m\u001b[1mtrain: \u001b[0mWARNING  C:\\code_ibre\\cassda_zertifikatsarbeit\\data\\combined_wildlife_poly_bridges_filtered_no_ch_640-yolo\\images\\train\\crossing_182.png: corrupt JPEG restored and saved\n",
      "\u001b[34m\u001b[1mtrain: \u001b[0mWARNING  C:\\code_ibre\\cassda_zertifikatsarbeit\\data\\combined_wildlife_poly_bridges_filtered_no_ch_640-yolo\\images\\train\\crossing_183.png: corrupt JPEG restored and saved\n",
      "\u001b[34m\u001b[1mtrain: \u001b[0mWARNING  C:\\code_ibre\\cassda_zertifikatsarbeit\\data\\combined_wildlife_poly_bridges_filtered_no_ch_640-yolo\\images\\train\\crossing_184.png: corrupt JPEG restored and saved\n",
      "\u001b[34m\u001b[1mtrain: \u001b[0mWARNING  C:\\code_ibre\\cassda_zertifikatsarbeit\\data\\combined_wildlife_poly_bridges_filtered_no_ch_640-yolo\\images\\train\\crossing_185.png: corrupt JPEG restored and saved\n",
      "\u001b[34m\u001b[1mtrain: \u001b[0mWARNING  C:\\code_ibre\\cassda_zertifikatsarbeit\\data\\combined_wildlife_poly_bridges_filtered_no_ch_640-yolo\\images\\train\\crossing_186.png: corrupt JPEG restored and saved\n",
      "\u001b[34m\u001b[1mtrain: \u001b[0mWARNING  C:\\code_ibre\\cassda_zertifikatsarbeit\\data\\combined_wildlife_poly_bridges_filtered_no_ch_640-yolo\\images\\train\\crossing_19.png: corrupt JPEG restored and saved\n",
      "\u001b[34m\u001b[1mtrain: \u001b[0mWARNING  C:\\code_ibre\\cassda_zertifikatsarbeit\\data\\combined_wildlife_poly_bridges_filtered_no_ch_640-yolo\\images\\train\\crossing_191.png: corrupt JPEG restored and saved\n",
      "\u001b[34m\u001b[1mtrain: \u001b[0mWARNING  C:\\code_ibre\\cassda_zertifikatsarbeit\\data\\combined_wildlife_poly_bridges_filtered_no_ch_640-yolo\\images\\train\\crossing_192.png: corrupt JPEG restored and saved\n",
      "\u001b[34m\u001b[1mtrain: \u001b[0mWARNING  C:\\code_ibre\\cassda_zertifikatsarbeit\\data\\combined_wildlife_poly_bridges_filtered_no_ch_640-yolo\\images\\train\\crossing_195.png: corrupt JPEG restored and saved\n",
      "\u001b[34m\u001b[1mtrain: \u001b[0mWARNING  C:\\code_ibre\\cassda_zertifikatsarbeit\\data\\combined_wildlife_poly_bridges_filtered_no_ch_640-yolo\\images\\train\\crossing_196.png: corrupt JPEG restored and saved\n",
      "\u001b[34m\u001b[1mtrain: \u001b[0mWARNING  C:\\code_ibre\\cassda_zertifikatsarbeit\\data\\combined_wildlife_poly_bridges_filtered_no_ch_640-yolo\\images\\train\\crossing_197.png: corrupt JPEG restored and saved\n",
      "\u001b[34m\u001b[1mtrain: \u001b[0mWARNING  C:\\code_ibre\\cassda_zertifikatsarbeit\\data\\combined_wildlife_poly_bridges_filtered_no_ch_640-yolo\\images\\train\\crossing_198.png: corrupt JPEG restored and saved\n",
      "\u001b[34m\u001b[1mtrain: \u001b[0mWARNING  C:\\code_ibre\\cassda_zertifikatsarbeit\\data\\combined_wildlife_poly_bridges_filtered_no_ch_640-yolo\\images\\train\\crossing_199.png: corrupt JPEG restored and saved\n",
      "\u001b[34m\u001b[1mtrain: \u001b[0mWARNING  C:\\code_ibre\\cassda_zertifikatsarbeit\\data\\combined_wildlife_poly_bridges_filtered_no_ch_640-yolo\\images\\train\\crossing_2.png: corrupt JPEG restored and saved\n",
      "\u001b[34m\u001b[1mtrain: \u001b[0mWARNING  C:\\code_ibre\\cassda_zertifikatsarbeit\\data\\combined_wildlife_poly_bridges_filtered_no_ch_640-yolo\\images\\train\\crossing_20.png: corrupt JPEG restored and saved\n",
      "\u001b[34m\u001b[1mtrain: \u001b[0mWARNING  C:\\code_ibre\\cassda_zertifikatsarbeit\\data\\combined_wildlife_poly_bridges_filtered_no_ch_640-yolo\\images\\train\\crossing_200.png: corrupt JPEG restored and saved\n",
      "\u001b[34m\u001b[1mtrain: \u001b[0mWARNING  C:\\code_ibre\\cassda_zertifikatsarbeit\\data\\combined_wildlife_poly_bridges_filtered_no_ch_640-yolo\\images\\train\\crossing_201.png: corrupt JPEG restored and saved\n",
      "\u001b[34m\u001b[1mtrain: \u001b[0mWARNING  C:\\code_ibre\\cassda_zertifikatsarbeit\\data\\combined_wildlife_poly_bridges_filtered_no_ch_640-yolo\\images\\train\\crossing_202.png: corrupt JPEG restored and saved\n",
      "\u001b[34m\u001b[1mtrain: \u001b[0mWARNING  C:\\code_ibre\\cassda_zertifikatsarbeit\\data\\combined_wildlife_poly_bridges_filtered_no_ch_640-yolo\\images\\train\\crossing_203.png: corrupt JPEG restored and saved\n",
      "\u001b[34m\u001b[1mtrain: \u001b[0mWARNING  C:\\code_ibre\\cassda_zertifikatsarbeit\\data\\combined_wildlife_poly_bridges_filtered_no_ch_640-yolo\\images\\train\\crossing_204.png: corrupt JPEG restored and saved\n",
      "\u001b[34m\u001b[1mtrain: \u001b[0mWARNING  C:\\code_ibre\\cassda_zertifikatsarbeit\\data\\combined_wildlife_poly_bridges_filtered_no_ch_640-yolo\\images\\train\\crossing_205.png: corrupt JPEG restored and saved\n",
      "\u001b[34m\u001b[1mtrain: \u001b[0mWARNING  C:\\code_ibre\\cassda_zertifikatsarbeit\\data\\combined_wildlife_poly_bridges_filtered_no_ch_640-yolo\\images\\train\\crossing_206.png: corrupt JPEG restored and saved\n",
      "\u001b[34m\u001b[1mtrain: \u001b[0mWARNING  C:\\code_ibre\\cassda_zertifikatsarbeit\\data\\combined_wildlife_poly_bridges_filtered_no_ch_640-yolo\\images\\train\\crossing_208.png: corrupt JPEG restored and saved\n",
      "\u001b[34m\u001b[1mtrain: \u001b[0mWARNING  C:\\code_ibre\\cassda_zertifikatsarbeit\\data\\combined_wildlife_poly_bridges_filtered_no_ch_640-yolo\\images\\train\\crossing_209.png: corrupt JPEG restored and saved\n",
      "\u001b[34m\u001b[1mtrain: \u001b[0mWARNING  C:\\code_ibre\\cassda_zertifikatsarbeit\\data\\combined_wildlife_poly_bridges_filtered_no_ch_640-yolo\\images\\train\\crossing_21.png: corrupt JPEG restored and saved\n",
      "\u001b[34m\u001b[1mtrain: \u001b[0mWARNING  C:\\code_ibre\\cassda_zertifikatsarbeit\\data\\combined_wildlife_poly_bridges_filtered_no_ch_640-yolo\\images\\train\\crossing_210.png: corrupt JPEG restored and saved\n",
      "\u001b[34m\u001b[1mtrain: \u001b[0mWARNING  C:\\code_ibre\\cassda_zertifikatsarbeit\\data\\combined_wildlife_poly_bridges_filtered_no_ch_640-yolo\\images\\train\\crossing_211.png: corrupt JPEG restored and saved\n",
      "\u001b[34m\u001b[1mtrain: \u001b[0mWARNING  C:\\code_ibre\\cassda_zertifikatsarbeit\\data\\combined_wildlife_poly_bridges_filtered_no_ch_640-yolo\\images\\train\\crossing_212.png: corrupt JPEG restored and saved\n",
      "\u001b[34m\u001b[1mtrain: \u001b[0mWARNING  C:\\code_ibre\\cassda_zertifikatsarbeit\\data\\combined_wildlife_poly_bridges_filtered_no_ch_640-yolo\\images\\train\\crossing_214.png: corrupt JPEG restored and saved\n",
      "\u001b[34m\u001b[1mtrain: \u001b[0mWARNING  C:\\code_ibre\\cassda_zertifikatsarbeit\\data\\combined_wildlife_poly_bridges_filtered_no_ch_640-yolo\\images\\train\\crossing_216.png: corrupt JPEG restored and saved\n",
      "\u001b[34m\u001b[1mtrain: \u001b[0mWARNING  C:\\code_ibre\\cassda_zertifikatsarbeit\\data\\combined_wildlife_poly_bridges_filtered_no_ch_640-yolo\\images\\train\\crossing_217.png: corrupt JPEG restored and saved\n",
      "\u001b[34m\u001b[1mtrain: \u001b[0mWARNING  C:\\code_ibre\\cassda_zertifikatsarbeit\\data\\combined_wildlife_poly_bridges_filtered_no_ch_640-yolo\\images\\train\\crossing_218.png: corrupt JPEG restored and saved\n",
      "\u001b[34m\u001b[1mtrain: \u001b[0mWARNING  C:\\code_ibre\\cassda_zertifikatsarbeit\\data\\combined_wildlife_poly_bridges_filtered_no_ch_640-yolo\\images\\train\\crossing_220.png: corrupt JPEG restored and saved\n",
      "\u001b[34m\u001b[1mtrain: \u001b[0mWARNING  C:\\code_ibre\\cassda_zertifikatsarbeit\\data\\combined_wildlife_poly_bridges_filtered_no_ch_640-yolo\\images\\train\\crossing_221.png: corrupt JPEG restored and saved\n",
      "\u001b[34m\u001b[1mtrain: \u001b[0mWARNING  C:\\code_ibre\\cassda_zertifikatsarbeit\\data\\combined_wildlife_poly_bridges_filtered_no_ch_640-yolo\\images\\train\\crossing_223.png: corrupt JPEG restored and saved\n",
      "\u001b[34m\u001b[1mtrain: \u001b[0mWARNING  C:\\code_ibre\\cassda_zertifikatsarbeit\\data\\combined_wildlife_poly_bridges_filtered_no_ch_640-yolo\\images\\train\\crossing_224.png: corrupt JPEG restored and saved\n",
      "\u001b[34m\u001b[1mtrain: \u001b[0mWARNING  C:\\code_ibre\\cassda_zertifikatsarbeit\\data\\combined_wildlife_poly_bridges_filtered_no_ch_640-yolo\\images\\train\\crossing_225.png: corrupt JPEG restored and saved\n",
      "\u001b[34m\u001b[1mtrain: \u001b[0mWARNING  C:\\code_ibre\\cassda_zertifikatsarbeit\\data\\combined_wildlife_poly_bridges_filtered_no_ch_640-yolo\\images\\train\\crossing_226.png: corrupt JPEG restored and saved\n",
      "\u001b[34m\u001b[1mtrain: \u001b[0mWARNING  C:\\code_ibre\\cassda_zertifikatsarbeit\\data\\combined_wildlife_poly_bridges_filtered_no_ch_640-yolo\\images\\train\\crossing_227.png: corrupt JPEG restored and saved\n",
      "\u001b[34m\u001b[1mtrain: \u001b[0mWARNING  C:\\code_ibre\\cassda_zertifikatsarbeit\\data\\combined_wildlife_poly_bridges_filtered_no_ch_640-yolo\\images\\train\\crossing_228.png: corrupt JPEG restored and saved\n",
      "\u001b[34m\u001b[1mtrain: \u001b[0mWARNING  C:\\code_ibre\\cassda_zertifikatsarbeit\\data\\combined_wildlife_poly_bridges_filtered_no_ch_640-yolo\\images\\train\\crossing_229.png: corrupt JPEG restored and saved\n",
      "\u001b[34m\u001b[1mtrain: \u001b[0mWARNING  C:\\code_ibre\\cassda_zertifikatsarbeit\\data\\combined_wildlife_poly_bridges_filtered_no_ch_640-yolo\\images\\train\\crossing_23.png: corrupt JPEG restored and saved\n",
      "\u001b[34m\u001b[1mtrain: \u001b[0mWARNING  C:\\code_ibre\\cassda_zertifikatsarbeit\\data\\combined_wildlife_poly_bridges_filtered_no_ch_640-yolo\\images\\train\\crossing_230.png: corrupt JPEG restored and saved\n",
      "\u001b[34m\u001b[1mtrain: \u001b[0mWARNING  C:\\code_ibre\\cassda_zertifikatsarbeit\\data\\combined_wildlife_poly_bridges_filtered_no_ch_640-yolo\\images\\train\\crossing_231.png: corrupt JPEG restored and saved\n",
      "\u001b[34m\u001b[1mtrain: \u001b[0mWARNING  C:\\code_ibre\\cassda_zertifikatsarbeit\\data\\combined_wildlife_poly_bridges_filtered_no_ch_640-yolo\\images\\train\\crossing_233.png: corrupt JPEG restored and saved\n",
      "\u001b[34m\u001b[1mtrain: \u001b[0mWARNING  C:\\code_ibre\\cassda_zertifikatsarbeit\\data\\combined_wildlife_poly_bridges_filtered_no_ch_640-yolo\\images\\train\\crossing_235.png: corrupt JPEG restored and saved\n",
      "\u001b[34m\u001b[1mtrain: \u001b[0mWARNING  C:\\code_ibre\\cassda_zertifikatsarbeit\\data\\combined_wildlife_poly_bridges_filtered_no_ch_640-yolo\\images\\train\\crossing_236.png: corrupt JPEG restored and saved\n",
      "\u001b[34m\u001b[1mtrain: \u001b[0mWARNING  C:\\code_ibre\\cassda_zertifikatsarbeit\\data\\combined_wildlife_poly_bridges_filtered_no_ch_640-yolo\\images\\train\\crossing_237.png: corrupt JPEG restored and saved\n",
      "\u001b[34m\u001b[1mtrain: \u001b[0mWARNING  C:\\code_ibre\\cassda_zertifikatsarbeit\\data\\combined_wildlife_poly_bridges_filtered_no_ch_640-yolo\\images\\train\\crossing_238.png: corrupt JPEG restored and saved\n",
      "\u001b[34m\u001b[1mtrain: \u001b[0mWARNING  C:\\code_ibre\\cassda_zertifikatsarbeit\\data\\combined_wildlife_poly_bridges_filtered_no_ch_640-yolo\\images\\train\\crossing_24.png: corrupt JPEG restored and saved\n",
      "\u001b[34m\u001b[1mtrain: \u001b[0mWARNING  C:\\code_ibre\\cassda_zertifikatsarbeit\\data\\combined_wildlife_poly_bridges_filtered_no_ch_640-yolo\\images\\train\\crossing_240.png: corrupt JPEG restored and saved\n",
      "\u001b[34m\u001b[1mtrain: \u001b[0mWARNING  C:\\code_ibre\\cassda_zertifikatsarbeit\\data\\combined_wildlife_poly_bridges_filtered_no_ch_640-yolo\\images\\train\\crossing_241.png: corrupt JPEG restored and saved\n",
      "\u001b[34m\u001b[1mtrain: \u001b[0mWARNING  C:\\code_ibre\\cassda_zertifikatsarbeit\\data\\combined_wildlife_poly_bridges_filtered_no_ch_640-yolo\\images\\train\\crossing_245.png: corrupt JPEG restored and saved\n",
      "\u001b[34m\u001b[1mtrain: \u001b[0mWARNING  C:\\code_ibre\\cassda_zertifikatsarbeit\\data\\combined_wildlife_poly_bridges_filtered_no_ch_640-yolo\\images\\train\\crossing_246.png: corrupt JPEG restored and saved\n",
      "\u001b[34m\u001b[1mtrain: \u001b[0mWARNING  C:\\code_ibre\\cassda_zertifikatsarbeit\\data\\combined_wildlife_poly_bridges_filtered_no_ch_640-yolo\\images\\train\\crossing_247.png: corrupt JPEG restored and saved\n",
      "\u001b[34m\u001b[1mtrain: \u001b[0mWARNING  C:\\code_ibre\\cassda_zertifikatsarbeit\\data\\combined_wildlife_poly_bridges_filtered_no_ch_640-yolo\\images\\train\\crossing_249.png: corrupt JPEG restored and saved\n",
      "\u001b[34m\u001b[1mtrain: \u001b[0mWARNING  C:\\code_ibre\\cassda_zertifikatsarbeit\\data\\combined_wildlife_poly_bridges_filtered_no_ch_640-yolo\\images\\train\\crossing_25.png: corrupt JPEG restored and saved\n",
      "\u001b[34m\u001b[1mtrain: \u001b[0mWARNING  C:\\code_ibre\\cassda_zertifikatsarbeit\\data\\combined_wildlife_poly_bridges_filtered_no_ch_640-yolo\\images\\train\\crossing_251.png: corrupt JPEG restored and saved\n",
      "\u001b[34m\u001b[1mtrain: \u001b[0mWARNING  C:\\code_ibre\\cassda_zertifikatsarbeit\\data\\combined_wildlife_poly_bridges_filtered_no_ch_640-yolo\\images\\train\\crossing_253.png: corrupt JPEG restored and saved\n",
      "\u001b[34m\u001b[1mtrain: \u001b[0mWARNING  C:\\code_ibre\\cassda_zertifikatsarbeit\\data\\combined_wildlife_poly_bridges_filtered_no_ch_640-yolo\\images\\train\\crossing_254.png: corrupt JPEG restored and saved\n",
      "\u001b[34m\u001b[1mtrain: \u001b[0mWARNING  C:\\code_ibre\\cassda_zertifikatsarbeit\\data\\combined_wildlife_poly_bridges_filtered_no_ch_640-yolo\\images\\train\\crossing_256.png: corrupt JPEG restored and saved\n",
      "\u001b[34m\u001b[1mtrain: \u001b[0mWARNING  C:\\code_ibre\\cassda_zertifikatsarbeit\\data\\combined_wildlife_poly_bridges_filtered_no_ch_640-yolo\\images\\train\\crossing_257.png: corrupt JPEG restored and saved\n",
      "\u001b[34m\u001b[1mtrain: \u001b[0mWARNING  C:\\code_ibre\\cassda_zertifikatsarbeit\\data\\combined_wildlife_poly_bridges_filtered_no_ch_640-yolo\\images\\train\\crossing_258.png: corrupt JPEG restored and saved\n",
      "\u001b[34m\u001b[1mtrain: \u001b[0mWARNING  C:\\code_ibre\\cassda_zertifikatsarbeit\\data\\combined_wildlife_poly_bridges_filtered_no_ch_640-yolo\\images\\train\\crossing_259.png: corrupt JPEG restored and saved\n",
      "\u001b[34m\u001b[1mtrain: \u001b[0mWARNING  C:\\code_ibre\\cassda_zertifikatsarbeit\\data\\combined_wildlife_poly_bridges_filtered_no_ch_640-yolo\\images\\train\\crossing_26.png: corrupt JPEG restored and saved\n",
      "\u001b[34m\u001b[1mtrain: \u001b[0mWARNING  C:\\code_ibre\\cassda_zertifikatsarbeit\\data\\combined_wildlife_poly_bridges_filtered_no_ch_640-yolo\\images\\train\\crossing_260.png: corrupt JPEG restored and saved\n",
      "\u001b[34m\u001b[1mtrain: \u001b[0mWARNING  C:\\code_ibre\\cassda_zertifikatsarbeit\\data\\combined_wildlife_poly_bridges_filtered_no_ch_640-yolo\\images\\train\\crossing_261.png: corrupt JPEG restored and saved\n",
      "\u001b[34m\u001b[1mtrain: \u001b[0mWARNING  C:\\code_ibre\\cassda_zertifikatsarbeit\\data\\combined_wildlife_poly_bridges_filtered_no_ch_640-yolo\\images\\train\\crossing_262.png: corrupt JPEG restored and saved\n",
      "\u001b[34m\u001b[1mtrain: \u001b[0mWARNING  C:\\code_ibre\\cassda_zertifikatsarbeit\\data\\combined_wildlife_poly_bridges_filtered_no_ch_640-yolo\\images\\train\\crossing_263.png: corrupt JPEG restored and saved\n",
      "\u001b[34m\u001b[1mtrain: \u001b[0mWARNING  C:\\code_ibre\\cassda_zertifikatsarbeit\\data\\combined_wildlife_poly_bridges_filtered_no_ch_640-yolo\\images\\train\\crossing_264.png: corrupt JPEG restored and saved\n",
      "\u001b[34m\u001b[1mtrain: \u001b[0mWARNING  C:\\code_ibre\\cassda_zertifikatsarbeit\\data\\combined_wildlife_poly_bridges_filtered_no_ch_640-yolo\\images\\train\\crossing_265.png: corrupt JPEG restored and saved\n",
      "\u001b[34m\u001b[1mtrain: \u001b[0mWARNING  C:\\code_ibre\\cassda_zertifikatsarbeit\\data\\combined_wildlife_poly_bridges_filtered_no_ch_640-yolo\\images\\train\\crossing_266.png: corrupt JPEG restored and saved\n",
      "\u001b[34m\u001b[1mtrain: \u001b[0mWARNING  C:\\code_ibre\\cassda_zertifikatsarbeit\\data\\combined_wildlife_poly_bridges_filtered_no_ch_640-yolo\\images\\train\\crossing_271.png: corrupt JPEG restored and saved\n",
      "\u001b[34m\u001b[1mtrain: \u001b[0mWARNING  C:\\code_ibre\\cassda_zertifikatsarbeit\\data\\combined_wildlife_poly_bridges_filtered_no_ch_640-yolo\\images\\train\\crossing_272.png: corrupt JPEG restored and saved\n",
      "\u001b[34m\u001b[1mtrain: \u001b[0mWARNING  C:\\code_ibre\\cassda_zertifikatsarbeit\\data\\combined_wildlife_poly_bridges_filtered_no_ch_640-yolo\\images\\train\\crossing_273.png: corrupt JPEG restored and saved\n",
      "\u001b[34m\u001b[1mtrain: \u001b[0mWARNING  C:\\code_ibre\\cassda_zertifikatsarbeit\\data\\combined_wildlife_poly_bridges_filtered_no_ch_640-yolo\\images\\train\\crossing_274.png: corrupt JPEG restored and saved\n",
      "\u001b[34m\u001b[1mtrain: \u001b[0mWARNING  C:\\code_ibre\\cassda_zertifikatsarbeit\\data\\combined_wildlife_poly_bridges_filtered_no_ch_640-yolo\\images\\train\\crossing_275.png: corrupt JPEG restored and saved\n",
      "\u001b[34m\u001b[1mtrain: \u001b[0mWARNING  C:\\code_ibre\\cassda_zertifikatsarbeit\\data\\combined_wildlife_poly_bridges_filtered_no_ch_640-yolo\\images\\train\\crossing_276.png: corrupt JPEG restored and saved\n",
      "\u001b[34m\u001b[1mtrain: \u001b[0mWARNING  C:\\code_ibre\\cassda_zertifikatsarbeit\\data\\combined_wildlife_poly_bridges_filtered_no_ch_640-yolo\\images\\train\\crossing_277.png: corrupt JPEG restored and saved\n",
      "\u001b[34m\u001b[1mtrain: \u001b[0mWARNING  C:\\code_ibre\\cassda_zertifikatsarbeit\\data\\combined_wildlife_poly_bridges_filtered_no_ch_640-yolo\\images\\train\\crossing_278.png: corrupt JPEG restored and saved\n",
      "\u001b[34m\u001b[1mtrain: \u001b[0mWARNING  C:\\code_ibre\\cassda_zertifikatsarbeit\\data\\combined_wildlife_poly_bridges_filtered_no_ch_640-yolo\\images\\train\\crossing_280.png: corrupt JPEG restored and saved\n",
      "\u001b[34m\u001b[1mtrain: \u001b[0mWARNING  C:\\code_ibre\\cassda_zertifikatsarbeit\\data\\combined_wildlife_poly_bridges_filtered_no_ch_640-yolo\\images\\train\\crossing_281.png: corrupt JPEG restored and saved\n",
      "\u001b[34m\u001b[1mtrain: \u001b[0mWARNING  C:\\code_ibre\\cassda_zertifikatsarbeit\\data\\combined_wildlife_poly_bridges_filtered_no_ch_640-yolo\\images\\train\\crossing_282.png: corrupt JPEG restored and saved\n",
      "\u001b[34m\u001b[1mtrain: \u001b[0mWARNING  C:\\code_ibre\\cassda_zertifikatsarbeit\\data\\combined_wildlife_poly_bridges_filtered_no_ch_640-yolo\\images\\train\\crossing_284.png: corrupt JPEG restored and saved\n",
      "\u001b[34m\u001b[1mtrain: \u001b[0mWARNING  C:\\code_ibre\\cassda_zertifikatsarbeit\\data\\combined_wildlife_poly_bridges_filtered_no_ch_640-yolo\\images\\train\\crossing_286.png: corrupt JPEG restored and saved\n",
      "\u001b[34m\u001b[1mtrain: \u001b[0mWARNING  C:\\code_ibre\\cassda_zertifikatsarbeit\\data\\combined_wildlife_poly_bridges_filtered_no_ch_640-yolo\\images\\train\\crossing_287.png: corrupt JPEG restored and saved\n",
      "\u001b[34m\u001b[1mtrain: \u001b[0mWARNING  C:\\code_ibre\\cassda_zertifikatsarbeit\\data\\combined_wildlife_poly_bridges_filtered_no_ch_640-yolo\\images\\train\\crossing_288.png: corrupt JPEG restored and saved\n",
      "\u001b[34m\u001b[1mtrain: \u001b[0mWARNING  C:\\code_ibre\\cassda_zertifikatsarbeit\\data\\combined_wildlife_poly_bridges_filtered_no_ch_640-yolo\\images\\train\\crossing_289.png: corrupt JPEG restored and saved\n",
      "\u001b[34m\u001b[1mtrain: \u001b[0mWARNING  C:\\code_ibre\\cassda_zertifikatsarbeit\\data\\combined_wildlife_poly_bridges_filtered_no_ch_640-yolo\\images\\train\\crossing_295.png: corrupt JPEG restored and saved\n",
      "\u001b[34m\u001b[1mtrain: \u001b[0mWARNING  C:\\code_ibre\\cassda_zertifikatsarbeit\\data\\combined_wildlife_poly_bridges_filtered_no_ch_640-yolo\\images\\train\\crossing_296.png: corrupt JPEG restored and saved\n",
      "\u001b[34m\u001b[1mtrain: \u001b[0mWARNING  C:\\code_ibre\\cassda_zertifikatsarbeit\\data\\combined_wildlife_poly_bridges_filtered_no_ch_640-yolo\\images\\train\\crossing_297.png: corrupt JPEG restored and saved\n",
      "\u001b[34m\u001b[1mtrain: \u001b[0mWARNING  C:\\code_ibre\\cassda_zertifikatsarbeit\\data\\combined_wildlife_poly_bridges_filtered_no_ch_640-yolo\\images\\train\\crossing_298.png: corrupt JPEG restored and saved\n",
      "\u001b[34m\u001b[1mtrain: \u001b[0mWARNING  C:\\code_ibre\\cassda_zertifikatsarbeit\\data\\combined_wildlife_poly_bridges_filtered_no_ch_640-yolo\\images\\train\\crossing_299.png: corrupt JPEG restored and saved\n",
      "\u001b[34m\u001b[1mtrain: \u001b[0mWARNING  C:\\code_ibre\\cassda_zertifikatsarbeit\\data\\combined_wildlife_poly_bridges_filtered_no_ch_640-yolo\\images\\train\\crossing_3.png: corrupt JPEG restored and saved\n",
      "\u001b[34m\u001b[1mtrain: \u001b[0mWARNING  C:\\code_ibre\\cassda_zertifikatsarbeit\\data\\combined_wildlife_poly_bridges_filtered_no_ch_640-yolo\\images\\train\\crossing_30.png: corrupt JPEG restored and saved\n",
      "\u001b[34m\u001b[1mtrain: \u001b[0mWARNING  C:\\code_ibre\\cassda_zertifikatsarbeit\\data\\combined_wildlife_poly_bridges_filtered_no_ch_640-yolo\\images\\train\\crossing_300.png: corrupt JPEG restored and saved\n",
      "\u001b[34m\u001b[1mtrain: \u001b[0mWARNING  C:\\code_ibre\\cassda_zertifikatsarbeit\\data\\combined_wildlife_poly_bridges_filtered_no_ch_640-yolo\\images\\train\\crossing_302.png: corrupt JPEG restored and saved\n",
      "\u001b[34m\u001b[1mtrain: \u001b[0mWARNING  C:\\code_ibre\\cassda_zertifikatsarbeit\\data\\combined_wildlife_poly_bridges_filtered_no_ch_640-yolo\\images\\train\\crossing_303.png: corrupt JPEG restored and saved\n",
      "\u001b[34m\u001b[1mtrain: \u001b[0mWARNING  C:\\code_ibre\\cassda_zertifikatsarbeit\\data\\combined_wildlife_poly_bridges_filtered_no_ch_640-yolo\\images\\train\\crossing_304.png: corrupt JPEG restored and saved\n",
      "\u001b[34m\u001b[1mtrain: \u001b[0mWARNING  C:\\code_ibre\\cassda_zertifikatsarbeit\\data\\combined_wildlife_poly_bridges_filtered_no_ch_640-yolo\\images\\train\\crossing_306.png: corrupt JPEG restored and saved\n",
      "\u001b[34m\u001b[1mtrain: \u001b[0mWARNING  C:\\code_ibre\\cassda_zertifikatsarbeit\\data\\combined_wildlife_poly_bridges_filtered_no_ch_640-yolo\\images\\train\\crossing_307.png: corrupt JPEG restored and saved\n",
      "\u001b[34m\u001b[1mtrain: \u001b[0mWARNING  C:\\code_ibre\\cassda_zertifikatsarbeit\\data\\combined_wildlife_poly_bridges_filtered_no_ch_640-yolo\\images\\train\\crossing_308.png: corrupt JPEG restored and saved\n",
      "\u001b[34m\u001b[1mtrain: \u001b[0mWARNING  C:\\code_ibre\\cassda_zertifikatsarbeit\\data\\combined_wildlife_poly_bridges_filtered_no_ch_640-yolo\\images\\train\\crossing_309.png: corrupt JPEG restored and saved\n",
      "\u001b[34m\u001b[1mtrain: \u001b[0mWARNING  C:\\code_ibre\\cassda_zertifikatsarbeit\\data\\combined_wildlife_poly_bridges_filtered_no_ch_640-yolo\\images\\train\\crossing_311.png: corrupt JPEG restored and saved\n",
      "\u001b[34m\u001b[1mtrain: \u001b[0mWARNING  C:\\code_ibre\\cassda_zertifikatsarbeit\\data\\combined_wildlife_poly_bridges_filtered_no_ch_640-yolo\\images\\train\\crossing_312.png: corrupt JPEG restored and saved\n",
      "\u001b[34m\u001b[1mtrain: \u001b[0mWARNING  C:\\code_ibre\\cassda_zertifikatsarbeit\\data\\combined_wildlife_poly_bridges_filtered_no_ch_640-yolo\\images\\train\\crossing_313.png: corrupt JPEG restored and saved\n",
      "\u001b[34m\u001b[1mtrain: \u001b[0mWARNING  C:\\code_ibre\\cassda_zertifikatsarbeit\\data\\combined_wildlife_poly_bridges_filtered_no_ch_640-yolo\\images\\train\\crossing_314.png: corrupt JPEG restored and saved\n",
      "\u001b[34m\u001b[1mtrain: \u001b[0mWARNING  C:\\code_ibre\\cassda_zertifikatsarbeit\\data\\combined_wildlife_poly_bridges_filtered_no_ch_640-yolo\\images\\train\\crossing_316.png: corrupt JPEG restored and saved\n",
      "\u001b[34m\u001b[1mtrain: \u001b[0mWARNING  C:\\code_ibre\\cassda_zertifikatsarbeit\\data\\combined_wildlife_poly_bridges_filtered_no_ch_640-yolo\\images\\train\\crossing_318.png: corrupt JPEG restored and saved\n",
      "\u001b[34m\u001b[1mtrain: \u001b[0mWARNING  C:\\code_ibre\\cassda_zertifikatsarbeit\\data\\combined_wildlife_poly_bridges_filtered_no_ch_640-yolo\\images\\train\\crossing_319.png: corrupt JPEG restored and saved\n",
      "\u001b[34m\u001b[1mtrain: \u001b[0mWARNING  C:\\code_ibre\\cassda_zertifikatsarbeit\\data\\combined_wildlife_poly_bridges_filtered_no_ch_640-yolo\\images\\train\\crossing_32.png: corrupt JPEG restored and saved\n",
      "\u001b[34m\u001b[1mtrain: \u001b[0mWARNING  C:\\code_ibre\\cassda_zertifikatsarbeit\\data\\combined_wildlife_poly_bridges_filtered_no_ch_640-yolo\\images\\train\\crossing_320.png: corrupt JPEG restored and saved\n",
      "\u001b[34m\u001b[1mtrain: \u001b[0mWARNING  C:\\code_ibre\\cassda_zertifikatsarbeit\\data\\combined_wildlife_poly_bridges_filtered_no_ch_640-yolo\\images\\train\\crossing_321.png: corrupt JPEG restored and saved\n",
      "\u001b[34m\u001b[1mtrain: \u001b[0mWARNING  C:\\code_ibre\\cassda_zertifikatsarbeit\\data\\combined_wildlife_poly_bridges_filtered_no_ch_640-yolo\\images\\train\\crossing_322.png: corrupt JPEG restored and saved\n",
      "\u001b[34m\u001b[1mtrain: \u001b[0mWARNING  C:\\code_ibre\\cassda_zertifikatsarbeit\\data\\combined_wildlife_poly_bridges_filtered_no_ch_640-yolo\\images\\train\\crossing_323.png: corrupt JPEG restored and saved\n",
      "\u001b[34m\u001b[1mtrain: \u001b[0mWARNING  C:\\code_ibre\\cassda_zertifikatsarbeit\\data\\combined_wildlife_poly_bridges_filtered_no_ch_640-yolo\\images\\train\\crossing_326.png: corrupt JPEG restored and saved\n",
      "\u001b[34m\u001b[1mtrain: \u001b[0mWARNING  C:\\code_ibre\\cassda_zertifikatsarbeit\\data\\combined_wildlife_poly_bridges_filtered_no_ch_640-yolo\\images\\train\\crossing_328.png: corrupt JPEG restored and saved\n",
      "\u001b[34m\u001b[1mtrain: \u001b[0mWARNING  C:\\code_ibre\\cassda_zertifikatsarbeit\\data\\combined_wildlife_poly_bridges_filtered_no_ch_640-yolo\\images\\train\\crossing_330.png: corrupt JPEG restored and saved\n",
      "\u001b[34m\u001b[1mtrain: \u001b[0mWARNING  C:\\code_ibre\\cassda_zertifikatsarbeit\\data\\combined_wildlife_poly_bridges_filtered_no_ch_640-yolo\\images\\train\\crossing_333.png: corrupt JPEG restored and saved\n",
      "\u001b[34m\u001b[1mtrain: \u001b[0mWARNING  C:\\code_ibre\\cassda_zertifikatsarbeit\\data\\combined_wildlife_poly_bridges_filtered_no_ch_640-yolo\\images\\train\\crossing_334.png: corrupt JPEG restored and saved\n",
      "\u001b[34m\u001b[1mtrain: \u001b[0mWARNING  C:\\code_ibre\\cassda_zertifikatsarbeit\\data\\combined_wildlife_poly_bridges_filtered_no_ch_640-yolo\\images\\train\\crossing_337.png: corrupt JPEG restored and saved\n",
      "\u001b[34m\u001b[1mtrain: \u001b[0mWARNING  C:\\code_ibre\\cassda_zertifikatsarbeit\\data\\combined_wildlife_poly_bridges_filtered_no_ch_640-yolo\\images\\train\\crossing_338.png: corrupt JPEG restored and saved\n",
      "\u001b[34m\u001b[1mtrain: \u001b[0mWARNING  C:\\code_ibre\\cassda_zertifikatsarbeit\\data\\combined_wildlife_poly_bridges_filtered_no_ch_640-yolo\\images\\train\\crossing_34.png: corrupt JPEG restored and saved\n",
      "\u001b[34m\u001b[1mtrain: \u001b[0mWARNING  C:\\code_ibre\\cassda_zertifikatsarbeit\\data\\combined_wildlife_poly_bridges_filtered_no_ch_640-yolo\\images\\train\\crossing_342.png: corrupt JPEG restored and saved\n",
      "\u001b[34m\u001b[1mtrain: \u001b[0mWARNING  C:\\code_ibre\\cassda_zertifikatsarbeit\\data\\combined_wildlife_poly_bridges_filtered_no_ch_640-yolo\\images\\train\\crossing_343.png: corrupt JPEG restored and saved\n",
      "\u001b[34m\u001b[1mtrain: \u001b[0mWARNING  C:\\code_ibre\\cassda_zertifikatsarbeit\\data\\combined_wildlife_poly_bridges_filtered_no_ch_640-yolo\\images\\train\\crossing_345.png: corrupt JPEG restored and saved\n",
      "\u001b[34m\u001b[1mtrain: \u001b[0mWARNING  C:\\code_ibre\\cassda_zertifikatsarbeit\\data\\combined_wildlife_poly_bridges_filtered_no_ch_640-yolo\\images\\train\\crossing_346.png: corrupt JPEG restored and saved\n",
      "\u001b[34m\u001b[1mtrain: \u001b[0mWARNING  C:\\code_ibre\\cassda_zertifikatsarbeit\\data\\combined_wildlife_poly_bridges_filtered_no_ch_640-yolo\\images\\train\\crossing_348.png: corrupt JPEG restored and saved\n",
      "\u001b[34m\u001b[1mtrain: \u001b[0mWARNING  C:\\code_ibre\\cassda_zertifikatsarbeit\\data\\combined_wildlife_poly_bridges_filtered_no_ch_640-yolo\\images\\train\\crossing_349.png: corrupt JPEG restored and saved\n",
      "\u001b[34m\u001b[1mtrain: \u001b[0mWARNING  C:\\code_ibre\\cassda_zertifikatsarbeit\\data\\combined_wildlife_poly_bridges_filtered_no_ch_640-yolo\\images\\train\\crossing_350.png: corrupt JPEG restored and saved\n",
      "\u001b[34m\u001b[1mtrain: \u001b[0mWARNING  C:\\code_ibre\\cassda_zertifikatsarbeit\\data\\combined_wildlife_poly_bridges_filtered_no_ch_640-yolo\\images\\train\\crossing_351.png: corrupt JPEG restored and saved\n",
      "\u001b[34m\u001b[1mtrain: \u001b[0mWARNING  C:\\code_ibre\\cassda_zertifikatsarbeit\\data\\combined_wildlife_poly_bridges_filtered_no_ch_640-yolo\\images\\train\\crossing_353.png: corrupt JPEG restored and saved\n",
      "\u001b[34m\u001b[1mtrain: \u001b[0mWARNING  C:\\code_ibre\\cassda_zertifikatsarbeit\\data\\combined_wildlife_poly_bridges_filtered_no_ch_640-yolo\\images\\train\\crossing_354.png: corrupt JPEG restored and saved\n",
      "\u001b[34m\u001b[1mtrain: \u001b[0mWARNING  C:\\code_ibre\\cassda_zertifikatsarbeit\\data\\combined_wildlife_poly_bridges_filtered_no_ch_640-yolo\\images\\train\\crossing_355.png: corrupt JPEG restored and saved\n",
      "\u001b[34m\u001b[1mtrain: \u001b[0mWARNING  C:\\code_ibre\\cassda_zertifikatsarbeit\\data\\combined_wildlife_poly_bridges_filtered_no_ch_640-yolo\\images\\train\\crossing_356.png: corrupt JPEG restored and saved\n",
      "\u001b[34m\u001b[1mtrain: \u001b[0mWARNING  C:\\code_ibre\\cassda_zertifikatsarbeit\\data\\combined_wildlife_poly_bridges_filtered_no_ch_640-yolo\\images\\train\\crossing_357.png: corrupt JPEG restored and saved\n",
      "\u001b[34m\u001b[1mtrain: \u001b[0mWARNING  C:\\code_ibre\\cassda_zertifikatsarbeit\\data\\combined_wildlife_poly_bridges_filtered_no_ch_640-yolo\\images\\train\\crossing_359.png: corrupt JPEG restored and saved\n",
      "\u001b[34m\u001b[1mtrain: \u001b[0mWARNING  C:\\code_ibre\\cassda_zertifikatsarbeit\\data\\combined_wildlife_poly_bridges_filtered_no_ch_640-yolo\\images\\train\\crossing_36.png: corrupt JPEG restored and saved\n",
      "\u001b[34m\u001b[1mtrain: \u001b[0mWARNING  C:\\code_ibre\\cassda_zertifikatsarbeit\\data\\combined_wildlife_poly_bridges_filtered_no_ch_640-yolo\\images\\train\\crossing_360.png: corrupt JPEG restored and saved\n",
      "\u001b[34m\u001b[1mtrain: \u001b[0mWARNING  C:\\code_ibre\\cassda_zertifikatsarbeit\\data\\combined_wildlife_poly_bridges_filtered_no_ch_640-yolo\\images\\train\\crossing_363.png: corrupt JPEG restored and saved\n",
      "\u001b[34m\u001b[1mtrain: \u001b[0mWARNING  C:\\code_ibre\\cassda_zertifikatsarbeit\\data\\combined_wildlife_poly_bridges_filtered_no_ch_640-yolo\\images\\train\\crossing_365.png: corrupt JPEG restored and saved\n",
      "\u001b[34m\u001b[1mtrain: \u001b[0mWARNING  C:\\code_ibre\\cassda_zertifikatsarbeit\\data\\combined_wildlife_poly_bridges_filtered_no_ch_640-yolo\\images\\train\\crossing_366.png: corrupt JPEG restored and saved\n",
      "\u001b[34m\u001b[1mtrain: \u001b[0mWARNING  C:\\code_ibre\\cassda_zertifikatsarbeit\\data\\combined_wildlife_poly_bridges_filtered_no_ch_640-yolo\\images\\train\\crossing_367.png: corrupt JPEG restored and saved\n",
      "\u001b[34m\u001b[1mtrain: \u001b[0mWARNING  C:\\code_ibre\\cassda_zertifikatsarbeit\\data\\combined_wildlife_poly_bridges_filtered_no_ch_640-yolo\\images\\train\\crossing_368.png: corrupt JPEG restored and saved\n",
      "\u001b[34m\u001b[1mtrain: \u001b[0mWARNING  C:\\code_ibre\\cassda_zertifikatsarbeit\\data\\combined_wildlife_poly_bridges_filtered_no_ch_640-yolo\\images\\train\\crossing_37.png: corrupt JPEG restored and saved\n",
      "\u001b[34m\u001b[1mtrain: \u001b[0mWARNING  C:\\code_ibre\\cassda_zertifikatsarbeit\\data\\combined_wildlife_poly_bridges_filtered_no_ch_640-yolo\\images\\train\\crossing_370.png: corrupt JPEG restored and saved\n",
      "\u001b[34m\u001b[1mtrain: \u001b[0mWARNING  C:\\code_ibre\\cassda_zertifikatsarbeit\\data\\combined_wildlife_poly_bridges_filtered_no_ch_640-yolo\\images\\train\\crossing_372.png: corrupt JPEG restored and saved\n",
      "\u001b[34m\u001b[1mtrain: \u001b[0mWARNING  C:\\code_ibre\\cassda_zertifikatsarbeit\\data\\combined_wildlife_poly_bridges_filtered_no_ch_640-yolo\\images\\train\\crossing_373.png: corrupt JPEG restored and saved\n",
      "\u001b[34m\u001b[1mtrain: \u001b[0mWARNING  C:\\code_ibre\\cassda_zertifikatsarbeit\\data\\combined_wildlife_poly_bridges_filtered_no_ch_640-yolo\\images\\train\\crossing_375.png: corrupt JPEG restored and saved\n",
      "\u001b[34m\u001b[1mtrain: \u001b[0mWARNING  C:\\code_ibre\\cassda_zertifikatsarbeit\\data\\combined_wildlife_poly_bridges_filtered_no_ch_640-yolo\\images\\train\\crossing_378.png: corrupt JPEG restored and saved\n",
      "\u001b[34m\u001b[1mtrain: \u001b[0mWARNING  C:\\code_ibre\\cassda_zertifikatsarbeit\\data\\combined_wildlife_poly_bridges_filtered_no_ch_640-yolo\\images\\train\\crossing_379.png: corrupt JPEG restored and saved\n",
      "\u001b[34m\u001b[1mtrain: \u001b[0mWARNING  C:\\code_ibre\\cassda_zertifikatsarbeit\\data\\combined_wildlife_poly_bridges_filtered_no_ch_640-yolo\\images\\train\\crossing_38.png: corrupt JPEG restored and saved\n",
      "\u001b[34m\u001b[1mtrain: \u001b[0mWARNING  C:\\code_ibre\\cassda_zertifikatsarbeit\\data\\combined_wildlife_poly_bridges_filtered_no_ch_640-yolo\\images\\train\\crossing_381.png: corrupt JPEG restored and saved\n",
      "\u001b[34m\u001b[1mtrain: \u001b[0mWARNING  C:\\code_ibre\\cassda_zertifikatsarbeit\\data\\combined_wildlife_poly_bridges_filtered_no_ch_640-yolo\\images\\train\\crossing_383.png: corrupt JPEG restored and saved\n",
      "\u001b[34m\u001b[1mtrain: \u001b[0mWARNING  C:\\code_ibre\\cassda_zertifikatsarbeit\\data\\combined_wildlife_poly_bridges_filtered_no_ch_640-yolo\\images\\train\\crossing_384.png: corrupt JPEG restored and saved\n",
      "\u001b[34m\u001b[1mtrain: \u001b[0mWARNING  C:\\code_ibre\\cassda_zertifikatsarbeit\\data\\combined_wildlife_poly_bridges_filtered_no_ch_640-yolo\\images\\train\\crossing_385.png: corrupt JPEG restored and saved\n",
      "\u001b[34m\u001b[1mtrain: \u001b[0mWARNING  C:\\code_ibre\\cassda_zertifikatsarbeit\\data\\combined_wildlife_poly_bridges_filtered_no_ch_640-yolo\\images\\train\\crossing_387.png: corrupt JPEG restored and saved\n",
      "\u001b[34m\u001b[1mtrain: \u001b[0mWARNING  C:\\code_ibre\\cassda_zertifikatsarbeit\\data\\combined_wildlife_poly_bridges_filtered_no_ch_640-yolo\\images\\train\\crossing_388.png: corrupt JPEG restored and saved\n",
      "\u001b[34m\u001b[1mtrain: \u001b[0mWARNING  C:\\code_ibre\\cassda_zertifikatsarbeit\\data\\combined_wildlife_poly_bridges_filtered_no_ch_640-yolo\\images\\train\\crossing_389.png: corrupt JPEG restored and saved\n",
      "\u001b[34m\u001b[1mtrain: \u001b[0mWARNING  C:\\code_ibre\\cassda_zertifikatsarbeit\\data\\combined_wildlife_poly_bridges_filtered_no_ch_640-yolo\\images\\train\\crossing_39.png: corrupt JPEG restored and saved\n",
      "\u001b[34m\u001b[1mtrain: \u001b[0mWARNING  C:\\code_ibre\\cassda_zertifikatsarbeit\\data\\combined_wildlife_poly_bridges_filtered_no_ch_640-yolo\\images\\train\\crossing_390.png: corrupt JPEG restored and saved\n",
      "\u001b[34m\u001b[1mtrain: \u001b[0mWARNING  C:\\code_ibre\\cassda_zertifikatsarbeit\\data\\combined_wildlife_poly_bridges_filtered_no_ch_640-yolo\\images\\train\\crossing_391.png: corrupt JPEG restored and saved\n",
      "\u001b[34m\u001b[1mtrain: \u001b[0mWARNING  C:\\code_ibre\\cassda_zertifikatsarbeit\\data\\combined_wildlife_poly_bridges_filtered_no_ch_640-yolo\\images\\train\\crossing_395.png: corrupt JPEG restored and saved\n",
      "\u001b[34m\u001b[1mtrain: \u001b[0mWARNING  C:\\code_ibre\\cassda_zertifikatsarbeit\\data\\combined_wildlife_poly_bridges_filtered_no_ch_640-yolo\\images\\train\\crossing_397.png: corrupt JPEG restored and saved\n",
      "\u001b[34m\u001b[1mtrain: \u001b[0mWARNING  C:\\code_ibre\\cassda_zertifikatsarbeit\\data\\combined_wildlife_poly_bridges_filtered_no_ch_640-yolo\\images\\train\\crossing_398.png: corrupt JPEG restored and saved\n",
      "\u001b[34m\u001b[1mtrain: \u001b[0mWARNING  C:\\code_ibre\\cassda_zertifikatsarbeit\\data\\combined_wildlife_poly_bridges_filtered_no_ch_640-yolo\\images\\train\\crossing_399.png: corrupt JPEG restored and saved\n",
      "\u001b[34m\u001b[1mtrain: \u001b[0mWARNING  C:\\code_ibre\\cassda_zertifikatsarbeit\\data\\combined_wildlife_poly_bridges_filtered_no_ch_640-yolo\\images\\train\\crossing_4.png: corrupt JPEG restored and saved\n",
      "\u001b[34m\u001b[1mtrain: \u001b[0mWARNING  C:\\code_ibre\\cassda_zertifikatsarbeit\\data\\combined_wildlife_poly_bridges_filtered_no_ch_640-yolo\\images\\train\\crossing_40.png: corrupt JPEG restored and saved\n",
      "\u001b[34m\u001b[1mtrain: \u001b[0mWARNING  C:\\code_ibre\\cassda_zertifikatsarbeit\\data\\combined_wildlife_poly_bridges_filtered_no_ch_640-yolo\\images\\train\\crossing_400.png: corrupt JPEG restored and saved\n",
      "\u001b[34m\u001b[1mtrain: \u001b[0mWARNING  C:\\code_ibre\\cassda_zertifikatsarbeit\\data\\combined_wildlife_poly_bridges_filtered_no_ch_640-yolo\\images\\train\\crossing_402.png: corrupt JPEG restored and saved\n",
      "\u001b[34m\u001b[1mtrain: \u001b[0mWARNING  C:\\code_ibre\\cassda_zertifikatsarbeit\\data\\combined_wildlife_poly_bridges_filtered_no_ch_640-yolo\\images\\train\\crossing_404.png: corrupt JPEG restored and saved\n",
      "\u001b[34m\u001b[1mtrain: \u001b[0mWARNING  C:\\code_ibre\\cassda_zertifikatsarbeit\\data\\combined_wildlife_poly_bridges_filtered_no_ch_640-yolo\\images\\train\\crossing_405.png: corrupt JPEG restored and saved\n",
      "\u001b[34m\u001b[1mtrain: \u001b[0mWARNING  C:\\code_ibre\\cassda_zertifikatsarbeit\\data\\combined_wildlife_poly_bridges_filtered_no_ch_640-yolo\\images\\train\\crossing_406.png: corrupt JPEG restored and saved\n",
      "\u001b[34m\u001b[1mtrain: \u001b[0mWARNING  C:\\code_ibre\\cassda_zertifikatsarbeit\\data\\combined_wildlife_poly_bridges_filtered_no_ch_640-yolo\\images\\train\\crossing_41.png: corrupt JPEG restored and saved\n",
      "\u001b[34m\u001b[1mtrain: \u001b[0mWARNING  C:\\code_ibre\\cassda_zertifikatsarbeit\\data\\combined_wildlife_poly_bridges_filtered_no_ch_640-yolo\\images\\train\\crossing_410.png: corrupt JPEG restored and saved\n",
      "\u001b[34m\u001b[1mtrain: \u001b[0mWARNING  C:\\code_ibre\\cassda_zertifikatsarbeit\\data\\combined_wildlife_poly_bridges_filtered_no_ch_640-yolo\\images\\train\\crossing_412.png: corrupt JPEG restored and saved\n",
      "\u001b[34m\u001b[1mtrain: \u001b[0mWARNING  C:\\code_ibre\\cassda_zertifikatsarbeit\\data\\combined_wildlife_poly_bridges_filtered_no_ch_640-yolo\\images\\train\\crossing_414.png: corrupt JPEG restored and saved\n",
      "\u001b[34m\u001b[1mtrain: \u001b[0mWARNING  C:\\code_ibre\\cassda_zertifikatsarbeit\\data\\combined_wildlife_poly_bridges_filtered_no_ch_640-yolo\\images\\train\\crossing_415.png: corrupt JPEG restored and saved\n",
      "\u001b[34m\u001b[1mtrain: \u001b[0mWARNING  C:\\code_ibre\\cassda_zertifikatsarbeit\\data\\combined_wildlife_poly_bridges_filtered_no_ch_640-yolo\\images\\train\\crossing_416.png: corrupt JPEG restored and saved\n",
      "\u001b[34m\u001b[1mtrain: \u001b[0mWARNING  C:\\code_ibre\\cassda_zertifikatsarbeit\\data\\combined_wildlife_poly_bridges_filtered_no_ch_640-yolo\\images\\train\\crossing_417.png: corrupt JPEG restored and saved\n",
      "\u001b[34m\u001b[1mtrain: \u001b[0mWARNING  C:\\code_ibre\\cassda_zertifikatsarbeit\\data\\combined_wildlife_poly_bridges_filtered_no_ch_640-yolo\\images\\train\\crossing_418.png: corrupt JPEG restored and saved\n",
      "\u001b[34m\u001b[1mtrain: \u001b[0mWARNING  C:\\code_ibre\\cassda_zertifikatsarbeit\\data\\combined_wildlife_poly_bridges_filtered_no_ch_640-yolo\\images\\train\\crossing_419.png: corrupt JPEG restored and saved\n",
      "\u001b[34m\u001b[1mtrain: \u001b[0mWARNING  C:\\code_ibre\\cassda_zertifikatsarbeit\\data\\combined_wildlife_poly_bridges_filtered_no_ch_640-yolo\\images\\train\\crossing_42.png: corrupt JPEG restored and saved\n",
      "\u001b[34m\u001b[1mtrain: \u001b[0mWARNING  C:\\code_ibre\\cassda_zertifikatsarbeit\\data\\combined_wildlife_poly_bridges_filtered_no_ch_640-yolo\\images\\train\\crossing_420.png: corrupt JPEG restored and saved\n",
      "\u001b[34m\u001b[1mtrain: \u001b[0mWARNING  C:\\code_ibre\\cassda_zertifikatsarbeit\\data\\combined_wildlife_poly_bridges_filtered_no_ch_640-yolo\\images\\train\\crossing_422.png: corrupt JPEG restored and saved\n",
      "\u001b[34m\u001b[1mtrain: \u001b[0mWARNING  C:\\code_ibre\\cassda_zertifikatsarbeit\\data\\combined_wildlife_poly_bridges_filtered_no_ch_640-yolo\\images\\train\\crossing_423.png: corrupt JPEG restored and saved\n",
      "\u001b[34m\u001b[1mtrain: \u001b[0mWARNING  C:\\code_ibre\\cassda_zertifikatsarbeit\\data\\combined_wildlife_poly_bridges_filtered_no_ch_640-yolo\\images\\train\\crossing_424.png: corrupt JPEG restored and saved\n",
      "\u001b[34m\u001b[1mtrain: \u001b[0mWARNING  C:\\code_ibre\\cassda_zertifikatsarbeit\\data\\combined_wildlife_poly_bridges_filtered_no_ch_640-yolo\\images\\train\\crossing_426.png: corrupt JPEG restored and saved\n",
      "\u001b[34m\u001b[1mtrain: \u001b[0mWARNING  C:\\code_ibre\\cassda_zertifikatsarbeit\\data\\combined_wildlife_poly_bridges_filtered_no_ch_640-yolo\\images\\train\\crossing_427.png: corrupt JPEG restored and saved\n",
      "\u001b[34m\u001b[1mtrain: \u001b[0mWARNING  C:\\code_ibre\\cassda_zertifikatsarbeit\\data\\combined_wildlife_poly_bridges_filtered_no_ch_640-yolo\\images\\train\\crossing_429.png: corrupt JPEG restored and saved\n",
      "\u001b[34m\u001b[1mtrain: \u001b[0mWARNING  C:\\code_ibre\\cassda_zertifikatsarbeit\\data\\combined_wildlife_poly_bridges_filtered_no_ch_640-yolo\\images\\train\\crossing_430.png: corrupt JPEG restored and saved\n",
      "\u001b[34m\u001b[1mtrain: \u001b[0mWARNING  C:\\code_ibre\\cassda_zertifikatsarbeit\\data\\combined_wildlife_poly_bridges_filtered_no_ch_640-yolo\\images\\train\\crossing_431.png: corrupt JPEG restored and saved\n",
      "\u001b[34m\u001b[1mtrain: \u001b[0mWARNING  C:\\code_ibre\\cassda_zertifikatsarbeit\\data\\combined_wildlife_poly_bridges_filtered_no_ch_640-yolo\\images\\train\\crossing_432.png: corrupt JPEG restored and saved\n",
      "\u001b[34m\u001b[1mtrain: \u001b[0mWARNING  C:\\code_ibre\\cassda_zertifikatsarbeit\\data\\combined_wildlife_poly_bridges_filtered_no_ch_640-yolo\\images\\train\\crossing_434.png: corrupt JPEG restored and saved\n",
      "\u001b[34m\u001b[1mtrain: \u001b[0mWARNING  C:\\code_ibre\\cassda_zertifikatsarbeit\\data\\combined_wildlife_poly_bridges_filtered_no_ch_640-yolo\\images\\train\\crossing_435.png: corrupt JPEG restored and saved\n",
      "\u001b[34m\u001b[1mtrain: \u001b[0mWARNING  C:\\code_ibre\\cassda_zertifikatsarbeit\\data\\combined_wildlife_poly_bridges_filtered_no_ch_640-yolo\\images\\train\\crossing_436.png: corrupt JPEG restored and saved\n",
      "\u001b[34m\u001b[1mtrain: \u001b[0mWARNING  C:\\code_ibre\\cassda_zertifikatsarbeit\\data\\combined_wildlife_poly_bridges_filtered_no_ch_640-yolo\\images\\train\\crossing_437.png: corrupt JPEG restored and saved\n",
      "\u001b[34m\u001b[1mtrain: \u001b[0mWARNING  C:\\code_ibre\\cassda_zertifikatsarbeit\\data\\combined_wildlife_poly_bridges_filtered_no_ch_640-yolo\\images\\train\\crossing_438.png: corrupt JPEG restored and saved\n",
      "\u001b[34m\u001b[1mtrain: \u001b[0mWARNING  C:\\code_ibre\\cassda_zertifikatsarbeit\\data\\combined_wildlife_poly_bridges_filtered_no_ch_640-yolo\\images\\train\\crossing_439.png: corrupt JPEG restored and saved\n",
      "\u001b[34m\u001b[1mtrain: \u001b[0mWARNING  C:\\code_ibre\\cassda_zertifikatsarbeit\\data\\combined_wildlife_poly_bridges_filtered_no_ch_640-yolo\\images\\train\\crossing_44.png: corrupt JPEG restored and saved\n",
      "\u001b[34m\u001b[1mtrain: \u001b[0mWARNING  C:\\code_ibre\\cassda_zertifikatsarbeit\\data\\combined_wildlife_poly_bridges_filtered_no_ch_640-yolo\\images\\train\\crossing_440.png: corrupt JPEG restored and saved\n",
      "\u001b[34m\u001b[1mtrain: \u001b[0mWARNING  C:\\code_ibre\\cassda_zertifikatsarbeit\\data\\combined_wildlife_poly_bridges_filtered_no_ch_640-yolo\\images\\train\\crossing_442.png: corrupt JPEG restored and saved\n",
      "\u001b[34m\u001b[1mtrain: \u001b[0mWARNING  C:\\code_ibre\\cassda_zertifikatsarbeit\\data\\combined_wildlife_poly_bridges_filtered_no_ch_640-yolo\\images\\train\\crossing_443.png: corrupt JPEG restored and saved\n",
      "\u001b[34m\u001b[1mtrain: \u001b[0mWARNING  C:\\code_ibre\\cassda_zertifikatsarbeit\\data\\combined_wildlife_poly_bridges_filtered_no_ch_640-yolo\\images\\train\\crossing_444.png: corrupt JPEG restored and saved\n",
      "\u001b[34m\u001b[1mtrain: \u001b[0mWARNING  C:\\code_ibre\\cassda_zertifikatsarbeit\\data\\combined_wildlife_poly_bridges_filtered_no_ch_640-yolo\\images\\train\\crossing_446.png: corrupt JPEG restored and saved\n",
      "\u001b[34m\u001b[1mtrain: \u001b[0mWARNING  C:\\code_ibre\\cassda_zertifikatsarbeit\\data\\combined_wildlife_poly_bridges_filtered_no_ch_640-yolo\\images\\train\\crossing_448.png: corrupt JPEG restored and saved\n",
      "\u001b[34m\u001b[1mtrain: \u001b[0mWARNING  C:\\code_ibre\\cassda_zertifikatsarbeit\\data\\combined_wildlife_poly_bridges_filtered_no_ch_640-yolo\\images\\train\\crossing_450.png: corrupt JPEG restored and saved\n",
      "\u001b[34m\u001b[1mtrain: \u001b[0mWARNING  C:\\code_ibre\\cassda_zertifikatsarbeit\\data\\combined_wildlife_poly_bridges_filtered_no_ch_640-yolo\\images\\train\\crossing_451.png: corrupt JPEG restored and saved\n",
      "\u001b[34m\u001b[1mtrain: \u001b[0mWARNING  C:\\code_ibre\\cassda_zertifikatsarbeit\\data\\combined_wildlife_poly_bridges_filtered_no_ch_640-yolo\\images\\train\\crossing_452.png: corrupt JPEG restored and saved\n",
      "\u001b[34m\u001b[1mtrain: \u001b[0mWARNING  C:\\code_ibre\\cassda_zertifikatsarbeit\\data\\combined_wildlife_poly_bridges_filtered_no_ch_640-yolo\\images\\train\\crossing_453.png: corrupt JPEG restored and saved\n",
      "\u001b[34m\u001b[1mtrain: \u001b[0mWARNING  C:\\code_ibre\\cassda_zertifikatsarbeit\\data\\combined_wildlife_poly_bridges_filtered_no_ch_640-yolo\\images\\train\\crossing_454.png: corrupt JPEG restored and saved\n",
      "\u001b[34m\u001b[1mtrain: \u001b[0mWARNING  C:\\code_ibre\\cassda_zertifikatsarbeit\\data\\combined_wildlife_poly_bridges_filtered_no_ch_640-yolo\\images\\train\\crossing_455.png: corrupt JPEG restored and saved\n",
      "\u001b[34m\u001b[1mtrain: \u001b[0mWARNING  C:\\code_ibre\\cassda_zertifikatsarbeit\\data\\combined_wildlife_poly_bridges_filtered_no_ch_640-yolo\\images\\train\\crossing_456.png: corrupt JPEG restored and saved\n",
      "\u001b[34m\u001b[1mtrain: \u001b[0mWARNING  C:\\code_ibre\\cassda_zertifikatsarbeit\\data\\combined_wildlife_poly_bridges_filtered_no_ch_640-yolo\\images\\train\\crossing_457.png: corrupt JPEG restored and saved\n",
      "\u001b[34m\u001b[1mtrain: \u001b[0mWARNING  C:\\code_ibre\\cassda_zertifikatsarbeit\\data\\combined_wildlife_poly_bridges_filtered_no_ch_640-yolo\\images\\train\\crossing_458.png: corrupt JPEG restored and saved\n",
      "\u001b[34m\u001b[1mtrain: \u001b[0mWARNING  C:\\code_ibre\\cassda_zertifikatsarbeit\\data\\combined_wildlife_poly_bridges_filtered_no_ch_640-yolo\\images\\train\\crossing_459.png: corrupt JPEG restored and saved\n",
      "\u001b[34m\u001b[1mtrain: \u001b[0mWARNING  C:\\code_ibre\\cassda_zertifikatsarbeit\\data\\combined_wildlife_poly_bridges_filtered_no_ch_640-yolo\\images\\train\\crossing_460.png: corrupt JPEG restored and saved\n",
      "\u001b[34m\u001b[1mtrain: \u001b[0mWARNING  C:\\code_ibre\\cassda_zertifikatsarbeit\\data\\combined_wildlife_poly_bridges_filtered_no_ch_640-yolo\\images\\train\\crossing_462.png: corrupt JPEG restored and saved\n",
      "\u001b[34m\u001b[1mtrain: \u001b[0mWARNING  C:\\code_ibre\\cassda_zertifikatsarbeit\\data\\combined_wildlife_poly_bridges_filtered_no_ch_640-yolo\\images\\train\\crossing_464.png: corrupt JPEG restored and saved\n",
      "\u001b[34m\u001b[1mtrain: \u001b[0mWARNING  C:\\code_ibre\\cassda_zertifikatsarbeit\\data\\combined_wildlife_poly_bridges_filtered_no_ch_640-yolo\\images\\train\\crossing_465.png: corrupt JPEG restored and saved\n",
      "\u001b[34m\u001b[1mtrain: \u001b[0mWARNING  C:\\code_ibre\\cassda_zertifikatsarbeit\\data\\combined_wildlife_poly_bridges_filtered_no_ch_640-yolo\\images\\train\\crossing_466.png: corrupt JPEG restored and saved\n",
      "\u001b[34m\u001b[1mtrain: \u001b[0mWARNING  C:\\code_ibre\\cassda_zertifikatsarbeit\\data\\combined_wildlife_poly_bridges_filtered_no_ch_640-yolo\\images\\train\\crossing_468.png: corrupt JPEG restored and saved\n",
      "\u001b[34m\u001b[1mtrain: \u001b[0mWARNING  C:\\code_ibre\\cassda_zertifikatsarbeit\\data\\combined_wildlife_poly_bridges_filtered_no_ch_640-yolo\\images\\train\\crossing_47.png: corrupt JPEG restored and saved\n",
      "\u001b[34m\u001b[1mtrain: \u001b[0mWARNING  C:\\code_ibre\\cassda_zertifikatsarbeit\\data\\combined_wildlife_poly_bridges_filtered_no_ch_640-yolo\\images\\train\\crossing_48.png: corrupt JPEG restored and saved\n",
      "\u001b[34m\u001b[1mtrain: \u001b[0mWARNING  C:\\code_ibre\\cassda_zertifikatsarbeit\\data\\combined_wildlife_poly_bridges_filtered_no_ch_640-yolo\\images\\train\\crossing_5.png: corrupt JPEG restored and saved\n",
      "\u001b[34m\u001b[1mtrain: \u001b[0mWARNING  C:\\code_ibre\\cassda_zertifikatsarbeit\\data\\combined_wildlife_poly_bridges_filtered_no_ch_640-yolo\\images\\train\\crossing_50.png: corrupt JPEG restored and saved\n",
      "\u001b[34m\u001b[1mtrain: \u001b[0mWARNING  C:\\code_ibre\\cassda_zertifikatsarbeit\\data\\combined_wildlife_poly_bridges_filtered_no_ch_640-yolo\\images\\train\\crossing_52.png: corrupt JPEG restored and saved\n",
      "\u001b[34m\u001b[1mtrain: \u001b[0mWARNING  C:\\code_ibre\\cassda_zertifikatsarbeit\\data\\combined_wildlife_poly_bridges_filtered_no_ch_640-yolo\\images\\train\\crossing_53.png: corrupt JPEG restored and saved\n",
      "\u001b[34m\u001b[1mtrain: \u001b[0mWARNING  C:\\code_ibre\\cassda_zertifikatsarbeit\\data\\combined_wildlife_poly_bridges_filtered_no_ch_640-yolo\\images\\train\\crossing_54.png: corrupt JPEG restored and saved\n",
      "\u001b[34m\u001b[1mtrain: \u001b[0mWARNING  C:\\code_ibre\\cassda_zertifikatsarbeit\\data\\combined_wildlife_poly_bridges_filtered_no_ch_640-yolo\\images\\train\\crossing_55.png: corrupt JPEG restored and saved\n",
      "\u001b[34m\u001b[1mtrain: \u001b[0mWARNING  C:\\code_ibre\\cassda_zertifikatsarbeit\\data\\combined_wildlife_poly_bridges_filtered_no_ch_640-yolo\\images\\train\\crossing_57.png: corrupt JPEG restored and saved\n",
      "\u001b[34m\u001b[1mtrain: \u001b[0mWARNING  C:\\code_ibre\\cassda_zertifikatsarbeit\\data\\combined_wildlife_poly_bridges_filtered_no_ch_640-yolo\\images\\train\\crossing_59.png: corrupt JPEG restored and saved\n",
      "\u001b[34m\u001b[1mtrain: \u001b[0mWARNING  C:\\code_ibre\\cassda_zertifikatsarbeit\\data\\combined_wildlife_poly_bridges_filtered_no_ch_640-yolo\\images\\train\\crossing_6.png: corrupt JPEG restored and saved\n",
      "\u001b[34m\u001b[1mtrain: \u001b[0mWARNING  C:\\code_ibre\\cassda_zertifikatsarbeit\\data\\combined_wildlife_poly_bridges_filtered_no_ch_640-yolo\\images\\train\\crossing_60.png: corrupt JPEG restored and saved\n",
      "\u001b[34m\u001b[1mtrain: \u001b[0mWARNING  C:\\code_ibre\\cassda_zertifikatsarbeit\\data\\combined_wildlife_poly_bridges_filtered_no_ch_640-yolo\\images\\train\\crossing_61.png: corrupt JPEG restored and saved\n",
      "\u001b[34m\u001b[1mtrain: \u001b[0mWARNING  C:\\code_ibre\\cassda_zertifikatsarbeit\\data\\combined_wildlife_poly_bridges_filtered_no_ch_640-yolo\\images\\train\\crossing_62.png: corrupt JPEG restored and saved\n",
      "\u001b[34m\u001b[1mtrain: \u001b[0mWARNING  C:\\code_ibre\\cassda_zertifikatsarbeit\\data\\combined_wildlife_poly_bridges_filtered_no_ch_640-yolo\\images\\train\\crossing_63.png: corrupt JPEG restored and saved\n",
      "\u001b[34m\u001b[1mtrain: \u001b[0mWARNING  C:\\code_ibre\\cassda_zertifikatsarbeit\\data\\combined_wildlife_poly_bridges_filtered_no_ch_640-yolo\\images\\train\\crossing_67.png: corrupt JPEG restored and saved\n",
      "\u001b[34m\u001b[1mtrain: \u001b[0mWARNING  C:\\code_ibre\\cassda_zertifikatsarbeit\\data\\combined_wildlife_poly_bridges_filtered_no_ch_640-yolo\\images\\train\\crossing_68.png: corrupt JPEG restored and saved\n",
      "\u001b[34m\u001b[1mtrain: \u001b[0mWARNING  C:\\code_ibre\\cassda_zertifikatsarbeit\\data\\combined_wildlife_poly_bridges_filtered_no_ch_640-yolo\\images\\train\\crossing_70.png: corrupt JPEG restored and saved\n",
      "\u001b[34m\u001b[1mtrain: \u001b[0mWARNING  C:\\code_ibre\\cassda_zertifikatsarbeit\\data\\combined_wildlife_poly_bridges_filtered_no_ch_640-yolo\\images\\train\\crossing_71.png: corrupt JPEG restored and saved\n",
      "\u001b[34m\u001b[1mtrain: \u001b[0mWARNING  C:\\code_ibre\\cassda_zertifikatsarbeit\\data\\combined_wildlife_poly_bridges_filtered_no_ch_640-yolo\\images\\train\\crossing_72.png: corrupt JPEG restored and saved\n",
      "\u001b[34m\u001b[1mtrain: \u001b[0mWARNING  C:\\code_ibre\\cassda_zertifikatsarbeit\\data\\combined_wildlife_poly_bridges_filtered_no_ch_640-yolo\\images\\train\\crossing_73.png: corrupt JPEG restored and saved\n",
      "\u001b[34m\u001b[1mtrain: \u001b[0mWARNING  C:\\code_ibre\\cassda_zertifikatsarbeit\\data\\combined_wildlife_poly_bridges_filtered_no_ch_640-yolo\\images\\train\\crossing_74.png: corrupt JPEG restored and saved\n",
      "\u001b[34m\u001b[1mtrain: \u001b[0mWARNING  C:\\code_ibre\\cassda_zertifikatsarbeit\\data\\combined_wildlife_poly_bridges_filtered_no_ch_640-yolo\\images\\train\\crossing_75.png: corrupt JPEG restored and saved\n",
      "\u001b[34m\u001b[1mtrain: \u001b[0mWARNING  C:\\code_ibre\\cassda_zertifikatsarbeit\\data\\combined_wildlife_poly_bridges_filtered_no_ch_640-yolo\\images\\train\\crossing_76.png: corrupt JPEG restored and saved\n",
      "\u001b[34m\u001b[1mtrain: \u001b[0mWARNING  C:\\code_ibre\\cassda_zertifikatsarbeit\\data\\combined_wildlife_poly_bridges_filtered_no_ch_640-yolo\\images\\train\\crossing_78.png: corrupt JPEG restored and saved\n",
      "\u001b[34m\u001b[1mtrain: \u001b[0mWARNING  C:\\code_ibre\\cassda_zertifikatsarbeit\\data\\combined_wildlife_poly_bridges_filtered_no_ch_640-yolo\\images\\train\\crossing_79.png: corrupt JPEG restored and saved\n",
      "\u001b[34m\u001b[1mtrain: \u001b[0mWARNING  C:\\code_ibre\\cassda_zertifikatsarbeit\\data\\combined_wildlife_poly_bridges_filtered_no_ch_640-yolo\\images\\train\\crossing_80.png: corrupt JPEG restored and saved\n",
      "\u001b[34m\u001b[1mtrain: \u001b[0mWARNING  C:\\code_ibre\\cassda_zertifikatsarbeit\\data\\combined_wildlife_poly_bridges_filtered_no_ch_640-yolo\\images\\train\\crossing_81.png: corrupt JPEG restored and saved\n",
      "\u001b[34m\u001b[1mtrain: \u001b[0mWARNING  C:\\code_ibre\\cassda_zertifikatsarbeit\\data\\combined_wildlife_poly_bridges_filtered_no_ch_640-yolo\\images\\train\\crossing_82.png: corrupt JPEG restored and saved\n",
      "\u001b[34m\u001b[1mtrain: \u001b[0mWARNING  C:\\code_ibre\\cassda_zertifikatsarbeit\\data\\combined_wildlife_poly_bridges_filtered_no_ch_640-yolo\\images\\train\\crossing_84.png: corrupt JPEG restored and saved\n",
      "\u001b[34m\u001b[1mtrain: \u001b[0mWARNING  C:\\code_ibre\\cassda_zertifikatsarbeit\\data\\combined_wildlife_poly_bridges_filtered_no_ch_640-yolo\\images\\train\\crossing_86.png: corrupt JPEG restored and saved\n",
      "\u001b[34m\u001b[1mtrain: \u001b[0mWARNING  C:\\code_ibre\\cassda_zertifikatsarbeit\\data\\combined_wildlife_poly_bridges_filtered_no_ch_640-yolo\\images\\train\\crossing_87.png: corrupt JPEG restored and saved\n",
      "\u001b[34m\u001b[1mtrain: \u001b[0mWARNING  C:\\code_ibre\\cassda_zertifikatsarbeit\\data\\combined_wildlife_poly_bridges_filtered_no_ch_640-yolo\\images\\train\\crossing_88.png: corrupt JPEG restored and saved\n",
      "\u001b[34m\u001b[1mtrain: \u001b[0mWARNING  C:\\code_ibre\\cassda_zertifikatsarbeit\\data\\combined_wildlife_poly_bridges_filtered_no_ch_640-yolo\\images\\train\\crossing_89.png: corrupt JPEG restored and saved\n",
      "\u001b[34m\u001b[1mtrain: \u001b[0mWARNING  C:\\code_ibre\\cassda_zertifikatsarbeit\\data\\combined_wildlife_poly_bridges_filtered_no_ch_640-yolo\\images\\train\\crossing_90.png: corrupt JPEG restored and saved\n",
      "\u001b[34m\u001b[1mtrain: \u001b[0mWARNING  C:\\code_ibre\\cassda_zertifikatsarbeit\\data\\combined_wildlife_poly_bridges_filtered_no_ch_640-yolo\\images\\train\\crossing_91.png: corrupt JPEG restored and saved\n",
      "\u001b[34m\u001b[1mtrain: \u001b[0mWARNING  C:\\code_ibre\\cassda_zertifikatsarbeit\\data\\combined_wildlife_poly_bridges_filtered_no_ch_640-yolo\\images\\train\\crossing_93.png: corrupt JPEG restored and saved\n",
      "\u001b[34m\u001b[1mtrain: \u001b[0mWARNING  C:\\code_ibre\\cassda_zertifikatsarbeit\\data\\combined_wildlife_poly_bridges_filtered_no_ch_640-yolo\\images\\train\\crossing_94.png: corrupt JPEG restored and saved\n",
      "\u001b[34m\u001b[1mtrain: \u001b[0mWARNING  C:\\code_ibre\\cassda_zertifikatsarbeit\\data\\combined_wildlife_poly_bridges_filtered_no_ch_640-yolo\\images\\train\\crossing_95.png: corrupt JPEG restored and saved\n",
      "\u001b[34m\u001b[1mtrain: \u001b[0mWARNING  C:\\code_ibre\\cassda_zertifikatsarbeit\\data\\combined_wildlife_poly_bridges_filtered_no_ch_640-yolo\\images\\train\\crossing_97.png: corrupt JPEG restored and saved\n",
      "\u001b[34m\u001b[1mtrain: \u001b[0mWARNING  C:\\code_ibre\\cassda_zertifikatsarbeit\\data\\combined_wildlife_poly_bridges_filtered_no_ch_640-yolo\\images\\train\\crossing_98.png: corrupt JPEG restored and saved\n",
      "\u001b[34m\u001b[1malbumentations: \u001b[0mBlur(p=0.01, blur_limit=(3, 7)), MedianBlur(p=0.01, blur_limit=(3, 7)), ToGray(p=0.01, method='weighted_average', num_output_channels=3), CLAHE(p=0.01, clip_limit=(1.0, 4.0), tile_grid_size=(8, 8))\n"
     ]
    },
    {
     "name": "stderr",
     "output_type": "stream",
     "text": [
      "\n",
      "c:\\code_ibre\\cassda_zertifikatsarbeit\\.venv\\Lib\\site-packages\\ultralytics\\data\\augment.py:1850: UserWarning: Argument(s) 'quality_lower' are not valid for transform ImageCompression\n",
      "  A.ImageCompression(quality_lower=75, p=0.0),\n",
      "\u001b[34m\u001b[1mval: \u001b[0mScanning C:\\code_ibre\\cassda_zertifikatsarbeit\\data\\combined_wildlife_poly_bridges_filtered_no_ch_640-yolo\\labels\\val.cache... 70 images, 0 backgrounds, 0 corrupt: 100%|██████████| 70/70 [00:00<?, ?it/s]"
     ]
    },
    {
     "name": "stdout",
     "output_type": "stream",
     "text": [
      "\u001b[34m\u001b[1mval: \u001b[0mWARNING  C:\\code_ibre\\cassda_zertifikatsarbeit\\data\\combined_wildlife_poly_bridges_filtered_no_ch_640-yolo\\images\\val\\crossing_1.png: corrupt JPEG restored and saved\n",
      "\u001b[34m\u001b[1mval: \u001b[0mWARNING  C:\\code_ibre\\cassda_zertifikatsarbeit\\data\\combined_wildlife_poly_bridges_filtered_no_ch_640-yolo\\images\\val\\crossing_101.png: corrupt JPEG restored and saved\n",
      "\u001b[34m\u001b[1mval: \u001b[0mWARNING  C:\\code_ibre\\cassda_zertifikatsarbeit\\data\\combined_wildlife_poly_bridges_filtered_no_ch_640-yolo\\images\\val\\crossing_105.png: corrupt JPEG restored and saved\n",
      "\u001b[34m\u001b[1mval: \u001b[0mWARNING  C:\\code_ibre\\cassda_zertifikatsarbeit\\data\\combined_wildlife_poly_bridges_filtered_no_ch_640-yolo\\images\\val\\crossing_110.png: corrupt JPEG restored and saved\n",
      "\u001b[34m\u001b[1mval: \u001b[0mWARNING  C:\\code_ibre\\cassda_zertifikatsarbeit\\data\\combined_wildlife_poly_bridges_filtered_no_ch_640-yolo\\images\\val\\crossing_122.png: corrupt JPEG restored and saved\n",
      "\u001b[34m\u001b[1mval: \u001b[0mWARNING  C:\\code_ibre\\cassda_zertifikatsarbeit\\data\\combined_wildlife_poly_bridges_filtered_no_ch_640-yolo\\images\\val\\crossing_127.png: corrupt JPEG restored and saved\n",
      "\u001b[34m\u001b[1mval: \u001b[0mWARNING  C:\\code_ibre\\cassda_zertifikatsarbeit\\data\\combined_wildlife_poly_bridges_filtered_no_ch_640-yolo\\images\\val\\crossing_134.png: corrupt JPEG restored and saved\n",
      "\u001b[34m\u001b[1mval: \u001b[0mWARNING  C:\\code_ibre\\cassda_zertifikatsarbeit\\data\\combined_wildlife_poly_bridges_filtered_no_ch_640-yolo\\images\\val\\crossing_137.png: corrupt JPEG restored and saved\n",
      "\u001b[34m\u001b[1mval: \u001b[0mWARNING  C:\\code_ibre\\cassda_zertifikatsarbeit\\data\\combined_wildlife_poly_bridges_filtered_no_ch_640-yolo\\images\\val\\crossing_140.png: corrupt JPEG restored and saved\n",
      "\u001b[34m\u001b[1mval: \u001b[0mWARNING  C:\\code_ibre\\cassda_zertifikatsarbeit\\data\\combined_wildlife_poly_bridges_filtered_no_ch_640-yolo\\images\\val\\crossing_146.png: corrupt JPEG restored and saved\n",
      "\u001b[34m\u001b[1mval: \u001b[0mWARNING  C:\\code_ibre\\cassda_zertifikatsarbeit\\data\\combined_wildlife_poly_bridges_filtered_no_ch_640-yolo\\images\\val\\crossing_153.png: corrupt JPEG restored and saved\n",
      "\u001b[34m\u001b[1mval: \u001b[0mWARNING  C:\\code_ibre\\cassda_zertifikatsarbeit\\data\\combined_wildlife_poly_bridges_filtered_no_ch_640-yolo\\images\\val\\crossing_154.png: corrupt JPEG restored and saved\n",
      "\u001b[34m\u001b[1mval: \u001b[0mWARNING  C:\\code_ibre\\cassda_zertifikatsarbeit\\data\\combined_wildlife_poly_bridges_filtered_no_ch_640-yolo\\images\\val\\crossing_156.png: corrupt JPEG restored and saved\n",
      "\u001b[34m\u001b[1mval: \u001b[0mWARNING  C:\\code_ibre\\cassda_zertifikatsarbeit\\data\\combined_wildlife_poly_bridges_filtered_no_ch_640-yolo\\images\\val\\crossing_187.png: corrupt JPEG restored and saved\n",
      "\u001b[34m\u001b[1mval: \u001b[0mWARNING  C:\\code_ibre\\cassda_zertifikatsarbeit\\data\\combined_wildlife_poly_bridges_filtered_no_ch_640-yolo\\images\\val\\crossing_189.png: corrupt JPEG restored and saved\n",
      "\u001b[34m\u001b[1mval: \u001b[0mWARNING  C:\\code_ibre\\cassda_zertifikatsarbeit\\data\\combined_wildlife_poly_bridges_filtered_no_ch_640-yolo\\images\\val\\crossing_193.png: corrupt JPEG restored and saved\n",
      "\u001b[34m\u001b[1mval: \u001b[0mWARNING  C:\\code_ibre\\cassda_zertifikatsarbeit\\data\\combined_wildlife_poly_bridges_filtered_no_ch_640-yolo\\images\\val\\crossing_213.png: corrupt JPEG restored and saved\n",
      "\u001b[34m\u001b[1mval: \u001b[0mWARNING  C:\\code_ibre\\cassda_zertifikatsarbeit\\data\\combined_wildlife_poly_bridges_filtered_no_ch_640-yolo\\images\\val\\crossing_22.png: corrupt JPEG restored and saved\n",
      "\u001b[34m\u001b[1mval: \u001b[0mWARNING  C:\\code_ibre\\cassda_zertifikatsarbeit\\data\\combined_wildlife_poly_bridges_filtered_no_ch_640-yolo\\images\\val\\crossing_222.png: corrupt JPEG restored and saved\n",
      "\u001b[34m\u001b[1mval: \u001b[0mWARNING  C:\\code_ibre\\cassda_zertifikatsarbeit\\data\\combined_wildlife_poly_bridges_filtered_no_ch_640-yolo\\images\\val\\crossing_239.png: corrupt JPEG restored and saved\n",
      "\u001b[34m\u001b[1mval: \u001b[0mWARNING  C:\\code_ibre\\cassda_zertifikatsarbeit\\data\\combined_wildlife_poly_bridges_filtered_no_ch_640-yolo\\images\\val\\crossing_243.png: corrupt JPEG restored and saved\n",
      "\u001b[34m\u001b[1mval: \u001b[0mWARNING  C:\\code_ibre\\cassda_zertifikatsarbeit\\data\\combined_wildlife_poly_bridges_filtered_no_ch_640-yolo\\images\\val\\crossing_244.png: corrupt JPEG restored and saved\n",
      "\u001b[34m\u001b[1mval: \u001b[0mWARNING  C:\\code_ibre\\cassda_zertifikatsarbeit\\data\\combined_wildlife_poly_bridges_filtered_no_ch_640-yolo\\images\\val\\crossing_252.png: corrupt JPEG restored and saved\n",
      "\u001b[34m\u001b[1mval: \u001b[0mWARNING  C:\\code_ibre\\cassda_zertifikatsarbeit\\data\\combined_wildlife_poly_bridges_filtered_no_ch_640-yolo\\images\\val\\crossing_27.png: corrupt JPEG restored and saved\n",
      "\u001b[34m\u001b[1mval: \u001b[0mWARNING  C:\\code_ibre\\cassda_zertifikatsarbeit\\data\\combined_wildlife_poly_bridges_filtered_no_ch_640-yolo\\images\\val\\crossing_279.png: corrupt JPEG restored and saved\n",
      "\u001b[34m\u001b[1mval: \u001b[0mWARNING  C:\\code_ibre\\cassda_zertifikatsarbeit\\data\\combined_wildlife_poly_bridges_filtered_no_ch_640-yolo\\images\\val\\crossing_28.png: corrupt JPEG restored and saved\n",
      "\u001b[34m\u001b[1mval: \u001b[0mWARNING  C:\\code_ibre\\cassda_zertifikatsarbeit\\data\\combined_wildlife_poly_bridges_filtered_no_ch_640-yolo\\images\\val\\crossing_285.png: corrupt JPEG restored and saved\n",
      "\u001b[34m\u001b[1mval: \u001b[0mWARNING  C:\\code_ibre\\cassda_zertifikatsarbeit\\data\\combined_wildlife_poly_bridges_filtered_no_ch_640-yolo\\images\\val\\crossing_29.png: corrupt JPEG restored and saved\n",
      "\u001b[34m\u001b[1mval: \u001b[0mWARNING  C:\\code_ibre\\cassda_zertifikatsarbeit\\data\\combined_wildlife_poly_bridges_filtered_no_ch_640-yolo\\images\\val\\crossing_290.png: corrupt JPEG restored and saved\n",
      "\u001b[34m\u001b[1mval: \u001b[0mWARNING  C:\\code_ibre\\cassda_zertifikatsarbeit\\data\\combined_wildlife_poly_bridges_filtered_no_ch_640-yolo\\images\\val\\crossing_292.png: corrupt JPEG restored and saved\n",
      "\u001b[34m\u001b[1mval: \u001b[0mWARNING  C:\\code_ibre\\cassda_zertifikatsarbeit\\data\\combined_wildlife_poly_bridges_filtered_no_ch_640-yolo\\images\\val\\crossing_293.png: corrupt JPEG restored and saved\n",
      "\u001b[34m\u001b[1mval: \u001b[0mWARNING  C:\\code_ibre\\cassda_zertifikatsarbeit\\data\\combined_wildlife_poly_bridges_filtered_no_ch_640-yolo\\images\\val\\crossing_294.png: corrupt JPEG restored and saved\n",
      "\u001b[34m\u001b[1mval: \u001b[0mWARNING  C:\\code_ibre\\cassda_zertifikatsarbeit\\data\\combined_wildlife_poly_bridges_filtered_no_ch_640-yolo\\images\\val\\crossing_301.png: corrupt JPEG restored and saved\n",
      "\u001b[34m\u001b[1mval: \u001b[0mWARNING  C:\\code_ibre\\cassda_zertifikatsarbeit\\data\\combined_wildlife_poly_bridges_filtered_no_ch_640-yolo\\images\\val\\crossing_305.png: corrupt JPEG restored and saved\n",
      "\u001b[34m\u001b[1mval: \u001b[0mWARNING  C:\\code_ibre\\cassda_zertifikatsarbeit\\data\\combined_wildlife_poly_bridges_filtered_no_ch_640-yolo\\images\\val\\crossing_310.png: corrupt JPEG restored and saved\n",
      "\u001b[34m\u001b[1mval: \u001b[0mWARNING  C:\\code_ibre\\cassda_zertifikatsarbeit\\data\\combined_wildlife_poly_bridges_filtered_no_ch_640-yolo\\images\\val\\crossing_324.png: corrupt JPEG restored and saved\n",
      "\u001b[34m\u001b[1mval: \u001b[0mWARNING  C:\\code_ibre\\cassda_zertifikatsarbeit\\data\\combined_wildlife_poly_bridges_filtered_no_ch_640-yolo\\images\\val\\crossing_327.png: corrupt JPEG restored and saved\n",
      "\u001b[34m\u001b[1mval: \u001b[0mWARNING  C:\\code_ibre\\cassda_zertifikatsarbeit\\data\\combined_wildlife_poly_bridges_filtered_no_ch_640-yolo\\images\\val\\crossing_329.png: corrupt JPEG restored and saved\n",
      "\u001b[34m\u001b[1mval: \u001b[0mWARNING  C:\\code_ibre\\cassda_zertifikatsarbeit\\data\\combined_wildlife_poly_bridges_filtered_no_ch_640-yolo\\images\\val\\crossing_331.png: corrupt JPEG restored and saved\n",
      "\u001b[34m\u001b[1mval: \u001b[0mWARNING  C:\\code_ibre\\cassda_zertifikatsarbeit\\data\\combined_wildlife_poly_bridges_filtered_no_ch_640-yolo\\images\\val\\crossing_332.png: corrupt JPEG restored and saved\n",
      "\u001b[34m\u001b[1mval: \u001b[0mWARNING  C:\\code_ibre\\cassda_zertifikatsarbeit\\data\\combined_wildlife_poly_bridges_filtered_no_ch_640-yolo\\images\\val\\crossing_339.png: corrupt JPEG restored and saved\n",
      "\u001b[34m\u001b[1mval: \u001b[0mWARNING  C:\\code_ibre\\cassda_zertifikatsarbeit\\data\\combined_wildlife_poly_bridges_filtered_no_ch_640-yolo\\images\\val\\crossing_340.png: corrupt JPEG restored and saved\n",
      "\u001b[34m\u001b[1mval: \u001b[0mWARNING  C:\\code_ibre\\cassda_zertifikatsarbeit\\data\\combined_wildlife_poly_bridges_filtered_no_ch_640-yolo\\images\\val\\crossing_35.png: corrupt JPEG restored and saved\n",
      "\u001b[34m\u001b[1mval: \u001b[0mWARNING  C:\\code_ibre\\cassda_zertifikatsarbeit\\data\\combined_wildlife_poly_bridges_filtered_no_ch_640-yolo\\images\\val\\crossing_352.png: corrupt JPEG restored and saved\n",
      "\u001b[34m\u001b[1mval: \u001b[0mWARNING  C:\\code_ibre\\cassda_zertifikatsarbeit\\data\\combined_wildlife_poly_bridges_filtered_no_ch_640-yolo\\images\\val\\crossing_358.png: corrupt JPEG restored and saved\n",
      "\u001b[34m\u001b[1mval: \u001b[0mWARNING  C:\\code_ibre\\cassda_zertifikatsarbeit\\data\\combined_wildlife_poly_bridges_filtered_no_ch_640-yolo\\images\\val\\crossing_361.png: corrupt JPEG restored and saved\n",
      "\u001b[34m\u001b[1mval: \u001b[0mWARNING  C:\\code_ibre\\cassda_zertifikatsarbeit\\data\\combined_wildlife_poly_bridges_filtered_no_ch_640-yolo\\images\\val\\crossing_364.png: corrupt JPEG restored and saved\n",
      "\u001b[34m\u001b[1mval: \u001b[0mWARNING  C:\\code_ibre\\cassda_zertifikatsarbeit\\data\\combined_wildlife_poly_bridges_filtered_no_ch_640-yolo\\images\\val\\crossing_369.png: corrupt JPEG restored and saved\n",
      "\u001b[34m\u001b[1mval: \u001b[0mWARNING  C:\\code_ibre\\cassda_zertifikatsarbeit\\data\\combined_wildlife_poly_bridges_filtered_no_ch_640-yolo\\images\\val\\crossing_371.png: corrupt JPEG restored and saved\n",
      "\u001b[34m\u001b[1mval: \u001b[0mWARNING  C:\\code_ibre\\cassda_zertifikatsarbeit\\data\\combined_wildlife_poly_bridges_filtered_no_ch_640-yolo\\images\\val\\crossing_377.png: corrupt JPEG restored and saved\n",
      "\u001b[34m\u001b[1mval: \u001b[0mWARNING  C:\\code_ibre\\cassda_zertifikatsarbeit\\data\\combined_wildlife_poly_bridges_filtered_no_ch_640-yolo\\images\\val\\crossing_392.png: corrupt JPEG restored and saved\n",
      "\u001b[34m\u001b[1mval: \u001b[0mWARNING  C:\\code_ibre\\cassda_zertifikatsarbeit\\data\\combined_wildlife_poly_bridges_filtered_no_ch_640-yolo\\images\\val\\crossing_393.png: corrupt JPEG restored and saved\n",
      "\u001b[34m\u001b[1mval: \u001b[0mWARNING  C:\\code_ibre\\cassda_zertifikatsarbeit\\data\\combined_wildlife_poly_bridges_filtered_no_ch_640-yolo\\images\\val\\crossing_401.png: corrupt JPEG restored and saved\n",
      "\u001b[34m\u001b[1mval: \u001b[0mWARNING  C:\\code_ibre\\cassda_zertifikatsarbeit\\data\\combined_wildlife_poly_bridges_filtered_no_ch_640-yolo\\images\\val\\crossing_413.png: corrupt JPEG restored and saved\n",
      "\u001b[34m\u001b[1mval: \u001b[0mWARNING  C:\\code_ibre\\cassda_zertifikatsarbeit\\data\\combined_wildlife_poly_bridges_filtered_no_ch_640-yolo\\images\\val\\crossing_43.png: corrupt JPEG restored and saved\n",
      "\u001b[34m\u001b[1mval: \u001b[0mWARNING  C:\\code_ibre\\cassda_zertifikatsarbeit\\data\\combined_wildlife_poly_bridges_filtered_no_ch_640-yolo\\images\\val\\crossing_441.png: corrupt JPEG restored and saved\n",
      "\u001b[34m\u001b[1mval: \u001b[0mWARNING  C:\\code_ibre\\cassda_zertifikatsarbeit\\data\\combined_wildlife_poly_bridges_filtered_no_ch_640-yolo\\images\\val\\crossing_449.png: corrupt JPEG restored and saved\n",
      "\u001b[34m\u001b[1mval: \u001b[0mWARNING  C:\\code_ibre\\cassda_zertifikatsarbeit\\data\\combined_wildlife_poly_bridges_filtered_no_ch_640-yolo\\images\\val\\crossing_45.png: corrupt JPEG restored and saved\n",
      "\u001b[34m\u001b[1mval: \u001b[0mWARNING  C:\\code_ibre\\cassda_zertifikatsarbeit\\data\\combined_wildlife_poly_bridges_filtered_no_ch_640-yolo\\images\\val\\crossing_46.png: corrupt JPEG restored and saved\n",
      "\u001b[34m\u001b[1mval: \u001b[0mWARNING  C:\\code_ibre\\cassda_zertifikatsarbeit\\data\\combined_wildlife_poly_bridges_filtered_no_ch_640-yolo\\images\\val\\crossing_461.png: corrupt JPEG restored and saved\n",
      "\u001b[34m\u001b[1mval: \u001b[0mWARNING  C:\\code_ibre\\cassda_zertifikatsarbeit\\data\\combined_wildlife_poly_bridges_filtered_no_ch_640-yolo\\images\\val\\crossing_463.png: corrupt JPEG restored and saved\n",
      "\u001b[34m\u001b[1mval: \u001b[0mWARNING  C:\\code_ibre\\cassda_zertifikatsarbeit\\data\\combined_wildlife_poly_bridges_filtered_no_ch_640-yolo\\images\\val\\crossing_467.png: corrupt JPEG restored and saved\n",
      "\u001b[34m\u001b[1mval: \u001b[0mWARNING  C:\\code_ibre\\cassda_zertifikatsarbeit\\data\\combined_wildlife_poly_bridges_filtered_no_ch_640-yolo\\images\\val\\crossing_56.png: corrupt JPEG restored and saved\n",
      "\u001b[34m\u001b[1mval: \u001b[0mWARNING  C:\\code_ibre\\cassda_zertifikatsarbeit\\data\\combined_wildlife_poly_bridges_filtered_no_ch_640-yolo\\images\\val\\crossing_58.png: corrupt JPEG restored and saved\n",
      "\u001b[34m\u001b[1mval: \u001b[0mWARNING  C:\\code_ibre\\cassda_zertifikatsarbeit\\data\\combined_wildlife_poly_bridges_filtered_no_ch_640-yolo\\images\\val\\crossing_64.png: corrupt JPEG restored and saved\n",
      "\u001b[34m\u001b[1mval: \u001b[0mWARNING  C:\\code_ibre\\cassda_zertifikatsarbeit\\data\\combined_wildlife_poly_bridges_filtered_no_ch_640-yolo\\images\\val\\crossing_65.png: corrupt JPEG restored and saved\n",
      "\u001b[34m\u001b[1mval: \u001b[0mWARNING  C:\\code_ibre\\cassda_zertifikatsarbeit\\data\\combined_wildlife_poly_bridges_filtered_no_ch_640-yolo\\images\\val\\crossing_66.png: corrupt JPEG restored and saved\n",
      "\u001b[34m\u001b[1mval: \u001b[0mWARNING  C:\\code_ibre\\cassda_zertifikatsarbeit\\data\\combined_wildlife_poly_bridges_filtered_no_ch_640-yolo\\images\\val\\crossing_7.png: corrupt JPEG restored and saved\n",
      "\u001b[34m\u001b[1mval: \u001b[0mWARNING  C:\\code_ibre\\cassda_zertifikatsarbeit\\data\\combined_wildlife_poly_bridges_filtered_no_ch_640-yolo\\images\\val\\crossing_8.png: corrupt JPEG restored and saved\n",
      "\u001b[34m\u001b[1mval: \u001b[0mWARNING  C:\\code_ibre\\cassda_zertifikatsarbeit\\data\\combined_wildlife_poly_bridges_filtered_no_ch_640-yolo\\images\\val\\crossing_9.png: corrupt JPEG restored and saved\n"
     ]
    },
    {
     "name": "stderr",
     "output_type": "stream",
     "text": [
      "\n"
     ]
    },
    {
     "name": "stdout",
     "output_type": "stream",
     "text": [
      "Plotting labels to cassda-wildlife-crossing\\yolo11n-obb-wildlife_bridges-filtered-dataset-no-CH\\labels.jpg... \n",
      "\u001b[34m\u001b[1moptimizer:\u001b[0m 'optimizer=auto' found, ignoring 'lr0=0.01' and 'momentum=0.937' and determining best 'optimizer', 'lr0' and 'momentum' automatically... \n",
      "\u001b[34m\u001b[1moptimizer:\u001b[0m AdamW(lr=0.002, momentum=0.9) with parameter groups 87 weight(decay=0.0), 97 weight(decay=0.0005), 96 bias(decay=0.0)\n",
      "Image sizes 640 train, 640 val\n",
      "Using 8 dataloader workers\n",
      "Logging results to \u001b[1mcassda-wildlife-crossing\\yolo11n-obb-wildlife_bridges-filtered-dataset-no-CH\u001b[0m\n",
      "Starting training for 1000 epochs...\n",
      "\n",
      "      Epoch    GPU_mem   box_loss   cls_loss   dfl_loss  Instances       Size\n"
     ]
    },
    {
     "name": "stderr",
     "output_type": "stream",
     "text": [
      "     1/1000      2.55G      2.523      11.19          2         13        640: 100%|██████████| 21/21 [00:06<00:00,  3.21it/s]\n",
      "                 Class     Images  Instances      Box(P          R      mAP50  mAP50-95):  60%|██████    | 3/5 [00:05<00:03,  1.81s/it]"
     ]
    },
    {
     "name": "stdout",
     "output_type": "stream",
     "text": [
      "WARNING  NMS time limit 2.800s exceeded\n"
     ]
    },
    {
     "name": "stderr",
     "output_type": "stream",
     "text": [
      "                 Class     Images  Instances      Box(P          R      mAP50  mAP50-95): 100%|██████████| 5/5 [00:15<00:00,  3.03s/it]"
     ]
    },
    {
     "name": "stdout",
     "output_type": "stream",
     "text": [
      "                   all         70         70      0.367      0.224      0.254     0.0983\n"
     ]
    },
    {
     "name": "stderr",
     "output_type": "stream",
     "text": [
      "\n"
     ]
    },
    {
     "name": "stdout",
     "output_type": "stream",
     "text": [
      "\n",
      "      Epoch    GPU_mem   box_loss   cls_loss   dfl_loss  Instances       Size\n"
     ]
    },
    {
     "name": "stderr",
     "output_type": "stream",
     "text": [
      "     2/1000      2.55G      1.918      4.694      1.471          6        640: 100%|██████████| 21/21 [00:03<00:00,  5.51it/s]\n",
      "                 Class     Images  Instances      Box(P          R      mAP50  mAP50-95): 100%|██████████| 5/5 [00:01<00:00,  3.00it/s]"
     ]
    },
    {
     "name": "stdout",
     "output_type": "stream",
     "text": [
      "                   all         70         70      0.813      0.743      0.832      0.376\n"
     ]
    },
    {
     "name": "stderr",
     "output_type": "stream",
     "text": [
      "\n"
     ]
    },
    {
     "name": "stdout",
     "output_type": "stream",
     "text": [
      "\n",
      "      Epoch    GPU_mem   box_loss   cls_loss   dfl_loss  Instances       Size\n"
     ]
    },
    {
     "name": "stderr",
     "output_type": "stream",
     "text": [
      "     3/1000      2.56G      1.705      2.316      1.578         10        640: 100%|██████████| 21/21 [00:03<00:00,  5.33it/s]\n",
      "                 Class     Images  Instances      Box(P          R      mAP50  mAP50-95): 100%|██████████| 5/5 [00:00<00:00,  6.16it/s]"
     ]
    },
    {
     "name": "stdout",
     "output_type": "stream",
     "text": [
      "                   all         70         70      0.809      0.784      0.881       0.45\n"
     ]
    },
    {
     "name": "stderr",
     "output_type": "stream",
     "text": [
      "\n"
     ]
    },
    {
     "name": "stdout",
     "output_type": "stream",
     "text": [
      "\n",
      "      Epoch    GPU_mem   box_loss   cls_loss   dfl_loss  Instances       Size\n"
     ]
    },
    {
     "name": "stderr",
     "output_type": "stream",
     "text": [
      "     4/1000      2.55G      1.766      1.746      1.667          8        640: 100%|██████████| 21/21 [00:03<00:00,  5.80it/s]\n",
      "                 Class     Images  Instances      Box(P          R      mAP50  mAP50-95): 100%|██████████| 5/5 [00:00<00:00,  6.22it/s]"
     ]
    },
    {
     "name": "stdout",
     "output_type": "stream",
     "text": [
      "                   all         70         70       0.86      0.874      0.861      0.442\n"
     ]
    },
    {
     "name": "stderr",
     "output_type": "stream",
     "text": [
      "\n"
     ]
    },
    {
     "name": "stdout",
     "output_type": "stream",
     "text": [
      "\n",
      "      Epoch    GPU_mem   box_loss   cls_loss   dfl_loss  Instances       Size\n"
     ]
    },
    {
     "name": "stderr",
     "output_type": "stream",
     "text": [
      "     5/1000      2.54G      1.674      1.408      1.558         14        640: 100%|██████████| 21/21 [00:03<00:00,  5.70it/s]\n",
      "                 Class     Images  Instances      Box(P          R      mAP50  mAP50-95): 100%|██████████| 5/5 [00:00<00:00,  6.08it/s]"
     ]
    },
    {
     "name": "stdout",
     "output_type": "stream",
     "text": [
      "                   all         70         70      0.824      0.714      0.816      0.423\n"
     ]
    },
    {
     "name": "stderr",
     "output_type": "stream",
     "text": [
      "\n"
     ]
    },
    {
     "name": "stdout",
     "output_type": "stream",
     "text": [
      "\n",
      "      Epoch    GPU_mem   box_loss   cls_loss   dfl_loss  Instances       Size\n"
     ]
    },
    {
     "name": "stderr",
     "output_type": "stream",
     "text": [
      "     6/1000      2.55G      1.694      1.281      1.603         12        640: 100%|██████████| 21/21 [00:03<00:00,  5.58it/s]\n",
      "                 Class     Images  Instances      Box(P          R      mAP50  mAP50-95): 100%|██████████| 5/5 [00:00<00:00,  6.48it/s]"
     ]
    },
    {
     "name": "stdout",
     "output_type": "stream",
     "text": [
      "                   all         70         70      0.886      0.777      0.861      0.446\n"
     ]
    },
    {
     "name": "stderr",
     "output_type": "stream",
     "text": [
      "\n"
     ]
    },
    {
     "name": "stdout",
     "output_type": "stream",
     "text": [
      "\n",
      "      Epoch    GPU_mem   box_loss   cls_loss   dfl_loss  Instances       Size\n"
     ]
    },
    {
     "name": "stderr",
     "output_type": "stream",
     "text": [
      "     7/1000      2.55G      1.633      1.227      1.673         13        640: 100%|██████████| 21/21 [00:03<00:00,  5.78it/s]\n",
      "                 Class     Images  Instances      Box(P          R      mAP50  mAP50-95): 100%|██████████| 5/5 [00:00<00:00,  5.61it/s]"
     ]
    },
    {
     "name": "stdout",
     "output_type": "stream",
     "text": [
      "                   all         70         70      0.827      0.887      0.896      0.452\n"
     ]
    },
    {
     "name": "stderr",
     "output_type": "stream",
     "text": [
      "\n"
     ]
    },
    {
     "name": "stdout",
     "output_type": "stream",
     "text": [
      "\n",
      "      Epoch    GPU_mem   box_loss   cls_loss   dfl_loss  Instances       Size\n"
     ]
    },
    {
     "name": "stderr",
     "output_type": "stream",
     "text": [
      "     8/1000      2.55G       1.67      1.204      1.586         10        640: 100%|██████████| 21/21 [00:03<00:00,  5.56it/s]\n",
      "                 Class     Images  Instances      Box(P          R      mAP50  mAP50-95): 100%|██████████| 5/5 [00:00<00:00,  5.43it/s]"
     ]
    },
    {
     "name": "stdout",
     "output_type": "stream",
     "text": [
      "                   all         70         70      0.834      0.914      0.867      0.468\n"
     ]
    },
    {
     "name": "stderr",
     "output_type": "stream",
     "text": [
      "\n"
     ]
    },
    {
     "name": "stdout",
     "output_type": "stream",
     "text": [
      "\n",
      "      Epoch    GPU_mem   box_loss   cls_loss   dfl_loss  Instances       Size\n"
     ]
    },
    {
     "name": "stderr",
     "output_type": "stream",
     "text": [
      "     9/1000      2.55G      1.582      1.087      1.521         12        640: 100%|██████████| 21/21 [00:03<00:00,  5.82it/s]\n",
      "                 Class     Images  Instances      Box(P          R      mAP50  mAP50-95): 100%|██████████| 5/5 [00:00<00:00,  5.88it/s]"
     ]
    },
    {
     "name": "stdout",
     "output_type": "stream",
     "text": [
      "                   all         70         70      0.925      0.877      0.922      0.498\n"
     ]
    },
    {
     "name": "stderr",
     "output_type": "stream",
     "text": [
      "\n"
     ]
    },
    {
     "name": "stdout",
     "output_type": "stream",
     "text": [
      "\n",
      "      Epoch    GPU_mem   box_loss   cls_loss   dfl_loss  Instances       Size\n"
     ]
    },
    {
     "name": "stderr",
     "output_type": "stream",
     "text": [
      "    10/1000      2.55G        1.6      1.029      1.582          7        640: 100%|██████████| 21/21 [00:03<00:00,  5.79it/s]\n",
      "                 Class     Images  Instances      Box(P          R      mAP50  mAP50-95): 100%|██████████| 5/5 [00:00<00:00,  6.11it/s]"
     ]
    },
    {
     "name": "stdout",
     "output_type": "stream",
     "text": [
      "                   all         70         70      0.919      0.809      0.909      0.465\n"
     ]
    },
    {
     "name": "stderr",
     "output_type": "stream",
     "text": [
      "\n"
     ]
    },
    {
     "name": "stdout",
     "output_type": "stream",
     "text": [
      "\n",
      "      Epoch    GPU_mem   box_loss   cls_loss   dfl_loss  Instances       Size\n"
     ]
    },
    {
     "name": "stderr",
     "output_type": "stream",
     "text": [
      "    11/1000      2.55G      1.651        1.1      1.656         11        640: 100%|██████████| 21/21 [00:03<00:00,  5.62it/s]\n",
      "                 Class     Images  Instances      Box(P          R      mAP50  mAP50-95): 100%|██████████| 5/5 [00:00<00:00,  5.72it/s]"
     ]
    },
    {
     "name": "stdout",
     "output_type": "stream",
     "text": [
      "                   all         70         70      0.849      0.786      0.887      0.477\n"
     ]
    },
    {
     "name": "stderr",
     "output_type": "stream",
     "text": [
      "\n"
     ]
    },
    {
     "name": "stdout",
     "output_type": "stream",
     "text": [
      "\n",
      "      Epoch    GPU_mem   box_loss   cls_loss   dfl_loss  Instances       Size\n"
     ]
    },
    {
     "name": "stderr",
     "output_type": "stream",
     "text": [
      "    12/1000      2.56G      1.593      1.009      1.557         12        640: 100%|██████████| 21/21 [00:03<00:00,  5.64it/s]\n",
      "                 Class     Images  Instances      Box(P          R      mAP50  mAP50-95): 100%|██████████| 5/5 [00:00<00:00,  6.15it/s]"
     ]
    },
    {
     "name": "stdout",
     "output_type": "stream",
     "text": [
      "                   all         70         70      0.924      0.863       0.94      0.507\n"
     ]
    },
    {
     "name": "stderr",
     "output_type": "stream",
     "text": [
      "\n"
     ]
    },
    {
     "name": "stdout",
     "output_type": "stream",
     "text": [
      "\n",
      "      Epoch    GPU_mem   box_loss   cls_loss   dfl_loss  Instances       Size\n"
     ]
    },
    {
     "name": "stderr",
     "output_type": "stream",
     "text": [
      "    13/1000      2.54G       1.68      1.133       1.61         10        640: 100%|██████████| 21/21 [00:03<00:00,  5.52it/s]\n",
      "                 Class     Images  Instances      Box(P          R      mAP50  mAP50-95): 100%|██████████| 5/5 [00:00<00:00,  6.07it/s]"
     ]
    },
    {
     "name": "stdout",
     "output_type": "stream",
     "text": [
      "                   all         70         70      0.835      0.866       0.88      0.464\n"
     ]
    },
    {
     "name": "stderr",
     "output_type": "stream",
     "text": [
      "\n"
     ]
    },
    {
     "name": "stdout",
     "output_type": "stream",
     "text": [
      "\n",
      "      Epoch    GPU_mem   box_loss   cls_loss   dfl_loss  Instances       Size\n"
     ]
    },
    {
     "name": "stderr",
     "output_type": "stream",
     "text": [
      "    14/1000      2.55G       1.57     0.9701      1.533         11        640: 100%|██████████| 21/21 [00:03<00:00,  5.69it/s]\n",
      "                 Class     Images  Instances      Box(P          R      mAP50  mAP50-95): 100%|██████████| 5/5 [00:00<00:00,  6.29it/s]"
     ]
    },
    {
     "name": "stdout",
     "output_type": "stream",
     "text": [
      "                   all         70         70      0.885       0.88      0.922      0.525\n"
     ]
    },
    {
     "name": "stderr",
     "output_type": "stream",
     "text": [
      "\n"
     ]
    },
    {
     "name": "stdout",
     "output_type": "stream",
     "text": [
      "\n",
      "      Epoch    GPU_mem   box_loss   cls_loss   dfl_loss  Instances       Size\n"
     ]
    },
    {
     "name": "stderr",
     "output_type": "stream",
     "text": [
      "    15/1000      2.55G      1.545      0.964      1.533         10        640: 100%|██████████| 21/21 [00:03<00:00,  5.34it/s]\n",
      "                 Class     Images  Instances      Box(P          R      mAP50  mAP50-95): 100%|██████████| 5/5 [00:01<00:00,  4.65it/s]"
     ]
    },
    {
     "name": "stdout",
     "output_type": "stream",
     "text": [
      "                   all         70         70      0.898      0.829      0.877      0.505\n"
     ]
    },
    {
     "name": "stderr",
     "output_type": "stream",
     "text": [
      "\n"
     ]
    },
    {
     "name": "stdout",
     "output_type": "stream",
     "text": [
      "\n",
      "      Epoch    GPU_mem   box_loss   cls_loss   dfl_loss  Instances       Size\n"
     ]
    },
    {
     "name": "stderr",
     "output_type": "stream",
     "text": [
      "    16/1000      2.55G       1.56     0.9899      1.591         12        640: 100%|██████████| 21/21 [00:04<00:00,  5.22it/s]\n",
      "                 Class     Images  Instances      Box(P          R      mAP50  mAP50-95): 100%|██████████| 5/5 [00:00<00:00,  6.48it/s]"
     ]
    },
    {
     "name": "stdout",
     "output_type": "stream",
     "text": [
      "                   all         70         70      0.807      0.886       0.89      0.505\n"
     ]
    },
    {
     "name": "stderr",
     "output_type": "stream",
     "text": [
      "\n"
     ]
    },
    {
     "name": "stdout",
     "output_type": "stream",
     "text": [
      "\n",
      "      Epoch    GPU_mem   box_loss   cls_loss   dfl_loss  Instances       Size\n"
     ]
    },
    {
     "name": "stderr",
     "output_type": "stream",
     "text": [
      "    17/1000      2.54G      1.529     0.9918      1.535         14        640: 100%|██████████| 21/21 [00:04<00:00,  5.08it/s]\n",
      "                 Class     Images  Instances      Box(P          R      mAP50  mAP50-95): 100%|██████████| 5/5 [00:00<00:00,  6.59it/s]"
     ]
    },
    {
     "name": "stdout",
     "output_type": "stream",
     "text": [
      "                   all         70         70      0.913      0.895      0.936        0.5\n"
     ]
    },
    {
     "name": "stderr",
     "output_type": "stream",
     "text": [
      "\n"
     ]
    },
    {
     "name": "stdout",
     "output_type": "stream",
     "text": [
      "\n",
      "      Epoch    GPU_mem   box_loss   cls_loss   dfl_loss  Instances       Size\n"
     ]
    },
    {
     "name": "stderr",
     "output_type": "stream",
     "text": [
      "    18/1000      2.55G      1.521     0.9493      1.492          8        640: 100%|██████████| 21/21 [00:04<00:00,  5.13it/s]\n",
      "                 Class     Images  Instances      Box(P          R      mAP50  mAP50-95): 100%|██████████| 5/5 [00:00<00:00,  5.17it/s]"
     ]
    },
    {
     "name": "stdout",
     "output_type": "stream",
     "text": [
      "                   all         70         70      0.894      0.986      0.953      0.533\n"
     ]
    },
    {
     "name": "stderr",
     "output_type": "stream",
     "text": [
      "\n"
     ]
    },
    {
     "name": "stdout",
     "output_type": "stream",
     "text": [
      "\n",
      "      Epoch    GPU_mem   box_loss   cls_loss   dfl_loss  Instances       Size\n"
     ]
    },
    {
     "name": "stderr",
     "output_type": "stream",
     "text": [
      "    19/1000      2.55G      1.529     0.9183      1.522          6        640: 100%|██████████| 21/21 [00:04<00:00,  5.10it/s]\n",
      "                 Class     Images  Instances      Box(P          R      mAP50  mAP50-95): 100%|██████████| 5/5 [00:00<00:00,  6.14it/s]"
     ]
    },
    {
     "name": "stdout",
     "output_type": "stream",
     "text": [
      "                   all         70         70      0.917      0.971      0.951      0.548\n"
     ]
    },
    {
     "name": "stderr",
     "output_type": "stream",
     "text": [
      "\n"
     ]
    },
    {
     "name": "stdout",
     "output_type": "stream",
     "text": [
      "\n",
      "      Epoch    GPU_mem   box_loss   cls_loss   dfl_loss  Instances       Size\n"
     ]
    },
    {
     "name": "stderr",
     "output_type": "stream",
     "text": [
      "    20/1000      2.55G       1.61      1.003      1.604         13        640: 100%|██████████| 21/21 [00:03<00:00,  5.35it/s]\n",
      "                 Class     Images  Instances      Box(P          R      mAP50  mAP50-95): 100%|██████████| 5/5 [00:00<00:00,  5.60it/s]"
     ]
    },
    {
     "name": "stdout",
     "output_type": "stream",
     "text": [
      "                   all         70         70      0.914      0.909      0.927      0.538\n"
     ]
    },
    {
     "name": "stderr",
     "output_type": "stream",
     "text": [
      "\n"
     ]
    },
    {
     "name": "stdout",
     "output_type": "stream",
     "text": [
      "\n",
      "      Epoch    GPU_mem   box_loss   cls_loss   dfl_loss  Instances       Size\n"
     ]
    },
    {
     "name": "stderr",
     "output_type": "stream",
     "text": [
      "    21/1000      2.54G      1.492     0.9262      1.529          8        640: 100%|██████████| 21/21 [00:03<00:00,  5.84it/s]\n",
      "                 Class     Images  Instances      Box(P          R      mAP50  mAP50-95): 100%|██████████| 5/5 [00:00<00:00,  5.07it/s]"
     ]
    },
    {
     "name": "stdout",
     "output_type": "stream",
     "text": [
      "                   all         70         70      0.879      0.871      0.903      0.528\n"
     ]
    },
    {
     "name": "stderr",
     "output_type": "stream",
     "text": [
      "\n"
     ]
    },
    {
     "name": "stdout",
     "output_type": "stream",
     "text": [
      "\n",
      "      Epoch    GPU_mem   box_loss   cls_loss   dfl_loss  Instances       Size\n"
     ]
    },
    {
     "name": "stderr",
     "output_type": "stream",
     "text": [
      "    22/1000      2.55G      1.601     0.9818      1.543          7        640: 100%|██████████| 21/21 [00:04<00:00,  5.09it/s]\n",
      "                 Class     Images  Instances      Box(P          R      mAP50  mAP50-95): 100%|██████████| 5/5 [00:00<00:00,  6.73it/s]"
     ]
    },
    {
     "name": "stdout",
     "output_type": "stream",
     "text": [
      "                   all         70         70      0.869      0.914      0.934      0.536\n"
     ]
    },
    {
     "name": "stderr",
     "output_type": "stream",
     "text": [
      "\n"
     ]
    },
    {
     "name": "stdout",
     "output_type": "stream",
     "text": [
      "\n",
      "      Epoch    GPU_mem   box_loss   cls_loss   dfl_loss  Instances       Size\n"
     ]
    },
    {
     "name": "stderr",
     "output_type": "stream",
     "text": [
      "    23/1000      2.55G      1.489     0.9526      1.516          8        640: 100%|██████████| 21/21 [00:03<00:00,  5.53it/s]\n",
      "                 Class     Images  Instances      Box(P          R      mAP50  mAP50-95): 100%|██████████| 5/5 [00:00<00:00,  6.27it/s]"
     ]
    },
    {
     "name": "stdout",
     "output_type": "stream",
     "text": [
      "                   all         70         70      0.879      0.934      0.936      0.506\n"
     ]
    },
    {
     "name": "stderr",
     "output_type": "stream",
     "text": [
      "\n"
     ]
    },
    {
     "name": "stdout",
     "output_type": "stream",
     "text": [
      "\n",
      "      Epoch    GPU_mem   box_loss   cls_loss   dfl_loss  Instances       Size\n"
     ]
    },
    {
     "name": "stderr",
     "output_type": "stream",
     "text": [
      "    24/1000      2.55G      1.623       1.05      1.554         11        640: 100%|██████████| 21/21 [00:03<00:00,  5.72it/s]\n",
      "                 Class     Images  Instances      Box(P          R      mAP50  mAP50-95): 100%|██████████| 5/5 [00:00<00:00,  7.26it/s]"
     ]
    },
    {
     "name": "stdout",
     "output_type": "stream",
     "text": [
      "                   all         70         70      0.877      0.886      0.932      0.457\n"
     ]
    },
    {
     "name": "stderr",
     "output_type": "stream",
     "text": [
      "\n"
     ]
    },
    {
     "name": "stdout",
     "output_type": "stream",
     "text": [
      "\n",
      "      Epoch    GPU_mem   box_loss   cls_loss   dfl_loss  Instances       Size\n"
     ]
    },
    {
     "name": "stderr",
     "output_type": "stream",
     "text": [
      "    25/1000      2.54G      1.551     0.9407      1.545          8        640: 100%|██████████| 21/21 [00:03<00:00,  5.52it/s]\n",
      "                 Class     Images  Instances      Box(P          R      mAP50  mAP50-95): 100%|██████████| 5/5 [00:00<00:00,  5.38it/s]"
     ]
    },
    {
     "name": "stdout",
     "output_type": "stream",
     "text": [
      "                   all         70         70      0.889      0.886      0.916      0.511\n"
     ]
    },
    {
     "name": "stderr",
     "output_type": "stream",
     "text": [
      "\n"
     ]
    },
    {
     "name": "stdout",
     "output_type": "stream",
     "text": [
      "\n",
      "      Epoch    GPU_mem   box_loss   cls_loss   dfl_loss  Instances       Size\n"
     ]
    },
    {
     "name": "stderr",
     "output_type": "stream",
     "text": [
      "    26/1000      2.55G      1.464     0.9274      1.489         13        640: 100%|██████████| 21/21 [00:03<00:00,  5.41it/s]\n",
      "                 Class     Images  Instances      Box(P          R      mAP50  mAP50-95): 100%|██████████| 5/5 [00:00<00:00,  6.51it/s]"
     ]
    },
    {
     "name": "stdout",
     "output_type": "stream",
     "text": [
      "                   all         70         70      0.923      0.943       0.93      0.533\n"
     ]
    },
    {
     "name": "stderr",
     "output_type": "stream",
     "text": [
      "\n"
     ]
    },
    {
     "name": "stdout",
     "output_type": "stream",
     "text": [
      "\n",
      "      Epoch    GPU_mem   box_loss   cls_loss   dfl_loss  Instances       Size\n"
     ]
    },
    {
     "name": "stderr",
     "output_type": "stream",
     "text": [
      "    27/1000      2.55G      1.519     0.9545      1.565          7        640: 100%|██████████| 21/21 [00:04<00:00,  5.05it/s]\n",
      "                 Class     Images  Instances      Box(P          R      mAP50  mAP50-95): 100%|██████████| 5/5 [00:00<00:00,  6.12it/s]"
     ]
    },
    {
     "name": "stdout",
     "output_type": "stream",
     "text": [
      "                   all         70         70       0.97      0.923      0.958      0.536\n"
     ]
    },
    {
     "name": "stderr",
     "output_type": "stream",
     "text": [
      "\n"
     ]
    },
    {
     "name": "stdout",
     "output_type": "stream",
     "text": [
      "\n",
      "      Epoch    GPU_mem   box_loss   cls_loss   dfl_loss  Instances       Size\n"
     ]
    },
    {
     "name": "stderr",
     "output_type": "stream",
     "text": [
      "    28/1000      2.55G      1.411     0.8667      1.432         12        640: 100%|██████████| 21/21 [00:03<00:00,  5.38it/s]\n",
      "                 Class     Images  Instances      Box(P          R      mAP50  mAP50-95): 100%|██████████| 5/5 [00:00<00:00,  6.03it/s]"
     ]
    },
    {
     "name": "stdout",
     "output_type": "stream",
     "text": [
      "                   all         70         70      0.896      0.943      0.925       0.51\n"
     ]
    },
    {
     "name": "stderr",
     "output_type": "stream",
     "text": [
      "\n"
     ]
    },
    {
     "name": "stdout",
     "output_type": "stream",
     "text": [
      "\n",
      "      Epoch    GPU_mem   box_loss   cls_loss   dfl_loss  Instances       Size\n"
     ]
    },
    {
     "name": "stderr",
     "output_type": "stream",
     "text": [
      "    29/1000      2.54G      1.483     0.8869      1.508         10        640: 100%|██████████| 21/21 [00:03<00:00,  5.44it/s]\n",
      "                 Class     Images  Instances      Box(P          R      mAP50  mAP50-95): 100%|██████████| 5/5 [00:00<00:00,  5.95it/s]"
     ]
    },
    {
     "name": "stdout",
     "output_type": "stream",
     "text": [
      "                   all         70         70      0.918      0.961       0.96      0.545\n",
      "\u001b[34m\u001b[1mEarlyStopping: \u001b[0mTraining stopped early as no improvement observed in last 10 epochs. Best results observed at epoch 19, best model saved as best.pt.\n",
      "To update EarlyStopping(patience=10) pass a new patience value, i.e. `patience=300` or use `patience=0` to disable EarlyStopping.\n"
     ]
    },
    {
     "name": "stderr",
     "output_type": "stream",
     "text": [
      "\n"
     ]
    },
    {
     "name": "stdout",
     "output_type": "stream",
     "text": [
      "\n",
      "29 epochs completed in 0.050 hours.\n",
      "Optimizer stripped from cassda-wildlife-crossing\\yolo11n-obb-wildlife_bridges-filtered-dataset-no-CH\\weights\\last.pt, 5.7MB\n",
      "Optimizer stripped from cassda-wildlife-crossing\\yolo11n-obb-wildlife_bridges-filtered-dataset-no-CH\\weights\\best.pt, 5.7MB\n",
      "\n",
      "Validating cassda-wildlife-crossing\\yolo11n-obb-wildlife_bridges-filtered-dataset-no-CH\\weights\\best.pt...\n",
      "Ultralytics 8.3.40  Python-3.13.3 torch-2.9.0+cu126 CUDA:0 (NVIDIA GeForce RTX 4070 Laptop GPU, 8188MiB)\n",
      "YOLO11n-obb summary (fused): 257 layers, 2,653,918 parameters, 0 gradients, 6.6 GFLOPs\n"
     ]
    },
    {
     "name": "stderr",
     "output_type": "stream",
     "text": [
      "                 Class     Images  Instances      Box(P          R      mAP50  mAP50-95): 100%|██████████| 5/5 [00:01<00:00,  3.71it/s]\n"
     ]
    },
    {
     "name": "stdout",
     "output_type": "stream",
     "text": [
      "                   all         70         70      0.917      0.971      0.951      0.546\n",
      "Speed: 1.0ms preprocess, 3.4ms inference, 0.0ms loss, 5.5ms postprocess per image\n",
      "Results saved to \u001b[1mcassda-wildlife-crossing\\yolo11n-obb-wildlife_bridges-filtered-dataset-no-CH\u001b[0m\n"
     ]
    }
   ],
   "source": [
    "results = model.train(\n",
    "    data=\"../data/combined_wildlife_poly_bridges_filtered_no_ch_640-yolo/data.yaml\",\n",
    "    epochs=1000,\n",
    "    imgsz=640,\n",
    "    patience=10,\n",
    "    project=\"cassda-wildlife-crossing\",\n",
    "    name=\"yolo11n-obb-wildlife_bridges-filtered-dataset-no-CH\",\n",
    "    exist_ok=True,\n",
    "    translate=0.4,\n",
    "    degrees=90,\n",
    "    scale=0.5,\n",
    "    fliplr=0.5,\n",
    "    flipud=0.5,\n",
    ")"
   ]
  },
  {
   "cell_type": "code",
   "execution_count": null,
   "id": "58d39524",
   "metadata": {},
   "outputs": [],
   "source": [
    "model_v11 = YOLO(\n",
    "    \"../model/checkpoints/yolo11n-obb.pt\"\n",
    ")  # yolov11n-obb.pt is a model pre-trained on DOTA dataset for oriented bounding boxes"
   ]
  },
  {
   "cell_type": "code",
   "execution_count": null,
   "id": "90c47f15",
   "metadata": {},
   "outputs": [
    {
     "name": "stdout",
     "output_type": "stream",
     "text": [
      "New https://pypi.org/project/ultralytics/8.3.221 available  Update with 'pip install -U ultralytics'\n",
      "Ultralytics 8.3.40  Python-3.13.1 torch-2.9.0+cu126 CUDA:0 (NVIDIA GeForce RTX 4070 Ti SUPER, 16376MiB)\n",
      "\u001b[34m\u001b[1mengine\\trainer: \u001b[0mtask=obb, mode=train, model=../model/checkpoints/yolov8n-obb.pt, data=../data/combined_wildlife_poly_bridges_filtered-yolo/data.yaml, epochs=1000, time=None, patience=10, batch=16, imgsz=512, save=True, save_period=-1, cache=False, device=None, workers=8, project=cassda-wildlife-crossing, name=yolov8n-obb-wildlife_bridges-filtered-dataset, exist_ok=True, pretrained=True, optimizer=auto, verbose=True, seed=0, deterministic=True, single_cls=False, rect=False, cos_lr=False, close_mosaic=10, resume=False, amp=True, fraction=1.0, profile=False, freeze=None, multi_scale=False, overlap_mask=True, mask_ratio=4, dropout=0.0, val=True, split=val, save_json=False, save_hybrid=False, conf=None, iou=0.7, max_det=300, half=False, dnn=False, plots=True, source=None, vid_stride=1, stream_buffer=False, visualize=False, augment=False, agnostic_nms=False, classes=None, retina_masks=False, embed=None, show=False, save_frames=False, save_txt=False, save_conf=False, save_crop=False, show_labels=True, show_conf=True, show_boxes=True, line_width=None, format=torchscript, keras=False, optimize=False, int8=False, dynamic=False, simplify=True, opset=None, workspace=None, nms=False, lr0=0.01, lrf=0.01, momentum=0.937, weight_decay=0.0005, warmup_epochs=3.0, warmup_momentum=0.8, warmup_bias_lr=0.1, box=7.5, cls=0.5, dfl=1.5, pose=12.0, kobj=1.0, nbs=64, hsv_h=0.015, hsv_s=0.7, hsv_v=0.4, degrees=0.0, translate=0.1, scale=0.5, shear=0.0, perspective=0.0, flipud=0.0, fliplr=0.5, bgr=0.0, mosaic=1.0, mixup=0.0, copy_paste=0.0, copy_paste_mode=flip, auto_augment=randaugment, erasing=0.4, crop_fraction=1.0, cfg=None, tracker=botsort.yaml, save_dir=cassda-wildlife-crossing\\yolov8n-obb-wildlife_bridges-filtered-dataset\n",
      "Overriding model.yaml nc=15 with nc=1\n",
      "\n",
      "                   from  n    params  module                                       arguments                     \n",
      "  0                  -1  1       464  ultralytics.nn.modules.conv.Conv             [3, 16, 3, 2]                 \n",
      "  1                  -1  1      4672  ultralytics.nn.modules.conv.Conv             [16, 32, 3, 2]                \n",
      "  2                  -1  1      7360  ultralytics.nn.modules.block.C2f             [32, 32, 1, True]             \n",
      "  3                  -1  1     18560  ultralytics.nn.modules.conv.Conv             [32, 64, 3, 2]                \n",
      "  4                  -1  2     49664  ultralytics.nn.modules.block.C2f             [64, 64, 2, True]             \n",
      "  5                  -1  1     73984  ultralytics.nn.modules.conv.Conv             [64, 128, 3, 2]               \n",
      "  6                  -1  2    197632  ultralytics.nn.modules.block.C2f             [128, 128, 2, True]           \n",
      "  7                  -1  1    295424  ultralytics.nn.modules.conv.Conv             [128, 256, 3, 2]              \n",
      "  8                  -1  1    460288  ultralytics.nn.modules.block.C2f             [256, 256, 1, True]           \n",
      "  9                  -1  1    164608  ultralytics.nn.modules.block.SPPF            [256, 256, 5]                 \n",
      " 10                  -1  1         0  torch.nn.modules.upsampling.Upsample         [None, 2, 'nearest']          \n",
      " 11             [-1, 6]  1         0  ultralytics.nn.modules.conv.Concat           [1]                           \n",
      " 12                  -1  1    148224  ultralytics.nn.modules.block.C2f             [384, 128, 1]                 \n",
      " 13                  -1  1         0  torch.nn.modules.upsampling.Upsample         [None, 2, 'nearest']          \n",
      " 14             [-1, 4]  1         0  ultralytics.nn.modules.conv.Concat           [1]                           \n",
      " 15                  -1  1     37248  ultralytics.nn.modules.block.C2f             [192, 64, 1]                  \n",
      " 16                  -1  1     36992  ultralytics.nn.modules.conv.Conv             [64, 64, 3, 2]                \n",
      " 17            [-1, 12]  1         0  ultralytics.nn.modules.conv.Concat           [1]                           \n",
      " 18                  -1  1    123648  ultralytics.nn.modules.block.C2f             [192, 128, 1]                 \n",
      " 19                  -1  1    147712  ultralytics.nn.modules.conv.Conv             [128, 128, 3, 2]              \n",
      " 20             [-1, 9]  1         0  ultralytics.nn.modules.conv.Concat           [1]                           \n",
      " 21                  -1  1    493056  ultralytics.nn.modules.block.C2f             [384, 256, 1]                 \n",
      " 22        [15, 18, 21]  1    823174  ultralytics.nn.modules.head.OBB              [1, 1, [64, 128, 256]]        \n",
      "YOLOv8n-obb summary: 250 layers, 3,082,710 parameters, 3,082,694 gradients, 8.4 GFLOPs\n",
      "\n",
      "Transferred 391/397 items from pretrained weights\n"
     ]
    },
    {
     "name": "stderr",
     "output_type": "stream",
     "text": [
      "\u001b[34m\u001b[1mwandb\u001b[0m: Currently logged in as: \u001b[33mraffael-schreiber\u001b[0m (\u001b[33mfhnw-ibre\u001b[0m) to \u001b[32mhttps://api.wandb.ai\u001b[0m. Use \u001b[1m`wandb login --relogin`\u001b[0m to force relogin\n"
     ]
    },
    {
     "data": {
      "text/html": [],
      "text/plain": [
       "<IPython.core.display.HTML object>"
      ]
     },
     "metadata": {},
     "output_type": "display_data"
    },
    {
     "data": {
      "text/html": [
       "Tracking run with wandb version 0.22.2"
      ],
      "text/plain": [
       "<IPython.core.display.HTML object>"
      ]
     },
     "metadata": {},
     "output_type": "display_data"
    },
    {
     "data": {
      "text/html": [
       "Run data is saved locally in <code>c:\\code\\cassda-zertifikatsarbeit\\notebooks\\wandb\\run-20251025_141013-qmcl8fe7</code>"
      ],
      "text/plain": [
       "<IPython.core.display.HTML object>"
      ]
     },
     "metadata": {},
     "output_type": "display_data"
    },
    {
     "data": {
      "text/html": [
       "Syncing run <strong><a href='https://wandb.ai/fhnw-ibre/cassda-wildlife-crossing/runs/qmcl8fe7' target=\"_blank\">yolov8n-obb-wildlife_bridges-filtered-dataset</a></strong> to <a href='https://wandb.ai/fhnw-ibre/cassda-wildlife-crossing' target=\"_blank\">Weights & Biases</a> (<a href='https://wandb.me/developer-guide' target=\"_blank\">docs</a>)<br>"
      ],
      "text/plain": [
       "<IPython.core.display.HTML object>"
      ]
     },
     "metadata": {},
     "output_type": "display_data"
    },
    {
     "data": {
      "text/html": [
       " View project at <a href='https://wandb.ai/fhnw-ibre/cassda-wildlife-crossing' target=\"_blank\">https://wandb.ai/fhnw-ibre/cassda-wildlife-crossing</a>"
      ],
      "text/plain": [
       "<IPython.core.display.HTML object>"
      ]
     },
     "metadata": {},
     "output_type": "display_data"
    },
    {
     "data": {
      "text/html": [
       " View run at <a href='https://wandb.ai/fhnw-ibre/cassda-wildlife-crossing/runs/qmcl8fe7' target=\"_blank\">https://wandb.ai/fhnw-ibre/cassda-wildlife-crossing/runs/qmcl8fe7</a>"
      ],
      "text/plain": [
       "<IPython.core.display.HTML object>"
      ]
     },
     "metadata": {},
     "output_type": "display_data"
    },
    {
     "name": "stdout",
     "output_type": "stream",
     "text": [
      "Freezing layer 'model.22.dfl.conv.weight'\n",
      "\u001b[34m\u001b[1mAMP: \u001b[0mrunning Automatic Mixed Precision (AMP) checks...\n",
      "Downloading https://github.com/ultralytics/assets/releases/download/v8.3.0/yolo11n.pt to 'yolo11n.pt'...\n"
     ]
    },
    {
     "name": "stderr",
     "output_type": "stream",
     "text": [
      "100%|██████████| 5.35M/5.35M [00:00<00:00, 43.6MB/s]\n"
     ]
    },
    {
     "name": "stdout",
     "output_type": "stream",
     "text": [
      "\u001b[34m\u001b[1mAMP: \u001b[0mchecks passed \n"
     ]
    },
    {
     "name": "stderr",
     "output_type": "stream",
     "text": [
      "\u001b[34m\u001b[1mtrain: \u001b[0mScanning C:\\code\\cassda-zertifikatsarbeit\\data\\combined_wildlife_poly_bridges_filtered-yolo\\labels\\train.cache... 336 images, 0 backgrounds, 0 corrupt: 100%|██████████| 336/336 [00:00<?, ?it/s]\n"
     ]
    },
    {
     "name": "stdout",
     "output_type": "stream",
     "text": [
      "\u001b[34m\u001b[1malbumentations: \u001b[0mBlur(p=0.01, blur_limit=(3, 7)), MedianBlur(p=0.01, blur_limit=(3, 7)), ToGray(p=0.01, method='weighted_average', num_output_channels=3), CLAHE(p=0.01, clip_limit=(1.0, 4.0), tile_grid_size=(8, 8))\n"
     ]
    },
    {
     "name": "stderr",
     "output_type": "stream",
     "text": [
      "c:\\code\\cassda-zertifikatsarbeit\\.venv\\Lib\\site-packages\\ultralytics\\data\\augment.py:1850: UserWarning: Argument(s) 'quality_lower' are not valid for transform ImageCompression\n",
      "  A.ImageCompression(quality_lower=75, p=0.0),\n",
      "\u001b[34m\u001b[1mval: \u001b[0mScanning C:\\code\\cassda-zertifikatsarbeit\\data\\combined_wildlife_poly_bridges_filtered-yolo\\labels\\val.cache... 72 images, 0 backgrounds, 0 corrupt: 100%|██████████| 72/72 [00:00<?, ?it/s]\n"
     ]
    },
    {
     "name": "stdout",
     "output_type": "stream",
     "text": [
      "Plotting labels to cassda-wildlife-crossing\\yolov8n-obb-wildlife_bridges-filtered-dataset\\labels.jpg... \n",
      "\u001b[34m\u001b[1moptimizer:\u001b[0m 'optimizer=auto' found, ignoring 'lr0=0.01' and 'momentum=0.937' and determining best 'optimizer', 'lr0' and 'momentum' automatically... \n",
      "\u001b[34m\u001b[1moptimizer:\u001b[0m AdamW(lr=0.002, momentum=0.9) with parameter groups 63 weight(decay=0.0), 73 weight(decay=0.0005), 72 bias(decay=0.0)\n",
      "Image sizes 512 train, 512 val\n",
      "Using 8 dataloader workers\n",
      "Logging results to \u001b[1mcassda-wildlife-crossing\\yolov8n-obb-wildlife_bridges-filtered-dataset\u001b[0m\n",
      "Starting training for 1000 epochs...\n",
      "\n",
      "      Epoch    GPU_mem   box_loss   cls_loss   dfl_loss  Instances       Size\n"
     ]
    }
   ],
   "source": [
    "results = model_v11.train(\n",
    "    data=\"../data/combined_wildlife_poly_bridges_filtered-yolo/data.yaml\",\n",
    "    epochs=1000,\n",
    "    imgsz=512,\n",
    "    patience=10,\n",
    "    project=\"cassda-wildlife-crossing\",\n",
    "    name=\"yolo11n-obb-wildlife_bridges-filtered-dataset\",\n",
    "    exist_ok=True,\n",
    ")"
   ]
  },
  {
   "cell_type": "code",
   "execution_count": null,
   "id": "4346269e",
   "metadata": {},
   "outputs": [
    {
     "name": "stdout",
     "output_type": "stream",
     "text": [
      "Ultralytics 8.3.40  Python-3.13.1 torch-2.9.0+cu126 CUDA:0 (NVIDIA GeForce RTX 4070 Ti SUPER, 16376MiB)\n",
      "YOLOv8n-obb summary (fused): 187 layers, 3,077,414 parameters, 0 gradients, 8.3 GFLOPs\n"
     ]
    },
    {
     "name": "stderr",
     "output_type": "stream",
     "text": [
      "\u001b[34m\u001b[1mval: \u001b[0mScanning C:\\code\\cassda-zertifikatsarbeit\\data\\combined_wildlife_poly_bridges_filtered-yolo\\labels\\val.cache... 72 images, 0 backgrounds, 0 corrupt: 100%|██████████| 72/72 [00:00<?, ?it/s]\n",
      "                 Class     Images  Instances      Box(P          R      mAP50  mAP50-95): 100%|██████████| 5/5 [00:04<00:00,  1.00it/s]\n"
     ]
    },
    {
     "name": "stdout",
     "output_type": "stream",
     "text": [
      "                   all         72         72      0.299       0.29      0.216     0.0731\n",
      "Speed: 0.9ms preprocess, 1.4ms inference, 0.0ms loss, 6.2ms postprocess per image\n",
      "Saving c:\\code\\cassda-zertifikatsarbeit\\model\\runs\\obb\\val2\\predictions.json...\n",
      "Results saved to \u001b[1mc:\\code\\cassda-zertifikatsarbeit\\model\\runs\\obb\\val2\u001b[0m\n",
      "Ultralytics 8.3.40  Python-3.13.1 torch-2.9.0+cu126 CUDA:0 (NVIDIA GeForce RTX 4070 Ti SUPER, 16376MiB)\n",
      "YOLOv8n-obb summary (fused): 187 layers, 3,077,414 parameters, 0 gradients, 8.3 GFLOPs\n"
     ]
    },
    {
     "name": "stderr",
     "output_type": "stream",
     "text": [
      "\u001b[34m\u001b[1mval: \u001b[0mScanning C:\\code\\cassda-zertifikatsarbeit\\data\\combined_wildlife_poly_bridges_filtered-yolo\\labels\\val.cache... 72 images, 0 backgrounds, 0 corrupt: 100%|██████████| 72/72 [00:00<?, ?it/s]\n",
      "                 Class     Images  Instances      Box(P          R      mAP50  mAP50-95): 100%|██████████| 5/5 [00:04<00:00,  1.20it/s]\n"
     ]
    },
    {
     "name": "stdout",
     "output_type": "stream",
     "text": [
      "                   all         72         72      0.932      0.949      0.959       0.56\n",
      "Speed: 1.3ms preprocess, 8.6ms inference, 0.0ms loss, 3.6ms postprocess per image\n",
      "Saving c:\\code\\cassda-zertifikatsarbeit\\model\\runs\\obb\\val3\\predictions.json...\n",
      "Results saved to \u001b[1mc:\\code\\cassda-zertifikatsarbeit\\model\\runs\\obb\\val3\u001b[0m\n"
     ]
    }
   ],
   "source": [
    "model_to_eval = [\n",
    "    \"../model/runs/cassda-wildlife-crossing/yolo11n-obb-wildlife_bridges-filtered-dataset/weights/best.pt\",\n",
    "    \"../model/runs/cassda-wildlife-crossing/yolov8n-obb-wildlife_bridges-filtered-dataset/weights/best.pt\",\n",
    "]\n",
    "for checkpoint in model_to_eval:\n",
    "    model = YOLO(checkpoint)\n",
    "    results = model.val(\n",
    "        data=\"../data/combined_wildlife_poly_bridges_filtered-yolo/data.yaml\",\n",
    "        imgsz=512,\n",
    "        split=\"val\",\n",
    "        save_json=True,\n",
    "    )"
   ]
  }
 ],
 "metadata": {
  "kernelspec": {
   "display_name": "cassda-zertifikatsarbeit (3.13.3)",
   "language": "python",
   "name": "python3"
  },
  "language_info": {
   "codemirror_mode": {
    "name": "ipython",
    "version": 3
   },
   "file_extension": ".py",
   "mimetype": "text/x-python",
   "name": "python",
   "nbconvert_exporter": "python",
   "pygments_lexer": "ipython3",
   "version": "3.13.3"
  }
 },
 "nbformat": 4,
 "nbformat_minor": 5
}
