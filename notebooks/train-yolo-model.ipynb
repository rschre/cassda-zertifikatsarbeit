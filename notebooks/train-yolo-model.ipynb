{
 "cells": [
  {
   "cell_type": "code",
   "execution_count": 1,
   "id": "95081020",
   "metadata": {},
   "outputs": [
    {
     "name": "stderr",
     "output_type": "stream",
     "text": [
      "c:\\code\\cassda-zertifikatsarbeit\\.venv\\Lib\\site-packages\\pydantic\\_internal\\_generate_schema.py:2249: UnsupportedFieldAttributeWarning: The 'repr' attribute with value False was provided to the `Field()` function, which has no effect in the context it was used. 'repr' is field-specific metadata, and can only be attached to a model field using `Annotated` metadata or by assignment. This may have happened because an `Annotated` type alias using the `type` statement was used, or if the `Field()` function was attached to a single member of a union type.\n",
      "  warnings.warn(\n",
      "c:\\code\\cassda-zertifikatsarbeit\\.venv\\Lib\\site-packages\\pydantic\\_internal\\_generate_schema.py:2249: UnsupportedFieldAttributeWarning: The 'frozen' attribute with value True was provided to the `Field()` function, which has no effect in the context it was used. 'frozen' is field-specific metadata, and can only be attached to a model field using `Annotated` metadata or by assignment. This may have happened because an `Annotated` type alias using the `type` statement was used, or if the `Field()` function was attached to a single member of a union type.\n",
      "  warnings.warn(\n"
     ]
    }
   ],
   "source": [
    "import os\n",
    "import torch\n",
    "import wandb\n",
    "from ultralytics import YOLO, settings"
   ]
  },
  {
   "cell_type": "code",
   "execution_count": 2,
   "id": "033c3a84",
   "metadata": {},
   "outputs": [
    {
     "name": "stdout",
     "output_type": "stream",
     "text": [
      "nvcc: NVIDIA (R) Cuda compiler driver\n",
      "Copyright (c) 2005-2024 NVIDIA Corporation\n",
      "Built on Wed_Oct_30_01:18:48_Pacific_Daylight_Time_2024\n",
      "Cuda compilation tools, release 12.6, V12.6.85\n",
      "Build cuda_12.6.r12.6/compiler.35059454_0\n",
      "Torch version: 2.9.0+cu126\n",
      "Cuda available: True\n"
     ]
    }
   ],
   "source": [
    "# print torch and cuda version\n",
    "!nvcc --version\n",
    "\n",
    "print(f\"Torch version: {torch.__version__}\")\n",
    "print(f\"Cuda available: {torch.cuda.is_available()}\")"
   ]
  },
  {
   "cell_type": "code",
   "execution_count": 3,
   "id": "9d0fa6b9",
   "metadata": {},
   "outputs": [
    {
     "name": "stdout",
     "output_type": "stream",
     "text": [
      "JSONDict(\"C:\\Users\\Raffael\\AppData\\Roaming\\Ultralytics\\settings.json\"):\n",
      "{\n",
      "  \"settings_version\": \"0.0.6\",\n",
      "  \"datasets_dir\": \"c:\\\\code\\\\cassda-zertifikatsarbeit\\\\data\",\n",
      "  \"weights_dir\": \"c:\\\\code\\\\cassda-zertifikatsarbeit\\\\model\\\\weights\",\n",
      "  \"runs_dir\": \"c:\\\\code\\\\cassda-zertifikatsarbeit\\\\model\\\\runs\",\n",
      "  \"uuid\": \"d3a7ce3cd9801abab807540a7187a68d86586ced91ac34644efaccb296e135be\",\n",
      "  \"sync\": true,\n",
      "  \"api_key\": \"\",\n",
      "  \"openai_api_key\": \"\",\n",
      "  \"clearml\": true,\n",
      "  \"comet\": true,\n",
      "  \"dvc\": true,\n",
      "  \"hub\": true,\n",
      "  \"mlflow\": true,\n",
      "  \"neptune\": true,\n",
      "  \"raytune\": true,\n",
      "  \"tensorboard\": true,\n",
      "  \"wandb\": true,\n",
      "  \"vscode_msg\": true\n",
      "}\n",
      "💡 Learn more about Ultralytics Settings at https://docs.ultralytics.com/quickstart/#ultralytics-settings\n"
     ]
    }
   ],
   "source": [
    "# if you need to login to wandb uncomment the following line\n",
    "# wandb.login()\n",
    "\n",
    "!yolo settings wandb=True"
   ]
  },
  {
   "cell_type": "code",
   "execution_count": 4,
   "id": "dc19393b",
   "metadata": {},
   "outputs": [
    {
     "name": "stdout",
     "output_type": "stream",
     "text": [
      "JSONDict(\"C:\\Users\\Raffael\\AppData\\Roaming\\Ultralytics\\settings.json\"):\n",
      "{\n",
      "  \"settings_version\": \"0.0.6\",\n",
      "  \"datasets_dir\": \"c:\\\\code\\\\cassda-zertifikatsarbeit\\\\data\",\n",
      "  \"weights_dir\": \"c:\\\\code\\\\cassda-zertifikatsarbeit\\\\model\\\\weights\",\n",
      "  \"runs_dir\": \"c:\\\\code\\\\cassda-zertifikatsarbeit\\\\model\\\\runs\",\n",
      "  \"uuid\": \"d3a7ce3cd9801abab807540a7187a68d86586ced91ac34644efaccb296e135be\",\n",
      "  \"sync\": true,\n",
      "  \"api_key\": \"\",\n",
      "  \"openai_api_key\": \"\",\n",
      "  \"clearml\": true,\n",
      "  \"comet\": true,\n",
      "  \"dvc\": true,\n",
      "  \"hub\": true,\n",
      "  \"mlflow\": true,\n",
      "  \"neptune\": true,\n",
      "  \"raytune\": true,\n",
      "  \"tensorboard\": true,\n",
      "  \"wandb\": true,\n",
      "  \"vscode_msg\": true\n",
      "}\n"
     ]
    }
   ],
   "source": [
    "# Update a setting\n",
    "settings.update(\n",
    "    {\n",
    "        \"runs_dir\": f\"{os.path.dirname(os.getcwd())}\\\\model\\\\runs\",\n",
    "        \"weights_dir\": f\"{os.path.dirname(os.getcwd())}\\\\model\\\\weights\",\n",
    "        \"datasets_dir\": f\"{os.path.dirname(os.getcwd())}\\\\data\",\n",
    "    }\n",
    ")\n",
    "print(settings)"
   ]
  },
  {
   "cell_type": "code",
   "execution_count": 9,
   "id": "592d396a",
   "metadata": {},
   "outputs": [],
   "source": [
    "model = YOLO(\n",
    "    \"../model/checkpoints/yolov8n-obb.pt\"\n",
    ")  # yolov8n-obb.pt is a model pre-trained on DOTA dataset for oriented bounding boxes"
   ]
  },
  {
   "cell_type": "code",
   "execution_count": null,
   "id": "6d785cb9",
   "metadata": {},
   "outputs": [
    {
     "name": "stdout",
     "output_type": "stream",
     "text": [
      "New https://pypi.org/project/ultralytics/8.3.221 available  Update with 'pip install -U ultralytics'\n",
      "Ultralytics 8.3.40  Python-3.13.1 torch-2.9.0+cu126 CUDA:0 (NVIDIA GeForce RTX 4070 Ti SUPER, 16376MiB)\n",
      "\u001b[34m\u001b[1mengine\\trainer: \u001b[0mtask=obb, mode=train, model=../model/checkpoints/yolov8n-obb.pt, data=../data/combined_wildlife_poly_bridges_filtered-yolo/data.yaml, epochs=1000, time=None, patience=10, batch=16, imgsz=512, save=True, save_period=-1, cache=False, device=None, workers=8, project=cassda-wildlife-crossing, name=yolo11n-obb-wildlife_bridges-filtered-dataset, exist_ok=True, pretrained=True, optimizer=auto, verbose=True, seed=0, deterministic=True, single_cls=False, rect=False, cos_lr=False, close_mosaic=10, resume=False, amp=True, fraction=1.0, profile=False, freeze=None, multi_scale=False, overlap_mask=True, mask_ratio=4, dropout=0.0, val=True, split=val, save_json=False, save_hybrid=False, conf=None, iou=0.7, max_det=300, half=False, dnn=False, plots=True, source=None, vid_stride=1, stream_buffer=False, visualize=False, augment=False, agnostic_nms=False, classes=None, retina_masks=False, embed=None, show=False, save_frames=False, save_txt=False, save_conf=False, save_crop=False, show_labels=True, show_conf=True, show_boxes=True, line_width=None, format=torchscript, keras=False, optimize=False, int8=False, dynamic=False, simplify=True, opset=None, workspace=None, nms=False, lr0=0.01, lrf=0.01, momentum=0.937, weight_decay=0.0005, warmup_epochs=3.0, warmup_momentum=0.8, warmup_bias_lr=0.1, box=7.5, cls=0.5, dfl=1.5, pose=12.0, kobj=1.0, nbs=64, hsv_h=0.015, hsv_s=0.7, hsv_v=0.4, degrees=0.0, translate=0.1, scale=0.5, shear=0.0, perspective=0.0, flipud=0.0, fliplr=0.5, bgr=0.0, mosaic=1.0, mixup=0.0, copy_paste=0.0, copy_paste_mode=flip, auto_augment=randaugment, erasing=0.4, crop_fraction=1.0, cfg=None, tracker=botsort.yaml, save_dir=cassda-wildlife-crossing\\yolo11n-obb-wildlife_bridges-filtered-dataset\n",
      "Overriding model.yaml nc=15 with nc=1\n",
      "\n",
      "                   from  n    params  module                                       arguments                     \n",
      "  0                  -1  1       464  ultralytics.nn.modules.conv.Conv             [3, 16, 3, 2]                 \n",
      "  1                  -1  1      4672  ultralytics.nn.modules.conv.Conv             [16, 32, 3, 2]                \n",
      "  2                  -1  1      7360  ultralytics.nn.modules.block.C2f             [32, 32, 1, True]             \n",
      "  3                  -1  1     18560  ultralytics.nn.modules.conv.Conv             [32, 64, 3, 2]                \n",
      "  4                  -1  2     49664  ultralytics.nn.modules.block.C2f             [64, 64, 2, True]             \n",
      "  5                  -1  1     73984  ultralytics.nn.modules.conv.Conv             [64, 128, 3, 2]               \n",
      "  6                  -1  2    197632  ultralytics.nn.modules.block.C2f             [128, 128, 2, True]           \n",
      "  7                  -1  1    295424  ultralytics.nn.modules.conv.Conv             [128, 256, 3, 2]              \n",
      "  8                  -1  1    460288  ultralytics.nn.modules.block.C2f             [256, 256, 1, True]           \n",
      "  9                  -1  1    164608  ultralytics.nn.modules.block.SPPF            [256, 256, 5]                 \n",
      " 10                  -1  1         0  torch.nn.modules.upsampling.Upsample         [None, 2, 'nearest']          \n",
      " 11             [-1, 6]  1         0  ultralytics.nn.modules.conv.Concat           [1]                           \n",
      " 12                  -1  1    148224  ultralytics.nn.modules.block.C2f             [384, 128, 1]                 \n",
      " 13                  -1  1         0  torch.nn.modules.upsampling.Upsample         [None, 2, 'nearest']          \n",
      " 14             [-1, 4]  1         0  ultralytics.nn.modules.conv.Concat           [1]                           \n",
      " 15                  -1  1     37248  ultralytics.nn.modules.block.C2f             [192, 64, 1]                  \n",
      " 16                  -1  1     36992  ultralytics.nn.modules.conv.Conv             [64, 64, 3, 2]                \n",
      " 17            [-1, 12]  1         0  ultralytics.nn.modules.conv.Concat           [1]                           \n",
      " 18                  -1  1    123648  ultralytics.nn.modules.block.C2f             [192, 128, 1]                 \n",
      " 19                  -1  1    147712  ultralytics.nn.modules.conv.Conv             [128, 128, 3, 2]              \n",
      " 20             [-1, 9]  1         0  ultralytics.nn.modules.conv.Concat           [1]                           \n",
      " 21                  -1  1    493056  ultralytics.nn.modules.block.C2f             [384, 256, 1]                 \n",
      " 22        [15, 18, 21]  1    823174  ultralytics.nn.modules.head.OBB              [1, 1, [64, 128, 256]]        \n",
      "YOLOv8n-obb summary: 250 layers, 3,082,710 parameters, 3,082,694 gradients, 8.4 GFLOPs\n",
      "\n",
      "Transferred 391/397 items from pretrained weights\n"
     ]
    },
    {
     "data": {
      "text/html": [],
      "text/plain": [
       "<IPython.core.display.HTML object>"
      ]
     },
     "metadata": {},
     "output_type": "display_data"
    },
    {
     "data": {
      "text/html": [
       "Tracking run with wandb version 0.22.2"
      ],
      "text/plain": [
       "<IPython.core.display.HTML object>"
      ]
     },
     "metadata": {},
     "output_type": "display_data"
    },
    {
     "data": {
      "text/html": [
       "Run data is saved locally in <code>c:\\code\\cassda-zertifikatsarbeit\\notebooks\\wandb\\run-20251024_143218-jgqozv47</code>"
      ],
      "text/plain": [
       "<IPython.core.display.HTML object>"
      ]
     },
     "metadata": {},
     "output_type": "display_data"
    },
    {
     "data": {
      "text/html": [
       "Syncing run <strong><a href='https://wandb.ai/fhnw-ibre/cassda-wildlife-crossing/runs/jgqozv47' target=\"_blank\">yolo11n-obb-wildlife_bridges-filtered-dataset</a></strong> to <a href='https://wandb.ai/fhnw-ibre/cassda-wildlife-crossing' target=\"_blank\">Weights & Biases</a> (<a href='https://wandb.me/developer-guide' target=\"_blank\">docs</a>)<br>"
      ],
      "text/plain": [
       "<IPython.core.display.HTML object>"
      ]
     },
     "metadata": {},
     "output_type": "display_data"
    },
    {
     "data": {
      "text/html": [
       " View project at <a href='https://wandb.ai/fhnw-ibre/cassda-wildlife-crossing' target=\"_blank\">https://wandb.ai/fhnw-ibre/cassda-wildlife-crossing</a>"
      ],
      "text/plain": [
       "<IPython.core.display.HTML object>"
      ]
     },
     "metadata": {},
     "output_type": "display_data"
    },
    {
     "data": {
      "text/html": [
       " View run at <a href='https://wandb.ai/fhnw-ibre/cassda-wildlife-crossing/runs/jgqozv47' target=\"_blank\">https://wandb.ai/fhnw-ibre/cassda-wildlife-crossing/runs/jgqozv47</a>"
      ],
      "text/plain": [
       "<IPython.core.display.HTML object>"
      ]
     },
     "metadata": {},
     "output_type": "display_data"
    },
    {
     "name": "stdout",
     "output_type": "stream",
     "text": [
      "Freezing layer 'model.22.dfl.conv.weight'\n",
      "\u001b[34m\u001b[1mAMP: \u001b[0mrunning Automatic Mixed Precision (AMP) checks...\n",
      "\u001b[34m\u001b[1mAMP: \u001b[0mchecks passed \n"
     ]
    },
    {
     "name": "stderr",
     "output_type": "stream",
     "text": [
      "\u001b[34m\u001b[1mtrain: \u001b[0mScanning C:\\code\\cassda-zertifikatsarbeit\\data\\combined_wildlife_poly_bridges_filtered-yolo\\labels\\train.cache... 336 images, 0 backgrounds, 0 corrupt: 100%|██████████| 336/336 [00:00<?, ?it/s]"
     ]
    },
    {
     "name": "stdout",
     "output_type": "stream",
     "text": [
      "\u001b[34m\u001b[1malbumentations: \u001b[0mBlur(p=0.01, blur_limit=(3, 7)), MedianBlur(p=0.01, blur_limit=(3, 7)), ToGray(p=0.01, method='weighted_average', num_output_channels=3), CLAHE(p=0.01, clip_limit=(1.0, 4.0), tile_grid_size=(8, 8))\n"
     ]
    },
    {
     "name": "stderr",
     "output_type": "stream",
     "text": [
      "\n",
      "c:\\code\\cassda-zertifikatsarbeit\\.venv\\Lib\\site-packages\\ultralytics\\data\\augment.py:1850: UserWarning: Argument(s) 'quality_lower' are not valid for transform ImageCompression\n",
      "  A.ImageCompression(quality_lower=75, p=0.0),\n"
     ]
    }
   ],
   "source": [
    "results = model.train(\n",
    "    data=\"../data/combined_wildlife_poly_bridges_filtered-yolo/data.yaml\",\n",
    "    epochs=1000,\n",
    "    imgsz=512,\n",
    "    patience=10,\n",
    "    project=\"cassda-wildlife-crossing\",\n",
    "    name=\"yolo11n-obb-wildlife_bridges-filtered-dataset\",\n",
    "    exist_ok=True,\n",
    ")"
   ]
  },
  {
   "cell_type": "code",
   "execution_count": null,
   "id": "3611e2b8",
   "metadata": {},
   "outputs": [],
   "source": [
    "# save best model weights\n",
    "best_model_path = os.path.join(\n",
    "    settings.runs_dir,\n",
    "    \"cassda-wildlife-crossing\",\n",
    "    \"yolo11n-obb-wildlife_bridges-filtered-dataset\",\n",
    "    \"weights\",\n",
    "    \"best.pt\",\n",
    ")"
   ]
  },
  {
   "cell_type": "code",
   "execution_count": null,
   "id": "4346269e",
   "metadata": {},
   "outputs": [
    {
     "name": "stdout",
     "output_type": "stream",
     "text": [
      "Ultralytics 8.3.40  Python-3.13.1 torch-2.9.0+cu126 CUDA:0 (NVIDIA GeForce RTX 4070 Ti SUPER, 16376MiB)\n",
      "YOLOv8n-obb summary (fused): 187 layers, 3,080,144 parameters, 0 gradients, 8.3 GFLOPs\n"
     ]
    },
    {
     "name": "stderr",
     "output_type": "stream",
     "text": [
      "\u001b[34m\u001b[1mval: \u001b[0mScanning C:\\code\\cassda-zertifikatsarbeit\\data\\combined_wildlife_poly_bridges_filtered-yolo\\labels\\val.cache... 72 images, 0 backgrounds, 0 corrupt: 100%|██████████| 72/72 [00:00<?, ?it/s]\n",
      "                 Class     Images  Instances      Box(P          R      mAP50  mAP50-95): 100%|██████████| 5/5 [00:06<00:00,  1.29s/it]"
     ]
    },
    {
     "name": "stdout",
     "output_type": "stream",
     "text": [
      "                   all         72         72          0          0          0          0\n"
     ]
    },
    {
     "name": "stderr",
     "output_type": "stream",
     "text": [
      "\n"
     ]
    },
    {
     "name": "stdout",
     "output_type": "stream",
     "text": [
      "Speed: 1.6ms preprocess, 4.8ms inference, 0.0ms loss, 9.3ms postprocess per image\n",
      "Saving c:\\code\\cassda-zertifikatsarbeit\\model\\runs\\obb\\val\\predictions.json...\n",
      "Results saved to \u001b[1mc:\\code\\cassda-zertifikatsarbeit\\model\\runs\\obb\\val\u001b[0m\n",
      "Downloading https://github.com/ultralytics/assets/releases/download/v8.3.0/yolo11n-obb.pt to '..\\model\\checkpoints\\yolo11n-obb.pt'...\n"
     ]
    },
    {
     "name": "stderr",
     "output_type": "stream",
     "text": [
      "100%|██████████| 5.53M/5.53M [00:00<00:00, 26.6MB/s]\n"
     ]
    },
    {
     "name": "stdout",
     "output_type": "stream",
     "text": [
      "Ultralytics 8.3.40  Python-3.13.1 torch-2.9.0+cu126 CUDA:0 (NVIDIA GeForce RTX 4070 Ti SUPER, 16376MiB)\n",
      "YOLO11n-obb summary (fused): 257 layers, 2,656,648 parameters, 0 gradients, 6.6 GFLOPs\n"
     ]
    },
    {
     "name": "stderr",
     "output_type": "stream",
     "text": [
      "\u001b[34m\u001b[1mval: \u001b[0mScanning C:\\code\\cassda-zertifikatsarbeit\\data\\combined_wildlife_poly_bridges_filtered-yolo\\labels\\val.cache... 72 images, 0 backgrounds, 0 corrupt: 100%|██████████| 72/72 [00:00<?, ?it/s]\n",
      "                 Class     Images  Instances      Box(P          R      mAP50  mAP50-95): 100%|██████████| 5/5 [00:06<00:00,  1.33s/it]"
     ]
    },
    {
     "name": "stdout",
     "output_type": "stream",
     "text": [
      "                   all         72         72          0          0          0          0\n"
     ]
    },
    {
     "name": "stderr",
     "output_type": "stream",
     "text": [
      "\n"
     ]
    },
    {
     "name": "stdout",
     "output_type": "stream",
     "text": [
      "Speed: 0.7ms preprocess, 5.6ms inference, 0.0ms loss, 11.0ms postprocess per image\n",
      "Saving c:\\code\\cassda-zertifikatsarbeit\\model\\runs\\obb\\val2\\predictions.json...\n",
      "Results saved to \u001b[1mc:\\code\\cassda-zertifikatsarbeit\\model\\runs\\obb\\val2\u001b[0m\n"
     ]
    }
   ],
   "source": [
    "model_to_eval = [\n",
    "    \"../model/weights/yolov8n-obb.pt\",\n",
    "    \"../model/weights/yolo11n-obb.pt\",\n",
    "]\n",
    "for checkpoint in model_to_eval:\n",
    "    model = YOLO(checkpoint)\n",
    "    results = model.val(\n",
    "        data=\"../data/combined_wildlife_poly_bridges_filtered-yolo/data.yaml\",\n",
    "        imgsz=512,\n",
    "        split=\"val\",\n",
    "        save_json=True,\n",
    "    )"
   ]
  }
 ],
 "metadata": {
  "kernelspec": {
   "display_name": "cassda-zertifikatsarbeit",
   "language": "python",
   "name": "python3"
  },
  "language_info": {
   "codemirror_mode": {
    "name": "ipython",
    "version": 3
   },
   "file_extension": ".py",
   "mimetype": "text/x-python",
   "name": "python",
   "nbconvert_exporter": "python",
   "pygments_lexer": "ipython3",
   "version": "3.13.1"
  }
 },
 "nbformat": 4,
 "nbformat_minor": 5
}
