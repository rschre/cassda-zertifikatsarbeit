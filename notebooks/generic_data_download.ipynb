{
 "cells": [
  {
   "cell_type": "markdown",
   "id": "8981f345",
   "metadata": {},
   "source": [
    "## CASSDA - Data Download\n",
    "\n",
    "Contains code to download the following data\n",
    "- Wildlife crossings from OSM\n",
    "- Streets from OSM\n",
    "- High-Resolution satellite images from discomap https://discomap.eea.europa.eu/wiki/ (Cloudless 2m/px satellite data)"
   ]
  },
  {
   "cell_type": "code",
   "execution_count": 1,
   "id": "e04e7a11",
   "metadata": {},
   "outputs": [],
   "source": [
    "import sys\n",
    "import os\n",
    "\n",
    "sys.path.append(\"../src\")\n",
    "\n",
    "import requests as r\n",
    "from shapely.geometry import LineString, MultiPolygon, Point, Polygon\n",
    "import geopandas as gpd\n",
    "\n",
    "from osm.queries import get_street_query, get_wildlife_crossing_query"
   ]
  },
  {
   "cell_type": "markdown",
   "id": "1feda14b",
   "metadata": {},
   "source": [
    "#### Global Config"
   ]
  },
  {
   "cell_type": "code",
   "execution_count": 2,
   "id": "9eb539a0",
   "metadata": {},
   "outputs": [],
   "source": [
    "countries_to_process = [\"CH\"]\n",
    "image_output_dir = \"../data/satellite_images/\"\n",
    "geodata_output_dir = \"../data/geodata/\""
   ]
  },
  {
   "cell_type": "code",
   "execution_count": 3,
   "id": "193a97d0",
   "metadata": {},
   "outputs": [],
   "source": [
    "# these typically do not need to be changed\n",
    "OVERPASS_API_URL = \"https://overpass-api.de/api/interpreter\"\n",
    "WMS_URL = \"https://image.discomap.eea.europa.eu/arcgis/services/GioLand/VHR_2021_LAEA/ImageServer/WMSServer/?request=GetCapabilities&service=WMS\"\n",
    "CRS = \"EPSG:3035\"  # ETRS89 / ETRS-LAEA\n",
    "PIXEL_RESOLUTION_M = 2  # 2 meters per pixel"
   ]
  },
  {
   "cell_type": "markdown",
   "id": "f93b706c",
   "metadata": {},
   "source": [
    "### Wildlife Crossing"
   ]
  },
  {
   "cell_type": "markdown",
   "id": "dfcdee92",
   "metadata": {},
   "source": [
    "#### Export Polygons from OSM"
   ]
  },
  {
   "cell_type": "code",
   "execution_count": null,
   "id": "ad962636",
   "metadata": {},
   "outputs": [],
   "source": [
    "# config for wildlife crossing query\n",
    "bridges_only = True  # whether to only consider bridges or tunnels and other as well"
   ]
  },
  {
   "cell_type": "markdown",
   "id": "97f11c2b",
   "metadata": {},
   "source": [
    "Gets the queries according to defined parameters, sends it co Overpass-API and \n",
    "on success stores the result in <geodata_output_dir>"
   ]
  },
  {
   "cell_type": "code",
   "execution_count": 8,
   "id": "384154bb",
   "metadata": {},
   "outputs": [
    {
     "name": "stdout",
     "output_type": "stream",
     "text": [
      "Processing country: CH\n",
      "Found 18 wildlife crossings.\n",
      "Reprojected to EPSG:3035.\n",
      "Saved GeoDataFrame to ../data/geodata/ch_wildlife_crossings_osm_bridges_only.geojson\n"
     ]
    }
   ],
   "source": [
    "bridges_string = \"_bridges_only\" if bridges_only else \"\"\n",
    "\n",
    "for country in countries_to_process:\n",
    "    print(f\"Processing country: {country}\")\n",
    "\n",
    "    # Download wildlife crossings\n",
    "    crossing_query = get_wildlife_crossing_query(\n",
    "        country, timeout=240, bridges_only=bridges_only\n",
    "    )\n",
    "    response = r.get(OVERPASS_API_URL, params={\"data\": crossing_query})\n",
    "    response.raise_for_status()\n",
    "    data = response.json()\n",
    "\n",
    "    features = []\n",
    "    for el in data[\"elements\"]:\n",
    "        tags = el.get(\"tags\", {})\n",
    "\n",
    "        # Node → Point\n",
    "        if el[\"type\"] == \"node\":\n",
    "            geometry = Point(el[\"lon\"], el[\"lat\"])\n",
    "            features.append({\"id\": el[\"id\"], \"geometry\": geometry, **tags})\n",
    "\n",
    "        # Way → LineString or Polygon\n",
    "        elif el[\"type\"] == \"way\" and \"geometry\" in el:\n",
    "            coords = [(pt[\"lon\"], pt[\"lat\"]) for pt in el[\"geometry\"]]\n",
    "            if len(coords) >= 3 and coords[0] == coords[-1]:\n",
    "                geometry = Polygon(coords)  # Closed → Polygon\n",
    "            else:\n",
    "                geometry = LineString(coords)  # Open → LineString\n",
    "            features.append({\"id\": el[\"id\"], \"geometry\": geometry, **tags})\n",
    "\n",
    "        # Relation → MultiPolygon (if members have geometry)\n",
    "        elif el[\"type\"] == \"relation\" and \"members\" in el:\n",
    "            polygons = []\n",
    "            for member in el[\"members\"]:\n",
    "                if member[\"type\"] == \"way\" and \"geometry\" in member:\n",
    "                    coords = [(pt[\"lon\"], pt[\"lat\"]) for pt in member[\"geometry\"]]\n",
    "                    if len(coords) >= 3:\n",
    "                        polygons.append(Polygon(coords))\n",
    "            if polygons:\n",
    "                geometry = MultiPolygon(polygons) if len(polygons) > 1 else polygons[0]\n",
    "                features.append({\"id\": el[\"id\"], \"geometry\": geometry, **tags})\n",
    "\n",
    "    # --- Create GeoDataFrame ---\n",
    "    if features:\n",
    "        print(f\"Found {len(features)} wildlife crossings.\")\n",
    "        gdf = gpd.GeoDataFrame(features, geometry=\"geometry\", crs=\"EPSG:4326\")\n",
    "    else:\n",
    "        print(\"No wildlife crossings found.\")\n",
    "\n",
    "    # --- Reproject to EPSG:3035 (ETRS89 / LAEA Europe) ---\n",
    "    if not gdf.empty:\n",
    "        gdf = gdf.to_crs(epsg=3035)\n",
    "        print(\"Reprojected to EPSG:3035.\")\n",
    "\n",
    "    os.makedirs(geodata_output_dir, exist_ok=True)\n",
    "\n",
    "    # Save the GeoDataFrame to a file\n",
    "    output_file = os.path.join(\n",
    "        geodata_output_dir,\n",
    "        f\"{country.lower()}_wildlife_crossings_osm{bridges_string}.geojson\",\n",
    "    )\n",
    "    gdf.to_file(output_file, driver=\"GeoJSON\")\n",
    "    print(f\"Saved GeoDataFrame to {output_file}\")"
   ]
  },
  {
   "cell_type": "markdown",
   "id": "9eb9bc2f",
   "metadata": {},
   "source": [
    "#### Download Images from WMS"
   ]
  },
  {
   "cell_type": "code",
   "execution_count": null,
   "id": "229a4410",
   "metadata": {},
   "outputs": [],
   "source": [
    "object_source = \"\"\n",
    "geodata_output_dir = \"../data/geodata/\""
   ]
  },
  {
   "cell_type": "code",
   "execution_count": null,
   "id": "80ede24b",
   "metadata": {},
   "outputs": [],
   "source": []
  }
 ],
 "metadata": {
  "kernelspec": {
   "display_name": "cassda-zertifikatsarbeit",
   "language": "python",
   "name": "python3"
  },
  "language_info": {
   "codemirror_mode": {
    "name": "ipython",
    "version": 3
   },
   "file_extension": ".py",
   "mimetype": "text/x-python",
   "name": "python",
   "nbconvert_exporter": "python",
   "pygments_lexer": "ipython3",
   "version": "3.13.1"
  }
 },
 "nbformat": 4,
 "nbformat_minor": 5
}
