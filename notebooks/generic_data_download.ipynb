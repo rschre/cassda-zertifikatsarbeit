{
 "cells": [
  {
   "cell_type": "markdown",
   "id": "8981f345",
   "metadata": {},
   "source": [
    "## CASSDA - Data Download\n",
    "\n",
    "Contains code to download the following data\n",
    "- Wildlife crossings from OSM\n",
    "- Streets from OSM\n",
    "- High-Resolution satellite images from discomap https://discomap.eea.europa.eu/wiki/ (Cloudless 2m/px satellite data)"
   ]
  },
  {
   "cell_type": "code",
   "execution_count": 10,
   "id": "e04e7a11",
   "metadata": {},
   "outputs": [],
   "source": [
    "import sys\n",
    "import os\n",
    "\n",
    "sys.path.append(\"../src\")\n",
    "\n",
    "import requests as r\n",
    "from shapely.geometry import LineString, MultiPolygon, Point, Polygon\n",
    "import geopandas as gpd\n",
    "from owslib.wms import WebMapService\n",
    "\n",
    "from osm.queries import get_street_query, get_wildlife_crossing_query\n",
    "from wms.get_wms_crops import get_crop_bboxes"
   ]
  },
  {
   "cell_type": "markdown",
   "id": "1feda14b",
   "metadata": {},
   "source": [
    "#### Global Config"
   ]
  },
  {
   "cell_type": "code",
   "execution_count": 6,
   "id": "9eb539a0",
   "metadata": {},
   "outputs": [],
   "source": [
    "countries_to_process = [\"CH\"]\n",
    "image_output_dir = \"../data/satellite_images/\"\n",
    "geodata_output_dir = \"../data/geodata/\""
   ]
  },
  {
   "cell_type": "code",
   "execution_count": 7,
   "id": "193a97d0",
   "metadata": {},
   "outputs": [],
   "source": [
    "# these typically do not need to be changed\n",
    "OVERPASS_API_URL = \"https://overpass-api.de/api/interpreter\"\n",
    "WMS_URL = \"https://image.discomap.eea.europa.eu/arcgis/services/GioLand/VHR_2021_LAEA/ImageServer/WMSServer/?request=GetCapabilities&service=WMS\"\n",
    "CRS = \"EPSG:3035\"  # ETRS89 / ETRS-LAEA\n",
    "PIXEL_RESOLUTION_M = 2  # 2 meters per pixel"
   ]
  },
  {
   "cell_type": "markdown",
   "id": "f93b706c",
   "metadata": {},
   "source": [
    "### Wildlife Crossing"
   ]
  },
  {
   "cell_type": "markdown",
   "id": "dfcdee92",
   "metadata": {},
   "source": [
    "#### Export Polygons from OSM"
   ]
  },
  {
   "cell_type": "code",
   "execution_count": null,
   "id": "ad962636",
   "metadata": {},
   "outputs": [],
   "source": [
    "# config for wildlife crossing query\n",
    "bridges_only = True  # whether to only consider bridges or tunnels and other as well"
   ]
  },
  {
   "cell_type": "markdown",
   "id": "97f11c2b",
   "metadata": {},
   "source": [
    "Gets the queries according to defined parameters, sends it co Overpass-API and \n",
    "on success stores the result in <geodata_output_dir>"
   ]
  },
  {
   "cell_type": "code",
   "execution_count": 8,
   "id": "384154bb",
   "metadata": {},
   "outputs": [
    {
     "name": "stdout",
     "output_type": "stream",
     "text": [
      "Processing country: CH\n",
      "Found 18 wildlife crossings.\n",
      "Reprojected to EPSG:3035.\n",
      "Saved GeoDataFrame to ../data/geodata/ch_wildlife_crossings_osm_bridges_only.geojson\n"
     ]
    }
   ],
   "source": [
    "bridges_string = \"_bridges_only\" if bridges_only else \"\"\n",
    "\n",
    "for country in countries_to_process:\n",
    "    print(f\"Processing country: {country}\")\n",
    "\n",
    "    # Download wildlife crossings\n",
    "    crossing_query = get_wildlife_crossing_query(\n",
    "        country, timeout=240, bridges_only=bridges_only\n",
    "    )\n",
    "    response = r.get(OVERPASS_API_URL, params={\"data\": crossing_query})\n",
    "    response.raise_for_status()\n",
    "    data = response.json()\n",
    "\n",
    "    features = []\n",
    "    for el in data[\"elements\"]:\n",
    "        tags = el.get(\"tags\", {})\n",
    "\n",
    "        # Node → Point\n",
    "        if el[\"type\"] == \"node\":\n",
    "            geometry = Point(el[\"lon\"], el[\"lat\"])\n",
    "            features.append({\"id\": el[\"id\"], \"geometry\": geometry, **tags})\n",
    "\n",
    "        # Way → LineString or Polygon\n",
    "        elif el[\"type\"] == \"way\" and \"geometry\" in el:\n",
    "            coords = [(pt[\"lon\"], pt[\"lat\"]) for pt in el[\"geometry\"]]\n",
    "            if len(coords) >= 3 and coords[0] == coords[-1]:\n",
    "                geometry = Polygon(coords)  # Closed → Polygon\n",
    "            else:\n",
    "                geometry = LineString(coords)  # Open → LineString\n",
    "            features.append({\"id\": el[\"id\"], \"geometry\": geometry, **tags})\n",
    "\n",
    "        # Relation → MultiPolygon (if members have geometry)\n",
    "        elif el[\"type\"] == \"relation\" and \"members\" in el:\n",
    "            polygons = []\n",
    "            for member in el[\"members\"]:\n",
    "                if member[\"type\"] == \"way\" and \"geometry\" in member:\n",
    "                    coords = [(pt[\"lon\"], pt[\"lat\"]) for pt in member[\"geometry\"]]\n",
    "                    if len(coords) >= 3:\n",
    "                        polygons.append(Polygon(coords))\n",
    "            if polygons:\n",
    "                geometry = MultiPolygon(polygons) if len(polygons) > 1 else polygons[0]\n",
    "                features.append({\"id\": el[\"id\"], \"geometry\": geometry, **tags})\n",
    "\n",
    "    # --- Create GeoDataFrame ---\n",
    "    if features:\n",
    "        print(f\"Found {len(features)} wildlife crossings.\")\n",
    "        gdf = gpd.GeoDataFrame(features, geometry=\"geometry\", crs=\"EPSG:4326\")\n",
    "    else:\n",
    "        print(\"No wildlife crossings found.\")\n",
    "\n",
    "    # --- Reproject to EPSG:3035 (ETRS89 / LAEA Europe) ---\n",
    "    if not gdf.empty:\n",
    "        gdf = gdf.to_crs(epsg=3035)\n",
    "        print(\"Reprojected to EPSG:3035.\")\n",
    "\n",
    "    os.makedirs(geodata_output_dir, exist_ok=True)\n",
    "\n",
    "    # Save the GeoDataFrame to a file\n",
    "    output_file = os.path.join(\n",
    "        geodata_output_dir,\n",
    "        f\"{country.lower()}_wildlife_crossings_osm{bridges_string}.geojson\",\n",
    "    )\n",
    "    gdf.to_file(output_file, driver=\"GeoJSON\")\n",
    "    print(f\"Saved GeoDataFrame to {output_file}\")"
   ]
  },
  {
   "cell_type": "markdown",
   "id": "9dc03584",
   "metadata": {},
   "source": [
    "### Download WMS Images"
   ]
  },
  {
   "cell_type": "code",
   "execution_count": 3,
   "id": "080b7851",
   "metadata": {},
   "outputs": [],
   "source": [
    "# config for satellite image download\n",
    "pixel_size = 2  # meter per pixel\n",
    "buffer_size = 256  # meter buffer around each point, square bbox\n",
    "\n",
    "source_geometry_files = [\n",
    "    \"../data/geodata/ch_wildlife_crossings_osm_bridges_only.geojson\"\n",
    "]"
   ]
  },
  {
   "cell_type": "code",
   "execution_count": 11,
   "id": "478bf915",
   "metadata": {},
   "outputs": [
    {
     "name": "stdout",
     "output_type": "stream",
     "text": [
      "VHR_2021_LAEA\n"
     ]
    }
   ],
   "source": [
    "wms = WebMapService(\n",
    "    WMS_URL,\n",
    "    version=\"1.3.0\",\n",
    ")\n",
    "layer_name = list(wms.contents)[0]\n",
    "print(layer_name)"
   ]
  },
  {
   "cell_type": "code",
   "execution_count": 13,
   "id": "cffc9c97",
   "metadata": {},
   "outputs": [
    {
     "name": "stdout",
     "output_type": "stream",
     "text": [
      "Processing source geometry file: ch_wildlife_crossings_osm_bridges_only.geojson\n",
      "Number of geometries to process: 12\n",
      "Saved WMS crop for crossing 0 to ../data/satellite_images/ch_wildlife_crossings_osm_bridges_only\\crossing_0.png\n",
      "Saved WMS crop for crossing 1 to ../data/satellite_images/ch_wildlife_crossings_osm_bridges_only\\crossing_1.png\n",
      "Saved WMS crop for crossing 2 to ../data/satellite_images/ch_wildlife_crossings_osm_bridges_only\\crossing_2.png\n",
      "Saved WMS crop for crossing 3 to ../data/satellite_images/ch_wildlife_crossings_osm_bridges_only\\crossing_3.png\n",
      "Saved WMS crop for crossing 4 to ../data/satellite_images/ch_wildlife_crossings_osm_bridges_only\\crossing_4.png\n",
      "Saved WMS crop for crossing 5 to ../data/satellite_images/ch_wildlife_crossings_osm_bridges_only\\crossing_5.png\n",
      "Saved WMS crop for crossing 6 to ../data/satellite_images/ch_wildlife_crossings_osm_bridges_only\\crossing_6.png\n",
      "Saved WMS crop for crossing 7 to ../data/satellite_images/ch_wildlife_crossings_osm_bridges_only\\crossing_7.png\n",
      "Saved WMS crop for crossing 8 to ../data/satellite_images/ch_wildlife_crossings_osm_bridges_only\\crossing_8.png\n",
      "Saved WMS crop for crossing 9 to ../data/satellite_images/ch_wildlife_crossings_osm_bridges_only\\crossing_9.png\n",
      "Saved WMS crop for crossing 10 to ../data/satellite_images/ch_wildlife_crossings_osm_bridges_only\\crossing_10.png\n",
      "Saved WMS crop for crossing 11 to ../data/satellite_images/ch_wildlife_crossings_osm_bridges_only\\crossing_11.png\n"
     ]
    }
   ],
   "source": [
    "for f in source_geometry_files:\n",
    "    print(f\"Processing source geometry file: {os.path.basename(f)}\")\n",
    "    gdf = gpd.read_file(f)\n",
    "    gdf = gdf[\n",
    "        (gdf.geom_type == \"Polygon\")\n",
    "        | (gdf.geom_type == \"Point\") & (gdf[\"bridge\"] == \"yes\")\n",
    "    ]\n",
    "    print(f\"Number of geometries to process: {len(gdf)}\")\n",
    "\n",
    "    gdf_centroids = gdf.to_crs(epsg=3035).centroid\n",
    "    areas_of_interest = get_crop_bboxes(gdf_centroids, buffer_size)\n",
    "\n",
    "    output_subdir = os.path.join(\n",
    "        image_output_dir, os.path.splitext(os.path.basename(f))[0]\n",
    "    )\n",
    "    os.makedirs(output_subdir, exist_ok=True)\n",
    "\n",
    "    # for every point create a 200x200m polygon around it and request a WMS crop centered on the point\n",
    "    img_format = \"image/png\"\n",
    "    img_size = (\n",
    "        int(buffer_size * 2 / pixel_size),\n",
    "        int(buffer_size * 2 / pixel_size),\n",
    "    )  # width, height in pixels\n",
    "\n",
    "    for idx, bbox in enumerate(areas_of_interest):\n",
    "        # Request WMS image\n",
    "        img = wms.getmap(\n",
    "            layers=[layer_name],\n",
    "            srs=\"EPSG:3035\",\n",
    "            bbox=bbox,\n",
    "            size=img_size,\n",
    "            format=img_format,\n",
    "            transparent=True,\n",
    "        )\n",
    "\n",
    "        # Save image to file\n",
    "        img_data = img.read()\n",
    "        img_filename = os.path.join(output_subdir, f\"crossing_{idx}.png\")\n",
    "        with open(img_filename, \"wb\") as f:\n",
    "            f.write(img_data)\n",
    "\n",
    "        print(f\"Saved WMS crop for crossing {idx} to {img_filename}\")"
   ]
  },
  {
   "cell_type": "markdown",
   "id": "895c1b3c",
   "metadata": {},
   "source": [
    "### Road"
   ]
  },
  {
   "cell_type": "markdown",
   "id": "9eb9bc2f",
   "metadata": {},
   "source": [
    "#### Export LineStrings from OSM"
   ]
  },
  {
   "cell_type": "code",
   "execution_count": 7,
   "id": "15518c73",
   "metadata": {},
   "outputs": [],
   "source": [
    "# config for street query\n",
    "street_type_depth = 2  # how detailed the street network should be (1-12)\n",
    "overpass_timeout = 180  # timeout for overpass query in seconds"
   ]
  },
  {
   "cell_type": "code",
   "execution_count": null,
   "id": "229a4410",
   "metadata": {},
   "outputs": [
    {
     "name": "stdout",
     "output_type": "stream",
     "text": [
      "Processing country for streets: CH\n",
      "Found 18054 LineString features.\n",
      "Reprojected to EPSG:3035.\n",
      "Data saved to c:\\code_ibre\\cassda_zertifikatsarbeit\\data\\geodata\\CH_highway_depth_2.geojson\n"
     ]
    }
   ],
   "source": [
    "for country in countries_to_process:\n",
    "    print(f\"Processing country for streets: {country}\")\n",
    "\n",
    "    # Download street data\n",
    "    street_query = get_street_query(\n",
    "        extent_country=country,\n",
    "        street_type_depth=street_type_depth,\n",
    "        timeout=overpass_timeout,\n",
    "    )\n",
    "    response = r.get(OVERPASS_API_URL, params={\"data\": street_query})\n",
    "    response.raise_for_status()\n",
    "    data = response.json()\n",
    "\n",
    "    features = []\n",
    "    for el in data[\"elements\"]:\n",
    "        if el[\"type\"] == \"way\" and \"geometry\" in el:\n",
    "            coords = [(pt[\"lon\"], pt[\"lat\"]) for pt in el[\"geometry\"]]\n",
    "            # Only open ways → LineString\n",
    "            if len(coords) >= 2 and coords[0] != coords[-1]:\n",
    "                features.append(\n",
    "                    {\n",
    "                        \"id\": el[\"id\"],\n",
    "                        \"geometry\": LineString(coords),\n",
    "                        **el.get(\"tags\", {}),\n",
    "                    }\n",
    "                )\n",
    "\n",
    "    # --- Build GeoDataFrame ---\n",
    "    if not features:\n",
    "        print(\"No LineString features found!\")\n",
    "        gdf = gpd.GeoDataFrame(columns=[\"id\", \"geometry\"])\n",
    "    else:\n",
    "        gdf = gpd.GeoDataFrame(features, geometry=\"geometry\", crs=\"EPSG:4326\")\n",
    "        print(f\"Found {len(gdf)} LineString features.\")\n",
    "\n",
    "    # --- Prepare output folder ---\n",
    "    output_dir = os.path.abspath(os.path.join(geodata_output_dir))\n",
    "    os.makedirs(output_dir, exist_ok=True)\n",
    "\n",
    "    # --- Reproject to EPSG:3035 (ETRS89 / LAEA Europe) ---\n",
    "    if not gdf.empty:\n",
    "        gdf = gdf.to_crs(epsg=3035)\n",
    "        print(\"Reprojected to EPSG:3035.\")\n",
    "\n",
    "    # --- Save original GeoJSON ---\n",
    "    output_file = os.path.join(\n",
    "        output_dir, f\"{country}_highway_depth_{street_type_depth}.geojson\"\n",
    "    )\n",
    "    gdf.to_file(output_file, driver=\"GeoJSON\")\n",
    "    print(f\"Data saved to {output_file}\")"
   ]
  }
 ],
 "metadata": {
  "kernelspec": {
   "display_name": "cassda-zertifikatsarbeit (3.13.3)",
   "language": "python",
   "name": "python3"
  },
  "language_info": {
   "codemirror_mode": {
    "name": "ipython",
    "version": 3
   },
   "file_extension": ".py",
   "mimetype": "text/x-python",
   "name": "python",
   "nbconvert_exporter": "python",
   "pygments_lexer": "ipython3",
   "version": "3.13.3"
  }
 },
 "nbformat": 4,
 "nbformat_minor": 5
}
