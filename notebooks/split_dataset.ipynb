{
 "cells": [
  {
   "cell_type": "code",
   "execution_count": 21,
   "id": "c57578d3",
   "metadata": {},
   "outputs": [],
   "source": [
    "import os\n",
    "import glob\n",
    "import random"
   ]
  },
  {
   "cell_type": "code",
   "execution_count": 22,
   "id": "9cb4546a",
   "metadata": {},
   "outputs": [],
   "source": [
    "source_folder = \"../data/satellite_images/combined_wildlife_poly_bridges_filtered\"\n",
    "output_folder = \"../data/combined_wildlife_poly_bridges_only_dataset\""
   ]
  },
  {
   "cell_type": "code",
   "execution_count": 23,
   "id": "a9dfe98e",
   "metadata": {},
   "outputs": [],
   "source": [
    "images_folder = os.path.join(source_folder, \"images\")\n",
    "annotations_folder = os.path.join(source_folder, \"labels\")"
   ]
  },
  {
   "cell_type": "code",
   "execution_count": 24,
   "id": "1804028e",
   "metadata": {},
   "outputs": [],
   "source": [
    "split = (0.7, 0.15, 0.15)  # train, val, test ratios"
   ]
  },
  {
   "cell_type": "code",
   "execution_count": 25,
   "id": "587ee50b",
   "metadata": {},
   "outputs": [],
   "source": [
    "img_ids = glob.glob(os.path.join(images_folder, \"*.png\"))"
   ]
  },
  {
   "cell_type": "code",
   "execution_count": 26,
   "id": "eb4e6c5e",
   "metadata": {},
   "outputs": [
    {
     "name": "stdout",
     "output_type": "stream",
     "text": [
      "Total images: 101\n",
      "Train: 70, Val: 15, Test: 15\n"
     ]
    }
   ],
   "source": [
    "train_split = int(len(img_ids) * split[0])\n",
    "val_split = int(len(img_ids) * split[1])\n",
    "test_split = int(len(img_ids) - len(img_ids) * (split[0] + split[1]))  # Remaining images\n",
    "\n",
    "print(f\"Total images: {len(img_ids)}\")\n",
    "print(f\"Train: {train_split}, Val: {val_split}, Test: {test_split}\")"
   ]
  },
  {
   "cell_type": "code",
   "execution_count": 27,
   "id": "75354e39",
   "metadata": {},
   "outputs": [],
   "source": [
    "# randomly shuffle the image ids\n",
    "\n",
    "random.shuffle(img_ids)\n",
    "train_ids = img_ids[:train_split]\n",
    "val_ids = img_ids[train_split:train_split + val_split]\n",
    "test_ids = img_ids[train_split + val_split:]"
   ]
  },
  {
   "cell_type": "code",
   "execution_count": 28,
   "id": "b6a28b2d",
   "metadata": {},
   "outputs": [],
   "source": [
    "for split_name, split_ids in zip([\"train\", \"val\", \"test\"], [train_ids, val_ids, test_ids]):\n",
    "    split_image_dir = os.path.join(output_folder, \"images\", split_name)\n",
    "    split_label_dir = os.path.join(output_folder, \"labels\", split_name)\n",
    "    os.makedirs(split_image_dir, exist_ok=True)\n",
    "    os.makedirs(split_label_dir, exist_ok=True)\n",
    "\n",
    "    for img_path in split_ids:\n",
    "        img_filename = os.path.basename(img_path)\n",
    "        label_filename = img_filename.replace(\".png\", \".txt\").replace(\"images\", \"labels\")\n",
    "\n",
    "        # Copy image\n",
    "        os.rename(img_path, os.path.join(split_image_dir, img_filename))\n",
    "        # Copy label\n",
    "        os.rename(os.path.join(annotations_folder, label_filename), os.path.join(split_label_dir, label_filename))"
   ]
  }
 ],
 "metadata": {
  "kernelspec": {
   "display_name": "cassda-zertifikatsarbeit (3.13.3)",
   "language": "python",
   "name": "python3"
  },
  "language_info": {
   "codemirror_mode": {
    "name": "ipython",
    "version": 3
   },
   "file_extension": ".py",
   "mimetype": "text/x-python",
   "name": "python",
   "nbconvert_exporter": "python",
   "pygments_lexer": "ipython3",
   "version": "3.13.3"
  }
 },
 "nbformat": 4,
 "nbformat_minor": 5
}
