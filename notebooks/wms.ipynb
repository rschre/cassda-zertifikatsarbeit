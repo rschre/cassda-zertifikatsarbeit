{
 "cells": [
  {
   "cell_type": "code",
   "execution_count": 1,
   "id": "df898423",
   "metadata": {},
   "outputs": [],
   "source": [
    "from owslib.wms import WebMapService"
   ]
  },
  {
   "cell_type": "code",
   "execution_count": 2,
   "id": "c7de84b5",
   "metadata": {},
   "outputs": [],
   "source": [
    "wms = WebMapService('https://image.discomap.eea.europa.eu/arcgis/services/GioLand/VHR_2021_LAEA/ImageServer/WMSServer/?request=GetCapabilities&service=WMS', version='1.3.0')"
   ]
  },
  {
   "cell_type": "code",
   "execution_count": 7,
   "id": "513a990a",
   "metadata": {},
   "outputs": [
    {
     "name": "stdout",
     "output_type": "stream",
     "text": [
      "VHR2021 seamless mosaic - 1.3.0\n"
     ]
    }
   ],
   "source": [
    "print(f\"{wms.identification.title} - {wms.identification.version}\")"
   ]
  },
  {
   "cell_type": "code",
   "execution_count": 20,
   "id": "10eac18c",
   "metadata": {},
   "outputs": [
    {
     "data": {
      "text/plain": [
       "['VHR_2021_LAEA']"
      ]
     },
     "execution_count": 20,
     "metadata": {},
     "output_type": "execute_result"
    }
   ],
   "source": [
    "list(wms.contents)"
   ]
  },
  {
   "cell_type": "code",
   "execution_count": 21,
   "id": "a13502e7",
   "metadata": {},
   "outputs": [],
   "source": [
    "layer_name = list(wms.contents)[0]"
   ]
  },
  {
   "cell_type": "code",
   "execution_count": 34,
   "id": "1ef78568",
   "metadata": {},
   "outputs": [
    {
     "data": {
      "text/plain": [
       "(-55.043848, 24.740774, 71.22644, 71.944746, 'CRS:84')"
      ]
     },
     "execution_count": 34,
     "metadata": {},
     "output_type": "execute_result"
    }
   ],
   "source": [
    "wms[layer_name].boundingBox"
   ]
  },
  {
   "cell_type": "code",
   "execution_count": 13,
   "id": "a304fc95",
   "metadata": {},
   "outputs": [
    {
     "data": {
      "text/plain": [
       "['EPSG:3035', 'CRS:84', 'EPSG:4326']"
      ]
     },
     "execution_count": 13,
     "metadata": {},
     "output_type": "execute_result"
    }
   ],
   "source": [
    "wms[\"VHR_2021_LAEA\"].crsOptions   "
   ]
  },
  {
   "cell_type": "code",
   "execution_count": 16,
   "id": "16fee7e0",
   "metadata": {},
   "outputs": [
    {
     "data": {
      "text/plain": [
       "['GetCapabilities', 'GetMap']"
      ]
     },
     "execution_count": 16,
     "metadata": {},
     "output_type": "execute_result"
    }
   ],
   "source": [
    "[op.name for op in wms.operations]"
   ]
  },
  {
   "cell_type": "code",
   "execution_count": 44,
   "id": "5af927d3",
   "metadata": {},
   "outputs": [],
   "source": [
    "image_width = 1000\n",
    "image_height = image_width / 1.7779953980476724"
   ]
  },
  {
   "cell_type": "code",
   "execution_count": 46,
   "id": "da383f4c",
   "metadata": {},
   "outputs": [],
   "source": [
    "img = wms.getmap(\n",
    "    layers=[layer_name],\n",
    "    srs=\"CRS:84\",\n",
    "    bbox=wms[layer_name].boundingBoxWGS84,\n",
    "    size=(image_width, image_height),\n",
    "    format=\"image/jpeg\",\n",
    "    transparent=True,\n",
    ")\n",
    "with open(\"test_image_europa.jpg\", \"wb\") as out:\n",
    "    out.write(img.read())"
   ]
  },
  {
   "cell_type": "markdown",
   "id": "ae745895",
   "metadata": {},
   "source": [
    "# Calculating Correct Aspect Ratio for Geographic Bounding Box\n",
    "\n",
    "To display geographic data without distortion, we need to account for the fact that longitude degrees get smaller as we move away from the equator."
   ]
  },
  {
   "cell_type": "code",
   "execution_count": 39,
   "id": "bcfa64c0",
   "metadata": {},
   "outputs": [
    {
     "name": "stdout",
     "output_type": "stream",
     "text": [
      "Bounding box:\n",
      "Longitude: -55.043848° to 71.226440° (span: 126.270288°)\n",
      "Latitude:  24.740774° to 71.944746° (span: 47.203972°)\n"
     ]
    }
   ],
   "source": [
    "import math\n",
    "\n",
    "# Your bounding box (minx, miny, maxx, maxy) in WGS84\n",
    "bbox = (-55.043848, 24.740774, 71.22644, 71.944746)\n",
    "min_lon, min_lat, max_lon, max_lat = bbox\n",
    "\n",
    "print(f\"Bounding box:\")\n",
    "print(f\"Longitude: {min_lon:.6f}° to {max_lon:.6f}° (span: {max_lon - min_lon:.6f}°)\")\n",
    "print(f\"Latitude:  {min_lat:.6f}° to {max_lat:.6f}° (span: {max_lat - min_lat:.6f}°)\")"
   ]
  },
  {
   "cell_type": "code",
   "execution_count": 40,
   "id": "8559f7ae",
   "metadata": {},
   "outputs": [
    {
     "name": "stdout",
     "output_type": "stream",
     "text": [
      "Center latitude: 48.342760° (48.3°)\n",
      "Longitude correction factor: 0.664673\n",
      "\n",
      "Real-world dimensions:\n",
      "North-South (latitude):  5254.7 km\n",
      "East-West (longitude):   9342.9 km\n"
     ]
    }
   ],
   "source": [
    "# Calculate the center latitude for longitude correction\n",
    "center_lat = (min_lat + max_lat) / 2\n",
    "center_lat_rad = math.radians(center_lat)\n",
    "\n",
    "print(f\"Center latitude: {center_lat:.6f}° ({center_lat:.1f}°)\")\n",
    "\n",
    "# At this latitude, how much does 1 degree of longitude shrink?\n",
    "lon_correction_factor = math.cos(center_lat_rad)\n",
    "print(f\"Longitude correction factor: {lon_correction_factor:.6f}\")\n",
    "\n",
    "# Calculate real-world distances\n",
    "lat_span_degrees = max_lat - min_lat\n",
    "lon_span_degrees = max_lon - min_lon\n",
    "\n",
    "# Convert to approximate meters (using 111,320 m per degree)\n",
    "meters_per_degree = 111320\n",
    "\n",
    "lat_span_meters = lat_span_degrees * meters_per_degree\n",
    "lon_span_meters = lon_span_degrees * meters_per_degree * lon_correction_factor\n",
    "\n",
    "print(f\"\\nReal-world dimensions:\")\n",
    "print(f\"North-South (latitude):  {lat_span_meters/1000:.1f} km\")\n",
    "print(f\"East-West (longitude):   {lon_span_meters/1000:.1f} km\")"
   ]
  },
  {
   "cell_type": "code",
   "execution_count": 41,
   "id": "2a2fdd25",
   "metadata": {},
   "outputs": [
    {
     "name": "stdout",
     "output_type": "stream",
     "text": [
      "\n",
      "Correct aspect ratio:\n",
      "Width/Height = 1.777995\n",
      "This means: 1.78:1 (width:height)\n",
      "\n",
      "For undistorted imagery:\n",
      "If height = 1000 pixels\n",
      "Then width should = 1777 pixels\n",
      "Image size: 1777 × 1000\n",
      "\n",
      "Alternatively:\n",
      "If width = 1000 pixels\n",
      "Then height should = 562 pixels\n",
      "Image size: 1000 × 562\n"
     ]
    }
   ],
   "source": [
    "# Calculate the correct aspect ratio\n",
    "# Aspect ratio = width / height\n",
    "aspect_ratio = lon_span_meters / lat_span_meters\n",
    "\n",
    "print(f\"\\nCorrect aspect ratio:\")\n",
    "print(f\"Width/Height = {aspect_ratio:.6f}\")\n",
    "print(f\"This means: {aspect_ratio:.2f}:1 (width:height)\")\n",
    "\n",
    "# If we want the height to be 1000 pixels, what should the width be?\n",
    "target_height = 1000\n",
    "correct_width = int(target_height * aspect_ratio)\n",
    "\n",
    "print(f\"\\nFor undistorted imagery:\")\n",
    "print(f\"If height = {target_height} pixels\")\n",
    "print(f\"Then width should = {correct_width} pixels\")\n",
    "print(f\"Image size: {correct_width} × {target_height}\")\n",
    "\n",
    "# Alternative: if we want width to be 1000, what should height be?\n",
    "target_width = 1000\n",
    "correct_height = int(target_width / aspect_ratio)\n",
    "print(f\"\\nAlternatively:\")\n",
    "print(f\"If width = {target_width} pixels\")\n",
    "print(f\"Then height should = {correct_height} pixels\")\n",
    "print(f\"Image size: {target_width} × {correct_height}\")"
   ]
  },
  {
   "cell_type": "markdown",
   "id": "56cbfe67",
   "metadata": {},
   "source": [
    "## Comparison: Square vs Correct Aspect Ratio"
   ]
  },
  {
   "cell_type": "code",
   "execution_count": null,
   "id": "1d03c97a",
   "metadata": {},
   "outputs": [],
   "source": [
    "print(\"Comparison of image dimensions:\")\n",
    "print(f\"Your current square image: 1000 × 1000\")\n",
    "print(f\"  - Each pixel represents: {lat_span_meters/1000:.1f}m N-S, {lon_span_meters/1000:.1f}m E-W\")\n",
    "print(f\"  - Distortion factor: {lon_span_meters/lat_span_meters:.2f}× wider than reality\")\n",
    "print()\n",
    "print(f\"Correct aspect ratio image: {correct_width} × {target_height}\")  \n",
    "print(f\"  - Each pixel represents: {lat_span_meters/target_height:.1f}m N-S, {lon_span_meters/correct_width:.1f}m E-W\")\n",
    "print(f\"  - No distortion: true geographic proportions\")\n",
    "print()\n",
    "print(f\"Alternative correct image: {target_width} × {correct_height}\")\n",
    "print(f\"  - Each pixel represents: {lat_span_meters/correct_height:.1f}m N-S, {lon_span_meters/target_width:.1f}m E-W\")\n",
    "print(f\"  - No distortion: true geographic proportions\")"
   ]
  },
  {
   "cell_type": "markdown",
   "id": "e250d56b",
   "metadata": {},
   "source": [
    "## Updated WMS Request with Correct Aspect Ratio"
   ]
  },
  {
   "cell_type": "code",
   "execution_count": null,
   "id": "bc0b0590",
   "metadata": {},
   "outputs": [],
   "source": [
    "# Example of how to request the image with correct proportions\n",
    "correct_bbox = bbox  # Same bounding box: (-55.043848, 24.740774, 71.22644, 71.944746)\n",
    "\n",
    "print(\"Updated WMS request with correct aspect ratio:\")\n",
    "print(f\"bbox={correct_bbox}\")\n",
    "print(f\"size=({correct_width}, {target_height})  # Instead of (1000, 1000)\")\n",
    "print()\n",
    "print(\"This will give you a geographically accurate image where:\")\n",
    "print(\"- Distances are proportional in all directions\") \n",
    "print(\"- Circles appear as circles (not ellipses)\")\n",
    "print(\"- Geographic features have their true shape\")\n",
    "\n",
    "# You can use either dimension option:\n",
    "print(f\"\\nOption 1: {correct_width} × {target_height} pixels\")\n",
    "print(f\"Option 2: {target_width} × {correct_height} pixels\")\n",
    "print(\"Both maintain the correct aspect ratio!\")"
   ]
  },
  {
   "cell_type": "markdown",
   "id": "cdc1330a",
   "metadata": {},
   "source": [
    "## Calculate Image Size for Specific Pixel Resolution (2m × 2m per pixel)"
   ]
  },
  {
   "cell_type": "code",
   "execution_count": 47,
   "id": "fdd4faad",
   "metadata": {},
   "outputs": [
    {
     "name": "stdout",
     "output_type": "stream",
     "text": [
      "Target: Each pixel represents 2 × 2 meters\n",
      "\n",
      "Required image dimensions for 2m×2m pixel resolution:\n",
      "Width:  4,671,457 pixels\n",
      "Height: 2,627,373 pixels\n",
      "Total:  4,671,457 × 2,627,373 = 12,273,659,992,461 pixels\n",
      "Image size: 12273660.0 megapixels\n",
      "Estimated file size: ~35115222.9 MB (JPEG)\n"
     ]
    }
   ],
   "source": [
    "# Target pixel resolution: 2m × 2m per pixel\n",
    "target_pixel_size_meters = 2\n",
    "\n",
    "print(f\"Target: Each pixel represents {target_pixel_size_meters} × {target_pixel_size_meters} meters\")\n",
    "print()\n",
    "\n",
    "# Calculate required image dimensions\n",
    "# Width in pixels = total width in meters / meters per pixel\n",
    "required_width_pixels = int(lon_span_meters / target_pixel_size_meters)\n",
    "required_height_pixels = int(lat_span_meters / target_pixel_size_meters)\n",
    "\n",
    "print(f\"Required image dimensions for 2m×2m pixel resolution:\")\n",
    "print(f\"Width:  {required_width_pixels:,} pixels\")\n",
    "print(f\"Height: {required_height_pixels:,} pixels\")\n",
    "print(f\"Total:  {required_width_pixels:,} × {required_height_pixels:,} = {required_width_pixels * required_height_pixels:,} pixels\")\n",
    "\n",
    "# Convert to megapixels\n",
    "megapixels = (required_width_pixels * required_height_pixels) / 1_000_000\n",
    "print(f\"Image size: {megapixels:.1f} megapixels\")\n",
    "\n",
    "# File size estimation (rough)\n",
    "# Assuming JPEG compression ~3 bytes per pixel on average\n",
    "estimated_file_size_mb = (required_width_pixels * required_height_pixels * 3) / (1024 * 1024)\n",
    "print(f\"Estimated file size: ~{estimated_file_size_mb:.1f} MB (JPEG)\")"
   ]
  },
  {
   "cell_type": "code",
   "execution_count": null,
   "id": "d73e74bb",
   "metadata": {},
   "outputs": [],
   "source": [
    "# Verify the aspect ratio is maintained\n",
    "calculated_aspect_ratio = required_width_pixels / required_height_pixels\n",
    "print(f\"\\nAspect ratio check:\")\n",
    "print(f\"Original geographic aspect ratio: {aspect_ratio:.6f}\")\n",
    "print(f\"Calculated image aspect ratio:   {calculated_aspect_ratio:.6f}\")\n",
    "print(f\"Difference: {abs(aspect_ratio - calculated_aspect_ratio):.6f} (should be very small)\")\n",
    "\n",
    "print(f\"\\nActual pixel resolution:\")\n",
    "actual_pixel_width = lon_span_meters / required_width_pixels\n",
    "actual_pixel_height = lat_span_meters / required_height_pixels\n",
    "print(f\"Width resolution:  {actual_pixel_width:.2f} m/pixel\")\n",
    "print(f\"Height resolution: {actual_pixel_height:.2f} m/pixel\")\n",
    "print(f\"Target was: {target_pixel_size_meters:.1f} m/pixel\")"
   ]
  },
  {
   "cell_type": "markdown",
   "id": "86b4dc04",
   "metadata": {},
   "source": [
    "### Comparison with Different Pixel Sizes"
   ]
  },
  {
   "cell_type": "code",
   "execution_count": 48,
   "id": "e223d043",
   "metadata": {},
   "outputs": [
    {
     "name": "stdout",
     "output_type": "stream",
     "text": [
      "Comparison of different pixel resolutions:\n",
      "Pixel Size | Image Width × Height | Megapixels | Est. File Size\n",
      "-----------------------------------------------------------------\n",
      " 1m × 1m | 9,342,914 × 5,254,746 | 49094640.0 | 140460891.6 MB\n",
      " 2m × 2m | 4,671,457 × 2,627,373 | 12273660.0 | 35115222.9 MB\n",
      " 5m × 5m | 1,868,582 × 1,050,949 | 1963784.4 | 5618432.2 MB\n",
      "10m × 10m | 934,291 × 525,474 | 490945.6 | 1404606.7 MB\n",
      "20m × 20m | 467,145 × 262,737 | 122736.3 | 351151.3 MB\n",
      "50m × 50m | 186,858 × 105,094 |  19637.7 |  56183.8 MB\n",
      "100m × 100m | 93,429 × 52,547 |   4909.4 |  14045.9 MB\n",
      "\n",
      "Note: File sizes are rough estimates for JPEG format\n",
      "Actual file sizes depend on image complexity and compression settings\n"
     ]
    }
   ],
   "source": [
    "# Compare different pixel resolutions\n",
    "pixel_sizes = [1, 2, 5, 10, 20, 50, 100]  # meters per pixel\n",
    "\n",
    "print(\"Comparison of different pixel resolutions:\")\n",
    "print(\"Pixel Size | Image Width × Height | Megapixels | Est. File Size\")\n",
    "print(\"-\" * 65)\n",
    "\n",
    "for pixel_size in pixel_sizes:\n",
    "    width = int(lon_span_meters / pixel_size)\n",
    "    height = int(lat_span_meters / pixel_size)\n",
    "    megapx = (width * height) / 1_000_000\n",
    "    file_size_mb = (width * height * 3) / (1024 * 1024)\n",
    "    \n",
    "    print(f\"{pixel_size:>2}m × {pixel_size}m | {width:>5,} × {height:>5,} | {megapx:>8.1f} | {file_size_mb:>8.1f} MB\")\n",
    "\n",
    "print(\"\\nNote: File sizes are rough estimates for JPEG format\")\n",
    "print(\"Actual file sizes depend on image complexity and compression settings\")"
   ]
  },
  {
   "cell_type": "markdown",
   "id": "9748879b",
   "metadata": {},
   "source": [
    "### WMS Request for 2m Resolution"
   ]
  },
  {
   "cell_type": "code",
   "execution_count": null,
   "id": "c3136764",
   "metadata": {},
   "outputs": [],
   "source": [
    "print(\"To get 2m × 2m pixel resolution, use:\")\n",
    "print(f\"size=({required_width_pixels}, {required_height_pixels})\")\n",
    "print()\n",
    "print(\"Full WMS request example:\")\n",
    "print(f\"\"\"\n",
    "img = wms.getmap(\n",
    "    layers=[layer_name],\n",
    "    srs=\"CRS:84\", \n",
    "    bbox=({bbox[0]}, {bbox[1]}, {bbox[2]}, {bbox[3]}),\n",
    "    size=({required_width_pixels}, {required_height_pixels}),\n",
    "    format=\"image/jpeg\",\n",
    "    transparent=True,\n",
    ")\n",
    "\"\"\")\n",
    "\n",
    "print(\"⚠️  WARNING:\")\n",
    "print(f\"This will create a {megapixels:.1f} megapixel image (~{estimated_file_size_mb:.1f} MB)\")\n",
    "print(\"Make sure your system has enough memory and the WMS server allows such large requests!\")\n",
    "print(\"\\nConsider using a smaller area or lower resolution for testing first.\")"
   ]
  }
 ],
 "metadata": {
  "kernelspec": {
   "display_name": "cassda-zertifikatsarbeit (3.13.3)",
   "language": "python",
   "name": "python3"
  },
  "language_info": {
   "codemirror_mode": {
    "name": "ipython",
    "version": 3
   },
   "file_extension": ".py",
   "mimetype": "text/x-python",
   "name": "python",
   "nbconvert_exporter": "python",
   "pygments_lexer": "ipython3",
   "version": "3.13.3"
  }
 },
 "nbformat": 4,
 "nbformat_minor": 5
}
