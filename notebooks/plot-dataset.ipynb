{
 "cells": [
  {
   "cell_type": "code",
   "execution_count": 1,
   "id": "10d632e3",
   "metadata": {},
   "outputs": [],
   "source": [
    "import geopandas as gpd\n",
    "from shapely.geometry import Point"
   ]
  },
  {
   "cell_type": "code",
   "execution_count": 2,
   "id": "a80cd6a7",
   "metadata": {},
   "outputs": [],
   "source": [
    "gdf = gpd.read_file(\"../data/geodata/combined_wildlife_poly_bridges_filtered.gpkg\")"
   ]
  },
  {
   "cell_type": "code",
   "execution_count": 5,
   "id": "cd4f539a",
   "metadata": {},
   "outputs": [],
   "source": [
    "# for every point or polygon in gdf plot a point a folium map\n",
    "m = gdf.explore(figsize=(10, 10), color=\"red\", markersize=5)\n",
    "m.save(\"../data/plots/combined_wildlife_poly_bridges_filtered.html\")"
   ]
  }
 ],
 "metadata": {
  "kernelspec": {
   "display_name": "cassda-zertifikatsarbeit (3.13.3)",
   "language": "python",
   "name": "python3"
  },
  "language_info": {
   "codemirror_mode": {
    "name": "ipython",
    "version": 3
   },
   "file_extension": ".py",
   "mimetype": "text/x-python",
   "name": "python",
   "nbconvert_exporter": "python",
   "pygments_lexer": "ipython3",
   "version": "3.13.3"
  }
 },
 "nbformat": 4,
 "nbformat_minor": 5
}
