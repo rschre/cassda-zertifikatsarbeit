{
 "cells": [
  {
   "cell_type": "code",
   "execution_count": 39,
   "id": "a93d81f9",
   "metadata": {},
   "outputs": [],
   "source": [
    "import os\n",
    "import sys\n",
    "\n",
    "sys.path.append(\"../src\")  # for src imports\n",
    "import logging\n",
    "\n",
    "import geopandas as gpd\n",
    "from owslib.wms import WebMapService\n",
    "\n",
    "from wms.get_wms_crops import get_crop_bboxes"
   ]
  },
  {
   "cell_type": "code",
   "execution_count": null,
   "id": "27007050",
   "metadata": {},
   "outputs": [],
   "source": [
    "source_geometries_file = r\"..\\data\\DE_wildlife_crossing.geojson\"\n",
    "output_folder = r\"..\\data\\de_wms_export_v2\"\n",
    "wms_url = \"https://image.discomap.eea.europa.eu/arcgis/services/GioLand/VHR_2021_LAEA/ImageServer/WMSServer/?request=GetCapabilities&service=WMS\"\n",
    "pixel_size = 2  # meter per pixel\n",
    "buffer_size = 100  # meter"
   ]
  },
  {
   "cell_type": "code",
   "execution_count": 19,
   "id": "f95cb9c9",
   "metadata": {},
   "outputs": [
    {
     "name": "stdout",
     "output_type": "stream",
     "text": [
      "Number of geometries to download: 443\n"
     ]
    }
   ],
   "source": [
    "gdf = gpd.read_file(source_geometries_file)\n",
    "gdf = gdf[\n",
    "    (gdf.geom_type == \"Polygon\") | (gdf.geom_type == \"Point\") & (gdf[\"bridge\"] == \"yes\")\n",
    "]\n",
    "print(f\"Number of geometries to process: {len(gdf)}\")"
   ]
  },
  {
   "cell_type": "code",
   "execution_count": 43,
   "id": "73c24d80",
   "metadata": {},
   "outputs": [],
   "source": [
    "wms = WebMapService(\n",
    "    wms_url,\n",
    "    version=\"1.3.0\",\n",
    ")"
   ]
  },
  {
   "cell_type": "code",
   "execution_count": 6,
   "id": "077fee8a",
   "metadata": {},
   "outputs": [
    {
     "name": "stdout",
     "output_type": "stream",
     "text": [
      "VHR_2021_LAEA\n"
     ]
    }
   ],
   "source": [
    "layer_name = list(wms.contents)[0]\n",
    "print(layer_name)"
   ]
  },
  {
   "cell_type": "code",
   "execution_count": 22,
   "id": "e458e789",
   "metadata": {},
   "outputs": [
    {
     "data": {
      "text/plain": [
       "443"
      ]
     },
     "execution_count": 22,
     "metadata": {},
     "output_type": "execute_result"
    }
   ],
   "source": [
    "gdf_centroids = gdf.to_crs(epsg=3035).centroid\n",
    "areas_of_interest = get_crop_bboxes(gdf_centroids, buffer_size)"
   ]
  },
  {
   "cell_type": "code",
   "execution_count": null,
   "id": "5e6aee17",
   "metadata": {},
   "outputs": [],
   "source": [
    "os.makedirs(output_folder, exist_ok=True)"
   ]
  },
  {
   "cell_type": "code",
   "execution_count": 47,
   "id": "b472bd0e",
   "metadata": {},
   "outputs": [],
   "source": [
    "# for every point create a 200x200m polygon around it and request a WMS crop centered on the point\n",
    "img_format = \"image/png\"\n",
    "img_size = (\n",
    "    int(buffer_size * 2 / pixel_size),\n",
    "    int(buffer_size * 2 / pixel_size),\n",
    ")  # width, height in pixels\n",
    "\n",
    "for idx, bbox in enumerate(areas_of_interest):\n",
    "    # Request WMS image\n",
    "    img = wms.getmap(\n",
    "        layers=[layer_name],\n",
    "        srs=\"EPSG:3035\",\n",
    "        bbox=bbox,\n",
    "        size=img_size,\n",
    "        format=img_format,\n",
    "        transparent=True,\n",
    "    )\n",
    "\n",
    "    # Save image to file\n",
    "    img_data = img.read()\n",
    "    img_filename = os.path.join(output_folder, f\"crossing_{idx}.png\")\n",
    "    with open(img_filename, \"wb\") as f:\n",
    "        f.write(img_data)\n",
    "\n",
    "    print(f\"Saved WMS crop for crossing {idx} to {img_filename}\")"
   ]
  }
 ],
 "metadata": {
  "kernelspec": {
   "display_name": "cassda-zertifikatsarbeit",
   "language": "python",
   "name": "python3"
  },
  "language_info": {
   "codemirror_mode": {
    "name": "ipython",
    "version": 3
   },
   "file_extension": ".py",
   "mimetype": "text/x-python",
   "name": "python",
   "nbconvert_exporter": "python",
   "pygments_lexer": "ipython3",
   "version": "3.13.1"
  }
 },
 "nbformat": 4,
 "nbformat_minor": 5
}
