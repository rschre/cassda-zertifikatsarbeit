{
 "cells": [
  {
   "cell_type": "code",
   "execution_count": 29,
   "id": "a93d81f9",
   "metadata": {},
   "outputs": [],
   "source": [
    "import os\n",
    "import sys\n",
    "\n",
    "sys.path.append(\"../src\")  # for src imports\n",
    "import logging\n",
    "\n",
    "import geopandas as gpd\n",
    "from owslib.wms import WebMapService\n",
    "\n",
    "from wms.get_wms_crops import get_crop_bboxes"
   ]
  },
  {
   "cell_type": "code",
   "execution_count": 30,
   "id": "d5e47aed",
   "metadata": {},
   "outputs": [],
   "source": [
    "logger = logging.getLogger()\n",
    "handler = logging.StreamHandler(sys.stdout)\n",
    "handler.setLevel(logging.INFO)"
   ]
  },
  {
   "cell_type": "code",
   "execution_count": 31,
   "id": "27007050",
   "metadata": {},
   "outputs": [],
   "source": [
    "source_geometries_file = r\"..\\data\\de_wildlife_crossing.geojson\"\n",
    "output_folder = r\"..\\data\\de_wms_export_v2\"\n",
    "wms_url = \"https://image.discomap.eea.europa.eu/arcgis/services/GioLand/VHR_2021_LAEA/ImageServer/WMSServer/?request=GetCapabilities&service=WMS\"\n",
    "pixel_size = 2  # meter per pixel\n",
    "buffer_size = 100  # meter"
   ]
  },
  {
   "cell_type": "code",
   "execution_count": 38,
   "id": "f95cb9c9",
   "metadata": {},
   "outputs": [
    {
     "name": "stdout",
     "output_type": "stream",
     "text": [
      "Number of geometries to process: 147\n"
     ]
    }
   ],
   "source": [
    "gdf = gpd.read_file(source_geometries_file)\n",
    "gdf = gdf[\n",
    "    (gdf.geom_type == \"Polygon\") | (gdf.geom_type == \"Point\") & (gdf[\"bridge\"] == \"yes\")\n",
    "]\n",
    "print(f\"Number of geometries to process: {len(gdf)}\")"
   ]
  },
  {
   "cell_type": "code",
   "execution_count": 33,
   "id": "73c24d80",
   "metadata": {},
   "outputs": [],
   "source": [
    "wms = WebMapService(\n",
    "    wms_url,\n",
    "    version=\"1.3.0\",\n",
    ")"
   ]
  },
  {
   "cell_type": "code",
   "execution_count": 34,
   "id": "077fee8a",
   "metadata": {},
   "outputs": [
    {
     "name": "stdout",
     "output_type": "stream",
     "text": [
      "VHR_2021_LAEA\n"
     ]
    }
   ],
   "source": [
    "layer_name = list(wms.contents)[0]\n",
    "print(layer_name)"
   ]
  },
  {
   "cell_type": "code",
   "execution_count": 35,
   "id": "e458e789",
   "metadata": {},
   "outputs": [],
   "source": [
    "gdf_centroids = gdf.to_crs(epsg=3035).centroid\n",
    "areas_of_interest = get_crop_bboxes(gdf_centroids, buffer_size)"
   ]
  },
  {
   "cell_type": "code",
   "execution_count": 36,
   "id": "5e6aee17",
   "metadata": {},
   "outputs": [],
   "source": [
    "logger.info(f\"Starting WMS export to folder: {output_folder}\")\n",
    "os.makedirs(output_folder, exist_ok=True)"
   ]
  },
  {
   "cell_type": "code",
   "execution_count": 37,
   "id": "b472bd0e",
   "metadata": {},
   "outputs": [
    {
     "name": "stdout",
     "output_type": "stream",
     "text": [
      "Saved WMS crop for crossing 0 to ..\\data\\de_wms_export_v2\\crossing_0.png\n",
      "Saved WMS crop for crossing 1 to ..\\data\\de_wms_export_v2\\crossing_1.png\n",
      "Saved WMS crop for crossing 2 to ..\\data\\de_wms_export_v2\\crossing_2.png\n",
      "Saved WMS crop for crossing 3 to ..\\data\\de_wms_export_v2\\crossing_3.png\n",
      "Saved WMS crop for crossing 4 to ..\\data\\de_wms_export_v2\\crossing_4.png\n",
      "Saved WMS crop for crossing 5 to ..\\data\\de_wms_export_v2\\crossing_5.png\n",
      "Saved WMS crop for crossing 6 to ..\\data\\de_wms_export_v2\\crossing_6.png\n",
      "Saved WMS crop for crossing 7 to ..\\data\\de_wms_export_v2\\crossing_7.png\n",
      "Saved WMS crop for crossing 8 to ..\\data\\de_wms_export_v2\\crossing_8.png\n",
      "Saved WMS crop for crossing 9 to ..\\data\\de_wms_export_v2\\crossing_9.png\n",
      "Saved WMS crop for crossing 10 to ..\\data\\de_wms_export_v2\\crossing_10.png\n",
      "Saved WMS crop for crossing 11 to ..\\data\\de_wms_export_v2\\crossing_11.png\n",
      "Saved WMS crop for crossing 12 to ..\\data\\de_wms_export_v2\\crossing_12.png\n",
      "Saved WMS crop for crossing 13 to ..\\data\\de_wms_export_v2\\crossing_13.png\n",
      "Saved WMS crop for crossing 14 to ..\\data\\de_wms_export_v2\\crossing_14.png\n",
      "Saved WMS crop for crossing 15 to ..\\data\\de_wms_export_v2\\crossing_15.png\n",
      "Saved WMS crop for crossing 16 to ..\\data\\de_wms_export_v2\\crossing_16.png\n",
      "Saved WMS crop for crossing 17 to ..\\data\\de_wms_export_v2\\crossing_17.png\n",
      "Saved WMS crop for crossing 18 to ..\\data\\de_wms_export_v2\\crossing_18.png\n",
      "Saved WMS crop for crossing 19 to ..\\data\\de_wms_export_v2\\crossing_19.png\n",
      "Saved WMS crop for crossing 20 to ..\\data\\de_wms_export_v2\\crossing_20.png\n",
      "Saved WMS crop for crossing 21 to ..\\data\\de_wms_export_v2\\crossing_21.png\n",
      "Saved WMS crop for crossing 22 to ..\\data\\de_wms_export_v2\\crossing_22.png\n",
      "Saved WMS crop for crossing 23 to ..\\data\\de_wms_export_v2\\crossing_23.png\n",
      "Saved WMS crop for crossing 24 to ..\\data\\de_wms_export_v2\\crossing_24.png\n",
      "Saved WMS crop for crossing 25 to ..\\data\\de_wms_export_v2\\crossing_25.png\n",
      "Saved WMS crop for crossing 26 to ..\\data\\de_wms_export_v2\\crossing_26.png\n",
      "Saved WMS crop for crossing 27 to ..\\data\\de_wms_export_v2\\crossing_27.png\n",
      "Saved WMS crop for crossing 28 to ..\\data\\de_wms_export_v2\\crossing_28.png\n",
      "Saved WMS crop for crossing 29 to ..\\data\\de_wms_export_v2\\crossing_29.png\n",
      "Saved WMS crop for crossing 30 to ..\\data\\de_wms_export_v2\\crossing_30.png\n",
      "Saved WMS crop for crossing 31 to ..\\data\\de_wms_export_v2\\crossing_31.png\n",
      "Saved WMS crop for crossing 32 to ..\\data\\de_wms_export_v2\\crossing_32.png\n",
      "Saved WMS crop for crossing 33 to ..\\data\\de_wms_export_v2\\crossing_33.png\n",
      "Saved WMS crop for crossing 34 to ..\\data\\de_wms_export_v2\\crossing_34.png\n",
      "Saved WMS crop for crossing 35 to ..\\data\\de_wms_export_v2\\crossing_35.png\n",
      "Saved WMS crop for crossing 36 to ..\\data\\de_wms_export_v2\\crossing_36.png\n",
      "Saved WMS crop for crossing 37 to ..\\data\\de_wms_export_v2\\crossing_37.png\n",
      "Saved WMS crop for crossing 38 to ..\\data\\de_wms_export_v2\\crossing_38.png\n",
      "Saved WMS crop for crossing 39 to ..\\data\\de_wms_export_v2\\crossing_39.png\n",
      "Saved WMS crop for crossing 40 to ..\\data\\de_wms_export_v2\\crossing_40.png\n",
      "Saved WMS crop for crossing 41 to ..\\data\\de_wms_export_v2\\crossing_41.png\n",
      "Saved WMS crop for crossing 42 to ..\\data\\de_wms_export_v2\\crossing_42.png\n",
      "Saved WMS crop for crossing 43 to ..\\data\\de_wms_export_v2\\crossing_43.png\n",
      "Saved WMS crop for crossing 44 to ..\\data\\de_wms_export_v2\\crossing_44.png\n",
      "Saved WMS crop for crossing 45 to ..\\data\\de_wms_export_v2\\crossing_45.png\n",
      "Saved WMS crop for crossing 46 to ..\\data\\de_wms_export_v2\\crossing_46.png\n",
      "Saved WMS crop for crossing 47 to ..\\data\\de_wms_export_v2\\crossing_47.png\n",
      "Saved WMS crop for crossing 48 to ..\\data\\de_wms_export_v2\\crossing_48.png\n",
      "Saved WMS crop for crossing 49 to ..\\data\\de_wms_export_v2\\crossing_49.png\n",
      "Saved WMS crop for crossing 50 to ..\\data\\de_wms_export_v2\\crossing_50.png\n",
      "Saved WMS crop for crossing 51 to ..\\data\\de_wms_export_v2\\crossing_51.png\n",
      "Saved WMS crop for crossing 52 to ..\\data\\de_wms_export_v2\\crossing_52.png\n",
      "Saved WMS crop for crossing 53 to ..\\data\\de_wms_export_v2\\crossing_53.png\n",
      "Saved WMS crop for crossing 54 to ..\\data\\de_wms_export_v2\\crossing_54.png\n",
      "Saved WMS crop for crossing 55 to ..\\data\\de_wms_export_v2\\crossing_55.png\n",
      "Saved WMS crop for crossing 56 to ..\\data\\de_wms_export_v2\\crossing_56.png\n",
      "Saved WMS crop for crossing 57 to ..\\data\\de_wms_export_v2\\crossing_57.png\n",
      "Saved WMS crop for crossing 58 to ..\\data\\de_wms_export_v2\\crossing_58.png\n",
      "Saved WMS crop for crossing 59 to ..\\data\\de_wms_export_v2\\crossing_59.png\n",
      "Saved WMS crop for crossing 60 to ..\\data\\de_wms_export_v2\\crossing_60.png\n",
      "Saved WMS crop for crossing 61 to ..\\data\\de_wms_export_v2\\crossing_61.png\n",
      "Saved WMS crop for crossing 62 to ..\\data\\de_wms_export_v2\\crossing_62.png\n",
      "Saved WMS crop for crossing 63 to ..\\data\\de_wms_export_v2\\crossing_63.png\n",
      "Saved WMS crop for crossing 64 to ..\\data\\de_wms_export_v2\\crossing_64.png\n",
      "Saved WMS crop for crossing 65 to ..\\data\\de_wms_export_v2\\crossing_65.png\n",
      "Saved WMS crop for crossing 66 to ..\\data\\de_wms_export_v2\\crossing_66.png\n",
      "Saved WMS crop for crossing 67 to ..\\data\\de_wms_export_v2\\crossing_67.png\n",
      "Saved WMS crop for crossing 68 to ..\\data\\de_wms_export_v2\\crossing_68.png\n",
      "Saved WMS crop for crossing 69 to ..\\data\\de_wms_export_v2\\crossing_69.png\n",
      "Saved WMS crop for crossing 70 to ..\\data\\de_wms_export_v2\\crossing_70.png\n",
      "Saved WMS crop for crossing 71 to ..\\data\\de_wms_export_v2\\crossing_71.png\n",
      "Saved WMS crop for crossing 72 to ..\\data\\de_wms_export_v2\\crossing_72.png\n",
      "Saved WMS crop for crossing 73 to ..\\data\\de_wms_export_v2\\crossing_73.png\n",
      "Saved WMS crop for crossing 74 to ..\\data\\de_wms_export_v2\\crossing_74.png\n",
      "Saved WMS crop for crossing 75 to ..\\data\\de_wms_export_v2\\crossing_75.png\n",
      "Saved WMS crop for crossing 76 to ..\\data\\de_wms_export_v2\\crossing_76.png\n",
      "Saved WMS crop for crossing 77 to ..\\data\\de_wms_export_v2\\crossing_77.png\n",
      "Saved WMS crop for crossing 78 to ..\\data\\de_wms_export_v2\\crossing_78.png\n",
      "Saved WMS crop for crossing 79 to ..\\data\\de_wms_export_v2\\crossing_79.png\n",
      "Saved WMS crop for crossing 80 to ..\\data\\de_wms_export_v2\\crossing_80.png\n",
      "Saved WMS crop for crossing 81 to ..\\data\\de_wms_export_v2\\crossing_81.png\n",
      "Saved WMS crop for crossing 82 to ..\\data\\de_wms_export_v2\\crossing_82.png\n",
      "Saved WMS crop for crossing 83 to ..\\data\\de_wms_export_v2\\crossing_83.png\n",
      "Saved WMS crop for crossing 84 to ..\\data\\de_wms_export_v2\\crossing_84.png\n",
      "Saved WMS crop for crossing 85 to ..\\data\\de_wms_export_v2\\crossing_85.png\n",
      "Saved WMS crop for crossing 86 to ..\\data\\de_wms_export_v2\\crossing_86.png\n",
      "Saved WMS crop for crossing 87 to ..\\data\\de_wms_export_v2\\crossing_87.png\n",
      "Saved WMS crop for crossing 88 to ..\\data\\de_wms_export_v2\\crossing_88.png\n",
      "Saved WMS crop for crossing 89 to ..\\data\\de_wms_export_v2\\crossing_89.png\n",
      "Saved WMS crop for crossing 90 to ..\\data\\de_wms_export_v2\\crossing_90.png\n",
      "Saved WMS crop for crossing 91 to ..\\data\\de_wms_export_v2\\crossing_91.png\n",
      "Saved WMS crop for crossing 92 to ..\\data\\de_wms_export_v2\\crossing_92.png\n",
      "Saved WMS crop for crossing 93 to ..\\data\\de_wms_export_v2\\crossing_93.png\n",
      "Saved WMS crop for crossing 94 to ..\\data\\de_wms_export_v2\\crossing_94.png\n",
      "Saved WMS crop for crossing 95 to ..\\data\\de_wms_export_v2\\crossing_95.png\n",
      "Saved WMS crop for crossing 96 to ..\\data\\de_wms_export_v2\\crossing_96.png\n",
      "Saved WMS crop for crossing 97 to ..\\data\\de_wms_export_v2\\crossing_97.png\n",
      "Saved WMS crop for crossing 98 to ..\\data\\de_wms_export_v2\\crossing_98.png\n",
      "Saved WMS crop for crossing 99 to ..\\data\\de_wms_export_v2\\crossing_99.png\n",
      "Saved WMS crop for crossing 100 to ..\\data\\de_wms_export_v2\\crossing_100.png\n",
      "Saved WMS crop for crossing 101 to ..\\data\\de_wms_export_v2\\crossing_101.png\n",
      "Saved WMS crop for crossing 102 to ..\\data\\de_wms_export_v2\\crossing_102.png\n",
      "Saved WMS crop for crossing 103 to ..\\data\\de_wms_export_v2\\crossing_103.png\n",
      "Saved WMS crop for crossing 104 to ..\\data\\de_wms_export_v2\\crossing_104.png\n",
      "Saved WMS crop for crossing 105 to ..\\data\\de_wms_export_v2\\crossing_105.png\n",
      "Saved WMS crop for crossing 106 to ..\\data\\de_wms_export_v2\\crossing_106.png\n",
      "Saved WMS crop for crossing 107 to ..\\data\\de_wms_export_v2\\crossing_107.png\n",
      "Saved WMS crop for crossing 108 to ..\\data\\de_wms_export_v2\\crossing_108.png\n",
      "Saved WMS crop for crossing 109 to ..\\data\\de_wms_export_v2\\crossing_109.png\n",
      "Saved WMS crop for crossing 110 to ..\\data\\de_wms_export_v2\\crossing_110.png\n",
      "Saved WMS crop for crossing 111 to ..\\data\\de_wms_export_v2\\crossing_111.png\n",
      "Saved WMS crop for crossing 112 to ..\\data\\de_wms_export_v2\\crossing_112.png\n",
      "Saved WMS crop for crossing 113 to ..\\data\\de_wms_export_v2\\crossing_113.png\n",
      "Saved WMS crop for crossing 114 to ..\\data\\de_wms_export_v2\\crossing_114.png\n",
      "Saved WMS crop for crossing 115 to ..\\data\\de_wms_export_v2\\crossing_115.png\n",
      "Saved WMS crop for crossing 116 to ..\\data\\de_wms_export_v2\\crossing_116.png\n",
      "Saved WMS crop for crossing 117 to ..\\data\\de_wms_export_v2\\crossing_117.png\n",
      "Saved WMS crop for crossing 118 to ..\\data\\de_wms_export_v2\\crossing_118.png\n",
      "Saved WMS crop for crossing 119 to ..\\data\\de_wms_export_v2\\crossing_119.png\n",
      "Saved WMS crop for crossing 120 to ..\\data\\de_wms_export_v2\\crossing_120.png\n",
      "Saved WMS crop for crossing 121 to ..\\data\\de_wms_export_v2\\crossing_121.png\n",
      "Saved WMS crop for crossing 122 to ..\\data\\de_wms_export_v2\\crossing_122.png\n",
      "Saved WMS crop for crossing 123 to ..\\data\\de_wms_export_v2\\crossing_123.png\n",
      "Saved WMS crop for crossing 124 to ..\\data\\de_wms_export_v2\\crossing_124.png\n",
      "Saved WMS crop for crossing 125 to ..\\data\\de_wms_export_v2\\crossing_125.png\n",
      "Saved WMS crop for crossing 126 to ..\\data\\de_wms_export_v2\\crossing_126.png\n",
      "Saved WMS crop for crossing 127 to ..\\data\\de_wms_export_v2\\crossing_127.png\n",
      "Saved WMS crop for crossing 128 to ..\\data\\de_wms_export_v2\\crossing_128.png\n",
      "Saved WMS crop for crossing 129 to ..\\data\\de_wms_export_v2\\crossing_129.png\n",
      "Saved WMS crop for crossing 130 to ..\\data\\de_wms_export_v2\\crossing_130.png\n",
      "Saved WMS crop for crossing 131 to ..\\data\\de_wms_export_v2\\crossing_131.png\n",
      "Saved WMS crop for crossing 132 to ..\\data\\de_wms_export_v2\\crossing_132.png\n",
      "Saved WMS crop for crossing 133 to ..\\data\\de_wms_export_v2\\crossing_133.png\n",
      "Saved WMS crop for crossing 134 to ..\\data\\de_wms_export_v2\\crossing_134.png\n",
      "Saved WMS crop for crossing 135 to ..\\data\\de_wms_export_v2\\crossing_135.png\n",
      "Saved WMS crop for crossing 136 to ..\\data\\de_wms_export_v2\\crossing_136.png\n",
      "Saved WMS crop for crossing 137 to ..\\data\\de_wms_export_v2\\crossing_137.png\n",
      "Saved WMS crop for crossing 138 to ..\\data\\de_wms_export_v2\\crossing_138.png\n",
      "Saved WMS crop for crossing 139 to ..\\data\\de_wms_export_v2\\crossing_139.png\n",
      "Saved WMS crop for crossing 140 to ..\\data\\de_wms_export_v2\\crossing_140.png\n",
      "Saved WMS crop for crossing 141 to ..\\data\\de_wms_export_v2\\crossing_141.png\n",
      "Saved WMS crop for crossing 142 to ..\\data\\de_wms_export_v2\\crossing_142.png\n",
      "Saved WMS crop for crossing 143 to ..\\data\\de_wms_export_v2\\crossing_143.png\n",
      "Saved WMS crop for crossing 144 to ..\\data\\de_wms_export_v2\\crossing_144.png\n",
      "Saved WMS crop for crossing 145 to ..\\data\\de_wms_export_v2\\crossing_145.png\n",
      "Saved WMS crop for crossing 146 to ..\\data\\de_wms_export_v2\\crossing_146.png\n"
     ]
    }
   ],
   "source": [
    "# for every point create a 200x200m polygon around it and request a WMS crop centered on the point\n",
    "img_format = \"image/png\"\n",
    "img_size = (\n",
    "    int(buffer_size * 2 / pixel_size),\n",
    "    int(buffer_size * 2 / pixel_size),\n",
    ")  # width, height in pixels\n",
    "\n",
    "for idx, bbox in enumerate(areas_of_interest):\n",
    "    # Request WMS image\n",
    "    img = wms.getmap(\n",
    "        layers=[layer_name],\n",
    "        srs=\"EPSG:3035\",\n",
    "        bbox=bbox,\n",
    "        size=img_size,\n",
    "        format=img_format,\n",
    "        transparent=True,\n",
    "    )\n",
    "\n",
    "    # Save image to file\n",
    "    img_data = img.read()\n",
    "    img_filename = os.path.join(output_folder, f\"crossing_{idx}.png\")\n",
    "    with open(img_filename, \"wb\") as f:\n",
    "        f.write(img_data)\n",
    "\n",
    "    print(f\"Saved WMS crop for crossing {idx} to {img_filename}\")"
   ]
  }
 ],
 "metadata": {
  "kernelspec": {
   "display_name": "cassda-zertifikatsarbeit",
   "language": "python",
   "name": "python3"
  },
  "language_info": {
   "codemirror_mode": {
    "name": "ipython",
    "version": 3
   },
   "file_extension": ".py",
   "mimetype": "text/x-python",
   "name": "python",
   "nbconvert_exporter": "python",
   "pygments_lexer": "ipython3",
   "version": "3.13.1"
  }
 },
 "nbformat": 4,
 "nbformat_minor": 5
}
